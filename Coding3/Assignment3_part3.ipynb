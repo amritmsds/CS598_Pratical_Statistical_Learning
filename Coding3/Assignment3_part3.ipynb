{
 "cells": [
  {
   "cell_type": "markdown",
   "metadata": {},
   "source": [
    "## Part III: Ridgeless and double descent"
   ]
  },
  {
   "cell_type": "markdown",
   "metadata": {},
   "source": [
    "### Objective"
   ]
  },
  {
   "cell_type": "markdown",
   "metadata": {},
   "source": [
    "\n",
    "So far in our course, we’ve utilized the U-shaped bias-variance trade-off curve as a pivotal tool for model selection. This has aided us in methodologies such as ridge/lasso regression, tree pruning, and smoothing splines, among others.\n",
    "\n",
    "A key observation is that when a model interpolates training data to the extent that the Residual Sum of Squares (RSS) equals zero, it’s typically a red flag signaling overfitting. Such models are anticipated to perform inadequately when presented with new, unseen data. \n",
    "\n",
    "> However, in modern practice, very rich models such as neural networks are trained to exactly fit (i.e., interpolate) the data. Classically, such models would be considered overfitted, and yet they often obtain high accuracy on test data. This apparent contradiction has raised questions about the mathematical foundations of machine learning and their relevance to practitioners. ([Belkin et al. 2019](https://liangfgithub.github.io/Coding/DoubleDescent_PNAS_2019.pdf))\n",
    "\n",
    "In this assignment, we will use Ridgeless to illustrate the double descent phenomenon. Our setup is similar to, but not the same as, [Section 8 in Hastie (2020)](https://liangfgithub.github.io/Coding/Ridge_Hastie_2020.pdf)."
   ]
  },
  {
   "cell_type": "markdown",
   "metadata": {},
   "source": [
    "### Data"
   ]
  },
  {
   "cell_type": "markdown",
   "metadata": {},
   "source": [
    "Remember the dataset used in Coding 2 Part I? It consisted of 506 rows (i.e., n = 506) and 14 columns: *Y*, *X1* through *X13*.\n",
    "\n",
    "Based on this dataset, we have formed <u>Coding3_dataH.csv</u>, which is structured as follows:\n",
    "\n",
    "- It contains 506 rows, corresponding to *n* = 506.\n",
    "- There are 241 columns in total. The first column represents *Y* . The subsequent 240 columns relate to the NCS basis functions for each of the 13 X variables. The number of knots are individually determined for each feature."
   ]
  },
  {
   "cell_type": "markdown",
   "metadata": {},
   "source": [
    "### Task 1: Ridgeless function"
   ]
  },
  {
   "cell_type": "markdown",
   "metadata": {},
   "source": [
    "Ridgeless least squares can be equated with principal component regression (PCR) when all principal components are employed. For our simulation study, we’ll employ the PCR version with the **scale = FALSE** option, implying that we’ll center each column of the design matrix from the training data without scaling.\n",
    "\n",
    "Your task is to write a function that accepts training and test datasets and returns the training and test errors of the ridgeless estimator. For both datasets, the initial column represents the response vector *Y*.\n",
    "\n",
    "- You can use R/Python packages or built-in functions for PCA/SVD, but you are not allowed to use packages or functions tailored for linear regression, PCR, or ridge regression.\n",
    "\n",
    "- Post PCA/SVD, you’ll notice that the updated design matrix comprises orthogonal columns. This allows for the calculation of least squares coefficients through simple matrix multiplication, eliminating the need for matrix inversion.\n",
    "\n",
    "- For computation stability, you need to exclude directions with extremely small eigenvalues (in PCA) or singular values (in SVD). As a reference, consider setting **eps = 1e-10** as the threshold for singular values.\n",
    "\n",
    "- Although training errors aren’t a requisite for our simulation, I recommend including them in the ridgeless output. This serves as a useful debugging tool. Ideally, your training error should align with the RSS derived from a standard linear regression model."
   ]
  },
  {
   "cell_type": "code",
   "execution_count": 1,
   "metadata": {},
   "outputs": [],
   "source": [
    "from sklearn.decomposition import PCA\n",
    "from sklearn.preprocessing import StandardScaler\n",
    "from sklearn.pipeline import Pipeline\n",
    "\n",
    "import pandas as pd\n",
    "import numpy as np\n",
    "import plotly.graph_objects as go"
   ]
  },
  {
   "cell_type": "code",
   "execution_count": 2,
   "metadata": {},
   "outputs": [],
   "source": [
    "def ridgeless_function(training_data:np.ndarray, testing_data:np.ndarray) -> float:\n",
    "    X_train = training_data[:, 1:]\n",
    "    Y_train = training_data[:, 0]\n",
    "    X_test = testing_data[:, 1:]\n",
    "    Y_test = testing_data[:, 0]\n",
    "    \n",
    "    scaler = StandardScaler(with_mean=True, with_std=False)\n",
    "    pca = PCA()\n",
    "\n",
    "    pipeline = Pipeline([('scaling', scaler), ('pca', pca)])\n",
    "    pipeline.fit(X_train)\n",
    "    X_train = pipeline.transform(X_train)  # X_train changes to XtX shape\n",
    "    X_train = X_train[:, pca.singular_values_>1e-10]   # setting threshold for comoputational stability\n",
    "    coefs =Y_train.T @ X_train / np.sum(X_train**2, axis=0)\n",
    "    b0 = np.mean(Y_train)\n",
    "\n",
    "    X_test = pipeline.transform(X_test)   # X_test changes to XtX covariance shape\n",
    "    X_test = X_test[:, pca.singular_values_>1e-10]\n",
    "\n",
    "\n",
    "    preds = X_test @ coefs.T + b0\n",
    "    log_test_error = np.log(np.mean((Y_test-preds)**2))\n",
    "\n",
    "    return log_test_error\n"
   ]
  },
  {
   "cell_type": "markdown",
   "metadata": {},
   "source": [
    "### Task 2: Simulation Study"
   ]
  },
  {
   "cell_type": "markdown",
   "metadata": {},
   "source": [
    "Execute the procedure below for *T* = 30 times.\n",
    "\n",
    "In each iteration,\n",
    "- Randomly partition the data into training (25%) and test (75%).\n",
    "- Calculate and log the test error from the ridgeless method using the first *d* columns of **myData**, where *d* ranges from 6 to 241. Keep in mind that the number of regression parameters spans from 5 to 240 because the first column represents *Y*.\n",
    "\n",
    "This will result in recording 236 test errors per iteration. These errors are the averaged mean squared errors based on the test data. One practical way to manage this data would be to maintain a matrix of dimensions 30-by-236 to house the test errors derived from this simulation study.\n",
    "\n",
    "**Graphical display**: \n",
    "Plot the median of the test errors (collated over the 30 iterations) in **log scale** against the count of regression parameters, which spans from 5 to 240."
   ]
  },
  {
   "cell_type": "code",
   "execution_count": 3,
   "metadata": {},
   "outputs": [],
   "source": [
    "from sklearn.model_selection import train_test_split"
   ]
  },
  {
   "cell_type": "code",
   "execution_count": 4,
   "metadata": {},
   "outputs": [],
   "source": [
    "Shu_UIN = 8298  # Last 4-digits of my UIN \n",
    "T = 30\n",
    "N_PARAM = 236\n",
    "\n",
    "Data = pd.read_csv(\"Coding3_dataH.csv\", header=None)\n",
    "\n",
    "log_test_error_array= np.zeros((T, N_PARAM))\n",
    "\n",
    "for t in range(T):\n",
    "    train_t, test_t = train_test_split(Data.values, test_size=0.75, random_state=Shu_UIN+t)\n",
    "    for d in range(6, 242):\n",
    "        train_t_d, test_t_d = train_t[:, :d], test_t[:, :d]\n",
    "        log_test_error_array[t, d-6] = ridgeless_function(train_t_d, test_t_d)"
   ]
  },
  {
   "cell_type": "code",
   "execution_count": 5,
   "metadata": {},
   "outputs": [],
   "source": [
    "log_test_error_median_array = np.median(log_test_error_array, axis=0)\n",
    "number_of_feature_array = np.linspace(5, 240, 236).astype(int)"
   ]
  },
  {
   "cell_type": "code",
   "execution_count": 6,
   "metadata": {},
   "outputs": [
    {
     "data": {
      "application/vnd.plotly.v1+json": {
       "config": {
        "plotlyServerURL": "https://plot.ly"
       },
       "data": [
        {
         "marker": {
          "color": "blue"
         },
         "mode": "markers",
         "type": "scatter",
         "x": [
          5,
          6,
          7,
          8,
          9,
          10,
          11,
          12,
          13,
          14,
          15,
          16,
          17,
          18,
          19,
          20,
          21,
          22,
          23,
          24,
          25,
          26,
          27,
          28,
          29,
          30,
          31,
          32,
          33,
          34,
          35,
          36,
          37,
          38,
          39,
          40,
          41,
          42,
          43,
          44,
          45,
          46,
          47,
          48,
          49,
          50,
          51,
          52,
          53,
          54,
          55,
          56,
          57,
          58,
          59,
          60,
          61,
          62,
          63,
          64,
          65,
          66,
          67,
          68,
          69,
          70,
          71,
          72,
          73,
          74,
          75,
          76,
          77,
          78,
          79,
          80,
          81,
          82,
          83,
          84,
          85,
          86,
          87,
          88,
          89,
          90,
          91,
          92,
          93,
          94,
          95,
          96,
          97,
          98,
          99,
          100,
          101,
          102,
          103,
          104,
          105,
          106,
          107,
          108,
          109,
          110,
          111,
          112,
          113,
          114,
          115,
          116,
          117,
          118,
          119,
          120,
          121,
          122,
          123,
          124,
          125,
          126,
          127,
          128,
          129,
          130,
          131,
          132,
          133,
          134,
          135,
          136,
          137,
          138,
          139,
          140,
          141,
          142,
          143,
          144,
          145,
          146,
          147,
          148,
          149,
          150,
          151,
          152,
          153,
          154,
          155,
          156,
          157,
          158,
          159,
          160,
          161,
          162,
          163,
          164,
          165,
          166,
          167,
          168,
          169,
          170,
          171,
          172,
          173,
          174,
          175,
          176,
          177,
          178,
          179,
          180,
          181,
          182,
          183,
          184,
          185,
          186,
          187,
          188,
          189,
          190,
          191,
          192,
          193,
          194,
          195,
          196,
          197,
          198,
          199,
          200,
          201,
          202,
          203,
          204,
          205,
          206,
          207,
          208,
          209,
          210,
          211,
          212,
          213,
          214,
          215,
          216,
          217,
          218,
          219,
          220,
          221,
          222,
          223,
          224,
          225,
          226,
          227,
          228,
          229,
          230,
          231,
          232,
          233,
          234,
          235,
          236,
          237,
          238,
          239,
          240
         ],
         "y": [
          -1.8409234578202782,
          -1.856085596634979,
          -1.8443667669565962,
          -1.8384364931046582,
          -1.8366531565821345,
          -1.8360477889039877,
          -1.855557467071963,
          -1.8856854564065455,
          -1.8827971342454675,
          -1.8790805975969866,
          -1.9072201553695918,
          -1.9296955787891463,
          -2.107816673636308,
          -2.1469272740416834,
          -2.142179151460183,
          -2.139546828694935,
          -2.13836971944271,
          -2.1531931658794647,
          -2.1513836169898513,
          -2.1480052187352223,
          -2.1363588590319695,
          -2.1363588590319686,
          -2.1464409761823626,
          -2.1403151028393714,
          -2.13034220532703,
          -2.133052046349996,
          -2.155619002637458,
          -2.189779422882993,
          -2.188601102223054,
          -2.1783171751439765,
          -2.172282128890964,
          -2.165942137331374,
          -2.153137812813319,
          -2.151354129490792,
          -2.3288383996902358,
          -2.3227830354155827,
          -2.2664934871645483,
          -2.2996745133218157,
          -2.3076630290859583,
          -2.3183923376350206,
          -2.3291721242573935,
          -2.3314713738832906,
          -2.3524421360165584,
          -2.3289703909761714,
          -2.336598298301693,
          -2.3085803381818737,
          -2.2867621689395934,
          -2.267408458528486,
          -2.2541423954629107,
          -2.247472119074976,
          -2.2317928371524047,
          -2.247566891547412,
          -2.2379731121258994,
          -2.209427660287438,
          -2.22057786180316,
          -2.2356263592428043,
          -2.2120049397690575,
          -2.165410452686383,
          -2.164456430840388,
          -2.15259905384457,
          -2.152599053844572,
          -2.172463385987312,
          -2.150064290897775,
          -2.1472893338418224,
          -2.237403380618126,
          -2.2055372839880265,
          -2.1868515628091423,
          -2.1618979991719183,
          -2.1618979991719183,
          -2.1447231185810818,
          -2.1298025660678084,
          -2.099696666171867,
          -2.0873453220601688,
          -2.0945204567696365,
          -2.0819396877032714,
          -2.058336521956074,
          -2.0474851272971604,
          -2.0280762537441595,
          -1.9955846030852114,
          -1.9926063615939336,
          -2.0072862566815126,
          -1.8900381816708918,
          -1.901661564441925,
          -1.7740819551455096,
          -1.6033343758243364,
          -1.5955883309262662,
          -1.7152547668833065,
          -1.6076352240013092,
          -1.5419586916621584,
          -1.5077001709535172,
          -1.5082975846172355,
          -1.4357110787340441,
          -1.296847147532872,
          -1.2730682919617906,
          -1.174138904076317,
          -0.9333592879825492,
          -0.8569394929095022,
          -0.8260846388262657,
          -0.6764009096577037,
          -0.5871679326807908,
          -0.4525058030021908,
          -0.32382310054790825,
          -0.08609416110037998,
          -0.00869112964188759,
          0.040853977936537694,
          0.39093125831598363,
          0.5005165116256448,
          0.22966956311530257,
          0.47248439053291436,
          0.2855496600291044,
          0.3416190182350328,
          0.3730553348532607,
          0.46448955683985416,
          0.46662821951776057,
          0.9762126814409101,
          0.9363930687377406,
          1.0861075248844534,
          1.1900503566989689,
          0.9157136989670154,
          1.0609264663220834,
          1.3856930403172192,
          1.7380865724445829,
          1.7380865724385224,
          1.7223260473637731,
          2.399967426766068,
          3.72956579927331,
          3.7295657993334554,
          4.285014399809775,
          4.3788267257778735,
          3.5461379480882633,
          3.546137948010921,
          3.5461379480223383,
          3.2294744037584673,
          2.64404088475552,
          1.9012095698266926,
          1.2952061543499207,
          1.4057233855606914,
          0.9269519728438137,
          0.6412636336288743,
          0.4706255024774798,
          0.36932184235146587,
          0.1395516488623843,
          0.12372395831705166,
          0.0029277367418621735,
          -0.052243292552878656,
          -0.29089396845660065,
          -0.39442602758769163,
          -0.30381623051563644,
          -0.44971478293496314,
          -0.5931939654071723,
          -0.8011369325882833,
          -0.8390082440560557,
          -0.8390082440562743,
          -0.9229673725811087,
          -1.0611879515784266,
          -1.0748993718333826,
          -1.0856446437498837,
          -1.0813588614566325,
          -1.1858026825705825,
          -1.1915777920783337,
          -1.2213951853622345,
          -1.4419468563409485,
          -1.436860699288628,
          -1.5401718117632868,
          -1.5694359238822528,
          -1.592009477804352,
          -1.6298694570512136,
          -1.6300082334960706,
          -1.6281863503385359,
          -1.6320882262907777,
          -1.6367800728405524,
          -1.6417771918812232,
          -1.6682956835557041,
          -1.7383655080670248,
          -1.7403284826850922,
          -1.854169729962245,
          -1.8351387786915296,
          -1.8423801858799662,
          -1.8418232259455447,
          -1.9330955961751908,
          -1.9413429052125633,
          -2.0500455214534847,
          -2.06205604491508,
          -2.083437725807589,
          -2.0813227894426207,
          -2.0815088552724923,
          -2.109554255282653,
          -2.1326219776080237,
          -2.129329144751896,
          -2.133697108448642,
          -2.155129965577253,
          -2.158856919797695,
          -2.163662910585703,
          -2.265786607953948,
          -2.268590979618267,
          -2.270163807366303,
          -2.289615400462359,
          -2.297271997677099,
          -2.2844185935091224,
          -2.2844185935091526,
          -2.281777992950883,
          -2.2904550279102933,
          -2.3299163368152165,
          -2.3327994806982177,
          -2.3336202769764265,
          -2.3542880215758157,
          -2.342777703785857,
          -2.3427780202039594,
          -2.3790811699471304,
          -2.3675357807319157,
          -2.3615503115486964,
          -2.361253219830265,
          -2.373709250301316,
          -2.3830259976661323,
          -2.382502422477228,
          -2.387429283986595,
          -2.396577801145635,
          -2.4027417387823506,
          -2.3980024043035355,
          -2.403087003005032,
          -2.411493640815385,
          -2.408574335920055,
          -2.4083914778806568,
          -2.4153926100080723,
          -2.4193799224661383,
          -2.4072616259797166,
          -2.4567702485468015,
          -2.456570520391784,
          -2.465754342983582,
          -2.46632137641539,
          -2.4533385289268015,
          -2.4545567628158462,
          -2.46021055642692,
          -2.475117812467962,
          -2.4799361018727817,
          -2.4785105288631284
         ]
        }
       ],
       "layout": {
        "height": 500,
        "template": {
         "data": {
          "bar": [
           {
            "error_x": {
             "color": "#2a3f5f"
            },
            "error_y": {
             "color": "#2a3f5f"
            },
            "marker": {
             "line": {
              "color": "#E5ECF6",
              "width": 0.5
             },
             "pattern": {
              "fillmode": "overlay",
              "size": 10,
              "solidity": 0.2
             }
            },
            "type": "bar"
           }
          ],
          "barpolar": [
           {
            "marker": {
             "line": {
              "color": "#E5ECF6",
              "width": 0.5
             },
             "pattern": {
              "fillmode": "overlay",
              "size": 10,
              "solidity": 0.2
             }
            },
            "type": "barpolar"
           }
          ],
          "carpet": [
           {
            "aaxis": {
             "endlinecolor": "#2a3f5f",
             "gridcolor": "white",
             "linecolor": "white",
             "minorgridcolor": "white",
             "startlinecolor": "#2a3f5f"
            },
            "baxis": {
             "endlinecolor": "#2a3f5f",
             "gridcolor": "white",
             "linecolor": "white",
             "minorgridcolor": "white",
             "startlinecolor": "#2a3f5f"
            },
            "type": "carpet"
           }
          ],
          "choropleth": [
           {
            "colorbar": {
             "outlinewidth": 0,
             "ticks": ""
            },
            "type": "choropleth"
           }
          ],
          "contour": [
           {
            "colorbar": {
             "outlinewidth": 0,
             "ticks": ""
            },
            "colorscale": [
             [
              0,
              "#0d0887"
             ],
             [
              0.1111111111111111,
              "#46039f"
             ],
             [
              0.2222222222222222,
              "#7201a8"
             ],
             [
              0.3333333333333333,
              "#9c179e"
             ],
             [
              0.4444444444444444,
              "#bd3786"
             ],
             [
              0.5555555555555556,
              "#d8576b"
             ],
             [
              0.6666666666666666,
              "#ed7953"
             ],
             [
              0.7777777777777778,
              "#fb9f3a"
             ],
             [
              0.8888888888888888,
              "#fdca26"
             ],
             [
              1,
              "#f0f921"
             ]
            ],
            "type": "contour"
           }
          ],
          "contourcarpet": [
           {
            "colorbar": {
             "outlinewidth": 0,
             "ticks": ""
            },
            "type": "contourcarpet"
           }
          ],
          "heatmap": [
           {
            "colorbar": {
             "outlinewidth": 0,
             "ticks": ""
            },
            "colorscale": [
             [
              0,
              "#0d0887"
             ],
             [
              0.1111111111111111,
              "#46039f"
             ],
             [
              0.2222222222222222,
              "#7201a8"
             ],
             [
              0.3333333333333333,
              "#9c179e"
             ],
             [
              0.4444444444444444,
              "#bd3786"
             ],
             [
              0.5555555555555556,
              "#d8576b"
             ],
             [
              0.6666666666666666,
              "#ed7953"
             ],
             [
              0.7777777777777778,
              "#fb9f3a"
             ],
             [
              0.8888888888888888,
              "#fdca26"
             ],
             [
              1,
              "#f0f921"
             ]
            ],
            "type": "heatmap"
           }
          ],
          "heatmapgl": [
           {
            "colorbar": {
             "outlinewidth": 0,
             "ticks": ""
            },
            "colorscale": [
             [
              0,
              "#0d0887"
             ],
             [
              0.1111111111111111,
              "#46039f"
             ],
             [
              0.2222222222222222,
              "#7201a8"
             ],
             [
              0.3333333333333333,
              "#9c179e"
             ],
             [
              0.4444444444444444,
              "#bd3786"
             ],
             [
              0.5555555555555556,
              "#d8576b"
             ],
             [
              0.6666666666666666,
              "#ed7953"
             ],
             [
              0.7777777777777778,
              "#fb9f3a"
             ],
             [
              0.8888888888888888,
              "#fdca26"
             ],
             [
              1,
              "#f0f921"
             ]
            ],
            "type": "heatmapgl"
           }
          ],
          "histogram": [
           {
            "marker": {
             "pattern": {
              "fillmode": "overlay",
              "size": 10,
              "solidity": 0.2
             }
            },
            "type": "histogram"
           }
          ],
          "histogram2d": [
           {
            "colorbar": {
             "outlinewidth": 0,
             "ticks": ""
            },
            "colorscale": [
             [
              0,
              "#0d0887"
             ],
             [
              0.1111111111111111,
              "#46039f"
             ],
             [
              0.2222222222222222,
              "#7201a8"
             ],
             [
              0.3333333333333333,
              "#9c179e"
             ],
             [
              0.4444444444444444,
              "#bd3786"
             ],
             [
              0.5555555555555556,
              "#d8576b"
             ],
             [
              0.6666666666666666,
              "#ed7953"
             ],
             [
              0.7777777777777778,
              "#fb9f3a"
             ],
             [
              0.8888888888888888,
              "#fdca26"
             ],
             [
              1,
              "#f0f921"
             ]
            ],
            "type": "histogram2d"
           }
          ],
          "histogram2dcontour": [
           {
            "colorbar": {
             "outlinewidth": 0,
             "ticks": ""
            },
            "colorscale": [
             [
              0,
              "#0d0887"
             ],
             [
              0.1111111111111111,
              "#46039f"
             ],
             [
              0.2222222222222222,
              "#7201a8"
             ],
             [
              0.3333333333333333,
              "#9c179e"
             ],
             [
              0.4444444444444444,
              "#bd3786"
             ],
             [
              0.5555555555555556,
              "#d8576b"
             ],
             [
              0.6666666666666666,
              "#ed7953"
             ],
             [
              0.7777777777777778,
              "#fb9f3a"
             ],
             [
              0.8888888888888888,
              "#fdca26"
             ],
             [
              1,
              "#f0f921"
             ]
            ],
            "type": "histogram2dcontour"
           }
          ],
          "mesh3d": [
           {
            "colorbar": {
             "outlinewidth": 0,
             "ticks": ""
            },
            "type": "mesh3d"
           }
          ],
          "parcoords": [
           {
            "line": {
             "colorbar": {
              "outlinewidth": 0,
              "ticks": ""
             }
            },
            "type": "parcoords"
           }
          ],
          "pie": [
           {
            "automargin": true,
            "type": "pie"
           }
          ],
          "scatter": [
           {
            "fillpattern": {
             "fillmode": "overlay",
             "size": 10,
             "solidity": 0.2
            },
            "type": "scatter"
           }
          ],
          "scatter3d": [
           {
            "line": {
             "colorbar": {
              "outlinewidth": 0,
              "ticks": ""
             }
            },
            "marker": {
             "colorbar": {
              "outlinewidth": 0,
              "ticks": ""
             }
            },
            "type": "scatter3d"
           }
          ],
          "scattercarpet": [
           {
            "marker": {
             "colorbar": {
              "outlinewidth": 0,
              "ticks": ""
             }
            },
            "type": "scattercarpet"
           }
          ],
          "scattergeo": [
           {
            "marker": {
             "colorbar": {
              "outlinewidth": 0,
              "ticks": ""
             }
            },
            "type": "scattergeo"
           }
          ],
          "scattergl": [
           {
            "marker": {
             "colorbar": {
              "outlinewidth": 0,
              "ticks": ""
             }
            },
            "type": "scattergl"
           }
          ],
          "scattermapbox": [
           {
            "marker": {
             "colorbar": {
              "outlinewidth": 0,
              "ticks": ""
             }
            },
            "type": "scattermapbox"
           }
          ],
          "scatterpolar": [
           {
            "marker": {
             "colorbar": {
              "outlinewidth": 0,
              "ticks": ""
             }
            },
            "type": "scatterpolar"
           }
          ],
          "scatterpolargl": [
           {
            "marker": {
             "colorbar": {
              "outlinewidth": 0,
              "ticks": ""
             }
            },
            "type": "scatterpolargl"
           }
          ],
          "scatterternary": [
           {
            "marker": {
             "colorbar": {
              "outlinewidth": 0,
              "ticks": ""
             }
            },
            "type": "scatterternary"
           }
          ],
          "surface": [
           {
            "colorbar": {
             "outlinewidth": 0,
             "ticks": ""
            },
            "colorscale": [
             [
              0,
              "#0d0887"
             ],
             [
              0.1111111111111111,
              "#46039f"
             ],
             [
              0.2222222222222222,
              "#7201a8"
             ],
             [
              0.3333333333333333,
              "#9c179e"
             ],
             [
              0.4444444444444444,
              "#bd3786"
             ],
             [
              0.5555555555555556,
              "#d8576b"
             ],
             [
              0.6666666666666666,
              "#ed7953"
             ],
             [
              0.7777777777777778,
              "#fb9f3a"
             ],
             [
              0.8888888888888888,
              "#fdca26"
             ],
             [
              1,
              "#f0f921"
             ]
            ],
            "type": "surface"
           }
          ],
          "table": [
           {
            "cells": {
             "fill": {
              "color": "#EBF0F8"
             },
             "line": {
              "color": "white"
             }
            },
            "header": {
             "fill": {
              "color": "#C8D4E3"
             },
             "line": {
              "color": "white"
             }
            },
            "type": "table"
           }
          ]
         },
         "layout": {
          "annotationdefaults": {
           "arrowcolor": "#2a3f5f",
           "arrowhead": 0,
           "arrowwidth": 1
          },
          "autotypenumbers": "strict",
          "coloraxis": {
           "colorbar": {
            "outlinewidth": 0,
            "ticks": ""
           }
          },
          "colorscale": {
           "diverging": [
            [
             0,
             "#8e0152"
            ],
            [
             0.1,
             "#c51b7d"
            ],
            [
             0.2,
             "#de77ae"
            ],
            [
             0.3,
             "#f1b6da"
            ],
            [
             0.4,
             "#fde0ef"
            ],
            [
             0.5,
             "#f7f7f7"
            ],
            [
             0.6,
             "#e6f5d0"
            ],
            [
             0.7,
             "#b8e186"
            ],
            [
             0.8,
             "#7fbc41"
            ],
            [
             0.9,
             "#4d9221"
            ],
            [
             1,
             "#276419"
            ]
           ],
           "sequential": [
            [
             0,
             "#0d0887"
            ],
            [
             0.1111111111111111,
             "#46039f"
            ],
            [
             0.2222222222222222,
             "#7201a8"
            ],
            [
             0.3333333333333333,
             "#9c179e"
            ],
            [
             0.4444444444444444,
             "#bd3786"
            ],
            [
             0.5555555555555556,
             "#d8576b"
            ],
            [
             0.6666666666666666,
             "#ed7953"
            ],
            [
             0.7777777777777778,
             "#fb9f3a"
            ],
            [
             0.8888888888888888,
             "#fdca26"
            ],
            [
             1,
             "#f0f921"
            ]
           ],
           "sequentialminus": [
            [
             0,
             "#0d0887"
            ],
            [
             0.1111111111111111,
             "#46039f"
            ],
            [
             0.2222222222222222,
             "#7201a8"
            ],
            [
             0.3333333333333333,
             "#9c179e"
            ],
            [
             0.4444444444444444,
             "#bd3786"
            ],
            [
             0.5555555555555556,
             "#d8576b"
            ],
            [
             0.6666666666666666,
             "#ed7953"
            ],
            [
             0.7777777777777778,
             "#fb9f3a"
            ],
            [
             0.8888888888888888,
             "#fdca26"
            ],
            [
             1,
             "#f0f921"
            ]
           ]
          },
          "colorway": [
           "#636efa",
           "#EF553B",
           "#00cc96",
           "#ab63fa",
           "#FFA15A",
           "#19d3f3",
           "#FF6692",
           "#B6E880",
           "#FF97FF",
           "#FECB52"
          ],
          "font": {
           "color": "#2a3f5f"
          },
          "geo": {
           "bgcolor": "white",
           "lakecolor": "white",
           "landcolor": "#E5ECF6",
           "showlakes": true,
           "showland": true,
           "subunitcolor": "white"
          },
          "hoverlabel": {
           "align": "left"
          },
          "hovermode": "closest",
          "mapbox": {
           "style": "light"
          },
          "paper_bgcolor": "white",
          "plot_bgcolor": "#E5ECF6",
          "polar": {
           "angularaxis": {
            "gridcolor": "white",
            "linecolor": "white",
            "ticks": ""
           },
           "bgcolor": "#E5ECF6",
           "radialaxis": {
            "gridcolor": "white",
            "linecolor": "white",
            "ticks": ""
           }
          },
          "scene": {
           "xaxis": {
            "backgroundcolor": "#E5ECF6",
            "gridcolor": "white",
            "gridwidth": 2,
            "linecolor": "white",
            "showbackground": true,
            "ticks": "",
            "zerolinecolor": "white"
           },
           "yaxis": {
            "backgroundcolor": "#E5ECF6",
            "gridcolor": "white",
            "gridwidth": 2,
            "linecolor": "white",
            "showbackground": true,
            "ticks": "",
            "zerolinecolor": "white"
           },
           "zaxis": {
            "backgroundcolor": "#E5ECF6",
            "gridcolor": "white",
            "gridwidth": 2,
            "linecolor": "white",
            "showbackground": true,
            "ticks": "",
            "zerolinecolor": "white"
           }
          },
          "shapedefaults": {
           "line": {
            "color": "#2a3f5f"
           }
          },
          "ternary": {
           "aaxis": {
            "gridcolor": "white",
            "linecolor": "white",
            "ticks": ""
           },
           "baxis": {
            "gridcolor": "white",
            "linecolor": "white",
            "ticks": ""
           },
           "bgcolor": "#E5ECF6",
           "caxis": {
            "gridcolor": "white",
            "linecolor": "white",
            "ticks": ""
           }
          },
          "title": {
           "x": 0.05
          },
          "xaxis": {
           "automargin": true,
           "gridcolor": "white",
           "linecolor": "white",
           "ticks": "",
           "title": {
            "standoff": 15
           },
           "zerolinecolor": "white",
           "zerolinewidth": 2
          },
          "yaxis": {
           "automargin": true,
           "gridcolor": "white",
           "linecolor": "white",
           "ticks": "",
           "title": {
            "standoff": 15
           },
           "zerolinecolor": "white",
           "zerolinewidth": 2
          }
         }
        },
        "width": 1000,
        "xaxis": {
         "title": {
          "text": "# of features"
         }
        },
        "yaxis": {
         "title": {
          "text": "Log of Test Error"
         }
        }
       }
      }
     },
     "metadata": {},
     "output_type": "display_data"
    }
   ],
   "source": [
    "fig = go.Figure()\n",
    "fig.update_layout(width=1000,height=500,\n",
    "                  xaxis_title=\"# of features\",\n",
    "                  yaxis_title=\"Log of Test Error\")\n",
    "\n",
    "fig.add_trace(go.Scatter(x=number_of_feature_array,y=log_test_error_median_array,\n",
    "                    mode='markers',\n",
    "                    marker_color=\"blue\"))"
   ]
  }
 ],
 "metadata": {
  "kernelspec": {
   "display_name": "python39",
   "language": "python",
   "name": "python3"
  },
  "language_info": {
   "codemirror_mode": {
    "name": "ipython",
    "version": 3
   },
   "file_extension": ".py",
   "mimetype": "text/x-python",
   "name": "python",
   "nbconvert_exporter": "python",
   "pygments_lexer": "ipython3",
   "version": "3.9.12"
  },
  "orig_nbformat": 4
 },
 "nbformat": 4,
 "nbformat_minor": 2
}
