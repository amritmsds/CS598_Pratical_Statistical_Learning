{
 "cells": [
  {
   "cell_type": "markdown",
   "metadata": {},
   "source": [
    "## Part I: Optimal span for LOESS"
   ]
  },
  {
   "cell_type": "markdown",
   "metadata": {},
   "source": [
    "### Objective\n",
    "\n",
    "Write your own function to employ LOO-CV and GCV in selecting the optimal span for LOESS. Definitions of LOO-CV and GCV can be found on page 33 of [[lec_W5_NonlinearRegression.pdf]](https://liangfgithub.github.io/Notes/lec_W5_NonlinearRegression.pdf)"
   ]
  },
  {
   "cell_type": "markdown",
   "metadata": {},
   "source": [
    "### Task\n",
    "1. Test your code using data set [Coding3_Data.csv]\n",
    "2. Report your CV and GCV for the following 15 span values: 0.20, 0.25, . . . , 0.90.\n",
    "3. Report the optimal span value(s) based on CV and GCV.\n",
    "4. Display the original data points and overlay them with the true curve and the fitted curve(s) generated using the optimal span value(s).\n",
    "\n",
    "The true curve is\n",
    "$$\n",
    "    f(x) = \\frac{sin[12(x + 0.2)]}{x + 0.2}\n",
    "$$\n",
    "\n",
    "**Note:** Your plot may differ from the one provided below. You’re encouraged to use your own color schemes and styles.\n"
   ]
  },
  {
   "cell_type": "code",
   "execution_count": 1,
   "metadata": {},
   "outputs": [],
   "source": [
    "from skmisc.loess import loess\n",
    "\n",
    "import warnings\n",
    "warnings.filterwarnings(\"ignore\")\n",
    "import numpy as np\n",
    "import pandas as pd\n",
    "import plotly.graph_objects as go\n"
   ]
  },
  {
   "cell_type": "markdown",
   "metadata": {},
   "source": [
    "### Steps\n",
    "\n",
    "**Computing the Diagonal of the Smoother Matrix:** \n",
    "\n",
    "Create a function to retrieve the diagonal of the smoother matrix. We’re only interested in the diagonal entries (which will be used in computing LOO-CV and GCV), so this function should return an n-by-1 vector.\n",
    "\n",
    "- Inputs: x (an n-by-1 feature vector) and span (a numerical value).\n",
    "- Output: n-by-1 vector representing the diagonal of the smoother matrix S.\n",
    "- Tip: Review the technique we used for the smoother matrix in smoothing spline models and adapt it for LOESS."
   ]
  },
  {
   "cell_type": "code",
   "execution_count": 2,
   "metadata": {},
   "outputs": [],
   "source": [
    "\n",
    "# Load the data from the provided CSV file\n",
    "data_url = \"https://liangfgithub.github.io/Data/Coding3_Data.csv\"\n",
    "data = pd.read_csv(data_url)\n",
    "x = data['x'].values\n",
    "y = data['y'].values"
   ]
  },
  {
   "cell_type": "code",
   "execution_count": 3,
   "metadata": {},
   "outputs": [],
   "source": [
    "def retrieve_diagnoal_of_smooth_matrix(x: np.ndarray,\n",
    "                                      span:float) -> np.ndarray:\n",
    "    n = len(x)\n",
    "    Y = np.identity(n)\n",
    "    result = np.zeros(n) \n",
    "    for i in range(n):\n",
    "        result[i] = loess(x, Y[i,:], span=span).predict(x).values[i]\n",
    "    return result"
   ]
  },
  {
   "cell_type": "markdown",
   "metadata": {},
   "source": [
    "**Span Value Iteration**\n",
    "\n",
    "- Iterate over the specified span values.\n",
    "- For each span, calculate the CV and GCV values.\n",
    "- Post iteration, compile lists of CV and GCV values corresponding to each span.\n",
    "- Determine the best span based on the CV and GCV results. It’s possible for both methods to recommend the same span.\n",
    "- The leave-one-out(LOO)-CV and Generalized CV formula are in [[lec_W5_NonlinearRegression.pdf]](https://liangfgithub.github.io/Notes/lec_W5_NonlinearRegression.pdf), Page 33"
   ]
  },
  {
   "cell_type": "code",
   "execution_count": 4,
   "metadata": {},
   "outputs": [],
   "source": [
    "# Function to perform LOO-CV/Generalized CV for a given span\n",
    "def cross_validation(x: np.ndarray, \n",
    "                     y: np.ndarray, \n",
    "                     span: float) -> tuple[float, float]:\n",
    "   n = len(x)\n",
    "   g_hat = loess(x, y, span=span).predict(x).values\n",
    "   error = y - g_hat\n",
    "   S = retrieve_diagnoal_of_smooth_matrix(x, span)\n",
    "   trace_S = np.sum(S)\n",
    "   loo_cv_res = 0\n",
    "   gcv_res = 0\n",
    "   for i in range(n):\n",
    "      loo_cv_res += (error[i]/(1 - S[i]))**2\n",
    "      gcv_res += (error[i]/(1 - trace_S/n))**2\n",
    "   \n",
    "   return loo_cv_res/n, gcv_res/n"
   ]
  },
  {
   "cell_type": "code",
   "execution_count": 5,
   "metadata": {},
   "outputs": [
    {
     "name": "stdout",
     "output_type": "stream",
     "text": [
      "    Span      loocv       gcv\n",
      "0   0.20  12.415911  2.110162\n",
      "1   0.25   2.241473  1.489206\n",
      "2   0.30   1.502980  1.190110\n",
      "3   0.35   1.259175  1.174423\n",
      "4   0.40   1.190380  1.102540\n",
      "5   0.45   1.156812  1.062503\n",
      "6   0.50   1.125652  1.041833\n",
      "7   0.55   1.179664  1.118841\n",
      "8   0.60   1.179464  1.119269\n",
      "9   0.65   1.250914  1.180585\n",
      "10  0.70   1.553562  1.519091\n",
      "11  0.75   1.636175  1.627429\n",
      "12  0.80   1.764534  1.744549\n",
      "13  0.85   1.976094  1.925696\n",
      "14  0.90   2.035108  1.979820\n",
      "\n",
      "Optimal Span of LOOCV is: 0.50\n",
      "Optimal Span of GCV is: 0.50\n",
      "The optimal span overall is  0.50\n"
     ]
    }
   ],
   "source": [
    "loocv_values = []\n",
    "gcv_values = []\n",
    "span_values = np.arange(0.20, 0.95, 0.05)\n",
    "for span in span_values:\n",
    "    loocv_val, gcv_val = cross_validation(x, y, span)\n",
    "    loocv_values.append(loocv_val)\n",
    "    gcv_values.append(gcv_val)\n",
    "\n",
    "\n",
    "result_dict = {'Span': span_values,\n",
    "          'loocv': loocv_values,\n",
    "          'gcv': gcv_values}\n",
    "\n",
    "result_df = pd.DataFrame(result_dict)\n",
    "\n",
    "print(result_df)\n",
    "\n",
    "# Find the optimal span based on CV and GCV\n",
    "optimal_span_loocv = span_values[np.argmin(loocv_values)]\n",
    "optimal_span_gcv = span_values[np.argmin(gcv_values)]\n",
    "\n",
    "print()\n",
    "print(\"Optimal Span of LOOCV is: {0:1.2f}\".format(optimal_span_loocv))\n",
    "print(\"Optimal Span of GCV is: {0:1.2f}\".format(optimal_span_gcv))\n",
    "print(\"The optimal span overall is {0: 1.2f}\".format(optimal_span_gcv))\n"
   ]
  },
  {
   "cell_type": "markdown",
   "metadata": {},
   "source": [
    "### Generate final results and plotting them"
   ]
  },
  {
   "cell_type": "code",
   "execution_count": 6,
   "metadata": {},
   "outputs": [],
   "source": [
    "new_x = np.linspace(min(x), max(x), 100)\n",
    "true_y = np.sin(12 *(new_x + 0.2))/(new_x + 0.2)\n",
    "fitted_y = loess(x, y, span=0.5).predict(new_x).values"
   ]
  },
  {
   "cell_type": "code",
   "execution_count": 7,
   "metadata": {},
   "outputs": [
    {
     "data": {
      "application/vnd.plotly.v1+json": {
       "config": {
        "plotlyServerURL": "https://plot.ly"
       },
       "data": [
        {
         "marker": {
          "color": "red",
          "size": 10,
          "symbol": "circle-open"
         },
         "mode": "markers",
         "name": "Raw Data",
         "type": "scatter",
         "x": [
          0.0094957563560456,
          0.0399959180504084,
          0.045770263299346,
          0.113703411305323,
          0.159046002896503,
          0.186722789658234,
          0.218799541005865,
          0.232225910527632,
          0.232550506014377,
          0.266820780001581,
          0.282733583590016,
          0.286223284667358,
          0.292315840255469,
          0.302693370729685,
          0.316612454829738,
          0.514251141343266,
          0.525697546778247,
          0.544974835589528,
          0.609274732880294,
          0.622299404814839,
          0.623379441676661,
          0.640310605289415,
          0.666083758231252,
          0.693591291783378,
          0.810598552459851,
          0.83134504687041,
          0.837295628152788,
          0.860915383556858,
          0.914658166002482,
          0.923433484276757
         ],
         "y": [
          2.69282173742339,
          0.566786601720556,
          -0.133373144391727,
          -2.69673372172282,
          -0.145285216261856,
          -2.44509659088907,
          -2.76229967997411,
          -2.49873687881929,
          -1.59292653137288,
          -2.04291309703408,
          -2.4238220815326,
          -0.317056121148411,
          -1.76838142451829,
          -0.50896187781167,
          -1.09803853326135,
          2.15761182456894,
          0.42930109880133,
          -0.0835409453266436,
          -0.850477777344373,
          -2.15017442140423,
          -1.7021949588961,
          -2.90868268539325,
          -2.29226633589835,
          -1.37208722449801,
          -0.886642901282115,
          1.26615820349608,
          -1.18292418948116,
          -0.700902221089788,
          0.368868692640227,
          -0.288949279089763
         ]
        },
        {
         "line": {
          "color": "grey"
         },
         "name": "True curve",
         "type": "scatter",
         "x": [
          0.0094957563560456,
          0.018727450577466928,
          0.027959144798888256,
          0.037190839020309584,
          0.046422533241730915,
          0.05565422746315224,
          0.06488592168457356,
          0.0741176159059949,
          0.08334931012741623,
          0.09258100434883755,
          0.10181269857025887,
          0.11104439279168021,
          0.12027608701310154,
          0.12950778123452286,
          0.1387394754559442,
          0.1479711696773655,
          0.15720286389878685,
          0.1664345581202082,
          0.1756662523416295,
          0.18489794656305084,
          0.19412964078447215,
          0.20336133500589348,
          0.21259302922731482,
          0.22182472344873613,
          0.23105641767015747,
          0.2402881118915788,
          0.24951980611300012,
          0.25875150033442146,
          0.2679831945558428,
          0.27721488877726413,
          0.2864465829986854,
          0.29567827722010676,
          0.3049099714415281,
          0.31414166566294943,
          0.32337335988437077,
          0.33260505410579205,
          0.3418367483272134,
          0.35106844254863473,
          0.36030013677005607,
          0.3695318309914774,
          0.3787635252128987,
          0.38799521943432,
          0.39722691365574136,
          0.4064586078771627,
          0.41569030209858404,
          0.4249219963200054,
          0.43415369054142666,
          0.443385384762848,
          0.45261707898426934,
          0.4618487732056907,
          0.471080467427112,
          0.4803121616485333,
          0.48954385586995464,
          0.498775550091376,
          0.5080072443127973,
          0.5172389385342187,
          0.52647063275564,
          0.5357023269770613,
          0.5449340211984827,
          0.5541657154199039,
          0.5633974096413252,
          0.5726291038627466,
          0.5818607980841679,
          0.5910924923055892,
          0.6003241865270106,
          0.6095558807484319,
          0.6187875749698533,
          0.6280192691912746,
          0.6372509634126959,
          0.6464826576341173,
          0.6557143518555385,
          0.6649460460769598,
          0.6741777402983812,
          0.6834094345198025,
          0.6926411287412239,
          0.7018728229626452,
          0.7111045171840665,
          0.7203362114054879,
          0.7295679056269092,
          0.7387995998483305,
          0.7480312940697518,
          0.7572629882911731,
          0.7664946825125944,
          0.7757263767340158,
          0.7849580709554371,
          0.7941897651768585,
          0.8034214593982798,
          0.8126531536197011,
          0.8218848478411225,
          0.8311165420625438,
          0.8403482362839652,
          0.8495799305053864,
          0.8588116247268077,
          0.8680433189482291,
          0.8772750131696504,
          0.8865067073910717,
          0.8957384016124931,
          0.9049700958339144,
          0.9142017900553358,
          0.923433484276757
         ],
         "y": [
          2.8031072318141668,
          2.259229748428831,
          1.7328273458161851,
          1.2269839438946621,
          0.7445622644791201,
          0.28818263538770716,
          -0.1397957977047119,
          -0.5372912963002231,
          -0.9025130614997137,
          -1.2339719713137356,
          -1.5304884482164087,
          -1.7911974107167998,
          -2.015550291418995,
          -2.20331413272289,
          -2.354567799691593,
          -2.4696953773922963,
          -2.5493768469265112,
          -2.5945761601346815,
          -2.606526857334107,
          -2.586715395188661,
          -2.5368623726928874,
          -2.4589018620810816,
          -2.3549590680657584,
          -2.22732655301561,
          -2.078439277372347,
          -1.9108487136774517,
          -1.727196298960308,
          -1.5301864938834413,
          -1.3225597179323736,
          -1.1070654280894565,
          -0.8864356038839062,
          -0.6633588945330203,
          -0.4404556741780685,
          -0.22025423909418357,
          -0.0051683663628166185,
          0.2025235629933684,
          0.4006976918108121,
          0.5874019010159817,
          0.7608709673568991,
          0.9195395445179502,
          1.0620528713027344,
          1.1872751351034416,
          1.2942954438774203,
          1.3824313850563332,
          1.451230174954364,
          1.500467427056801,
          1.5301435918010071,
          1.5404781438599284,
          1.5319016152654163,
          1.5050455937405771,
          1.460730825138088,
          1.3999535767141567,
          1.323870433934328,
          1.2337817174580366,
          1.1311137187567213,
          1.0173999623829846,
          0.8942617101475944,
          0.7633879273253654,
          0.6265149334734976,
          0.48540596050720286,
          0.3418308383624289,
          0.19754602393601098,
          0.054275182104374806,
          -0.08630948141725786,
          -0.22260494668130207,
          -0.3530939898410774,
          -0.47636051615252945,
          -0.5911034708143469,
          -0.6961492003985222,
          -0.790462156354289,
          -0.8731538517306894,
          -0.9434900026332438,
          -1.0008958067779128,
          -1.044959332598498,
          -1.075433013468733,
          -1.0922332624867626,
          -1.0954382437118917,
          -1.0852838555223039,
          -1.0621580006690579,
          -1.02659323543845,
          -0.9792579069182519,
          -0.9209459025255503,
          -0.8525651495443729,
          -0.7751250143084996,
          -0.6897227607375235,
          -0.5975292361020417,
          -0.49977395808902,
          -0.3977297814150283,
          -0.2926973243709646,
          -0.1859893357768079,
          -0.07891518090245862,
          0.02723437898476198,
          0.13120194458648116,
          0.23177761281419273,
          0.3278123353976893,
          0.41823036087384946,
          0.5020406313354331,
          0.5783470189770076,
          0.646357302255478,
          0.7053907972059054
         ]
        },
        {
         "line": {
          "color": "blue",
          "dash": "dash"
         },
         "name": "Fitted curve",
         "type": "scatter",
         "x": [
          0.0094957563560456,
          0.018727450577466928,
          0.027959144798888256,
          0.037190839020309584,
          0.046422533241730915,
          0.05565422746315224,
          0.06488592168457356,
          0.0741176159059949,
          0.08334931012741623,
          0.09258100434883755,
          0.10181269857025887,
          0.11104439279168021,
          0.12027608701310154,
          0.12950778123452286,
          0.1387394754559442,
          0.1479711696773655,
          0.15720286389878685,
          0.1664345581202082,
          0.1756662523416295,
          0.18489794656305084,
          0.19412964078447215,
          0.20336133500589348,
          0.21259302922731482,
          0.22182472344873613,
          0.23105641767015747,
          0.2402881118915788,
          0.24951980611300012,
          0.25875150033442146,
          0.2679831945558428,
          0.27721488877726413,
          0.2864465829986854,
          0.29567827722010676,
          0.3049099714415281,
          0.31414166566294943,
          0.32337335988437077,
          0.33260505410579205,
          0.3418367483272134,
          0.35106844254863473,
          0.36030013677005607,
          0.3695318309914774,
          0.3787635252128987,
          0.38799521943432,
          0.39722691365574136,
          0.4064586078771627,
          0.41569030209858404,
          0.4249219963200054,
          0.43415369054142666,
          0.443385384762848,
          0.45261707898426934,
          0.4618487732056907,
          0.471080467427112,
          0.4803121616485333,
          0.48954385586995464,
          0.498775550091376,
          0.5080072443127973,
          0.5172389385342187,
          0.52647063275564,
          0.5357023269770613,
          0.5449340211984827,
          0.5541657154199039,
          0.5633974096413252,
          0.5726291038627466,
          0.5818607980841679,
          0.5910924923055892,
          0.6003241865270106,
          0.6095558807484319,
          0.6187875749698533,
          0.6280192691912746,
          0.6372509634126959,
          0.6464826576341173,
          0.6557143518555385,
          0.6649460460769598,
          0.6741777402983812,
          0.6834094345198025,
          0.6926411287412239,
          0.7018728229626452,
          0.7111045171840665,
          0.7203362114054879,
          0.7295679056269092,
          0.7387995998483305,
          0.7480312940697518,
          0.7572629882911731,
          0.7664946825125944,
          0.7757263767340158,
          0.7849580709554371,
          0.7941897651768585,
          0.8034214593982798,
          0.8126531536197011,
          0.8218848478411225,
          0.8311165420625438,
          0.8403482362839652,
          0.8495799305053864,
          0.8588116247268077,
          0.8680433189482291,
          0.8772750131696504,
          0.8865067073910717,
          0.8957384016124931,
          0.9049700958339144,
          0.9142017900553358,
          0.923433484276757
         ],
         "y": [
          2.108439137206455,
          1.6422534118808756,
          1.203684064655353,
          0.7960793109850521,
          0.4225518323397679,
          0.08289205856117693,
          -0.22548225121689902,
          -0.5052004469677913,
          -0.7588918786648311,
          -0.9891858962813493,
          -1.198711849790678,
          -1.3900990891661484,
          -1.5616213595062538,
          -1.7039468759532945,
          -1.819306438992324,
          -1.9106481202510892,
          -1.9809199913573372,
          -2.0330701239388165,
          -2.070046589623273,
          -2.0947974600384556,
          -2.110077070211323,
          -2.115375696636292,
          -2.1080119044662937,
          -2.0852791940503885,
          -2.044471065737637,
          -1.988257757929968,
          -1.92105726293953,
          -1.8377437907975018,
          -1.7333831991301194,
          -1.621363993738966,
          -1.4894172794467548,
          -1.3657458004326852,
          -1.271882039201706,
          -1.1753227110119981,
          -1.0550003347280963,
          -0.9252360789696361,
          -0.7889213295343269,
          -0.6478293760018039,
          -0.5037335079517014,
          -0.3584070149636537,
          -0.2136231866172954,
          -0.07115531249225948,
          0.06722331783181879,
          0.19973941477530532,
          0.32461968875856606,
          0.4400908502019666,
          0.5443796095258722,
          0.6357126771506496,
          0.7123167634966643,
          0.7724185789842817,
          0.8142448340338677,
          0.8360222390657877,
          0.8359775045004083,
          0.8123373407580944,
          0.7633284582592121,
          0.6871775674241274,
          0.5820051469718913,
          0.43128753522384977,
          0.2324960347219356,
          -0.0022346909766707695,
          -0.26076997831479826,
          -0.5309751637352672,
          -0.800715583680901,
          -1.0578565745945223,
          -1.2902634729189537,
          -1.4858202769527113,
          -1.653783205637619,
          -1.8014785894432779,
          -1.923859541252133,
          -2.0239065970849466,
          -2.1050696059972096,
          -2.1707984170444163,
          -2.21209882141364,
          -2.213442108901535,
          -2.1792353458988463,
          -2.1141345201337725,
          -2.022795619334512,
          -1.909874631229262,
          -1.7800275435462232,
          -1.6379103440135911,
          -1.4881790203595684,
          -1.3354895603123487,
          -1.1844979516001324,
          -1.0398601819511177,
          -0.9062322390935034,
          -0.7882701107554873,
          -0.6906297846652685,
          -0.6169584211914491,
          -0.5457506696801585,
          -0.47387782454509203,
          -0.41021212650163985,
          -0.3508505857793213,
          -0.2932810410325765,
          -0.2376201296647946,
          -0.18398448907936396,
          -0.1324907566796732,
          -0.0832555698691106,
          -0.036395566051064615,
          0.00797261737107622,
          0.04973234299392296
         ]
        }
       ],
       "layout": {
        "height": 500,
        "template": {
         "data": {
          "bar": [
           {
            "error_x": {
             "color": "#2a3f5f"
            },
            "error_y": {
             "color": "#2a3f5f"
            },
            "marker": {
             "line": {
              "color": "#E5ECF6",
              "width": 0.5
             },
             "pattern": {
              "fillmode": "overlay",
              "size": 10,
              "solidity": 0.2
             }
            },
            "type": "bar"
           }
          ],
          "barpolar": [
           {
            "marker": {
             "line": {
              "color": "#E5ECF6",
              "width": 0.5
             },
             "pattern": {
              "fillmode": "overlay",
              "size": 10,
              "solidity": 0.2
             }
            },
            "type": "barpolar"
           }
          ],
          "carpet": [
           {
            "aaxis": {
             "endlinecolor": "#2a3f5f",
             "gridcolor": "white",
             "linecolor": "white",
             "minorgridcolor": "white",
             "startlinecolor": "#2a3f5f"
            },
            "baxis": {
             "endlinecolor": "#2a3f5f",
             "gridcolor": "white",
             "linecolor": "white",
             "minorgridcolor": "white",
             "startlinecolor": "#2a3f5f"
            },
            "type": "carpet"
           }
          ],
          "choropleth": [
           {
            "colorbar": {
             "outlinewidth": 0,
             "ticks": ""
            },
            "type": "choropleth"
           }
          ],
          "contour": [
           {
            "colorbar": {
             "outlinewidth": 0,
             "ticks": ""
            },
            "colorscale": [
             [
              0,
              "#0d0887"
             ],
             [
              0.1111111111111111,
              "#46039f"
             ],
             [
              0.2222222222222222,
              "#7201a8"
             ],
             [
              0.3333333333333333,
              "#9c179e"
             ],
             [
              0.4444444444444444,
              "#bd3786"
             ],
             [
              0.5555555555555556,
              "#d8576b"
             ],
             [
              0.6666666666666666,
              "#ed7953"
             ],
             [
              0.7777777777777778,
              "#fb9f3a"
             ],
             [
              0.8888888888888888,
              "#fdca26"
             ],
             [
              1,
              "#f0f921"
             ]
            ],
            "type": "contour"
           }
          ],
          "contourcarpet": [
           {
            "colorbar": {
             "outlinewidth": 0,
             "ticks": ""
            },
            "type": "contourcarpet"
           }
          ],
          "heatmap": [
           {
            "colorbar": {
             "outlinewidth": 0,
             "ticks": ""
            },
            "colorscale": [
             [
              0,
              "#0d0887"
             ],
             [
              0.1111111111111111,
              "#46039f"
             ],
             [
              0.2222222222222222,
              "#7201a8"
             ],
             [
              0.3333333333333333,
              "#9c179e"
             ],
             [
              0.4444444444444444,
              "#bd3786"
             ],
             [
              0.5555555555555556,
              "#d8576b"
             ],
             [
              0.6666666666666666,
              "#ed7953"
             ],
             [
              0.7777777777777778,
              "#fb9f3a"
             ],
             [
              0.8888888888888888,
              "#fdca26"
             ],
             [
              1,
              "#f0f921"
             ]
            ],
            "type": "heatmap"
           }
          ],
          "heatmapgl": [
           {
            "colorbar": {
             "outlinewidth": 0,
             "ticks": ""
            },
            "colorscale": [
             [
              0,
              "#0d0887"
             ],
             [
              0.1111111111111111,
              "#46039f"
             ],
             [
              0.2222222222222222,
              "#7201a8"
             ],
             [
              0.3333333333333333,
              "#9c179e"
             ],
             [
              0.4444444444444444,
              "#bd3786"
             ],
             [
              0.5555555555555556,
              "#d8576b"
             ],
             [
              0.6666666666666666,
              "#ed7953"
             ],
             [
              0.7777777777777778,
              "#fb9f3a"
             ],
             [
              0.8888888888888888,
              "#fdca26"
             ],
             [
              1,
              "#f0f921"
             ]
            ],
            "type": "heatmapgl"
           }
          ],
          "histogram": [
           {
            "marker": {
             "pattern": {
              "fillmode": "overlay",
              "size": 10,
              "solidity": 0.2
             }
            },
            "type": "histogram"
           }
          ],
          "histogram2d": [
           {
            "colorbar": {
             "outlinewidth": 0,
             "ticks": ""
            },
            "colorscale": [
             [
              0,
              "#0d0887"
             ],
             [
              0.1111111111111111,
              "#46039f"
             ],
             [
              0.2222222222222222,
              "#7201a8"
             ],
             [
              0.3333333333333333,
              "#9c179e"
             ],
             [
              0.4444444444444444,
              "#bd3786"
             ],
             [
              0.5555555555555556,
              "#d8576b"
             ],
             [
              0.6666666666666666,
              "#ed7953"
             ],
             [
              0.7777777777777778,
              "#fb9f3a"
             ],
             [
              0.8888888888888888,
              "#fdca26"
             ],
             [
              1,
              "#f0f921"
             ]
            ],
            "type": "histogram2d"
           }
          ],
          "histogram2dcontour": [
           {
            "colorbar": {
             "outlinewidth": 0,
             "ticks": ""
            },
            "colorscale": [
             [
              0,
              "#0d0887"
             ],
             [
              0.1111111111111111,
              "#46039f"
             ],
             [
              0.2222222222222222,
              "#7201a8"
             ],
             [
              0.3333333333333333,
              "#9c179e"
             ],
             [
              0.4444444444444444,
              "#bd3786"
             ],
             [
              0.5555555555555556,
              "#d8576b"
             ],
             [
              0.6666666666666666,
              "#ed7953"
             ],
             [
              0.7777777777777778,
              "#fb9f3a"
             ],
             [
              0.8888888888888888,
              "#fdca26"
             ],
             [
              1,
              "#f0f921"
             ]
            ],
            "type": "histogram2dcontour"
           }
          ],
          "mesh3d": [
           {
            "colorbar": {
             "outlinewidth": 0,
             "ticks": ""
            },
            "type": "mesh3d"
           }
          ],
          "parcoords": [
           {
            "line": {
             "colorbar": {
              "outlinewidth": 0,
              "ticks": ""
             }
            },
            "type": "parcoords"
           }
          ],
          "pie": [
           {
            "automargin": true,
            "type": "pie"
           }
          ],
          "scatter": [
           {
            "fillpattern": {
             "fillmode": "overlay",
             "size": 10,
             "solidity": 0.2
            },
            "type": "scatter"
           }
          ],
          "scatter3d": [
           {
            "line": {
             "colorbar": {
              "outlinewidth": 0,
              "ticks": ""
             }
            },
            "marker": {
             "colorbar": {
              "outlinewidth": 0,
              "ticks": ""
             }
            },
            "type": "scatter3d"
           }
          ],
          "scattercarpet": [
           {
            "marker": {
             "colorbar": {
              "outlinewidth": 0,
              "ticks": ""
             }
            },
            "type": "scattercarpet"
           }
          ],
          "scattergeo": [
           {
            "marker": {
             "colorbar": {
              "outlinewidth": 0,
              "ticks": ""
             }
            },
            "type": "scattergeo"
           }
          ],
          "scattergl": [
           {
            "marker": {
             "colorbar": {
              "outlinewidth": 0,
              "ticks": ""
             }
            },
            "type": "scattergl"
           }
          ],
          "scattermapbox": [
           {
            "marker": {
             "colorbar": {
              "outlinewidth": 0,
              "ticks": ""
             }
            },
            "type": "scattermapbox"
           }
          ],
          "scatterpolar": [
           {
            "marker": {
             "colorbar": {
              "outlinewidth": 0,
              "ticks": ""
             }
            },
            "type": "scatterpolar"
           }
          ],
          "scatterpolargl": [
           {
            "marker": {
             "colorbar": {
              "outlinewidth": 0,
              "ticks": ""
             }
            },
            "type": "scatterpolargl"
           }
          ],
          "scatterternary": [
           {
            "marker": {
             "colorbar": {
              "outlinewidth": 0,
              "ticks": ""
             }
            },
            "type": "scatterternary"
           }
          ],
          "surface": [
           {
            "colorbar": {
             "outlinewidth": 0,
             "ticks": ""
            },
            "colorscale": [
             [
              0,
              "#0d0887"
             ],
             [
              0.1111111111111111,
              "#46039f"
             ],
             [
              0.2222222222222222,
              "#7201a8"
             ],
             [
              0.3333333333333333,
              "#9c179e"
             ],
             [
              0.4444444444444444,
              "#bd3786"
             ],
             [
              0.5555555555555556,
              "#d8576b"
             ],
             [
              0.6666666666666666,
              "#ed7953"
             ],
             [
              0.7777777777777778,
              "#fb9f3a"
             ],
             [
              0.8888888888888888,
              "#fdca26"
             ],
             [
              1,
              "#f0f921"
             ]
            ],
            "type": "surface"
           }
          ],
          "table": [
           {
            "cells": {
             "fill": {
              "color": "#EBF0F8"
             },
             "line": {
              "color": "white"
             }
            },
            "header": {
             "fill": {
              "color": "#C8D4E3"
             },
             "line": {
              "color": "white"
             }
            },
            "type": "table"
           }
          ]
         },
         "layout": {
          "annotationdefaults": {
           "arrowcolor": "#2a3f5f",
           "arrowhead": 0,
           "arrowwidth": 1
          },
          "autotypenumbers": "strict",
          "coloraxis": {
           "colorbar": {
            "outlinewidth": 0,
            "ticks": ""
           }
          },
          "colorscale": {
           "diverging": [
            [
             0,
             "#8e0152"
            ],
            [
             0.1,
             "#c51b7d"
            ],
            [
             0.2,
             "#de77ae"
            ],
            [
             0.3,
             "#f1b6da"
            ],
            [
             0.4,
             "#fde0ef"
            ],
            [
             0.5,
             "#f7f7f7"
            ],
            [
             0.6,
             "#e6f5d0"
            ],
            [
             0.7,
             "#b8e186"
            ],
            [
             0.8,
             "#7fbc41"
            ],
            [
             0.9,
             "#4d9221"
            ],
            [
             1,
             "#276419"
            ]
           ],
           "sequential": [
            [
             0,
             "#0d0887"
            ],
            [
             0.1111111111111111,
             "#46039f"
            ],
            [
             0.2222222222222222,
             "#7201a8"
            ],
            [
             0.3333333333333333,
             "#9c179e"
            ],
            [
             0.4444444444444444,
             "#bd3786"
            ],
            [
             0.5555555555555556,
             "#d8576b"
            ],
            [
             0.6666666666666666,
             "#ed7953"
            ],
            [
             0.7777777777777778,
             "#fb9f3a"
            ],
            [
             0.8888888888888888,
             "#fdca26"
            ],
            [
             1,
             "#f0f921"
            ]
           ],
           "sequentialminus": [
            [
             0,
             "#0d0887"
            ],
            [
             0.1111111111111111,
             "#46039f"
            ],
            [
             0.2222222222222222,
             "#7201a8"
            ],
            [
             0.3333333333333333,
             "#9c179e"
            ],
            [
             0.4444444444444444,
             "#bd3786"
            ],
            [
             0.5555555555555556,
             "#d8576b"
            ],
            [
             0.6666666666666666,
             "#ed7953"
            ],
            [
             0.7777777777777778,
             "#fb9f3a"
            ],
            [
             0.8888888888888888,
             "#fdca26"
            ],
            [
             1,
             "#f0f921"
            ]
           ]
          },
          "colorway": [
           "#636efa",
           "#EF553B",
           "#00cc96",
           "#ab63fa",
           "#FFA15A",
           "#19d3f3",
           "#FF6692",
           "#B6E880",
           "#FF97FF",
           "#FECB52"
          ],
          "font": {
           "color": "#2a3f5f"
          },
          "geo": {
           "bgcolor": "white",
           "lakecolor": "white",
           "landcolor": "#E5ECF6",
           "showlakes": true,
           "showland": true,
           "subunitcolor": "white"
          },
          "hoverlabel": {
           "align": "left"
          },
          "hovermode": "closest",
          "mapbox": {
           "style": "light"
          },
          "paper_bgcolor": "white",
          "plot_bgcolor": "#E5ECF6",
          "polar": {
           "angularaxis": {
            "gridcolor": "white",
            "linecolor": "white",
            "ticks": ""
           },
           "bgcolor": "#E5ECF6",
           "radialaxis": {
            "gridcolor": "white",
            "linecolor": "white",
            "ticks": ""
           }
          },
          "scene": {
           "xaxis": {
            "backgroundcolor": "#E5ECF6",
            "gridcolor": "white",
            "gridwidth": 2,
            "linecolor": "white",
            "showbackground": true,
            "ticks": "",
            "zerolinecolor": "white"
           },
           "yaxis": {
            "backgroundcolor": "#E5ECF6",
            "gridcolor": "white",
            "gridwidth": 2,
            "linecolor": "white",
            "showbackground": true,
            "ticks": "",
            "zerolinecolor": "white"
           },
           "zaxis": {
            "backgroundcolor": "#E5ECF6",
            "gridcolor": "white",
            "gridwidth": 2,
            "linecolor": "white",
            "showbackground": true,
            "ticks": "",
            "zerolinecolor": "white"
           }
          },
          "shapedefaults": {
           "line": {
            "color": "#2a3f5f"
           }
          },
          "ternary": {
           "aaxis": {
            "gridcolor": "white",
            "linecolor": "white",
            "ticks": ""
           },
           "baxis": {
            "gridcolor": "white",
            "linecolor": "white",
            "ticks": ""
           },
           "bgcolor": "#E5ECF6",
           "caxis": {
            "gridcolor": "white",
            "linecolor": "white",
            "ticks": ""
           }
          },
          "title": {
           "x": 0.05
          },
          "xaxis": {
           "automargin": true,
           "gridcolor": "white",
           "linecolor": "white",
           "ticks": "",
           "title": {
            "standoff": 15
           },
           "zerolinecolor": "white",
           "zerolinewidth": 2
          },
          "yaxis": {
           "automargin": true,
           "gridcolor": "white",
           "linecolor": "white",
           "ticks": "",
           "title": {
            "standoff": 15
           },
           "zerolinecolor": "white",
           "zerolinewidth": 2
          }
         }
        },
        "width": 1000,
        "xaxis": {
         "title": {
          "text": "x"
         }
        },
        "yaxis": {
         "title": {
          "text": "Y"
         }
        }
       }
      }
     },
     "metadata": {},
     "output_type": "display_data"
    }
   ],
   "source": [
    "fig = go.Figure()\n",
    "fig.update_layout(width=1000,height=500,\n",
    "                 xaxis_title=\"x\", yaxis_title=\"Y\")\n",
    "\n",
    "fig.add_trace(go.Scatter(x=x, y=y,\n",
    "                mode='markers',\n",
    "                name= 'Raw Data',\n",
    "                marker_symbol='circle-open',\n",
    "                marker_size =10,\n",
    "                marker_color=\"red\"))\n",
    "\n",
    "fig.add_trace(go.Scatter(x=new_x, y=true_y,\n",
    "                name= 'True curve',\n",
    "                line=dict(color='grey')))\n",
    "\n",
    "fig.add_trace(go.Scatter(x=new_x, y=fitted_y,\n",
    "                name= 'Fitted curve',\n",
    "                line=dict(color='blue', dash='dash')))\n"
   ]
  },
  {
   "cell_type": "code",
   "execution_count": null,
   "metadata": {},
   "outputs": [],
   "source": []
  }
 ],
 "metadata": {
  "kernelspec": {
   "display_name": "Python 3",
   "language": "python",
   "name": "python3"
  },
  "language_info": {
   "codemirror_mode": {
    "name": "ipython",
    "version": 3
   },
   "file_extension": ".py",
   "mimetype": "text/x-python",
   "name": "python",
   "nbconvert_exporter": "python",
   "pygments_lexer": "ipython3",
   "version": "3.9.12"
  }
 },
 "nbformat": 4,
 "nbformat_minor": 4
}
