{
 "cells": [
  {
   "cell_type": "code",
   "execution_count": 1,
   "metadata": {},
   "outputs": [],
   "source": [
    "import os\n",
    "import numpy as np\n",
    "import pandas as pd\n",
    "import warnings\n",
    "warnings.filterwarnings(\"ignore\", category=DeprecationWarning)\n",
    "\n",
    "from sklearn.preprocessing import OneHotEncoder, StandardScaler\n",
    "from sklearn.pipeline import make_pipeline, Pipeline\n",
    "from sklearn.linear_model import Lasso\n",
    "from sklearn.model_selection import GridSearchCV, RandomizedSearchCV"
   ]
  },
  {
   "cell_type": "code",
   "execution_count": 2,
   "metadata": {},
   "outputs": [],
   "source": [
    "prject_folder = \"/Users/richardxu/Dropbox/UIUC_CS598_Statistical_Learning/Project1/proj1\"\n",
    "df_train1 = pd.read_csv(os.path.join(prject_folder, \"fold1/train.csv\"))\n",
    "df_test1_x = pd.read_csv(os.path.join(prject_folder, \"fold1/test.csv\"))\n",
    "df_test1_y = pd.read_csv(os.path.join(prject_folder, \"fold1/test_y.csv\"))"
   ]
  },
  {
   "cell_type": "code",
   "execution_count": 3,
   "metadata": {},
   "outputs": [],
   "source": [
    "df_train1_y = pd.DataFrame()\n",
    "df_train1_y['Sale_Price'] = df_train1['Sale_Price'].copy()\n",
    "df_train1_x = df_train1.drop(columns=['PID', 'Sale_Price'])\n",
    "df_test1_x.drop(columns=['PID'], inplace=True)\n",
    "df_test1_y.drop(columns=['PID'], inplace=True)"
   ]
  },
  {
   "cell_type": "markdown",
   "metadata": {},
   "source": [
    "### Step 1. Missing value imputation"
   ]
  },
  {
   "cell_type": "code",
   "execution_count": 4,
   "metadata": {},
   "outputs": [],
   "source": [
    "# Impute missing values in \"Garage_Yr_Blt\" variable with 0\n",
    "df_train1_x['Garage_Yr_Blt'].fillna(0, inplace=True)\n",
    "df_test1_x['Garage_Yr_Blt'].fillna(0, inplace=True)"
   ]
  },
  {
   "cell_type": "markdown",
   "metadata": {},
   "source": [
    "### Step 2. Features to Remove"
   ]
  },
  {
   "cell_type": "code",
   "execution_count": 5,
   "metadata": {},
   "outputs": [],
   "source": [
    "# The following features are either highly imbalanced or not informative\n",
    "remove_features_set = ['Condition_2', 'Heating', 'Latitude', 'Longitude', 'Low_Qual_Fin_SF',\n",
    "                       'Misc_Feature','Pool_Area','Pool_QC','Roof_Matl','Street','Utilities']\n",
    "df_train1_x.drop(columns=remove_features_set, inplace=True)\n",
    "df_test1_x.drop(columns=remove_features_set, inplace=True)"
   ]
  },
  {
   "cell_type": "markdown",
   "metadata": {},
   "source": [
    "### Step 3. Winsorization"
   ]
  },
  {
   "cell_type": "code",
   "execution_count": 6,
   "metadata": {},
   "outputs": [],
   "source": [
    "winsor_features_set = ['BsmtFin_SF_2', 'Bsmt_Unf_SF', 'Enclosed_Porch', 'First_Flr_SF',\n",
    "                 'Garage_Area', 'Gr_Liv_Area', 'Lot_Area', 'Lot_Frontage','Mas_Vnr_Area',\n",
    "                 'Misc_Val', 'Open_Porch_SF', 'Screen_Porch', 'Second_Flr_SF', 'Three_season_porch',\n",
    "                 'Total_Bsmt_SF', 'Wood_Deck_SF']"
   ]
  },
  {
   "cell_type": "code",
   "execution_count": 7,
   "metadata": {},
   "outputs": [],
   "source": [
    "for val in winsor_features_set:\n",
    "    upper_limit = df_train1[val].quantile(0.95)\n",
    "    df_train1_x[val] = df_train1_x[val].apply(lambda x: upper_limit if x > upper_limit else x)"
   ]
  },
  {
   "cell_type": "markdown",
   "metadata": {},
   "source": [
    "### Step 4. Categorical feature transformation using one-hot encoder"
   ]
  },
  {
   "cell_type": "code",
   "execution_count": 8,
   "metadata": {},
   "outputs": [
    {
     "name": "stdout",
     "output_type": "stream",
     "text": [
      "39\n"
     ]
    }
   ],
   "source": [
    "categorical_feature_set_test = [val for val in df_test1_x.columns if df_test1_x[val].dtypes=='object']\n",
    "print(len(categorical_feature_set_test))"
   ]
  },
  {
   "cell_type": "code",
   "execution_count": 9,
   "metadata": {},
   "outputs": [],
   "source": [
    "def categorical_variable_transform(train_df, test_df):\n",
    "    # IMPORTANT:\n",
    "    # The test_dataframe needs to use the encoder from the trainng_dataframe, because some categories might be\n",
    "    # missing in the test data\n",
    "    \n",
    "    categorical_feature_set = [feature for feature in train_df.columns if train_df[feature].dtypes=='object']\n",
    "\n",
    "    for feature in categorical_feature_set:\n",
    "        encoder = OneHotEncoder(handle_unknown='ignore')\n",
    "        train_category_matrix = [[element] for element in train_df[feature]]\n",
    "        test_category_matrix = [[element] for element in test_df[feature]]\n",
    "\n",
    "        encoder.fit(train_category_matrix)\n",
    "        train_df_hot_code = pd.DataFrame(encoder.transform(train_category_matrix).toarray())\n",
    "        test_df_hot_code = pd.DataFrame(encoder.transform(test_category_matrix).toarray())\n",
    "\n",
    "        train_df_hot_code.columns = [feature + '_' + str(c) for c in train_df_hot_code.columns]\n",
    "        test_df_hot_code.columns = [feature + '_' + str(c) for c in test_df_hot_code.columns]\n",
    "\n",
    "\n",
    "        # Replace the original feature with one-hot encoded feature\n",
    "        train_df.drop(columns=feature, inplace=True)\n",
    "        train_df = pd.concat([train_df, train_df_hot_code], axis=1)\n",
    "        test_df.drop(columns=feature, inplace=True)\n",
    "        test_df = pd.concat([test_df, test_df_hot_code], axis=1)\n",
    "\n",
    "\n",
    "    return train_df, test_df"
   ]
  },
  {
   "cell_type": "code",
   "execution_count": 10,
   "metadata": {},
   "outputs": [],
   "source": [
    "df_train1_x_trans, df_test1_x_trans =  categorical_variable_transform(df_train1_x, df_test1_x)"
   ]
  },
  {
   "cell_type": "code",
   "execution_count": 11,
   "metadata": {},
   "outputs": [
    {
     "data": {
      "text/plain": [
       "Index(['Lot_Frontage', 'Lot_Area', 'Year_Built', 'Year_Remod_Add',\n",
       "       'Mas_Vnr_Area', 'BsmtFin_SF_1', 'BsmtFin_SF_2', 'Bsmt_Unf_SF',\n",
       "       'Total_Bsmt_SF', 'First_Flr_SF',\n",
       "       ...\n",
       "       'Sale_Type_6', 'Sale_Type_7', 'Sale_Type_8', 'Sale_Type_9',\n",
       "       'Sale_Condition_0', 'Sale_Condition_1', 'Sale_Condition_2',\n",
       "       'Sale_Condition_3', 'Sale_Condition_4', 'Sale_Condition_5'],\n",
       "      dtype='object', length=308)"
      ]
     },
     "execution_count": 11,
     "metadata": {},
     "output_type": "execute_result"
    }
   ],
   "source": [
    "df_train1_x_trans.columns"
   ]
  },
  {
   "cell_type": "code",
   "execution_count": 12,
   "metadata": {},
   "outputs": [
    {
     "data": {
      "text/plain": [
       "Index(['Lot_Frontage', 'Lot_Area', 'Year_Built', 'Year_Remod_Add',\n",
       "       'Mas_Vnr_Area', 'BsmtFin_SF_1', 'BsmtFin_SF_2', 'Bsmt_Unf_SF',\n",
       "       'Total_Bsmt_SF', 'First_Flr_SF',\n",
       "       ...\n",
       "       'Sale_Type_6', 'Sale_Type_7', 'Sale_Type_8', 'Sale_Type_9',\n",
       "       'Sale_Condition_0', 'Sale_Condition_1', 'Sale_Condition_2',\n",
       "       'Sale_Condition_3', 'Sale_Condition_4', 'Sale_Condition_5'],\n",
       "      dtype='object', length=308)"
      ]
     },
     "execution_count": 12,
     "metadata": {},
     "output_type": "execute_result"
    }
   ],
   "source": [
    "df_test1_x_trans.columns"
   ]
  },
  {
   "cell_type": "markdown",
   "metadata": {},
   "source": [
    "### Step 5. Remove highly correlated features"
   ]
  },
  {
   "cell_type": "code",
   "execution_count": null,
   "metadata": {},
   "outputs": [],
   "source": [
    "# Create  correation matrix\n",
    "df_train1_x_trans_corr_matrix= df_train1_x_trans.corr().abs()"
   ]
  },
  {
   "cell_type": "code",
   "execution_count": null,
   "metadata": {},
   "outputs": [],
   "source": [
    "# Select upper traingle of correlation matrix\n",
    "upper = df_train1_x_trans_corr_matrix.where(np.triu(np.ones(df_train1_x_trans_corr_matrix.shape), k=1).astype(np.bool))"
   ]
  },
  {
   "cell_type": "code",
   "execution_count": null,
   "metadata": {},
   "outputs": [],
   "source": [
    "upper"
   ]
  },
  {
   "cell_type": "code",
   "execution_count": null,
   "metadata": {},
   "outputs": [],
   "source": [
    "# Find features with correlation greater than 0.9\n",
    "correlated_columns = [column for column in upper.columns if any(upper[column]>0.9)]"
   ]
  },
  {
   "cell_type": "code",
   "execution_count": null,
   "metadata": {},
   "outputs": [],
   "source": [
    "sorted(correlated_columns)"
   ]
  },
  {
   "cell_type": "code",
   "execution_count": null,
   "metadata": {},
   "outputs": [],
   "source": [
    "# Drop Marked Features\n",
    "df_train1_x_trans.drop(columns=correlated_columns, inplace=True)\n",
    "df_test1_x_trans.drop(columns=correlated_columns, inplace=True)"
   ]
  },
  {
   "cell_type": "code",
   "execution_count": null,
   "metadata": {},
   "outputs": [],
   "source": [
    "df_train1_x_trans"
   ]
  },
  {
   "cell_type": "code",
   "execution_count": null,
   "metadata": {},
   "outputs": [],
   "source": [
    "df_test1_x_trans"
   ]
  },
  {
   "cell_type": "markdown",
   "metadata": {},
   "source": [
    "### Step 6 Add some new features"
   ]
  },
  {
   "cell_type": "code",
   "execution_count": null,
   "metadata": {},
   "outputs": [],
   "source": [
    "np.unique(df_train1_x_trans['Year_Sold'])"
   ]
  },
  {
   "cell_type": "markdown",
   "metadata": {},
   "source": [
    "### Build Models"
   ]
  },
  {
   "cell_type": "code",
   "execution_count": 13,
   "metadata": {},
   "outputs": [],
   "source": [
    "df_train1_y['Sale_Price'] =  df_train1_y['Sale_Price'].apply(lambda y: np.log(y))\n",
    "df_test1_y['Sale_Price'] =  df_test1_y['Sale_Price'].apply(lambda y: np.log(y))"
   ]
  },
  {
   "cell_type": "code",
   "execution_count": 14,
   "metadata": {},
   "outputs": [
    {
     "data": {
      "text/html": [
       "<div>\n",
       "<style scoped>\n",
       "    .dataframe tbody tr th:only-of-type {\n",
       "        vertical-align: middle;\n",
       "    }\n",
       "\n",
       "    .dataframe tbody tr th {\n",
       "        vertical-align: top;\n",
       "    }\n",
       "\n",
       "    .dataframe thead th {\n",
       "        text-align: right;\n",
       "    }\n",
       "</style>\n",
       "<table border=\"1\" class=\"dataframe\">\n",
       "  <thead>\n",
       "    <tr style=\"text-align: right;\">\n",
       "      <th></th>\n",
       "      <th>Sale_Price</th>\n",
       "    </tr>\n",
       "  </thead>\n",
       "  <tbody>\n",
       "    <tr>\n",
       "      <th>0</th>\n",
       "      <td>11.561716</td>\n",
       "    </tr>\n",
       "    <tr>\n",
       "      <th>1</th>\n",
       "      <td>12.055250</td>\n",
       "    </tr>\n",
       "    <tr>\n",
       "      <th>2</th>\n",
       "      <td>12.154253</td>\n",
       "    </tr>\n",
       "    <tr>\n",
       "      <th>3</th>\n",
       "      <td>12.183316</td>\n",
       "    </tr>\n",
       "    <tr>\n",
       "      <th>4</th>\n",
       "      <td>12.271392</td>\n",
       "    </tr>\n",
       "    <tr>\n",
       "      <th>...</th>\n",
       "      <td>...</td>\n",
       "    </tr>\n",
       "    <tr>\n",
       "      <th>2046</th>\n",
       "      <td>11.867097</td>\n",
       "    </tr>\n",
       "    <tr>\n",
       "      <th>2047</th>\n",
       "      <td>11.782953</td>\n",
       "    </tr>\n",
       "    <tr>\n",
       "      <th>2048</th>\n",
       "      <td>11.790557</td>\n",
       "    </tr>\n",
       "    <tr>\n",
       "      <th>2049</th>\n",
       "      <td>12.043554</td>\n",
       "    </tr>\n",
       "    <tr>\n",
       "      <th>2050</th>\n",
       "      <td>12.144197</td>\n",
       "    </tr>\n",
       "  </tbody>\n",
       "</table>\n",
       "<p>2051 rows × 1 columns</p>\n",
       "</div>"
      ],
      "text/plain": [
       "      Sale_Price\n",
       "0      11.561716\n",
       "1      12.055250\n",
       "2      12.154253\n",
       "3      12.183316\n",
       "4      12.271392\n",
       "...          ...\n",
       "2046   11.867097\n",
       "2047   11.782953\n",
       "2048   11.790557\n",
       "2049   12.043554\n",
       "2050   12.144197\n",
       "\n",
       "[2051 rows x 1 columns]"
      ]
     },
     "execution_count": 14,
     "metadata": {},
     "output_type": "execute_result"
    }
   ],
   "source": [
    "df_train1_y"
   ]
  },
  {
   "cell_type": "code",
   "execution_count": 15,
   "metadata": {},
   "outputs": [
    {
     "data": {
      "text/html": [
       "<div>\n",
       "<style scoped>\n",
       "    .dataframe tbody tr th:only-of-type {\n",
       "        vertical-align: middle;\n",
       "    }\n",
       "\n",
       "    .dataframe tbody tr th {\n",
       "        vertical-align: top;\n",
       "    }\n",
       "\n",
       "    .dataframe thead th {\n",
       "        text-align: right;\n",
       "    }\n",
       "</style>\n",
       "<table border=\"1\" class=\"dataframe\">\n",
       "  <thead>\n",
       "    <tr style=\"text-align: right;\">\n",
       "      <th></th>\n",
       "      <th>Sale_Price</th>\n",
       "    </tr>\n",
       "  </thead>\n",
       "  <tbody>\n",
       "    <tr>\n",
       "      <th>0</th>\n",
       "      <td>11.626254</td>\n",
       "    </tr>\n",
       "    <tr>\n",
       "      <th>1</th>\n",
       "      <td>11.911702</td>\n",
       "    </tr>\n",
       "    <tr>\n",
       "      <th>2</th>\n",
       "      <td>12.083905</td>\n",
       "    </tr>\n",
       "    <tr>\n",
       "      <th>3</th>\n",
       "      <td>11.982929</td>\n",
       "    </tr>\n",
       "    <tr>\n",
       "      <th>4</th>\n",
       "      <td>11.813030</td>\n",
       "    </tr>\n",
       "    <tr>\n",
       "      <th>...</th>\n",
       "      <td>...</td>\n",
       "    </tr>\n",
       "    <tr>\n",
       "      <th>874</th>\n",
       "      <td>12.190959</td>\n",
       "    </tr>\n",
       "    <tr>\n",
       "      <th>875</th>\n",
       "      <td>11.986049</td>\n",
       "    </tr>\n",
       "    <tr>\n",
       "      <th>876</th>\n",
       "      <td>12.676076</td>\n",
       "    </tr>\n",
       "    <tr>\n",
       "      <th>877</th>\n",
       "      <td>11.951180</td>\n",
       "    </tr>\n",
       "    <tr>\n",
       "      <th>878</th>\n",
       "      <td>12.007622</td>\n",
       "    </tr>\n",
       "  </tbody>\n",
       "</table>\n",
       "<p>879 rows × 1 columns</p>\n",
       "</div>"
      ],
      "text/plain": [
       "     Sale_Price\n",
       "0     11.626254\n",
       "1     11.911702\n",
       "2     12.083905\n",
       "3     11.982929\n",
       "4     11.813030\n",
       "..          ...\n",
       "874   12.190959\n",
       "875   11.986049\n",
       "876   12.676076\n",
       "877   11.951180\n",
       "878   12.007622\n",
       "\n",
       "[879 rows x 1 columns]"
      ]
     },
     "execution_count": 15,
     "metadata": {},
     "output_type": "execute_result"
    }
   ],
   "source": [
    "df_test1_y"
   ]
  },
  {
   "cell_type": "code",
   "execution_count": 16,
   "metadata": {},
   "outputs": [],
   "source": [
    "lasso = Lasso(fit_intercept=True, random_state=0, max_iter=10000)\n",
    "pipe = Pipeline(steps=[(\"scalar\",StandardScaler()), (\"lasso\", lasso)])\n",
    "alphas = np.logspace(-6, 0.1, 20)\n",
    "param_grid = {\"lasso__alpha\":alphas}\n",
    "n_folds = 5\n",
    "clf = GridSearchCV(pipe, param_grid, cv=n_folds, refit=False, scoring='neg_mean_squared_error')"
   ]
  },
  {
   "cell_type": "code",
   "execution_count": 17,
   "metadata": {},
   "outputs": [
    {
     "name": "stderr",
     "output_type": "stream",
     "text": [
      "/Users/richardxu/opt/anaconda3/envs/python39/lib/python3.9/site-packages/sklearn/linear_model/_coordinate_descent.py:628: ConvergenceWarning: Objective did not converge. You might want to increase the number of iterations, check the scale of the features or consider increasing regularisation. Duality gap: 1.036e+00, tolerance: 2.725e-02\n",
      "  model = cd_fast.enet_coordinate_descent(\n",
      "/Users/richardxu/opt/anaconda3/envs/python39/lib/python3.9/site-packages/sklearn/linear_model/_coordinate_descent.py:628: ConvergenceWarning: Objective did not converge. You might want to increase the number of iterations, check the scale of the features or consider increasing regularisation. Duality gap: 6.498e-01, tolerance: 2.898e-02\n",
      "  model = cd_fast.enet_coordinate_descent(\n",
      "/Users/richardxu/opt/anaconda3/envs/python39/lib/python3.9/site-packages/sklearn/linear_model/_coordinate_descent.py:628: ConvergenceWarning: Objective did not converge. You might want to increase the number of iterations, check the scale of the features or consider increasing regularisation. Duality gap: 7.653e-01, tolerance: 2.839e-02\n",
      "  model = cd_fast.enet_coordinate_descent(\n",
      "/Users/richardxu/opt/anaconda3/envs/python39/lib/python3.9/site-packages/sklearn/linear_model/_coordinate_descent.py:628: ConvergenceWarning: Objective did not converge. You might want to increase the number of iterations, check the scale of the features or consider increasing regularisation. Duality gap: 1.111e+00, tolerance: 2.908e-02\n",
      "  model = cd_fast.enet_coordinate_descent(\n",
      "/Users/richardxu/opt/anaconda3/envs/python39/lib/python3.9/site-packages/sklearn/linear_model/_coordinate_descent.py:628: ConvergenceWarning: Objective did not converge. You might want to increase the number of iterations, check the scale of the features or consider increasing regularisation. Duality gap: 1.197e+00, tolerance: 2.860e-02\n",
      "  model = cd_fast.enet_coordinate_descent(\n",
      "/Users/richardxu/opt/anaconda3/envs/python39/lib/python3.9/site-packages/sklearn/linear_model/_coordinate_descent.py:628: ConvergenceWarning: Objective did not converge. You might want to increase the number of iterations, check the scale of the features or consider increasing regularisation. Duality gap: 1.991e-01, tolerance: 2.725e-02\n",
      "  model = cd_fast.enet_coordinate_descent(\n",
      "/Users/richardxu/opt/anaconda3/envs/python39/lib/python3.9/site-packages/sklearn/linear_model/_coordinate_descent.py:628: ConvergenceWarning: Objective did not converge. You might want to increase the number of iterations, check the scale of the features or consider increasing regularisation. Duality gap: 6.077e-01, tolerance: 2.898e-02\n",
      "  model = cd_fast.enet_coordinate_descent(\n",
      "/Users/richardxu/opt/anaconda3/envs/python39/lib/python3.9/site-packages/sklearn/linear_model/_coordinate_descent.py:628: ConvergenceWarning: Objective did not converge. You might want to increase the number of iterations, check the scale of the features or consider increasing regularisation. Duality gap: 3.988e-01, tolerance: 2.839e-02\n",
      "  model = cd_fast.enet_coordinate_descent(\n",
      "/Users/richardxu/opt/anaconda3/envs/python39/lib/python3.9/site-packages/sklearn/linear_model/_coordinate_descent.py:628: ConvergenceWarning: Objective did not converge. You might want to increase the number of iterations, check the scale of the features or consider increasing regularisation. Duality gap: 1.112e+00, tolerance: 2.908e-02\n",
      "  model = cd_fast.enet_coordinate_descent(\n",
      "/Users/richardxu/opt/anaconda3/envs/python39/lib/python3.9/site-packages/sklearn/linear_model/_coordinate_descent.py:628: ConvergenceWarning: Objective did not converge. You might want to increase the number of iterations, check the scale of the features or consider increasing regularisation. Duality gap: 1.755e-01, tolerance: 2.860e-02\n",
      "  model = cd_fast.enet_coordinate_descent(\n",
      "/Users/richardxu/opt/anaconda3/envs/python39/lib/python3.9/site-packages/sklearn/linear_model/_coordinate_descent.py:628: ConvergenceWarning: Objective did not converge. You might want to increase the number of iterations, check the scale of the features or consider increasing regularisation. Duality gap: 4.319e-02, tolerance: 2.725e-02\n",
      "  model = cd_fast.enet_coordinate_descent(\n",
      "/Users/richardxu/opt/anaconda3/envs/python39/lib/python3.9/site-packages/sklearn/linear_model/_coordinate_descent.py:628: ConvergenceWarning: Objective did not converge. You might want to increase the number of iterations, check the scale of the features or consider increasing regularisation. Duality gap: 6.134e-01, tolerance: 2.898e-02\n",
      "  model = cd_fast.enet_coordinate_descent(\n",
      "/Users/richardxu/opt/anaconda3/envs/python39/lib/python3.9/site-packages/sklearn/linear_model/_coordinate_descent.py:628: ConvergenceWarning: Objective did not converge. You might want to increase the number of iterations, check the scale of the features or consider increasing regularisation. Duality gap: 5.995e-02, tolerance: 2.908e-02\n",
      "  model = cd_fast.enet_coordinate_descent(\n",
      "/Users/richardxu/opt/anaconda3/envs/python39/lib/python3.9/site-packages/sklearn/linear_model/_coordinate_descent.py:628: ConvergenceWarning: Objective did not converge. You might want to increase the number of iterations, check the scale of the features or consider increasing regularisation. Duality gap: 6.653e-02, tolerance: 2.860e-02\n",
      "  model = cd_fast.enet_coordinate_descent(\n",
      "/Users/richardxu/opt/anaconda3/envs/python39/lib/python3.9/site-packages/sklearn/linear_model/_coordinate_descent.py:628: ConvergenceWarning: Objective did not converge. You might want to increase the number of iterations, check the scale of the features or consider increasing regularisation. Duality gap: 6.688e-02, tolerance: 2.898e-02\n",
      "  model = cd_fast.enet_coordinate_descent(\n",
      "/Users/richardxu/opt/anaconda3/envs/python39/lib/python3.9/site-packages/sklearn/linear_model/_coordinate_descent.py:628: ConvergenceWarning: Objective did not converge. You might want to increase the number of iterations, check the scale of the features or consider increasing regularisation. Duality gap: 6.197e-02, tolerance: 2.908e-02\n",
      "  model = cd_fast.enet_coordinate_descent(\n"
     ]
    },
    {
     "data": {
      "text/html": [
       "<style>#sk-container-id-1 {color: black;}#sk-container-id-1 pre{padding: 0;}#sk-container-id-1 div.sk-toggleable {background-color: white;}#sk-container-id-1 label.sk-toggleable__label {cursor: pointer;display: block;width: 100%;margin-bottom: 0;padding: 0.3em;box-sizing: border-box;text-align: center;}#sk-container-id-1 label.sk-toggleable__label-arrow:before {content: \"▸\";float: left;margin-right: 0.25em;color: #696969;}#sk-container-id-1 label.sk-toggleable__label-arrow:hover:before {color: black;}#sk-container-id-1 div.sk-estimator:hover label.sk-toggleable__label-arrow:before {color: black;}#sk-container-id-1 div.sk-toggleable__content {max-height: 0;max-width: 0;overflow: hidden;text-align: left;background-color: #f0f8ff;}#sk-container-id-1 div.sk-toggleable__content pre {margin: 0.2em;color: black;border-radius: 0.25em;background-color: #f0f8ff;}#sk-container-id-1 input.sk-toggleable__control:checked~div.sk-toggleable__content {max-height: 200px;max-width: 100%;overflow: auto;}#sk-container-id-1 input.sk-toggleable__control:checked~label.sk-toggleable__label-arrow:before {content: \"▾\";}#sk-container-id-1 div.sk-estimator input.sk-toggleable__control:checked~label.sk-toggleable__label {background-color: #d4ebff;}#sk-container-id-1 div.sk-label input.sk-toggleable__control:checked~label.sk-toggleable__label {background-color: #d4ebff;}#sk-container-id-1 input.sk-hidden--visually {border: 0;clip: rect(1px 1px 1px 1px);clip: rect(1px, 1px, 1px, 1px);height: 1px;margin: -1px;overflow: hidden;padding: 0;position: absolute;width: 1px;}#sk-container-id-1 div.sk-estimator {font-family: monospace;background-color: #f0f8ff;border: 1px dotted black;border-radius: 0.25em;box-sizing: border-box;margin-bottom: 0.5em;}#sk-container-id-1 div.sk-estimator:hover {background-color: #d4ebff;}#sk-container-id-1 div.sk-parallel-item::after {content: \"\";width: 100%;border-bottom: 1px solid gray;flex-grow: 1;}#sk-container-id-1 div.sk-label:hover label.sk-toggleable__label {background-color: #d4ebff;}#sk-container-id-1 div.sk-serial::before {content: \"\";position: absolute;border-left: 1px solid gray;box-sizing: border-box;top: 0;bottom: 0;left: 50%;z-index: 0;}#sk-container-id-1 div.sk-serial {display: flex;flex-direction: column;align-items: center;background-color: white;padding-right: 0.2em;padding-left: 0.2em;position: relative;}#sk-container-id-1 div.sk-item {position: relative;z-index: 1;}#sk-container-id-1 div.sk-parallel {display: flex;align-items: stretch;justify-content: center;background-color: white;position: relative;}#sk-container-id-1 div.sk-item::before, #sk-container-id-1 div.sk-parallel-item::before {content: \"\";position: absolute;border-left: 1px solid gray;box-sizing: border-box;top: 0;bottom: 0;left: 50%;z-index: -1;}#sk-container-id-1 div.sk-parallel-item {display: flex;flex-direction: column;z-index: 1;position: relative;background-color: white;}#sk-container-id-1 div.sk-parallel-item:first-child::after {align-self: flex-end;width: 50%;}#sk-container-id-1 div.sk-parallel-item:last-child::after {align-self: flex-start;width: 50%;}#sk-container-id-1 div.sk-parallel-item:only-child::after {width: 0;}#sk-container-id-1 div.sk-dashed-wrapped {border: 1px dashed gray;margin: 0 0.4em 0.5em 0.4em;box-sizing: border-box;padding-bottom: 0.4em;background-color: white;}#sk-container-id-1 div.sk-label label {font-family: monospace;font-weight: bold;display: inline-block;line-height: 1.2em;}#sk-container-id-1 div.sk-label-container {text-align: center;}#sk-container-id-1 div.sk-container {/* jupyter's `normalize.less` sets `[hidden] { display: none; }` but bootstrap.min.css set `[hidden] { display: none !important; }` so we also need the `!important` here to be able to override the default hidden behavior on the sphinx rendered scikit-learn.org. See: https://github.com/scikit-learn/scikit-learn/issues/21755 */display: inline-block !important;position: relative;}#sk-container-id-1 div.sk-text-repr-fallback {display: none;}</style><div id=\"sk-container-id-1\" class=\"sk-top-container\"><div class=\"sk-text-repr-fallback\"><pre>GridSearchCV(cv=5,\n",
       "             estimator=Pipeline(steps=[(&#x27;scalar&#x27;, StandardScaler()),\n",
       "                                       (&#x27;lasso&#x27;,\n",
       "                                        Lasso(max_iter=10000,\n",
       "                                              random_state=0))]),\n",
       "             param_grid={&#x27;lasso__alpha&#x27;: array([1.00000000e-06, 2.09436625e-06, 4.38637001e-06, 9.18666532e-06,\n",
       "       1.92402418e-05, 4.02961132e-05, 8.43948197e-05, 1.76753662e-04,\n",
       "       3.70186906e-04, 7.75306963e-04, 1.62377674e-03, 3.40078321e-03,\n",
       "       7.12248558e-03, 1.49170935e-02, 3.12418571e-02, 6.54318913e-02,\n",
       "       1.37038345e-01, 2.87008485e-01, 6.01100886e-01, 1.25892541e+00])},\n",
       "             refit=False, scoring=&#x27;neg_mean_squared_error&#x27;)</pre><b>In a Jupyter environment, please rerun this cell to show the HTML representation or trust the notebook. <br />On GitHub, the HTML representation is unable to render, please try loading this page with nbviewer.org.</b></div><div class=\"sk-container\" hidden><div class=\"sk-item sk-dashed-wrapped\"><div class=\"sk-label-container\"><div class=\"sk-label sk-toggleable\"><input class=\"sk-toggleable__control sk-hidden--visually\" id=\"sk-estimator-id-1\" type=\"checkbox\" ><label for=\"sk-estimator-id-1\" class=\"sk-toggleable__label sk-toggleable__label-arrow\">GridSearchCV</label><div class=\"sk-toggleable__content\"><pre>GridSearchCV(cv=5,\n",
       "             estimator=Pipeline(steps=[(&#x27;scalar&#x27;, StandardScaler()),\n",
       "                                       (&#x27;lasso&#x27;,\n",
       "                                        Lasso(max_iter=10000,\n",
       "                                              random_state=0))]),\n",
       "             param_grid={&#x27;lasso__alpha&#x27;: array([1.00000000e-06, 2.09436625e-06, 4.38637001e-06, 9.18666532e-06,\n",
       "       1.92402418e-05, 4.02961132e-05, 8.43948197e-05, 1.76753662e-04,\n",
       "       3.70186906e-04, 7.75306963e-04, 1.62377674e-03, 3.40078321e-03,\n",
       "       7.12248558e-03, 1.49170935e-02, 3.12418571e-02, 6.54318913e-02,\n",
       "       1.37038345e-01, 2.87008485e-01, 6.01100886e-01, 1.25892541e+00])},\n",
       "             refit=False, scoring=&#x27;neg_mean_squared_error&#x27;)</pre></div></div></div><div class=\"sk-parallel\"><div class=\"sk-parallel-item\"><div class=\"sk-item\"><div class=\"sk-label-container\"><div class=\"sk-label sk-toggleable\"><input class=\"sk-toggleable__control sk-hidden--visually\" id=\"sk-estimator-id-2\" type=\"checkbox\" ><label for=\"sk-estimator-id-2\" class=\"sk-toggleable__label sk-toggleable__label-arrow\">estimator: Pipeline</label><div class=\"sk-toggleable__content\"><pre>Pipeline(steps=[(&#x27;scalar&#x27;, StandardScaler()),\n",
       "                (&#x27;lasso&#x27;, Lasso(max_iter=10000, random_state=0))])</pre></div></div></div><div class=\"sk-serial\"><div class=\"sk-item\"><div class=\"sk-serial\"><div class=\"sk-item\"><div class=\"sk-estimator sk-toggleable\"><input class=\"sk-toggleable__control sk-hidden--visually\" id=\"sk-estimator-id-3\" type=\"checkbox\" ><label for=\"sk-estimator-id-3\" class=\"sk-toggleable__label sk-toggleable__label-arrow\">StandardScaler</label><div class=\"sk-toggleable__content\"><pre>StandardScaler()</pre></div></div></div><div class=\"sk-item\"><div class=\"sk-estimator sk-toggleable\"><input class=\"sk-toggleable__control sk-hidden--visually\" id=\"sk-estimator-id-4\" type=\"checkbox\" ><label for=\"sk-estimator-id-4\" class=\"sk-toggleable__label sk-toggleable__label-arrow\">Lasso</label><div class=\"sk-toggleable__content\"><pre>Lasso(max_iter=10000, random_state=0)</pre></div></div></div></div></div></div></div></div></div></div></div></div>"
      ],
      "text/plain": [
       "GridSearchCV(cv=5,\n",
       "             estimator=Pipeline(steps=[('scalar', StandardScaler()),\n",
       "                                       ('lasso',\n",
       "                                        Lasso(max_iter=10000,\n",
       "                                              random_state=0))]),\n",
       "             param_grid={'lasso__alpha': array([1.00000000e-06, 2.09436625e-06, 4.38637001e-06, 9.18666532e-06,\n",
       "       1.92402418e-05, 4.02961132e-05, 8.43948197e-05, 1.76753662e-04,\n",
       "       3.70186906e-04, 7.75306963e-04, 1.62377674e-03, 3.40078321e-03,\n",
       "       7.12248558e-03, 1.49170935e-02, 3.12418571e-02, 6.54318913e-02,\n",
       "       1.37038345e-01, 2.87008485e-01, 6.01100886e-01, 1.25892541e+00])},\n",
       "             refit=False, scoring='neg_mean_squared_error')"
      ]
     },
     "execution_count": 17,
     "metadata": {},
     "output_type": "execute_result"
    }
   ],
   "source": [
    "clf.fit(df_train1_x_trans , df_train1_y)\n"
   ]
  },
  {
   "cell_type": "code",
   "execution_count": 18,
   "metadata": {},
   "outputs": [
    {
     "name": "stdout",
     "output_type": "stream",
     "text": [
      "0.0034007832065426507\n"
     ]
    }
   ],
   "source": [
    "best_alpha = clf.best_params_['lasso__alpha']\n",
    "print(best_alpha)"
   ]
  },
  {
   "cell_type": "code",
   "execution_count": 19,
   "metadata": {},
   "outputs": [
    {
     "data": {
      "text/html": [
       "<style>#sk-container-id-2 {color: black;}#sk-container-id-2 pre{padding: 0;}#sk-container-id-2 div.sk-toggleable {background-color: white;}#sk-container-id-2 label.sk-toggleable__label {cursor: pointer;display: block;width: 100%;margin-bottom: 0;padding: 0.3em;box-sizing: border-box;text-align: center;}#sk-container-id-2 label.sk-toggleable__label-arrow:before {content: \"▸\";float: left;margin-right: 0.25em;color: #696969;}#sk-container-id-2 label.sk-toggleable__label-arrow:hover:before {color: black;}#sk-container-id-2 div.sk-estimator:hover label.sk-toggleable__label-arrow:before {color: black;}#sk-container-id-2 div.sk-toggleable__content {max-height: 0;max-width: 0;overflow: hidden;text-align: left;background-color: #f0f8ff;}#sk-container-id-2 div.sk-toggleable__content pre {margin: 0.2em;color: black;border-radius: 0.25em;background-color: #f0f8ff;}#sk-container-id-2 input.sk-toggleable__control:checked~div.sk-toggleable__content {max-height: 200px;max-width: 100%;overflow: auto;}#sk-container-id-2 input.sk-toggleable__control:checked~label.sk-toggleable__label-arrow:before {content: \"▾\";}#sk-container-id-2 div.sk-estimator input.sk-toggleable__control:checked~label.sk-toggleable__label {background-color: #d4ebff;}#sk-container-id-2 div.sk-label input.sk-toggleable__control:checked~label.sk-toggleable__label {background-color: #d4ebff;}#sk-container-id-2 input.sk-hidden--visually {border: 0;clip: rect(1px 1px 1px 1px);clip: rect(1px, 1px, 1px, 1px);height: 1px;margin: -1px;overflow: hidden;padding: 0;position: absolute;width: 1px;}#sk-container-id-2 div.sk-estimator {font-family: monospace;background-color: #f0f8ff;border: 1px dotted black;border-radius: 0.25em;box-sizing: border-box;margin-bottom: 0.5em;}#sk-container-id-2 div.sk-estimator:hover {background-color: #d4ebff;}#sk-container-id-2 div.sk-parallel-item::after {content: \"\";width: 100%;border-bottom: 1px solid gray;flex-grow: 1;}#sk-container-id-2 div.sk-label:hover label.sk-toggleable__label {background-color: #d4ebff;}#sk-container-id-2 div.sk-serial::before {content: \"\";position: absolute;border-left: 1px solid gray;box-sizing: border-box;top: 0;bottom: 0;left: 50%;z-index: 0;}#sk-container-id-2 div.sk-serial {display: flex;flex-direction: column;align-items: center;background-color: white;padding-right: 0.2em;padding-left: 0.2em;position: relative;}#sk-container-id-2 div.sk-item {position: relative;z-index: 1;}#sk-container-id-2 div.sk-parallel {display: flex;align-items: stretch;justify-content: center;background-color: white;position: relative;}#sk-container-id-2 div.sk-item::before, #sk-container-id-2 div.sk-parallel-item::before {content: \"\";position: absolute;border-left: 1px solid gray;box-sizing: border-box;top: 0;bottom: 0;left: 50%;z-index: -1;}#sk-container-id-2 div.sk-parallel-item {display: flex;flex-direction: column;z-index: 1;position: relative;background-color: white;}#sk-container-id-2 div.sk-parallel-item:first-child::after {align-self: flex-end;width: 50%;}#sk-container-id-2 div.sk-parallel-item:last-child::after {align-self: flex-start;width: 50%;}#sk-container-id-2 div.sk-parallel-item:only-child::after {width: 0;}#sk-container-id-2 div.sk-dashed-wrapped {border: 1px dashed gray;margin: 0 0.4em 0.5em 0.4em;box-sizing: border-box;padding-bottom: 0.4em;background-color: white;}#sk-container-id-2 div.sk-label label {font-family: monospace;font-weight: bold;display: inline-block;line-height: 1.2em;}#sk-container-id-2 div.sk-label-container {text-align: center;}#sk-container-id-2 div.sk-container {/* jupyter's `normalize.less` sets `[hidden] { display: none; }` but bootstrap.min.css set `[hidden] { display: none !important; }` so we also need the `!important` here to be able to override the default hidden behavior on the sphinx rendered scikit-learn.org. See: https://github.com/scikit-learn/scikit-learn/issues/21755 */display: inline-block !important;position: relative;}#sk-container-id-2 div.sk-text-repr-fallback {display: none;}</style><div id=\"sk-container-id-2\" class=\"sk-top-container\"><div class=\"sk-text-repr-fallback\"><pre>Lasso(alpha=5e-05, max_iter=100000)</pre><b>In a Jupyter environment, please rerun this cell to show the HTML representation or trust the notebook. <br />On GitHub, the HTML representation is unable to render, please try loading this page with nbviewer.org.</b></div><div class=\"sk-container\" hidden><div class=\"sk-item\"><div class=\"sk-estimator sk-toggleable\"><input class=\"sk-toggleable__control sk-hidden--visually\" id=\"sk-estimator-id-5\" type=\"checkbox\" checked><label for=\"sk-estimator-id-5\" class=\"sk-toggleable__label sk-toggleable__label-arrow\">Lasso</label><div class=\"sk-toggleable__content\"><pre>Lasso(alpha=5e-05, max_iter=100000)</pre></div></div></div></div></div>"
      ],
      "text/plain": [
       "Lasso(alpha=5e-05, max_iter=100000)"
      ]
     },
     "execution_count": 19,
     "metadata": {},
     "output_type": "execute_result"
    }
   ],
   "source": [
    "model = Lasso(fit_intercept=True, alpha = 0.00005,max_iter=100000)\n",
    "model.fit(df_train1_x_trans , df_train1_y)"
   ]
  },
  {
   "cell_type": "code",
   "execution_count": 21,
   "metadata": {},
   "outputs": [
    {
     "data": {
      "text/plain": [
       "array([11.20060558, 11.97145233, 12.1155181 , 11.91310677, 11.87038029,\n",
       "       11.77011617, 11.78746753, 12.1496726 , 11.52945881, 12.71326895,\n",
       "       11.88600259, 11.88831806, 12.73295174, 12.00971531, 12.27044649,\n",
       "       11.84288762, 12.15970806, 11.59642849, 11.84922715, 11.82251274,\n",
       "       12.51935472, 12.04234172, 12.21349105, 11.93713728, 11.29445182,\n",
       "       11.27055291, 11.97948539, 11.81272682, 11.72916911, 12.33559712,\n",
       "       11.4192188 , 11.73849904, 12.83831491, 12.2465275 , 11.83237188,\n",
       "       11.88623488, 12.30578894, 11.72999457, 11.56525176, 12.47015159,\n",
       "       12.01107129, 12.57265474, 12.52070866, 12.74324212, 12.19535479,\n",
       "       11.52117595, 12.15368435, 11.77717418, 11.99542592, 11.58713311,\n",
       "       12.12354834, 12.07006706, 11.44106587, 11.33103628, 12.98668476,\n",
       "       12.31313207, 12.1784252 , 11.96268182, 12.20060585, 12.01920178,\n",
       "       11.81625517, 12.25374687, 12.34983316, 11.78736109, 11.68352691,\n",
       "       12.11516241, 11.48885126, 12.22873086, 11.74451328, 11.80595603,\n",
       "       12.41405737, 12.36444119, 12.87343141, 12.15302386, 11.98817221,\n",
       "       12.33489323, 12.57345347, 11.96372653, 12.89357545, 11.91533735,\n",
       "       11.72267371, 12.85852297, 11.80421402, 12.37766704, 12.16431491,\n",
       "       11.86857737, 11.82537228, 11.39288567, 11.82202007, 11.40538999,\n",
       "       11.28430382, 11.71171928, 12.29825719, 11.78164481, 12.6288169 ,\n",
       "       12.71902132, 12.25359748, 11.87631491, 11.77464524, 11.07779519,\n",
       "       11.83825136, 12.67392006, 11.96785013, 12.31139381, 12.67763249,\n",
       "       11.86575073, 11.84973712, 11.7949067 , 11.88601576, 11.94153258,\n",
       "       11.73557957, 12.59644757, 12.59592164, 12.15255929, 11.97888031,\n",
       "       11.96852388, 11.84340078, 11.33945414, 12.43990575, 11.4898776 ,\n",
       "       12.5505076 , 12.5739929 , 11.60355875, 12.29878604, 12.10086475,\n",
       "       12.20851507, 12.21014654, 11.64199512, 11.69800644, 11.54224741,\n",
       "       12.17435334, 12.70231506, 12.13882139, 12.0887392 , 12.11467523,\n",
       "       12.25474326, 11.64045666, 11.91287353, 11.79200979, 12.16184935,\n",
       "       11.77100405, 11.48681   , 11.62479832, 11.77577006, 11.67550909,\n",
       "       11.27428375, 11.43704097, 11.93600656, 12.14230062, 11.31297785,\n",
       "       11.71260528, 12.39741127, 12.36463105, 12.29418616, 11.71586377,\n",
       "       12.16174331, 12.70737154, 11.54775958, 12.02134417, 12.44399927,\n",
       "       12.10463512, 12.49685154, 11.81711942, 12.2833696 , 12.37295532,\n",
       "       12.59617743, 12.16433281, 11.49368831, 12.18345196, 11.63974413,\n",
       "       11.64728756, 11.80369737, 12.16003535, 11.67163191, 11.97069744,\n",
       "       11.1206622 , 11.61512964, 12.45705375, 12.12597901, 11.66238145,\n",
       "       11.69046875, 11.4543186 , 11.77735081, 12.67070011, 12.57341507,\n",
       "       12.01893617, 11.9049033 , 12.76101179, 12.60282776, 11.81607339,\n",
       "       12.16444104, 11.81150727, 11.70961318, 12.18391196, 11.88142538,\n",
       "       12.68182548, 11.41187901, 12.68614138, 11.24159274, 12.39419043,\n",
       "       12.21338316, 12.10231084, 11.72747191, 12.23412744, 12.29293395,\n",
       "       12.93563932, 14.57276715, 12.09822882, 11.81804245, 12.18543599,\n",
       "       12.02851303,  9.92681815, 11.93029063, 12.26412403, 12.19992477,\n",
       "       12.19325974, 12.21777595, 11.76967972, 12.03359106, 11.98503842,\n",
       "       12.54767139, 12.25331378, 11.98527909, 11.69914218, 11.71302911,\n",
       "       12.5707473 , 11.17836214, 12.07542841, 12.4622259 , 12.54599497,\n",
       "       11.65375388, 12.22511661, 11.87006259, 12.14981682, 12.21057001,\n",
       "       11.54024944, 11.82462943, 11.83879348, 11.79314647, 11.99714839,\n",
       "       12.01221921, 11.65019776, 12.45378555, 11.92447261, 11.90289865,\n",
       "       11.95909337, 12.57499219, 12.15277453, 11.69310417, 11.99888035,\n",
       "       11.81244924, 11.91841843, 11.41541194, 12.24741842, 12.49807888,\n",
       "       12.2415704 , 11.80139177, 11.88379769, 12.17722807, 12.40520098,\n",
       "       11.84374055, 12.12610149, 12.47506941, 12.33128827, 11.829016  ,\n",
       "       12.49813107, 11.72469979, 12.45046644, 12.08109326, 11.81085061,\n",
       "       11.74763055, 11.68170531, 12.44944657, 11.31637713, 12.23327107,\n",
       "       11.63815088, 11.33617735, 12.17271776, 12.37335664, 11.72238917,\n",
       "       11.83102806, 11.77350986, 12.23351823, 12.12322367, 12.06854221,\n",
       "       12.74216297, 11.88807871, 12.07433813, 12.9729525 , 11.96649867,\n",
       "       12.47125719, 11.9994068 , 12.27062292, 12.61925355, 11.60326664,\n",
       "       11.87592   , 12.1355638 , 11.81216767, 12.32461795, 12.47066552,\n",
       "       11.7503607 , 12.17983277, 12.64820013, 12.37101592, 11.57675511,\n",
       "       11.47165543, 11.77535453, 12.24100465, 13.58604189, 11.6750422 ,\n",
       "       12.40503115, 11.72256605, 11.85403994, 11.41174449, 11.57077721,\n",
       "       12.48782703, 12.16076961, 11.73878888, 11.68180746, 11.59382158,\n",
       "       12.71471907, 11.73451262, 11.53598922, 11.73637294, 12.32476485,\n",
       "       11.66082429, 11.86837317, 11.7105741 , 11.53504419, 11.60327787,\n",
       "       11.9164641 , 12.21799847, 11.51504911, 12.15343925, 11.90689481,\n",
       "       11.43468293, 11.68099935, 11.94743847, 12.50008714, 11.81991612,\n",
       "       11.70581343, 11.97102676, 11.37871757, 10.87621358, 12.68027926,\n",
       "       12.74671253, 12.50793417, 12.05150081, 11.80222899, 11.7326219 ,\n",
       "       12.12657739, 12.66988953, 12.18140955, 12.45139305, 11.97847872,\n",
       "       12.15541227, 12.12840178, 11.86208933, 12.00123387, 11.8194775 ,\n",
       "       11.92745164, 11.80911178, 12.17222981, 11.97428153, 12.33641042,\n",
       "       12.08949294, 11.80855112, 12.11838439, 11.92951529, 12.19578028,\n",
       "       11.51681245, 11.94356682, 12.24032642, 11.8043808 , 11.79386849,\n",
       "       12.44274122, 11.95262684, 12.04316555, 11.91841105, 11.70712099,\n",
       "       11.4758287 , 11.38273305, 11.88215911, 12.46040474, 11.30890864,\n",
       "       11.40317806, 12.11784139, 12.41309159, 12.19266102, 12.03251169,\n",
       "       12.25308583, 11.89479298, 11.96108459, 12.16305058, 11.97408505,\n",
       "       12.04171853, 12.37125307, 11.86791632, 11.88500649, 11.77062884,\n",
       "       12.20934944, 11.77370274, 11.41948032, 12.83920216, 11.31644218,\n",
       "       11.79190883, 11.94884411, 11.9367112 , 12.28200357, 12.2968489 ,\n",
       "       12.35541439, 12.04964587, 11.86713236, 13.19421944, 12.0622599 ,\n",
       "       12.19316377, 12.57917682, 12.49057231, 12.39356147, 11.61236946,\n",
       "       11.86371248, 11.66552346, 12.43095014, 12.6909929 , 11.85247274,\n",
       "       11.75032694, 12.72044253, 11.89577472, 12.59387144, 12.40232236,\n",
       "       11.91318168, 12.31285115, 11.94516992, 11.53502172, 11.88568621,\n",
       "       12.07619483, 12.08935843, 11.84362083, 11.35255136, 12.07585395,\n",
       "       12.51430548, 11.82178734, 11.94870434, 12.09885719, 11.8858966 ,\n",
       "       12.11694313, 12.11038802, 11.85916194, 12.89534286, 11.69934424,\n",
       "       11.55614639, 11.10121128, 12.52259875, 11.76384084, 11.31461723,\n",
       "       11.68695107, 11.85979747, 12.11298581, 11.72358633, 12.56799308,\n",
       "       11.93085953, 11.59201836, 12.4546837 , 12.64761574, 11.12345958,\n",
       "       12.13726225, 12.06955538, 12.4270811 , 11.79167495, 12.20760564,\n",
       "       11.52341684, 11.48424401, 11.95112229, 11.78834211, 11.73705421,\n",
       "       12.67409638, 12.06236215, 12.17794599, 11.79197956, 12.41011957,\n",
       "       11.9512821 , 12.36243244, 12.22531905, 11.75066402, 11.83669379,\n",
       "       11.92969686, 11.69130968, 12.5265233 , 11.13223572, 11.51391702,\n",
       "       12.1755062 , 12.06365658, 11.6399933 , 12.31355554, 11.85704753,\n",
       "       11.76698721, 11.64630936, 12.15676892, 12.1264359 , 11.38016975,\n",
       "       11.85093041, 12.59494865, 10.56177176, 11.99761369, 11.9612716 ,\n",
       "       12.80322348, 11.7656082 , 12.39061515, 12.20869336, 12.50567792,\n",
       "       12.22406783, 10.79987748, 13.07852691, 12.38079997, 12.43265775,\n",
       "       12.36032077, 11.97499421, 12.47472463, 11.27897463, 13.12624794,\n",
       "       12.07778777, 12.48026372, 12.04699941, 12.13382702, 12.22489901,\n",
       "       11.66073512, 11.94269147, 11.938424  , 11.35171299, 12.01187224,\n",
       "       12.23912466, 11.79973582, 11.72552298, 11.79852706, 12.22243718,\n",
       "       11.80861969, 12.75745539, 12.13518969, 12.30022579, 12.25390397,\n",
       "       12.3250438 , 12.453277  , 12.62836832, 12.30346856, 12.30835075,\n",
       "       11.79183109, 11.971333  , 11.64425006, 12.27348982, 11.69453202,\n",
       "       12.19730016, 12.45624424, 11.46572709, 12.43380915, 11.73564939,\n",
       "       12.400239  , 12.93635483, 11.73921949, 12.14096348, 11.85196576,\n",
       "       11.9921997 , 11.91418482, 11.65919436, 11.54794396, 11.85811545,\n",
       "       11.88009541, 12.45049753, 11.90038832, 12.16050794, 12.19610502,\n",
       "       11.92120992, 11.65222015, 12.20085425, 12.087031  , 12.30665805,\n",
       "       12.45428609, 12.37761437, 12.08698218, 11.84652509, 12.10477148,\n",
       "       11.82595299, 11.79172706, 12.40731839, 11.93677383, 12.18263311,\n",
       "       12.11464842, 11.99667366, 11.94908745, 12.28390737, 12.60539022,\n",
       "       12.50849595, 12.97873105, 12.14656852, 12.19141287, 12.67015012,\n",
       "       12.05499888, 12.79665704, 10.48437736, 11.691906  , 12.32682896,\n",
       "       12.36223591, 11.75646029, 12.07520495, 11.56940136, 12.1578956 ,\n",
       "       12.18597976, 11.16194632, 12.00234898, 11.53151713, 12.10349125,\n",
       "       12.24994451, 11.76329649, 11.63455361, 11.85204507, 15.03180075,\n",
       "       12.12469282, 12.34258016, 12.56406175, 11.70871207, 11.74859245,\n",
       "       12.1029777 , 12.40279535, 12.06183313, 12.44532143, 11.86265536,\n",
       "       11.95156649, 12.92858841, 11.75496903, 11.54367359, 12.13622179,\n",
       "       12.34178233, 11.99790747, 12.308135  , 12.98900402, 11.68186075,\n",
       "       11.75270887, 11.76042419, 12.97077403, 12.28502662, 11.9838584 ,\n",
       "       12.85643477, 11.7641171 , 12.28089962, 12.39112011, 11.75284533,\n",
       "       12.63353124, 11.969594  , 11.4919241 , 11.6455712 , 11.83630551,\n",
       "       12.25490947, 12.21814787, 11.65722568, 11.82941288, 12.34426933,\n",
       "       12.01796311, 13.21485009, 12.01526183, 12.80642066, 12.42992524,\n",
       "       11.91927805, 12.0743924 , 11.86171245, 12.35272198, 12.26142275,\n",
       "       12.16988524, 11.75065629, 12.17488867, 11.13345496, 11.84687333,\n",
       "       12.82398   , 12.54068551, 11.69839025, 13.03924433, 11.99117239,\n",
       "       12.28365192, 11.65521885, 11.52412504, 12.30898906, 12.17466047,\n",
       "       12.22023483, 12.21799787, 12.25861093, 12.71414151, 12.17028223,\n",
       "       11.91934512, 11.76904527, 12.15958373, 11.40830568, 11.62751636,\n",
       "       12.14604491, 12.36567106, 12.37798169, 12.02697342, 11.98010532,\n",
       "       12.22937724, 11.49993714, 11.96704033, 12.19013685, 12.01419555,\n",
       "       11.66651738, 11.5325115 , 11.45433564, 12.54366678, 12.77504347,\n",
       "       12.37023101, 11.87798486, 12.15756488, 11.89094651, 11.4918702 ,\n",
       "       11.66230063, 13.29338133, 11.66376846, 12.12738482, 12.17645573,\n",
       "       12.3661717 , 12.81630081, 13.05307875, 12.40641631, 11.89569126,\n",
       "       11.68548534, 12.17232789, 11.57879228, 11.416034  , 12.68878775,\n",
       "       12.20594848, 11.79135264, 12.12452335, 11.62763918, 12.41414988,\n",
       "       12.03002244, 12.04872046, 12.25412792, 11.63458177, 12.20203097,\n",
       "       11.81885049, 12.20437344, 12.68535548, 12.01191574, 12.33535176,\n",
       "       11.891072  , 12.26877964, 12.10365928, 11.89143142, 12.3010094 ,\n",
       "       11.92250594, 12.77288368, 11.27502888, 12.50536704, 12.23160341,\n",
       "       12.80824252, 11.69800646, 12.23343649, 12.03685893, 12.31577777,\n",
       "       12.08592741, 11.72700624, 11.79320884, 11.67135859, 12.75862738,\n",
       "       11.86194318, 11.63563148, 12.17601688, 12.21184471, 12.35506554,\n",
       "       12.40079619, 12.27468314, 12.09175711, 12.14917466, 12.04683496,\n",
       "       12.48598994, 11.63736905, 11.64545003, 11.88245345, 12.00378304,\n",
       "       12.16837191, 12.07506593, 11.51234508, 11.95317578, 11.79274474,\n",
       "       11.89134043, 12.04619784, 11.78440702, 11.82169967, 11.68571319,\n",
       "       12.5268733 , 12.01781458, 12.09570533, 11.9745322 , 11.5875526 ,\n",
       "       12.302381  , 11.99328341, 12.56915059, 11.62403058, 11.46872698,\n",
       "       12.22012151, 12.13950758, 11.91847371, 12.23621779, 12.29725626,\n",
       "       11.56108551, 12.02643212, 12.54640606, 12.32677163, 11.99678826,\n",
       "       11.91300425, 12.00931738, 12.45325168, 11.81525103, 12.46394658,\n",
       "       11.82728273, 11.87856818, 13.29459756, 12.10028936, 11.88756418,\n",
       "       11.51745062, 12.51638066, 13.15534492, 11.86794594, 12.05963061,\n",
       "       11.96276102, 11.82375795, 12.01447297, 11.76511093, 12.32850362,\n",
       "       12.07105844, 11.86796754, 12.06377524, 12.70746381, 11.47299173,\n",
       "       11.67646456, 11.90925009, 11.82159192, 12.25944373, 13.10306622,\n",
       "       11.87777283, 11.99705355, 12.58684053, 12.73238295, 12.26454895,\n",
       "       11.68926428, 12.03798102, 12.21782985, 12.03394754, 11.44449626,\n",
       "       11.59890824, 12.08800898, 11.82335613, 11.99481658, 11.88039184,\n",
       "       12.46627206, 11.84408824, 11.99079402, 12.29623134, 11.84279625,\n",
       "       12.14662621, 11.84664337, 11.69951501, 12.0800061 , 12.22922654,\n",
       "       11.78516028, 11.9236726 , 12.17923793, 12.04948308, 12.10405861,\n",
       "       12.30684931, 12.12068444, 11.77091133, 11.7534285 , 12.525427  ,\n",
       "       12.20511085, 12.25258288, 12.25592715, 12.22299502, 12.09016454,\n",
       "       11.95367936, 12.682892  , 12.03913401, 12.28542125])"
      ]
     },
     "execution_count": 21,
     "metadata": {},
     "output_type": "execute_result"
    }
   ],
   "source": [
    "test1_predict = model.predict(df_test1_x_trans)\n",
    "test1_predict"
   ]
  },
  {
   "cell_type": "code",
   "execution_count": 22,
   "metadata": {},
   "outputs": [
    {
     "data": {
      "text/plain": [
       "252527.5611132153"
      ]
     },
     "execution_count": 22,
     "metadata": {},
     "output_type": "execute_result"
    }
   ],
   "source": [
    "np.sum((test1_predict - df_test1_y.values)**2)"
   ]
  },
  {
   "cell_type": "code",
   "execution_count": null,
   "metadata": {},
   "outputs": [],
   "source": [
    "mse = np.mean((test1_predict - df_test1_y.values)**2)"
   ]
  },
  {
   "cell_type": "code",
   "execution_count": null,
   "metadata": {},
   "outputs": [],
   "source": [
    "mse"
   ]
  },
  {
   "cell_type": "code",
   "execution_count": null,
   "metadata": {},
   "outputs": [],
   "source": [
    "train_1_predict = model.predict(df_train1_x_trans)"
   ]
  },
  {
   "cell_type": "code",
   "execution_count": null,
   "metadata": {},
   "outputs": [],
   "source": [
    "mse_train = np.mean((train_1_predict - df_train1_y.values)**2)"
   ]
  },
  {
   "cell_type": "code",
   "execution_count": null,
   "metadata": {},
   "outputs": [],
   "source": [
    "mse_train"
   ]
  },
  {
   "cell_type": "code",
   "execution_count": null,
   "metadata": {},
   "outputs": [],
   "source": []
  }
 ],
 "metadata": {
  "kernelspec": {
   "display_name": "python39",
   "language": "python",
   "name": "python3"
  },
  "language_info": {
   "codemirror_mode": {
    "name": "ipython",
    "version": 3
   },
   "file_extension": ".py",
   "mimetype": "text/x-python",
   "name": "python",
   "nbconvert_exporter": "python",
   "pygments_lexer": "ipython3",
   "version": "3.9.12"
  },
  "orig_nbformat": 4
 },
 "nbformat": 4,
 "nbformat_minor": 2
}
