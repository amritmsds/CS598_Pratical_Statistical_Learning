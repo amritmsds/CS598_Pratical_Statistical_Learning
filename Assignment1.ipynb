{
 "cells": [
  {
   "attachments": {},
   "cell_type": "markdown",
   "metadata": {},
   "source": [
    "### This assignment is related to the simulation study described in Section 2.3.1 (the so-called Scenario 2 or Example 2) of “Elements of Statistical Learning” (ESL).\n",
    "\n",
    "**Scenario 2**: the two-dimensional data $X \\in R^2$ in each class are generated from a mixture of 10 different bivariate Gaussian distributions with uncorrelated components and different means, i.e.,\n",
    "$$\n",
    "    X | Y = k, Z = j \\sim N(m_{kj}, s^2I_2)\n",
    "$$,\n",
    "where $k=0$ or $1$, and $j = 1, 2, ..., 10$.\n",
    "Set\n",
    "$$\n",
    "    P(Y = k) = 1/2, P(Z = j) = 1/10, s^2 = 1/5\n",
    "$$.\n",
    "In other words, given $Y = k, X$ follows a mixture distribution with probability density function (PDF),\n",
    "$$\n",
    "    \\frac{1}{10} \\sum_{j=1}^{10} (\\frac{1}{\\sqrt{2 \\pi s^2}})^2 e^{-\\frac{\\parallel x - m_{kj}\\parallel^2}{2 s^2}}\n",
    "$$\n"
   ]
  },
  {
   "attachments": {},
   "cell_type": "markdown",
   "metadata": {},
   "source": [
    "## Part 1: Generate Data\n",
    "1. First generate the 20 centers from two-dimensional normal. You can use any mean and covariance structure. **You should not regenerate the centers. Use these 20 centers throughout this simulation study.**\n",
    "\n",
    "2. Given the 20 centers, generate a training sample of size 200 (100 from each class) and a test sample of size 10,000 (5,000 from each class).\n",
    "\n",
    "3. Produce a **scatter plot** of the training data:\n",
    "\n",
    "assign different colors to the two classes of data points;\n",
    "overlay the 20 centers on this scatter plot, using a distinguishing marker (e.g., a star or a different shape) and color them according to their respective class."
   ]
  },
  {
   "cell_type": "code",
   "execution_count": 56,
   "metadata": {},
   "outputs": [],
   "source": [
    "import numpy as np\n",
    "import plotly.graph_objects as go\n",
    "import scipy\n",
    "from sklearn.neighbors import KNeighborsClassifier\n",
    "from sklearn.metrics import confusion_matrix"
   ]
  },
  {
   "cell_type": "code",
   "execution_count": 57,
   "metadata": {},
   "outputs": [
    {
     "data": {
      "application/vnd.plotly.v1+json": {
       "config": {
        "plotlyServerURL": "https://plot.ly"
       },
       "data": [
        {
         "marker": {
          "color": "blue",
          "symbol": "circle-open"
         },
         "mode": "markers",
         "name": "class 0",
         "type": "scatter",
         "x": [
          -0.27722449422189743,
          -0.1752933479720517,
          0.4047810042355896,
          -1.2082301353986988,
          -0.18257985514125286,
          0.8069909266574262,
          -0.7012547073625558,
          0.6094149028934277,
          1.2046925809959408,
          1.1988956433646087,
          -1.8480301841828102,
          -0.522189482561982,
          -2.1861181078550644,
          0.44337722270694535,
          1.2514967269805979,
          0.30344552724371354,
          -0.09746593918622742,
          0.3051412924220787,
          1.2237495058692514,
          0.5510571192453534,
          -0.35126949066795876,
          0.22329097736904024,
          -0.30944685152566387,
          -2.8039160340304035,
          -2.2179071009889144,
          -0.7737325034319844,
          -0.3201922746725472,
          -1.0526468233083202,
          -0.1504065016216753,
          -0.5149505985623007,
          -0.5129063982919239,
          0.12125352109378124,
          0.7161513630925544,
          0.8592985055604748,
          -0.5993307227754215,
          0.09648927722987588,
          -0.08404818864627303,
          -0.79789929129426,
          0.5297258752713183,
          1.5953115979391308,
          0.3533792623815825,
          -0.5088692962308575,
          0.6891298940424956,
          -2.6149935454546496,
          -0.46271354145132726,
          0.48249512300530134,
          -0.045469328145208904,
          -0.24552796973814237,
          -0.30026559513222784,
          -0.33198776969395544,
          -1.788936226235157,
          0.2563299763485481,
          0.10929102292651394,
          1.026551962433664,
          -0.4951080908574725,
          -0.19873936023169533,
          -1.489040789949906,
          -0.01958561934469455,
          -1.040450324808646,
          -0.5249707979987912,
          1.1814899239928276,
          -1.7363396716906865,
          -0.2323907876523747,
          1.5092803052927846,
          0.49217739964026563,
          -0.09422049966294097,
          -0.9325927144844297,
          -0.8337198828623599,
          0.624093512855621,
          -0.09417354162657651,
          0.7423595019922936,
          0.3199442162212266,
          -0.7088690511566448,
          -0.48609272366075684,
          0.9814217909654964,
          0.6596416274895264,
          0.7311357627506345,
          0.7879838134517776,
          0.7560916838387574,
          1.3786121132541829,
          0.14044354127795533,
          1.5020861899372135,
          -1.2955042724475354,
          0.4617477583601532,
          0.27513659737414636,
          -0.20286381874925358,
          1.1254252844154389,
          -0.7817793793861669,
          0.8774268714005038,
          1.4296516116537963,
          -0.6099503424883045,
          0.3293723120464132,
          -0.33576394894290795,
          0.16425629653885293,
          -0.7643322697641444,
          -0.1198004834513053,
          -0.9674493493545367,
          0.5072991506770618,
          -1.768224021002573,
          0.6373945134562771
         ],
         "y": [
          1.064805649575209,
          1.4304089243742344,
          1.3001945344158585,
          2.6902698583250606,
          1.9109489247329712,
          2.834400542228864,
          0.8641452571227191,
          1.5518608657288866,
          1.139022153962609,
          0.8605212036750837,
          0.8019803506063541,
          1.8057674767638983,
          2.2470635104227448,
          1.187242880661684,
          1.1190303755074762,
          0.4290676244121983,
          2.1363775397555234,
          1.3362765241195316,
          1.3565616053462595,
          1.0456737185102738,
          -0.23179801947507567,
          1.2525781943531171,
          0.021179407024469576,
          1.5765111682011226,
          1.4600537911463465,
          1.7740394672920243,
          0.022265369955825953,
          1.932890117558853,
          1.461135120623162,
          1.2810211194229937,
          2.047036923922313,
          1.3289167189650057,
          0.2801690247825106,
          -0.07891570168580513,
          0.08353017663505397,
          0.8060695460019169,
          0.32359156469759826,
          2.76791418510987,
          0.7297197241422713,
          0.47773085206528737,
          1.7218340366626133,
          0.6717428156924239,
          -0.2522066059348914,
          1.1206681023873502,
          1.5462138325685824,
          1.8652568878554012,
          0.016884747482652618,
          0.686565772666316,
          2.2095869242640584,
          0.5273172205536086,
          1.4380915588702252,
          2.1470776727347056,
          1.5339669286592568,
          0.9300229472173706,
          1.6026072628416812,
          0.411102749382224,
          1.120970804814925,
          -0.43775570477509945,
          2.036303517619429,
          1.9438876214146283,
          2.3480443090009744,
          1.3390410634270584,
          0.7199555414411931,
          0.2341787540587819,
          1.7430901067112727,
          -0.27461108084621544,
          1.679865509048959,
          0.5788082930806783,
          1.090015932101322,
          0.0567876557696704,
          0.832034836577292,
          2.4995914772966925,
          1.2123453534273847,
          1.8191676310117102,
          1.4863995768733653,
          1.515482713632933,
          1.1374205922193081,
          2.4075206421157698,
          1.0018024388232902,
          2.37509401554122,
          1.9126960123990742,
          1.0141300385192502,
          1.368349708316625,
          0.49922240485650693,
          0.3206817800235328,
          0.994347434584272,
          2.0985548983866766,
          1.4112473940623373,
          0.9881892766172873,
          0.22850106995354091,
          0.9807597055680539,
          -0.5734454531102323,
          2.408365033914153,
          1.483968753995709,
          1.9730062134523096,
          1.1053632419227715,
          1.987732106038771,
          0.741553681783767,
          0.14869114166681036,
          -0.03167254828083699
         ]
        },
        {
         "marker": {
          "color": "red",
          "symbol": "circle-open"
         },
         "mode": "markers",
         "name": "class 1",
         "type": "scatter",
         "x": [
          1.7013048906443577,
          2.380006621396936,
          1.0921213702599222,
          1.1469188556117325,
          1.0430975376489877,
          0.400274092108818,
          2.7558959176334037,
          1.915024291711555,
          0.6137426127337957,
          1.8007929776640785,
          2.303004628995617,
          0.2529204087588811,
          0.8924711918389755,
          2.2973364797130538,
          -0.24071292252152993,
          0.5953591530916736,
          2.911311513793309,
          2.660045039936144,
          1.6098426060655135,
          0.33715363773401524,
          1.287153269069536,
          1.0988864994398266,
          1.9233472732467478,
          0.291298998697603,
          1.8661128857916156,
          1.0854803418495411,
          1.401882279113443,
          1.1979197537901818,
          2.0213288538168954,
          2.578229462460004,
          -0.11046451488424314,
          0.09564422909446124,
          0.7005863278478637,
          1.371523943885931,
          1.8543698806693885,
          0.806998341607291,
          0.8218571299391724,
          0.7900953968913087,
          1.621683427344125,
          0.3603018379229808,
          0.6514558525500362,
          0.5892981561499864,
          -0.9683426820335199,
          1.5324251027601465,
          0.08760012397632225,
          1.255853754689685,
          0.5391038534654085,
          1.3417736493651675,
          2.32413092232432,
          1.7589690883207274,
          1.403967520661791,
          0.7325758697152984,
          2.287472280016943,
          1.894870310094527,
          3.031240249112334,
          0.22213403657325656,
          2.2612560909254333,
          0.7263261915898376,
          1.1084231931317703,
          -0.01517158576060762,
          1.3735808702432046,
          0.809094587865032,
          1.166891997375674,
          2.5494765479806647,
          1.936434710939367,
          1.5217475893617207,
          0.6467390183858335,
          0.07448431313680776,
          1.8463893765645123,
          1.658128806720871,
          1.4296143537502557,
          2.3603388445427567,
          1.0312462764715864,
          0.8470866321495925,
          0.5458769577600838,
          2.6887387071718116,
          2.43554898092547,
          0.9557940739996356,
          -0.5169104481052339,
          0.7544702724079516,
          2.288697856765609,
          1.8515302658189923,
          2.1859431116781507,
          -0.2214782314470468,
          0.42850276191565667,
          1.8284977816823411,
          1.5309807174211607,
          1.2895846034712677,
          0.38232363280450365,
          1.2031103831527021,
          0.07704462843580195,
          0.4397518664623688,
          0.9804330812391513,
          0.9064242856439071,
          2.32022513710392,
          1.8549312860119833,
          1.8782058725234672,
          2.182633677887565,
          3.420725019600198,
          1.7439278704803285
         ],
         "y": [
          1.3312380345002344,
          1.8026142528604114,
          0.5982361268327338,
          -1.0270768844171876,
          -0.695392400085622,
          -0.8485257813581712,
          1.43321667394127,
          1.618263212694411,
          1.009782984982645,
          -1.1566315705476704,
          0.7971403833534288,
          -0.0001598247092775562,
          -0.7633892546392408,
          -2.2231037545976444,
          0.7978716210462299,
          -1.3517448795154747,
          2.3975886793108403,
          0.8366328685215527,
          -1.6500306287127948,
          -0.8965138200835324,
          0.9680180622214569,
          0.7334691628812587,
          2.1401939158213668,
          -1.0304296587403992,
          1.3128420517307677,
          1.56432507374886,
          -1.8213778317791132,
          0.4186536486685949,
          1.22898222704419,
          1.2614058539053088,
          -1.0427134796094935,
          -0.18360147495441637,
          -0.9391215118661277,
          1.0393360302979784,
          1.0586195248766275,
          0.5090441928571023,
          -1.0710496934495328,
          -0.22918424292030048,
          1.385954765459855,
          -1.8596305448490167,
          -0.02889099178605046,
          0.06695226944007682,
          -1.6974452621606007,
          -0.2940584459333955,
          1.0786101389695266,
          0.865166675103256,
          -0.20643954202764841,
          1.9250220474663298,
          -0.4992426450073031,
          -0.8767666714061104,
          1.2082921525641082,
          0.07869460094319666,
          2.280522088957215,
          0.6292388212697095,
          1.7492561502671422,
          1.1304369738672797,
          -2.1120098986797293,
          -0.6842071776313362,
          -0.865556563431575,
          1.1136980206945921,
          -0.2140744578828343,
          1.1049404160650953,
          -1.2389809683159103,
          1.6359497089467196,
          -1.1181478648052938,
          -1.4799262740887802,
          -1.553910015025048,
          -1.3826550783889613,
          1.3390051380142012,
          0.915235226376828,
          -2.0748689124415107,
          -0.04092736826157661,
          -0.18592913149351165,
          0.4701118823499612,
          0.6229512377768118,
          0.9511094961458232,
          -1.103725955118051,
          2.4047185235293442,
          -0.7031722119097079,
          0.2275909091608731,
          0.9461009702745352,
          -0.399901114345214,
          -0.3593710842052539,
          1.4176832575229796,
          0.3548391374369455,
          2.3947551439642734,
          0.5435066544651259,
          1.8173597603558007,
          -0.40683647719274707,
          0.6137031398878836,
          -0.11249584452585076,
          0.6504288813420463,
          -0.669850729086355,
          -1.318013044363138,
          -1.687084841771432,
          -0.6620714414288067,
          -1.8005898557377804,
          -1.527913359094996,
          -2.5176609424312932,
          -0.14533794955934182
         ]
        },
        {
         "marker": {
          "color": "blue",
          "size": 15,
          "symbol": "cross"
         },
         "mode": "markers",
         "name": "class 0 center",
         "type": "scatter",
         "x": [
          -1.7497654730546974,
          1.153035802563644,
          0.9813207869512316,
          0.22117966922140045,
          -0.18949583082317534,
          -0.4580269855026243,
          -0.5835950503226648,
          0.672720805709661,
          -0.5312803768519098,
          -0.43813562270441736
         ],
         "y": [
          1.3426804033275022,
          0.7475639634786102,
          1.5142188413943822,
          -0.07004333056829326,
          1.2550014442733817,
          1.435163488122892,
          1.816847071685779,
          0.8955888566093723,
          2.029732685133346,
          -0.11831824625543619
         ]
        },
        {
         "marker": {
          "color": "red",
          "size": 15,
          "symbol": "star"
         },
         "mode": "markers",
         "name": "class 1 center",
         "type": "scatter",
         "x": [
          2.6189816606752596,
          0.7481208607867871,
          1.1845186905639429,
          1.7310003438348087,
          0.6737619407976975,
          1.2223996085553048,
          0.24364769440556455,
          1.7504447615341785,
          2.1896222680291255,
          -0.3563990488613127
         ],
         "y": [
          1.5416051745134067,
          -0.8424357382512976,
          0.9370822011089522,
          1.361556125145331,
          0.055676014854776905,
          -1.4432169952253369,
          0.8164540110192858,
          -0.4559469274680022,
          -1.690616826383604,
          -1.2324345139149262
         ]
        }
       ],
       "layout": {
        "height": 500,
        "template": {
         "data": {
          "bar": [
           {
            "error_x": {
             "color": "#2a3f5f"
            },
            "error_y": {
             "color": "#2a3f5f"
            },
            "marker": {
             "line": {
              "color": "#E5ECF6",
              "width": 0.5
             },
             "pattern": {
              "fillmode": "overlay",
              "size": 10,
              "solidity": 0.2
             }
            },
            "type": "bar"
           }
          ],
          "barpolar": [
           {
            "marker": {
             "line": {
              "color": "#E5ECF6",
              "width": 0.5
             },
             "pattern": {
              "fillmode": "overlay",
              "size": 10,
              "solidity": 0.2
             }
            },
            "type": "barpolar"
           }
          ],
          "carpet": [
           {
            "aaxis": {
             "endlinecolor": "#2a3f5f",
             "gridcolor": "white",
             "linecolor": "white",
             "minorgridcolor": "white",
             "startlinecolor": "#2a3f5f"
            },
            "baxis": {
             "endlinecolor": "#2a3f5f",
             "gridcolor": "white",
             "linecolor": "white",
             "minorgridcolor": "white",
             "startlinecolor": "#2a3f5f"
            },
            "type": "carpet"
           }
          ],
          "choropleth": [
           {
            "colorbar": {
             "outlinewidth": 0,
             "ticks": ""
            },
            "type": "choropleth"
           }
          ],
          "contour": [
           {
            "colorbar": {
             "outlinewidth": 0,
             "ticks": ""
            },
            "colorscale": [
             [
              0,
              "#0d0887"
             ],
             [
              0.1111111111111111,
              "#46039f"
             ],
             [
              0.2222222222222222,
              "#7201a8"
             ],
             [
              0.3333333333333333,
              "#9c179e"
             ],
             [
              0.4444444444444444,
              "#bd3786"
             ],
             [
              0.5555555555555556,
              "#d8576b"
             ],
             [
              0.6666666666666666,
              "#ed7953"
             ],
             [
              0.7777777777777778,
              "#fb9f3a"
             ],
             [
              0.8888888888888888,
              "#fdca26"
             ],
             [
              1,
              "#f0f921"
             ]
            ],
            "type": "contour"
           }
          ],
          "contourcarpet": [
           {
            "colorbar": {
             "outlinewidth": 0,
             "ticks": ""
            },
            "type": "contourcarpet"
           }
          ],
          "heatmap": [
           {
            "colorbar": {
             "outlinewidth": 0,
             "ticks": ""
            },
            "colorscale": [
             [
              0,
              "#0d0887"
             ],
             [
              0.1111111111111111,
              "#46039f"
             ],
             [
              0.2222222222222222,
              "#7201a8"
             ],
             [
              0.3333333333333333,
              "#9c179e"
             ],
             [
              0.4444444444444444,
              "#bd3786"
             ],
             [
              0.5555555555555556,
              "#d8576b"
             ],
             [
              0.6666666666666666,
              "#ed7953"
             ],
             [
              0.7777777777777778,
              "#fb9f3a"
             ],
             [
              0.8888888888888888,
              "#fdca26"
             ],
             [
              1,
              "#f0f921"
             ]
            ],
            "type": "heatmap"
           }
          ],
          "heatmapgl": [
           {
            "colorbar": {
             "outlinewidth": 0,
             "ticks": ""
            },
            "colorscale": [
             [
              0,
              "#0d0887"
             ],
             [
              0.1111111111111111,
              "#46039f"
             ],
             [
              0.2222222222222222,
              "#7201a8"
             ],
             [
              0.3333333333333333,
              "#9c179e"
             ],
             [
              0.4444444444444444,
              "#bd3786"
             ],
             [
              0.5555555555555556,
              "#d8576b"
             ],
             [
              0.6666666666666666,
              "#ed7953"
             ],
             [
              0.7777777777777778,
              "#fb9f3a"
             ],
             [
              0.8888888888888888,
              "#fdca26"
             ],
             [
              1,
              "#f0f921"
             ]
            ],
            "type": "heatmapgl"
           }
          ],
          "histogram": [
           {
            "marker": {
             "pattern": {
              "fillmode": "overlay",
              "size": 10,
              "solidity": 0.2
             }
            },
            "type": "histogram"
           }
          ],
          "histogram2d": [
           {
            "colorbar": {
             "outlinewidth": 0,
             "ticks": ""
            },
            "colorscale": [
             [
              0,
              "#0d0887"
             ],
             [
              0.1111111111111111,
              "#46039f"
             ],
             [
              0.2222222222222222,
              "#7201a8"
             ],
             [
              0.3333333333333333,
              "#9c179e"
             ],
             [
              0.4444444444444444,
              "#bd3786"
             ],
             [
              0.5555555555555556,
              "#d8576b"
             ],
             [
              0.6666666666666666,
              "#ed7953"
             ],
             [
              0.7777777777777778,
              "#fb9f3a"
             ],
             [
              0.8888888888888888,
              "#fdca26"
             ],
             [
              1,
              "#f0f921"
             ]
            ],
            "type": "histogram2d"
           }
          ],
          "histogram2dcontour": [
           {
            "colorbar": {
             "outlinewidth": 0,
             "ticks": ""
            },
            "colorscale": [
             [
              0,
              "#0d0887"
             ],
             [
              0.1111111111111111,
              "#46039f"
             ],
             [
              0.2222222222222222,
              "#7201a8"
             ],
             [
              0.3333333333333333,
              "#9c179e"
             ],
             [
              0.4444444444444444,
              "#bd3786"
             ],
             [
              0.5555555555555556,
              "#d8576b"
             ],
             [
              0.6666666666666666,
              "#ed7953"
             ],
             [
              0.7777777777777778,
              "#fb9f3a"
             ],
             [
              0.8888888888888888,
              "#fdca26"
             ],
             [
              1,
              "#f0f921"
             ]
            ],
            "type": "histogram2dcontour"
           }
          ],
          "mesh3d": [
           {
            "colorbar": {
             "outlinewidth": 0,
             "ticks": ""
            },
            "type": "mesh3d"
           }
          ],
          "parcoords": [
           {
            "line": {
             "colorbar": {
              "outlinewidth": 0,
              "ticks": ""
             }
            },
            "type": "parcoords"
           }
          ],
          "pie": [
           {
            "automargin": true,
            "type": "pie"
           }
          ],
          "scatter": [
           {
            "fillpattern": {
             "fillmode": "overlay",
             "size": 10,
             "solidity": 0.2
            },
            "type": "scatter"
           }
          ],
          "scatter3d": [
           {
            "line": {
             "colorbar": {
              "outlinewidth": 0,
              "ticks": ""
             }
            },
            "marker": {
             "colorbar": {
              "outlinewidth": 0,
              "ticks": ""
             }
            },
            "type": "scatter3d"
           }
          ],
          "scattercarpet": [
           {
            "marker": {
             "colorbar": {
              "outlinewidth": 0,
              "ticks": ""
             }
            },
            "type": "scattercarpet"
           }
          ],
          "scattergeo": [
           {
            "marker": {
             "colorbar": {
              "outlinewidth": 0,
              "ticks": ""
             }
            },
            "type": "scattergeo"
           }
          ],
          "scattergl": [
           {
            "marker": {
             "colorbar": {
              "outlinewidth": 0,
              "ticks": ""
             }
            },
            "type": "scattergl"
           }
          ],
          "scattermapbox": [
           {
            "marker": {
             "colorbar": {
              "outlinewidth": 0,
              "ticks": ""
             }
            },
            "type": "scattermapbox"
           }
          ],
          "scatterpolar": [
           {
            "marker": {
             "colorbar": {
              "outlinewidth": 0,
              "ticks": ""
             }
            },
            "type": "scatterpolar"
           }
          ],
          "scatterpolargl": [
           {
            "marker": {
             "colorbar": {
              "outlinewidth": 0,
              "ticks": ""
             }
            },
            "type": "scatterpolargl"
           }
          ],
          "scatterternary": [
           {
            "marker": {
             "colorbar": {
              "outlinewidth": 0,
              "ticks": ""
             }
            },
            "type": "scatterternary"
           }
          ],
          "surface": [
           {
            "colorbar": {
             "outlinewidth": 0,
             "ticks": ""
            },
            "colorscale": [
             [
              0,
              "#0d0887"
             ],
             [
              0.1111111111111111,
              "#46039f"
             ],
             [
              0.2222222222222222,
              "#7201a8"
             ],
             [
              0.3333333333333333,
              "#9c179e"
             ],
             [
              0.4444444444444444,
              "#bd3786"
             ],
             [
              0.5555555555555556,
              "#d8576b"
             ],
             [
              0.6666666666666666,
              "#ed7953"
             ],
             [
              0.7777777777777778,
              "#fb9f3a"
             ],
             [
              0.8888888888888888,
              "#fdca26"
             ],
             [
              1,
              "#f0f921"
             ]
            ],
            "type": "surface"
           }
          ],
          "table": [
           {
            "cells": {
             "fill": {
              "color": "#EBF0F8"
             },
             "line": {
              "color": "white"
             }
            },
            "header": {
             "fill": {
              "color": "#C8D4E3"
             },
             "line": {
              "color": "white"
             }
            },
            "type": "table"
           }
          ]
         },
         "layout": {
          "annotationdefaults": {
           "arrowcolor": "#2a3f5f",
           "arrowhead": 0,
           "arrowwidth": 1
          },
          "autotypenumbers": "strict",
          "coloraxis": {
           "colorbar": {
            "outlinewidth": 0,
            "ticks": ""
           }
          },
          "colorscale": {
           "diverging": [
            [
             0,
             "#8e0152"
            ],
            [
             0.1,
             "#c51b7d"
            ],
            [
             0.2,
             "#de77ae"
            ],
            [
             0.3,
             "#f1b6da"
            ],
            [
             0.4,
             "#fde0ef"
            ],
            [
             0.5,
             "#f7f7f7"
            ],
            [
             0.6,
             "#e6f5d0"
            ],
            [
             0.7,
             "#b8e186"
            ],
            [
             0.8,
             "#7fbc41"
            ],
            [
             0.9,
             "#4d9221"
            ],
            [
             1,
             "#276419"
            ]
           ],
           "sequential": [
            [
             0,
             "#0d0887"
            ],
            [
             0.1111111111111111,
             "#46039f"
            ],
            [
             0.2222222222222222,
             "#7201a8"
            ],
            [
             0.3333333333333333,
             "#9c179e"
            ],
            [
             0.4444444444444444,
             "#bd3786"
            ],
            [
             0.5555555555555556,
             "#d8576b"
            ],
            [
             0.6666666666666666,
             "#ed7953"
            ],
            [
             0.7777777777777778,
             "#fb9f3a"
            ],
            [
             0.8888888888888888,
             "#fdca26"
            ],
            [
             1,
             "#f0f921"
            ]
           ],
           "sequentialminus": [
            [
             0,
             "#0d0887"
            ],
            [
             0.1111111111111111,
             "#46039f"
            ],
            [
             0.2222222222222222,
             "#7201a8"
            ],
            [
             0.3333333333333333,
             "#9c179e"
            ],
            [
             0.4444444444444444,
             "#bd3786"
            ],
            [
             0.5555555555555556,
             "#d8576b"
            ],
            [
             0.6666666666666666,
             "#ed7953"
            ],
            [
             0.7777777777777778,
             "#fb9f3a"
            ],
            [
             0.8888888888888888,
             "#fdca26"
            ],
            [
             1,
             "#f0f921"
            ]
           ]
          },
          "colorway": [
           "#636efa",
           "#EF553B",
           "#00cc96",
           "#ab63fa",
           "#FFA15A",
           "#19d3f3",
           "#FF6692",
           "#B6E880",
           "#FF97FF",
           "#FECB52"
          ],
          "font": {
           "color": "#2a3f5f"
          },
          "geo": {
           "bgcolor": "white",
           "lakecolor": "white",
           "landcolor": "#E5ECF6",
           "showlakes": true,
           "showland": true,
           "subunitcolor": "white"
          },
          "hoverlabel": {
           "align": "left"
          },
          "hovermode": "closest",
          "mapbox": {
           "style": "light"
          },
          "paper_bgcolor": "white",
          "plot_bgcolor": "#E5ECF6",
          "polar": {
           "angularaxis": {
            "gridcolor": "white",
            "linecolor": "white",
            "ticks": ""
           },
           "bgcolor": "#E5ECF6",
           "radialaxis": {
            "gridcolor": "white",
            "linecolor": "white",
            "ticks": ""
           }
          },
          "scene": {
           "xaxis": {
            "backgroundcolor": "#E5ECF6",
            "gridcolor": "white",
            "gridwidth": 2,
            "linecolor": "white",
            "showbackground": true,
            "ticks": "",
            "zerolinecolor": "white"
           },
           "yaxis": {
            "backgroundcolor": "#E5ECF6",
            "gridcolor": "white",
            "gridwidth": 2,
            "linecolor": "white",
            "showbackground": true,
            "ticks": "",
            "zerolinecolor": "white"
           },
           "zaxis": {
            "backgroundcolor": "#E5ECF6",
            "gridcolor": "white",
            "gridwidth": 2,
            "linecolor": "white",
            "showbackground": true,
            "ticks": "",
            "zerolinecolor": "white"
           }
          },
          "shapedefaults": {
           "line": {
            "color": "#2a3f5f"
           }
          },
          "ternary": {
           "aaxis": {
            "gridcolor": "white",
            "linecolor": "white",
            "ticks": ""
           },
           "baxis": {
            "gridcolor": "white",
            "linecolor": "white",
            "ticks": ""
           },
           "bgcolor": "#E5ECF6",
           "caxis": {
            "gridcolor": "white",
            "linecolor": "white",
            "ticks": ""
           }
          },
          "title": {
           "x": 0.05
          },
          "xaxis": {
           "automargin": true,
           "gridcolor": "white",
           "linecolor": "white",
           "ticks": "",
           "title": {
            "standoff": 15
           },
           "zerolinecolor": "white",
           "zerolinewidth": 2
          },
          "yaxis": {
           "automargin": true,
           "gridcolor": "white",
           "linecolor": "white",
           "ticks": "",
           "title": {
            "standoff": 15
           },
           "zerolinecolor": "white",
           "zerolinewidth": 2
          }
         }
        },
        "width": 1000
       }
      }
     },
     "metadata": {},
     "output_type": "display_data"
    }
   ],
   "source": [
    "J = 10\n",
    "K = 2\n",
    "m0 = np.array([0,1])\n",
    "m1 = np.array([1,0])\n",
    "# Step 1: Generate 20 centers\n",
    "np.random.seed(100)\n",
    "mu_k0 = np.random.normal(size=(J,K)) + np.tile(m0, (J, 1))\n",
    "mu_k1 = np.random.normal(size=(J,K)) + np.tile(m1, (J, 1))\n",
    "\n",
    "# Step 2:  Given the 20 centers, generate a training sample of size 200 (100 from each class) and a test sample of size 10,000 (5,000 from each class).\n",
    "s = np.sqrt(1/5)\n",
    "n_training = 100\n",
    "training_set_id0 = np.random.randint(0, J, size=n_training)\n",
    "training_set_id1 = np.random.randint(0, J, size=n_training)\n",
    "X_training = np.random.normal(size=(2 * n_training, K)) * s + np.vstack((mu_k0[training_set_id0], mu_k1[training_set_id1]))\n",
    "Y_training = np.array([0]*n_training  + [1]*n_training)\n",
    "\n",
    "\n",
    "n_testing = 5000\n",
    "testing_set_id0 = np.random.randint(0, J, size=n_testing)\n",
    "testing_set_id1 = np.random.randint(0, J, size=n_testing)\n",
    "X_testing = np.random.normal(size=(2 * n_testing, K)) * s + np.vstack((mu_k0[testing_set_id0], mu_k1[testing_set_id1]))\n",
    "Y_testing = np.array([0]*n_testing  + [1]*n_testing)\n",
    "\n",
    "# Step 3: Produce a scatter plot of training data\n",
    "fig = go.Figure()\n",
    "fig.update_layout(width=1000,height=500)\n",
    "\n",
    "fig.add_trace(go.Scatter(x=X_training[:n_training, 0], y= X_training[:n_training, 1],\n",
    "                    mode='markers',\n",
    "                    marker_symbol='circle-open',\n",
    "                    name='class 0',\n",
    "                    marker_color=\"blue\"))\n",
    "\n",
    "fig.add_trace(go.Scatter(x=X_training[n_training:, 0], y= X_training[n_training:, 1],\n",
    "                    mode='markers',\n",
    "                    marker_symbol='circle-open',\n",
    "                    name='class 1',\n",
    "                    marker_color=\"red\"))\n",
    "\n",
    "fig.add_trace(go.Scatter(x=mu_k0[:,0], y=mu_k0[:,1],\n",
    "                    mode='markers',\n",
    "                    name= 'class 0 center',\n",
    "                    marker_symbol='cross',\n",
    "                    marker_size =15,\n",
    "                    marker_color=\"blue\"))\n",
    "\n",
    "fig.add_trace(go.Scatter(x=mu_k1[:,0], y=mu_k1[:,1],\n",
    "                    mode='markers',\n",
    "                    name= 'class 1 center',\n",
    "                    marker_symbol='star',\n",
    "                    marker_size =15,\n",
    "                    marker_color=\"red\"))\n"
   ]
  },
  {
   "attachments": {},
   "cell_type": "markdown",
   "metadata": {},
   "source": [
    "## Part 2: kNN\n",
    "1. Implement kNN **from scratch**; use Euclidean Distance. Your implementation should meet the following requirements:\n",
    "\n",
    "- **Input**: Your kNN function should accept three input parameters: training data, test data, and k. No need to write your kNN function to handle any general input; it suffices to write a function that is able to handle the data for this specific simulation study: binary classification; features are two-dimensional numerical vectors.\n",
    "\n",
    "- **Output**: Your function should return a vector of predictions for the test data.\n",
    "\n",
    "- **Vectorization**: Efficiently compute distances between all test points and training points simultaneously. Make predictions for all test points in a single operation.\n",
    "\n",
    "- **No Loops**: Do not use explicit loops like for or while inside your kNN function to compute distances or make predictions. Instead, harness the power of vectorized operations for efficient computations. For example, you can use broadcasting in Numpy or command outer in R."
   ]
  },
  {
   "cell_type": "code",
   "execution_count": 58,
   "metadata": {},
   "outputs": [],
   "source": [
    "def kNN_pedict(X_training, Y_training, X_testing, k):\n",
    "    # Vectorized code\n",
    "    # X_testing: n_testing X 2\n",
    "    # X_training: n_training X 2\n",
    "    # Euclidean_dist: n_testing X n_training\n",
    "    euclidean_dist_mat = np.linalg.norm(X_testing[:, None] - X_training, axis=2)\n",
    "    \n",
    "    # n_testing X n_training\n",
    "    k_nearest_neighor_ids_mat = euclidean_dist_mat.argsort(kind='mergesort', axis=1)[:,:k]  # sort distance in ascending order\n",
    "    \n",
    "    # prediction\n",
    "    # Because the problem is an classification problem, using mode, i.e., the value that occurs most often\n",
    "    predict_class = scipy.stats.mode(Y_training[k_nearest_neighor_ids_mat], axis=1, keepdims=True).mode.squeeze()\n",
    "    \n",
    "    return predict_class"
   ]
  },
  {
   "attachments": {},
   "cell_type": "markdown",
   "metadata": {},
   "source": [
    "2. *Question: Explain how you handle distance ties and voting ties*\n",
    "- **distance ties** may occur when you have multiple (training) observations that are equidistant from a test observation.\n",
    "- **voting ties** may occur when K is an even number and you have 50% of the k-nearest-neighbors from each of the two classes.\n",
    "\n",
    "*Answer*\n",
    "- **distance ties**: I am using <u>mergesort</u> in the python argsort() function call, which is a stable sort and preserves the relative order of equal values. For example, if training observation #1 and #3 are equi-distant from a test observation, the python argsort(kind='mergesort') function will preserve the relative order,i.e., #1 is chosen before #3 if k = 1.\n",
    "\n",
    "- **voting ties**: when there are multiple values that occur with the same highest frequency(i.e., multiple modes) scipy.stats.mode() will return the <u>smallest</u> of these values. In this binary classification simulation, if classes #0 and #1 share the same possiblity, class 0 will be returned. "
   ]
  },
  {
   "attachments": {},
   "cell_type": "markdown",
   "metadata": {},
   "source": [
    "3. Test your code with the training/test data you just generated when K = 1, 3, 5; and compare your results with <u>knn</u> in *R* or <u>sklearn.neighbors</u> in *Python*.\n",
    "\n",
    "- Report your results (on the test data) as a 2-by-2 table (confusion matrix) for each K value.\n",
    "- Report the results from knn or sklearn.neighbors as a 2-by-2 table (confusion matrix) for each K value."
   ]
  },
  {
   "cell_type": "code",
   "execution_count": 59,
   "metadata": {},
   "outputs": [],
   "source": [
    "def calc_accuracy(y_predict,y_measurement):\n",
    "    assert(len(y_measurement) == len(y_predict))\n",
    "    accuracy = np.sum(y_predict==y_measurement)/len(y_predict)\n",
    "    return accuracy\n",
    "\n",
    "def calc_confusion_matrix(y_predict, y_measurement):\n",
    "    TP = sum((y_predict==1) & (y_measurement==1))\n",
    "    TN = sum((y_predict==0) & (y_measurement==0))\n",
    "    FP = sum((y_predict==1) & (y_measurement==0))\n",
    "    FN = sum((y_predict==0) & (y_measurement==1))\n",
    "    \n",
    "    return np.array([[TP, FP],\n",
    "                    [FN, TN]])"
   ]
  },
  {
   "cell_type": "code",
   "execution_count": 60,
   "metadata": {},
   "outputs": [
    {
     "name": "stdout",
     "output_type": "stream",
     "text": [
      "My Confusion Matrix at k = 1\n",
      "[[4040 1169]\n",
      " [ 960 3831]]\n",
      "skearn.neighbors Confusion Matrix at k = 1\n",
      "[[4040 1169]\n",
      " [ 960 3831]]\n",
      "sklearn.neighbors accuracy is 0.7871\n"
     ]
    }
   ],
   "source": [
    "k = 1\n",
    "\n",
    "sklearn_knn_1 = KNeighborsClassifier(n_neighbors=k)\n",
    "sklearn_knn_1.fit(X_training, Y_training)\n",
    "sklearn_knn_result_1 =  sklearn_knn_1.predict(X_testing)\n",
    "local_knn_result_1 = kNN_pedict(X_training, Y_training, X_testing, k)\n",
    "print(\"My Confusion Matrix at k = {}\".format(k))\n",
    "print(calc_confusion_matrix(local_knn_result_1, Y_testing))\n",
    "print(\"skearn.neighbors Confusion Matrix at k = {}\".format(k))\n",
    "print(calc_confusion_matrix(sklearn_knn_result_1, Y_testing))\n",
    "print(\"sklearn.neighbors accuracy is {}\".format(sklearn_knn_1.score(X_testing, Y_testing)))"
   ]
  },
  {
   "cell_type": "code",
   "execution_count": 61,
   "metadata": {},
   "outputs": [
    {
     "name": "stdout",
     "output_type": "stream",
     "text": [
      "My Confusion Matrix at k = 3\n",
      "[[4071 1054]\n",
      " [ 929 3946]]\n",
      "skearn.neighbors Confusion Matrix at k = 3\n",
      "[[4071 1054]\n",
      " [ 929 3946]]\n",
      "sklearn.neighbors accuracy is 0.8017\n"
     ]
    }
   ],
   "source": [
    "k = 3\n",
    "\n",
    "sklearn_knn_3 = KNeighborsClassifier(n_neighbors=k)\n",
    "sklearn_knn_3.fit(X_training, Y_training)\n",
    "sklearn_knn_result_3 =  sklearn_knn_3.predict(X_testing)\n",
    "local_knn_result_3 = kNN_pedict(X_training, Y_training, X_testing, k)\n",
    "print(\"My Confusion Matrix at k = {}\".format(k))\n",
    "print(calc_confusion_matrix(local_knn_result_3, Y_testing))\n",
    "print(\"skearn.neighbors Confusion Matrix at k = {}\".format(k))\n",
    "print(calc_confusion_matrix(sklearn_knn_result_3, Y_testing))\n",
    "print(\"sklearn.neighbors accuracy is {}\".format(sklearn_knn_3.score(X_testing, Y_testing)))\n"
   ]
  },
  {
   "cell_type": "code",
   "execution_count": 62,
   "metadata": {},
   "outputs": [
    {
     "name": "stdout",
     "output_type": "stream",
     "text": [
      "My Confusion Matrix at k = 5\n",
      "[[4070 1007]\n",
      " [ 930 3993]]\n",
      "skearn.neighbors Confusion Matrix at k = 5\n",
      "[[4070 1007]\n",
      " [ 930 3993]]\n",
      "sklearn.neighbors accuracy is 0.8063\n"
     ]
    }
   ],
   "source": [
    "k = 5\n",
    "\n",
    "sklearn_knn_5 = KNeighborsClassifier(n_neighbors=k)\n",
    "sklearn_knn_5.fit(X_training, Y_training)\n",
    "sklearn_knn_result_5 =  sklearn_knn_5.predict(X_testing)\n",
    "local_knn_result_5 = kNN_pedict(X_training, Y_training, X_testing, k)\n",
    "print(\"My Confusion Matrix at k = {}\".format(k))\n",
    "print(calc_confusion_matrix(local_knn_result_5, Y_testing))\n",
    "print(\"skearn.neighbors Confusion Matrix at k = {}\".format(k))\n",
    "print(calc_confusion_matrix(sklearn_knn_result_5, Y_testing))\n",
    "print(\"sklearn.neighbors accuracy is {}\".format(sklearn_knn_5.score(X_testing, Y_testing)))\n",
    "\n"
   ]
  },
  {
   "attachments": {},
   "cell_type": "markdown",
   "metadata": {},
   "source": [
    "## Part 3:cvKNN\n",
    "1. Implement KNN classification with K chosen by 10-fold cross-validation **from scratch**.\n",
    "\n",
    "- Set the candidate K values from 1 to 180. (The maximum candidate K value is 180. Why?)\n",
    "- From now on, you are allowed to use the built-in kNN function from R or Python instead of your own implementation from Part 2.\n",
    "- It is possible that multiple K values give the (same) smallest CV error; when this happens, pick the largest K value among them, since the larger the K value, the simpler the model.\n",
    "2. Test your code with the training/test data you just generated. Report your results (on the test data) as a 2-by-2 table and also report the value of the selected K."
   ]
  },
  {
   "cell_type": "code",
   "execution_count": 63,
   "metadata": {},
   "outputs": [],
   "source": [
    "from sklearn.model_selection import train_test_split"
   ]
  },
  {
   "attachments": {},
   "cell_type": "markdown",
   "metadata": {},
   "source": [
    "*Question: Explain The maximum candidate K value is 180. Why?*\n",
    "\n",
    "*Answer* \n",
    "Because in 10-fold cross validation, 10% of the data is used for cross-validate testing, i.e. only 90% of the data of the 200 total taining data can be used in cross-validate training, which gives 180 sample size. As the K value cannot surpasss the sample size, so that maximum candidate K value is 180"
   ]
  },
  {
   "cell_type": "code",
   "execution_count": 64,
   "metadata": {},
   "outputs": [],
   "source": [
    "def cvKNN(x_training, y_training):\n",
    "    N_fold = 10\n",
    "    n_fold_array = np.linspace(1, N_fold, N_fold).astype(int)\n",
    "    K_array = np.linspace(1, 180, 180).astype(int)\n",
    "    cv_error_array = np.zeros(180)\n",
    "\n",
    "    for k in K_array:\n",
    "        sklearn_knn_k = KNeighborsClassifier(n_neighbors=k)\n",
    "        for n in n_fold_array:\n",
    "            x_train_k, x_test_k, y_train_k, y_test_k = train_test_split(x_training, y_training, test_size=1/N_fold, random_state=n)\n",
    "            sklearn_knn_k.fit(x_train_k, y_train_k)\n",
    "            cv_error_array[k-1] += (1.0 - sklearn_knn_k.score(x_test_k, y_test_k))/N_fold\n",
    "    \n",
    "    #print(cv_error_array)\n",
    "    k_min_index = 10\n",
    "    k_min, cv_error_min = K_array[k_min_index], cv_error_array[k_min_index]\n",
    "    print(\"The minimum cv error is: {}, with k = {}\".format(cv_error_min, k_min))\n",
    "\n",
    "    fig = go.Figure()\n",
    "    fig.update_layout(width=1000,height=500,\n",
    "                       xaxis_title=\"k values\", yaxis_title=\"Average cv error\",\n",
    "                      )\n",
    "\n",
    "    fig.add_trace(go.Scatter(x=K_array, y=cv_error_array,\n",
    "                    mode='lines+markers',\n",
    "                    name='average cv error',\n",
    "                    marker_color=\"blue\"))\n",
    "    \n",
    "    fig.add_trace(go.Scatter(x=[k_min], y=[cv_error_min],\n",
    "                    mode='markers',\n",
    "                    name= 'k value with the minimum average cv error',\n",
    "                    marker_symbol='star',\n",
    "                    marker_size =15,\n",
    "                    marker_color=\"red\"))\n",
    "    fig.show()\n"
   ]
  },
  {
   "cell_type": "code",
   "execution_count": 65,
   "metadata": {},
   "outputs": [
    {
     "name": "stdout",
     "output_type": "stream",
     "text": [
      "The minimum cv error is: 0.135, with k = 11\n"
     ]
    },
    {
     "data": {
      "application/vnd.plotly.v1+json": {
       "config": {
        "plotlyServerURL": "https://plot.ly"
       },
       "data": [
        {
         "marker": {
          "color": "blue"
         },
         "mode": "lines+markers",
         "name": "average cv error",
         "type": "scatter",
         "x": [
          1,
          2,
          3,
          4,
          5,
          6,
          7,
          8,
          9,
          10,
          11,
          12,
          13,
          14,
          15,
          16,
          17,
          18,
          19,
          20,
          21,
          22,
          23,
          24,
          25,
          26,
          27,
          28,
          29,
          30,
          31,
          32,
          33,
          34,
          35,
          36,
          37,
          38,
          39,
          40,
          41,
          42,
          43,
          44,
          45,
          46,
          47,
          48,
          49,
          50,
          51,
          52,
          53,
          54,
          55,
          56,
          57,
          58,
          59,
          60,
          61,
          62,
          63,
          64,
          65,
          66,
          67,
          68,
          69,
          70,
          71,
          72,
          73,
          74,
          75,
          76,
          77,
          78,
          79,
          80,
          81,
          82,
          83,
          84,
          85,
          86,
          87,
          88,
          89,
          90,
          91,
          92,
          93,
          94,
          95,
          96,
          97,
          98,
          99,
          100,
          101,
          102,
          103,
          104,
          105,
          106,
          107,
          108,
          109,
          110,
          111,
          112,
          113,
          114,
          115,
          116,
          117,
          118,
          119,
          120,
          121,
          122,
          123,
          124,
          125,
          126,
          127,
          128,
          129,
          130,
          131,
          132,
          133,
          134,
          135,
          136,
          137,
          138,
          139,
          140,
          141,
          142,
          143,
          144,
          145,
          146,
          147,
          148,
          149,
          150,
          151,
          152,
          153,
          154,
          155,
          156,
          157,
          158,
          159,
          160,
          161,
          162,
          163,
          164,
          165,
          166,
          167,
          168,
          169,
          170,
          171,
          172,
          173,
          174,
          175,
          176,
          177,
          178,
          179,
          180
         ],
         "y": [
          0.15500000000000005,
          0.16500000000000004,
          0.135,
          0.165,
          0.18500000000000003,
          0.19000000000000003,
          0.17000000000000004,
          0.165,
          0.14500000000000005,
          0.15000000000000005,
          0.135,
          0.14000000000000004,
          0.14000000000000004,
          0.14500000000000005,
          0.145,
          0.14500000000000005,
          0.15,
          0.15000000000000002,
          0.15000000000000005,
          0.14500000000000005,
          0.14500000000000002,
          0.16000000000000003,
          0.15000000000000002,
          0.16000000000000003,
          0.16000000000000003,
          0.16000000000000003,
          0.14500000000000005,
          0.16000000000000003,
          0.15000000000000005,
          0.15000000000000002,
          0.14500000000000005,
          0.15000000000000005,
          0.14500000000000005,
          0.16000000000000003,
          0.15000000000000005,
          0.15000000000000005,
          0.14500000000000005,
          0.15500000000000003,
          0.15000000000000002,
          0.16,
          0.15500000000000003,
          0.16,
          0.15500000000000003,
          0.17,
          0.15000000000000005,
          0.15000000000000005,
          0.14000000000000004,
          0.15500000000000003,
          0.14000000000000004,
          0.15000000000000005,
          0.14500000000000005,
          0.14500000000000005,
          0.14500000000000005,
          0.15000000000000002,
          0.15000000000000005,
          0.14000000000000004,
          0.15000000000000005,
          0.15000000000000005,
          0.14500000000000005,
          0.14500000000000005,
          0.14500000000000005,
          0.15000000000000005,
          0.14500000000000005,
          0.15500000000000003,
          0.14500000000000005,
          0.165,
          0.15500000000000003,
          0.16,
          0.15,
          0.14500000000000002,
          0.14500000000000005,
          0.165,
          0.15500000000000003,
          0.16000000000000003,
          0.15000000000000005,
          0.16000000000000003,
          0.15000000000000005,
          0.16500000000000004,
          0.16000000000000003,
          0.16500000000000004,
          0.16000000000000003,
          0.16500000000000004,
          0.16000000000000003,
          0.16000000000000003,
          0.16000000000000003,
          0.17000000000000004,
          0.16000000000000003,
          0.17000000000000004,
          0.17000000000000004,
          0.16000000000000003,
          0.16500000000000004,
          0.165,
          0.165,
          0.16,
          0.155,
          0.165,
          0.15,
          0.16,
          0.155,
          0.155,
          0.15,
          0.17500000000000002,
          0.155,
          0.155,
          0.15000000000000002,
          0.16000000000000003,
          0.15500000000000003,
          0.16500000000000004,
          0.15500000000000003,
          0.16000000000000003,
          0.16000000000000003,
          0.18500000000000003,
          0.165,
          0.165,
          0.165,
          0.17500000000000002,
          0.17,
          0.18,
          0.175,
          0.175,
          0.17,
          0.19,
          0.175,
          0.18,
          0.17500000000000002,
          0.18000000000000002,
          0.18000000000000002,
          0.18000000000000002,
          0.18000000000000002,
          0.18000000000000002,
          0.17500000000000002,
          0.19,
          0.19,
          0.195,
          0.195,
          0.195,
          0.19,
          0.205,
          0.195,
          0.22,
          0.2,
          0.215,
          0.2,
          0.21500000000000002,
          0.21000000000000002,
          0.225,
          0.215,
          0.23500000000000001,
          0.22,
          0.225,
          0.21000000000000002,
          0.21500000000000002,
          0.22,
          0.21500000000000002,
          0.21000000000000002,
          0.22000000000000003,
          0.22000000000000003,
          0.23500000000000001,
          0.22,
          0.23,
          0.225,
          0.21500000000000002,
          0.22,
          0.23500000000000001,
          0.20500000000000004,
          0.22000000000000003,
          0.195,
          0.205,
          0.19,
          0.195,
          0.2,
          0.22499999999999998,
          0.23,
          0.24,
          0.275,
          0.32,
          0.41500000000000004,
          0.455,
          0.51,
          0.575
         ]
        },
        {
         "marker": {
          "color": "red",
          "size": 15,
          "symbol": "star"
         },
         "mode": "markers",
         "name": "k value with the minimum average cv error",
         "type": "scatter",
         "x": [
          11
         ],
         "y": [
          0.135
         ]
        }
       ],
       "layout": {
        "height": 500,
        "template": {
         "data": {
          "bar": [
           {
            "error_x": {
             "color": "#2a3f5f"
            },
            "error_y": {
             "color": "#2a3f5f"
            },
            "marker": {
             "line": {
              "color": "#E5ECF6",
              "width": 0.5
             },
             "pattern": {
              "fillmode": "overlay",
              "size": 10,
              "solidity": 0.2
             }
            },
            "type": "bar"
           }
          ],
          "barpolar": [
           {
            "marker": {
             "line": {
              "color": "#E5ECF6",
              "width": 0.5
             },
             "pattern": {
              "fillmode": "overlay",
              "size": 10,
              "solidity": 0.2
             }
            },
            "type": "barpolar"
           }
          ],
          "carpet": [
           {
            "aaxis": {
             "endlinecolor": "#2a3f5f",
             "gridcolor": "white",
             "linecolor": "white",
             "minorgridcolor": "white",
             "startlinecolor": "#2a3f5f"
            },
            "baxis": {
             "endlinecolor": "#2a3f5f",
             "gridcolor": "white",
             "linecolor": "white",
             "minorgridcolor": "white",
             "startlinecolor": "#2a3f5f"
            },
            "type": "carpet"
           }
          ],
          "choropleth": [
           {
            "colorbar": {
             "outlinewidth": 0,
             "ticks": ""
            },
            "type": "choropleth"
           }
          ],
          "contour": [
           {
            "colorbar": {
             "outlinewidth": 0,
             "ticks": ""
            },
            "colorscale": [
             [
              0,
              "#0d0887"
             ],
             [
              0.1111111111111111,
              "#46039f"
             ],
             [
              0.2222222222222222,
              "#7201a8"
             ],
             [
              0.3333333333333333,
              "#9c179e"
             ],
             [
              0.4444444444444444,
              "#bd3786"
             ],
             [
              0.5555555555555556,
              "#d8576b"
             ],
             [
              0.6666666666666666,
              "#ed7953"
             ],
             [
              0.7777777777777778,
              "#fb9f3a"
             ],
             [
              0.8888888888888888,
              "#fdca26"
             ],
             [
              1,
              "#f0f921"
             ]
            ],
            "type": "contour"
           }
          ],
          "contourcarpet": [
           {
            "colorbar": {
             "outlinewidth": 0,
             "ticks": ""
            },
            "type": "contourcarpet"
           }
          ],
          "heatmap": [
           {
            "colorbar": {
             "outlinewidth": 0,
             "ticks": ""
            },
            "colorscale": [
             [
              0,
              "#0d0887"
             ],
             [
              0.1111111111111111,
              "#46039f"
             ],
             [
              0.2222222222222222,
              "#7201a8"
             ],
             [
              0.3333333333333333,
              "#9c179e"
             ],
             [
              0.4444444444444444,
              "#bd3786"
             ],
             [
              0.5555555555555556,
              "#d8576b"
             ],
             [
              0.6666666666666666,
              "#ed7953"
             ],
             [
              0.7777777777777778,
              "#fb9f3a"
             ],
             [
              0.8888888888888888,
              "#fdca26"
             ],
             [
              1,
              "#f0f921"
             ]
            ],
            "type": "heatmap"
           }
          ],
          "heatmapgl": [
           {
            "colorbar": {
             "outlinewidth": 0,
             "ticks": ""
            },
            "colorscale": [
             [
              0,
              "#0d0887"
             ],
             [
              0.1111111111111111,
              "#46039f"
             ],
             [
              0.2222222222222222,
              "#7201a8"
             ],
             [
              0.3333333333333333,
              "#9c179e"
             ],
             [
              0.4444444444444444,
              "#bd3786"
             ],
             [
              0.5555555555555556,
              "#d8576b"
             ],
             [
              0.6666666666666666,
              "#ed7953"
             ],
             [
              0.7777777777777778,
              "#fb9f3a"
             ],
             [
              0.8888888888888888,
              "#fdca26"
             ],
             [
              1,
              "#f0f921"
             ]
            ],
            "type": "heatmapgl"
           }
          ],
          "histogram": [
           {
            "marker": {
             "pattern": {
              "fillmode": "overlay",
              "size": 10,
              "solidity": 0.2
             }
            },
            "type": "histogram"
           }
          ],
          "histogram2d": [
           {
            "colorbar": {
             "outlinewidth": 0,
             "ticks": ""
            },
            "colorscale": [
             [
              0,
              "#0d0887"
             ],
             [
              0.1111111111111111,
              "#46039f"
             ],
             [
              0.2222222222222222,
              "#7201a8"
             ],
             [
              0.3333333333333333,
              "#9c179e"
             ],
             [
              0.4444444444444444,
              "#bd3786"
             ],
             [
              0.5555555555555556,
              "#d8576b"
             ],
             [
              0.6666666666666666,
              "#ed7953"
             ],
             [
              0.7777777777777778,
              "#fb9f3a"
             ],
             [
              0.8888888888888888,
              "#fdca26"
             ],
             [
              1,
              "#f0f921"
             ]
            ],
            "type": "histogram2d"
           }
          ],
          "histogram2dcontour": [
           {
            "colorbar": {
             "outlinewidth": 0,
             "ticks": ""
            },
            "colorscale": [
             [
              0,
              "#0d0887"
             ],
             [
              0.1111111111111111,
              "#46039f"
             ],
             [
              0.2222222222222222,
              "#7201a8"
             ],
             [
              0.3333333333333333,
              "#9c179e"
             ],
             [
              0.4444444444444444,
              "#bd3786"
             ],
             [
              0.5555555555555556,
              "#d8576b"
             ],
             [
              0.6666666666666666,
              "#ed7953"
             ],
             [
              0.7777777777777778,
              "#fb9f3a"
             ],
             [
              0.8888888888888888,
              "#fdca26"
             ],
             [
              1,
              "#f0f921"
             ]
            ],
            "type": "histogram2dcontour"
           }
          ],
          "mesh3d": [
           {
            "colorbar": {
             "outlinewidth": 0,
             "ticks": ""
            },
            "type": "mesh3d"
           }
          ],
          "parcoords": [
           {
            "line": {
             "colorbar": {
              "outlinewidth": 0,
              "ticks": ""
             }
            },
            "type": "parcoords"
           }
          ],
          "pie": [
           {
            "automargin": true,
            "type": "pie"
           }
          ],
          "scatter": [
           {
            "fillpattern": {
             "fillmode": "overlay",
             "size": 10,
             "solidity": 0.2
            },
            "type": "scatter"
           }
          ],
          "scatter3d": [
           {
            "line": {
             "colorbar": {
              "outlinewidth": 0,
              "ticks": ""
             }
            },
            "marker": {
             "colorbar": {
              "outlinewidth": 0,
              "ticks": ""
             }
            },
            "type": "scatter3d"
           }
          ],
          "scattercarpet": [
           {
            "marker": {
             "colorbar": {
              "outlinewidth": 0,
              "ticks": ""
             }
            },
            "type": "scattercarpet"
           }
          ],
          "scattergeo": [
           {
            "marker": {
             "colorbar": {
              "outlinewidth": 0,
              "ticks": ""
             }
            },
            "type": "scattergeo"
           }
          ],
          "scattergl": [
           {
            "marker": {
             "colorbar": {
              "outlinewidth": 0,
              "ticks": ""
             }
            },
            "type": "scattergl"
           }
          ],
          "scattermapbox": [
           {
            "marker": {
             "colorbar": {
              "outlinewidth": 0,
              "ticks": ""
             }
            },
            "type": "scattermapbox"
           }
          ],
          "scatterpolar": [
           {
            "marker": {
             "colorbar": {
              "outlinewidth": 0,
              "ticks": ""
             }
            },
            "type": "scatterpolar"
           }
          ],
          "scatterpolargl": [
           {
            "marker": {
             "colorbar": {
              "outlinewidth": 0,
              "ticks": ""
             }
            },
            "type": "scatterpolargl"
           }
          ],
          "scatterternary": [
           {
            "marker": {
             "colorbar": {
              "outlinewidth": 0,
              "ticks": ""
             }
            },
            "type": "scatterternary"
           }
          ],
          "surface": [
           {
            "colorbar": {
             "outlinewidth": 0,
             "ticks": ""
            },
            "colorscale": [
             [
              0,
              "#0d0887"
             ],
             [
              0.1111111111111111,
              "#46039f"
             ],
             [
              0.2222222222222222,
              "#7201a8"
             ],
             [
              0.3333333333333333,
              "#9c179e"
             ],
             [
              0.4444444444444444,
              "#bd3786"
             ],
             [
              0.5555555555555556,
              "#d8576b"
             ],
             [
              0.6666666666666666,
              "#ed7953"
             ],
             [
              0.7777777777777778,
              "#fb9f3a"
             ],
             [
              0.8888888888888888,
              "#fdca26"
             ],
             [
              1,
              "#f0f921"
             ]
            ],
            "type": "surface"
           }
          ],
          "table": [
           {
            "cells": {
             "fill": {
              "color": "#EBF0F8"
             },
             "line": {
              "color": "white"
             }
            },
            "header": {
             "fill": {
              "color": "#C8D4E3"
             },
             "line": {
              "color": "white"
             }
            },
            "type": "table"
           }
          ]
         },
         "layout": {
          "annotationdefaults": {
           "arrowcolor": "#2a3f5f",
           "arrowhead": 0,
           "arrowwidth": 1
          },
          "autotypenumbers": "strict",
          "coloraxis": {
           "colorbar": {
            "outlinewidth": 0,
            "ticks": ""
           }
          },
          "colorscale": {
           "diverging": [
            [
             0,
             "#8e0152"
            ],
            [
             0.1,
             "#c51b7d"
            ],
            [
             0.2,
             "#de77ae"
            ],
            [
             0.3,
             "#f1b6da"
            ],
            [
             0.4,
             "#fde0ef"
            ],
            [
             0.5,
             "#f7f7f7"
            ],
            [
             0.6,
             "#e6f5d0"
            ],
            [
             0.7,
             "#b8e186"
            ],
            [
             0.8,
             "#7fbc41"
            ],
            [
             0.9,
             "#4d9221"
            ],
            [
             1,
             "#276419"
            ]
           ],
           "sequential": [
            [
             0,
             "#0d0887"
            ],
            [
             0.1111111111111111,
             "#46039f"
            ],
            [
             0.2222222222222222,
             "#7201a8"
            ],
            [
             0.3333333333333333,
             "#9c179e"
            ],
            [
             0.4444444444444444,
             "#bd3786"
            ],
            [
             0.5555555555555556,
             "#d8576b"
            ],
            [
             0.6666666666666666,
             "#ed7953"
            ],
            [
             0.7777777777777778,
             "#fb9f3a"
            ],
            [
             0.8888888888888888,
             "#fdca26"
            ],
            [
             1,
             "#f0f921"
            ]
           ],
           "sequentialminus": [
            [
             0,
             "#0d0887"
            ],
            [
             0.1111111111111111,
             "#46039f"
            ],
            [
             0.2222222222222222,
             "#7201a8"
            ],
            [
             0.3333333333333333,
             "#9c179e"
            ],
            [
             0.4444444444444444,
             "#bd3786"
            ],
            [
             0.5555555555555556,
             "#d8576b"
            ],
            [
             0.6666666666666666,
             "#ed7953"
            ],
            [
             0.7777777777777778,
             "#fb9f3a"
            ],
            [
             0.8888888888888888,
             "#fdca26"
            ],
            [
             1,
             "#f0f921"
            ]
           ]
          },
          "colorway": [
           "#636efa",
           "#EF553B",
           "#00cc96",
           "#ab63fa",
           "#FFA15A",
           "#19d3f3",
           "#FF6692",
           "#B6E880",
           "#FF97FF",
           "#FECB52"
          ],
          "font": {
           "color": "#2a3f5f"
          },
          "geo": {
           "bgcolor": "white",
           "lakecolor": "white",
           "landcolor": "#E5ECF6",
           "showlakes": true,
           "showland": true,
           "subunitcolor": "white"
          },
          "hoverlabel": {
           "align": "left"
          },
          "hovermode": "closest",
          "mapbox": {
           "style": "light"
          },
          "paper_bgcolor": "white",
          "plot_bgcolor": "#E5ECF6",
          "polar": {
           "angularaxis": {
            "gridcolor": "white",
            "linecolor": "white",
            "ticks": ""
           },
           "bgcolor": "#E5ECF6",
           "radialaxis": {
            "gridcolor": "white",
            "linecolor": "white",
            "ticks": ""
           }
          },
          "scene": {
           "xaxis": {
            "backgroundcolor": "#E5ECF6",
            "gridcolor": "white",
            "gridwidth": 2,
            "linecolor": "white",
            "showbackground": true,
            "ticks": "",
            "zerolinecolor": "white"
           },
           "yaxis": {
            "backgroundcolor": "#E5ECF6",
            "gridcolor": "white",
            "gridwidth": 2,
            "linecolor": "white",
            "showbackground": true,
            "ticks": "",
            "zerolinecolor": "white"
           },
           "zaxis": {
            "backgroundcolor": "#E5ECF6",
            "gridcolor": "white",
            "gridwidth": 2,
            "linecolor": "white",
            "showbackground": true,
            "ticks": "",
            "zerolinecolor": "white"
           }
          },
          "shapedefaults": {
           "line": {
            "color": "#2a3f5f"
           }
          },
          "ternary": {
           "aaxis": {
            "gridcolor": "white",
            "linecolor": "white",
            "ticks": ""
           },
           "baxis": {
            "gridcolor": "white",
            "linecolor": "white",
            "ticks": ""
           },
           "bgcolor": "#E5ECF6",
           "caxis": {
            "gridcolor": "white",
            "linecolor": "white",
            "ticks": ""
           }
          },
          "title": {
           "x": 0.05
          },
          "xaxis": {
           "automargin": true,
           "gridcolor": "white",
           "linecolor": "white",
           "ticks": "",
           "title": {
            "standoff": 15
           },
           "zerolinecolor": "white",
           "zerolinewidth": 2
          },
          "yaxis": {
           "automargin": true,
           "gridcolor": "white",
           "linecolor": "white",
           "ticks": "",
           "title": {
            "standoff": 15
           },
           "zerolinecolor": "white",
           "zerolinewidth": 2
          }
         }
        },
        "width": 1000,
        "xaxis": {
         "title": {
          "text": "k values"
         }
        },
        "yaxis": {
         "title": {
          "text": "Average cv error"
         }
        }
       }
      }
     },
     "metadata": {},
     "output_type": "display_data"
    }
   ],
   "source": [
    "cvKNN(X_training, Y_training)"
   ]
  },
  {
   "cell_type": "code",
   "execution_count": 72,
   "metadata": {},
   "outputs": [
    {
     "name": "stdout",
     "output_type": "stream",
     "text": [
      "skearn.neighbors Confusion Matrix at k = 11\n",
      "[[4078  651]\n",
      " [ 922 4349]]\n"
     ]
    }
   ],
   "source": [
    "sklearn_knn_11 = KNeighborsClassifier(n_neighbors=11)\n",
    "sklearn_knn_11.fit(X_testing, Y_testing)\n",
    "sklearn_knn_result_11 =  sklearn_knn_11.predict(X_testing)\n",
    "print(\"skearn.neighbors Confusion Matrix at k = 11\")\n",
    "print(calc_confusion_matrix(sklearn_knn_result_11, Y_testing))"
   ]
  },
  {
   "attachments": {},
   "cell_type": "markdown",
   "metadata": {},
   "source": [
    "## Part 4: Bayes rule\n",
    "1. Implement the Bayes rule. Your implementation should meet the following requirements:\n",
    "   - Do not use explicit loops over the test sample size (10,000 or 5,000). \n",
    "   - You are allowed to use loops over the number of centers (10 or 20), although you can avoid all loops.\n",
    "2. Test your code with the test data you just generated. (Note that you do not need training data for the Bayes rule.) Report your results (on the test data) as a 2-by-2 table. \n",
    "\n",
    "The Bayes rule for binary classification (under the zero-one loss), as derived in class, is: predict $Y$ to be 1, if \n",
    "\n",
    "$$\n",
    "P(Y = 1 \\mid X = x) \\ge P(Y = 0 \\mid X=x), \n",
    "$$\n",
    "\n",
    "or equivalently\n",
    "\n",
    "$$ \\frac{P(Y = 1 \\mid X = x)}{P(Y = 0 \\mid X=x)} \\ge 1.$$\n",
    "\n",
    "Following the data generation process, we have \n",
    "$$ \\displaystyle  \\frac{P(Y=1\\mid X=x)}{P(Y=0\\mid X=x)}=\\frac{P(Y=1) \\cdot P(X=x\\mid Y=1)}{P(Y=0) \\cdot P(X=x\\mid Y=0)} $$\n",
    "$$\\displaystyle =\\frac{(1/2)\\cdot 10^{-1}\\sum_{l=1}^{10}(2\\pi s^2)^{-1}\\exp\\left(-\\lVert\\mathbf{x}-\\mathbf{m}_{1l}\\rVert^2/(2s^2)\\right)}{(1/2)\\cdot 10^{-1}\\sum_{l=1}^{10}(2\\pi s^2)^{-1}\\exp\\left(-\\lVert\\mathbf{x}-\\mathbf{m}_{0l}\\rVert^2/(2s^2)\\right)} $$\n",
    "$$\\displaystyle =\\frac{\\sum_{l=1}^{10}\\exp\\left(-\\lVert\\mathbf{x}-\\mathbf{m}_{1l}\\rVert^2/(2s^2)\\right)}{\\sum_{l=1}^{10}\\exp\\left(-\\lVert\\mathbf{x}-\\mathbf{m}_{0l}\\rVert^2/(2s^2)\\right)}. \n",
    "$$"
   ]
  },
  {
   "cell_type": "code",
   "execution_count": 66,
   "metadata": {},
   "outputs": [],
   "source": [
    "def calculate_prob(data, mu):\n",
    "    result = np.linalg.norm(data[:, None] - mu, axis=2) ** 2\n",
    "    result = np.sum(np.exp(-result / (2 * s ** 2)), axis=1)\n",
    "    return result\n",
    "\n",
    "def bayes_rule(data, mu0, mu1):\n",
    "    return np.where(calculate_prob(data, mu1) >= calculate_prob(data, mu0), 1, 0)"
   ]
  },
  {
   "cell_type": "code",
   "execution_count": 69,
   "metadata": {},
   "outputs": [],
   "source": [
    "y_pred_bayes = np.where(calculate_prob(X_testing, mu_k1) >= calculate_prob(X_testing, mu_k0), 1, 0)"
   ]
  },
  {
   "cell_type": "code",
   "execution_count": 70,
   "metadata": {},
   "outputs": [
    {
     "name": "stdout",
     "output_type": "stream",
     "text": [
      "[[3855  615]\n",
      " [1145 4385]]\n"
     ]
    }
   ],
   "source": [
    "print(calc_confusion_matrix(y_pred_bayes, Y_testing))"
   ]
  },
  {
   "cell_type": "code",
   "execution_count": null,
   "metadata": {},
   "outputs": [],
   "source": []
  }
 ],
 "metadata": {
  "kernelspec": {
   "display_name": "Python 3",
   "language": "python",
   "name": "python3"
  },
  "language_info": {
   "codemirror_mode": {
    "name": "ipython",
    "version": 3
   },
   "file_extension": ".py",
   "mimetype": "text/x-python",
   "name": "python",
   "nbconvert_exporter": "python",
   "pygments_lexer": "ipython3",
   "version": "3.9.12"
  },
  "orig_nbformat": 4
 },
 "nbformat": 4,
 "nbformat_minor": 2
}
