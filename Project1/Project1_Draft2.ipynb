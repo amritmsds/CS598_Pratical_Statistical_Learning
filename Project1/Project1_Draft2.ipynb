{
 "cells": [
  {
   "cell_type": "code",
   "execution_count": 1,
   "metadata": {},
   "outputs": [],
   "source": [
    "import os\n",
    "import numpy as np\n",
    "import pandas as pd\n",
    "from xgboost import XGBRegressor\n",
    "\n",
    "import warnings\n",
    "warnings.filterwarnings(\"ignore\", category=DeprecationWarning)\n",
    "\n",
    "from sklearn.preprocessing import OneHotEncoder, StandardScaler\n",
    "from sklearn.pipeline import Pipeline\n",
    "from sklearn.linear_model import Lasso, ElasticNet\n",
    "from sklearn.model_selection import GridSearchCV\n",
    "from scipy.stats import skew, norm"
   ]
  },
  {
   "cell_type": "markdown",
   "metadata": {},
   "source": [
    "**References**\n",
    "> https://www.kaggle.com/code/bextuychiev/lasso-regression-with-pipelines-tutorial\n",
    "\n",
    "> https://www.kaggle.com/code/carlosdg/xgboost-with-scikit-learn-pipeline-gridsearchcv"
   ]
  },
  {
   "cell_type": "code",
   "execution_count": 2,
   "metadata": {},
   "outputs": [],
   "source": [
    "prject_folder = \"/Users/richardxu/Dropbox/UIUC_CS598_Statistical_Learning/Project1/proj1/fold4\"\n",
    "df_train = pd.read_csv(os.path.join(prject_folder, \"train.csv\"))\n",
    "df_test_x = pd.read_csv(os.path.join(prject_folder, \"test.csv\"))\n",
    "df_test_y = pd.read_csv(os.path.join(prject_folder, \"test_y.csv\"))"
   ]
  },
  {
   "cell_type": "code",
   "execution_count": 3,
   "metadata": {},
   "outputs": [],
   "source": [
    "# categorical_features = {'Street' : {'Grvl' : 1, 'Pave' : 2},\n",
    "#                        'Alley' : {'Gravel' : 1, 'Paved' : 2, 'No_Alley_Access':3},\n",
    "#                        'Lot_Shape' : {'Irregular' : 1, 'Moderately_Irregular' : 2, 'Slightly_Irregular' : 2, 'Regular' : 3},\n",
    "#                        'Land_Contour': {'Low' : 1, 'HLS' : 2, 'Bnk' : 2, 'Lvl' : 3},\n",
    "#                        'Land_Slope' : {'Sev' : 1, 'Mod' : 2, 'Gtl' : 3},\n",
    "#                        'Bsmt_Exposure' : {'No' : 1, 'Mn' : 2, 'Av': 3, 'Gd' : 4, 'No_Basement':5},\n",
    "#                        'BsmtFin_Type_1' : {'Unf' : 1, 'LwQ': 2, 'Rec' : 3, 'BLQ' : 4, \n",
    "#                                          'ALQ' : 5, 'GLQ' : 6, 'No_Basement':7},\n",
    "#                        'BsmtFin_Type_2' : {'Unf' : 1, 'LwQ': 2, 'Rec' : 3, 'BLQ' : 4, \n",
    "#                                          'ALQ' : 5, 'GLQ' : 6, 'No_Basement':7},\n",
    "#                        'Functional' : {'Sal' : 1, 'Sev' : 2, 'Maj2' : 3, 'Maj1' : 4, 'Mod': 5, \n",
    "#                                        'Min2' : 6, 'Min1' : 7, 'Typ' : 8},\n",
    "#                        'Garage_Finish' : {'Unf' : 1, 'RFn' : 2, 'Fin' : 3, 'No_Garage':4},\n",
    "#                        'Paved_Drive' : {'Paved' : 1, 'Dirt_Gravel' : 2, 'Partial_Pavement' : 3},\n",
    "#                        'Fence' : {'Good_Privacy' : 1, 'Good_Wood' : 1, 'Minimum_Wood_Wire' : 2, 'Minimum_Privacy':2 ,'No_Fence': 3},\n",
    "#                        'Sale_Condition' : {'Normal' : 2, 'Abnorml' : 1, 'AdjLand' : 1, 'Alloca' : 1, 'Family' : 1, 'Partial' : 1}\n",
    "#                       }\n",
    "\n",
    "\n",
    "\n",
    "# #df_train = df_train.replace(categorical_features).astype('object')\n",
    "# #df_test_x = df_test_x.replace(categorical_features).astype('object')\n",
    "# df_train = df_train.replace(categorical_features)\n",
    "# df_test_x = df_test_x.replace(categorical_features)\n",
    "# for key in categorical_features.keys():\n",
    "#     df_train[key] = df_train[key].astype('object')\n",
    "#     df_test_x[key] = df_test_x[key].astype('object')"
   ]
  },
  {
   "cell_type": "code",
   "execution_count": null,
   "metadata": {},
   "outputs": [],
   "source": []
  },
  {
   "cell_type": "code",
   "execution_count": 4,
   "metadata": {},
   "outputs": [],
   "source": [
    "df_train_y = pd.DataFrame()\n",
    "df_train_y['Sale_Price'] = df_train['Sale_Price'].copy()\n",
    "df_train_x = df_train.drop(columns=['PID', 'Sale_Price'])\n",
    "df_test_x.drop(columns=['PID'], inplace=True)\n",
    "df_test_y.drop(columns=['PID'], inplace=True)"
   ]
  },
  {
   "cell_type": "markdown",
   "metadata": {},
   "source": [
    "### Step 1. Missing value imputation"
   ]
  },
  {
   "cell_type": "code",
   "execution_count": 5,
   "metadata": {},
   "outputs": [],
   "source": [
    "# Impute missing values in \"Garage_Yr_Blt\" variable with 0\n",
    "df_train_x['Garage_Yr_Blt'].fillna(0, inplace=True)\n",
    "df_test_x['Garage_Yr_Blt'].fillna(0, inplace=True)"
   ]
  },
  {
   "cell_type": "markdown",
   "metadata": {},
   "source": [
    "### Step 2. Features to Remove"
   ]
  },
  {
   "cell_type": "code",
   "execution_count": 6,
   "metadata": {},
   "outputs": [],
   "source": [
    "# The following features are either highly imbalanced or not informative\n",
    "remove_features_set = ['Condition_2', 'Heating', 'Latitude', 'Longitude', 'Low_Qual_Fin_SF',\n",
    "                      'Misc_Feature','Pool_Area','Pool_QC','Roof_Matl','Street','Utilities']\n",
    "\n",
    "\n",
    "df_train_x.drop(columns=remove_features_set, inplace=True)\n",
    "df_test_x.drop(columns=remove_features_set, inplace=True)"
   ]
  },
  {
   "cell_type": "markdown",
   "metadata": {},
   "source": [
    "### Step 3. Winsorization"
   ]
  },
  {
   "cell_type": "code",
   "execution_count": 7,
   "metadata": {},
   "outputs": [],
   "source": [
    "winsor_features_set = ['BsmtFin_SF_2', 'Bsmt_Unf_SF', 'Enclosed_Porch', 'First_Flr_SF',\n",
    "                 'Garage_Area', 'Gr_Liv_Area', 'Lot_Area', 'Lot_Frontage','Mas_Vnr_Area',\n",
    "                 'Misc_Val', 'Open_Porch_SF', 'Screen_Porch', 'Second_Flr_SF', 'Three_season_porch',\n",
    "                 'Total_Bsmt_SF', 'Wood_Deck_SF']"
   ]
  },
  {
   "cell_type": "code",
   "execution_count": 8,
   "metadata": {},
   "outputs": [],
   "source": [
    "for val in winsor_features_set:\n",
    "    upper_limit = df_train[val].quantile(0.98)\n",
    "    df_train_x[val] = df_train_x[val].apply(lambda x: upper_limit if x > upper_limit else x)\n",
    "    df_test_x[val] = df_test_x[val].apply(lambda x: upper_limit if x > upper_limit else x)"
   ]
  },
  {
   "cell_type": "markdown",
   "metadata": {},
   "source": [
    "### Step 4. Categorical feature transformation using one-hot encoder"
   ]
  },
  {
   "cell_type": "code",
   "execution_count": 9,
   "metadata": {},
   "outputs": [],
   "source": [
    "# Treating the two features \"Mo_Sold\" (1~12), and \"Year_Sold\" (2006~2010) as categorical\n",
    "# variables can improve model performance\n",
    "\n",
    "\n",
    "df_train_x['Mo_Sold'] = df_train_x['Mo_Sold'].values.astype('object')\n",
    "df_test_x['Mo_Sold'] = df_test_x['Mo_Sold'].values.astype('object')\n",
    "\n",
    "\n",
    "df_train_x['Year_Sold'] = df_train_x['Year_Sold'].values.astype('object')\n",
    "df_test_x['Year_Sold'] = df_test_x['Year_Sold'].values.astype('object')\n",
    "\n",
    "\n",
    "\n",
    "\n",
    "#Observe SalePrice by Neighborhood and group this column into numeric\n",
    "\n",
    "#df_train_x.groupby('Neighborhood')['Sale_Price'].mean().sort_values()\n",
    "#Map Neighborhoods\n",
    "\n",
    "neighbor_map = {\n",
    "        'Meadow_Village':0, \n",
    "        'Iowa_DOT_and_Rail_Road': 0,\n",
    "        'Briardale': 0,\n",
    "        'Brookside':1,\n",
    "        'Old_Town':1,\n",
    "        'Edwards':1,\n",
    "        'Sawyer':1,\n",
    "        'Landmark':1,\n",
    "        'Blueste':1,\n",
    "        'South_and_West_of_Iowa_State_University':1,\n",
    "        'Northpark_Villa':1,\n",
    "        'North_Ames':1,\n",
    "        'Mitchell':1,\n",
    "        'Sawyer_West':2,\n",
    "        'Northwest_Ames':2,\n",
    "        'Gilbert':2,\n",
    "        'Bloomington_Heights':2,\n",
    "        'Greens':2,\n",
    "        'Crawford':3,\n",
    "        'Clear_Creek':3,\n",
    "        'College_Creek':3,\n",
    "        'Somerset':3,\n",
    "        'Green_Hills':3,\n",
    "        'Veenker':3,\n",
    "        'Timberland':3,\n",
    "        'Stone_Brook':4,\n",
    "        'Northridge_Heights':4,\n",
    "        'Northridge':4\n",
    "    }\n",
    "\n",
    "df_train_x['Neighborhood'] = df_train_x['Neighborhood'].map(neighbor_map).astype('object')\n",
    "df_test_x['Neighborhood'] = df_test_x['Neighborhood'].map(neighbor_map).astype('object')"
   ]
  },
  {
   "cell_type": "code",
   "execution_count": 10,
   "metadata": {},
   "outputs": [],
   "source": [
    "def categorical_variable_transform(train_df, test_df):\n",
    "    # IMPORTANT:\n",
    "    # The test_dataframe needs to use the encoder from the trainng_dataframe, because some categories might be\n",
    "    # missing in the test data\n",
    "    \n",
    "    categorical_feature_set = [feature for feature in train_df.columns if train_df[feature].dtypes=='object']\n",
    "\n",
    "    for feature in categorical_feature_set:\n",
    "        encoder = OneHotEncoder(handle_unknown='ignore')\n",
    "        train_category_matrix = [[element] for element in train_df[feature]]\n",
    "        test_category_matrix = [[element] for element in test_df[feature]]\n",
    "\n",
    "        encoder.fit(train_category_matrix)\n",
    "        train_df_hot_code = pd.DataFrame(encoder.transform(train_category_matrix).toarray())\n",
    "        test_df_hot_code = pd.DataFrame(encoder.transform(test_category_matrix).toarray())\n",
    "\n",
    "        train_df_hot_code.columns = [feature + '_' + str(c) for c in train_df_hot_code.columns]\n",
    "        test_df_hot_code.columns = [feature + '_' + str(c) for c in test_df_hot_code.columns]\n",
    "\n",
    "\n",
    "        # Replace the original feature with one-hot encoded feature\n",
    "        train_df.drop(columns=feature, inplace=True)\n",
    "        train_df = pd.concat([train_df, train_df_hot_code], axis=1)\n",
    "        test_df.drop(columns=feature, inplace=True)\n",
    "        test_df = pd.concat([test_df, test_df_hot_code], axis=1)\n",
    "\n",
    "\n",
    "    return train_df, test_df"
   ]
  },
  {
   "cell_type": "code",
   "execution_count": 11,
   "metadata": {},
   "outputs": [],
   "source": [
    "df_train_x_trans, df_test_x_trans =  categorical_variable_transform(df_train_x, df_test_x)"
   ]
  },
  {
   "cell_type": "markdown",
   "metadata": {},
   "source": [
    "### Build Models"
   ]
  },
  {
   "cell_type": "code",
   "execution_count": 12,
   "metadata": {},
   "outputs": [],
   "source": [
    "#df_train_x_trans['']"
   ]
  },
  {
   "cell_type": "code",
   "execution_count": 13,
   "metadata": {},
   "outputs": [],
   "source": [
    "# Log-scale sale_price\n",
    "df_train_y['Sale_Price'] =  df_train_y['Sale_Price'].apply(lambda y: np.log(y))\n",
    "df_test_y['Sale_Price'] =  df_test_y['Sale_Price'].apply(lambda y: np.log(y))"
   ]
  },
  {
   "cell_type": "markdown",
   "metadata": {},
   "source": [
    "### Elastic Net"
   ]
  },
  {
   "cell_type": "code",
   "execution_count": 14,
   "metadata": {},
   "outputs": [],
   "source": [
    "# elastic = ElasticNet(fit_intercept=True, max_iter=10000)\n",
    "# elastic_cv_pipeline = Pipeline(steps=[(\"scalar\",Normalizer()), (\"elastic\", elastic)])\n",
    "# alphas = np.logspace(-6, 0.1, 20)\n",
    "# param_grid = {\"elastic__alpha\":alphas}\n",
    "# n_folds = 10\n",
    "# elastic_clf = GridSearchCV(elastic_cv_pipeline, param_grid, cv=n_folds, refit=False, scoring='neg_mean_squared_error')\n",
    "\n",
    "# elastic_clf.fit(df_train_x_trans , df_train_y)\n",
    "# best_alpha = elastic_clf.best_params_['elastic__alpha']\n",
    "# print(best_alpha)\n",
    "\n",
    "# best_elastic = ElasticNet(fit_intercept=True, random_state=0, alpha=best_alpha, max_iter=10000)\n",
    "# best_elastic_pipeline = Pipeline(steps=[(\"scalar\",Normalizer()),(\"elastic\", best_elastic)])\n",
    "\n",
    "# best_elastic_pipeline.fit(df_train_x_trans , df_train_y)\n",
    "\n",
    "# elastic_test_predict = best_elastic_pipeline.predict(df_test_x_trans)\n",
    "\n",
    "# elastic_rmse_test =np.sqrt(np.mean((elastic_test_predict - np.squeeze(df_test_y.values))**2))\n",
    "# elastic_rmse_test"
   ]
  },
  {
   "cell_type": "markdown",
   "metadata": {},
   "source": [
    "### Lasso Linear Regression"
   ]
  },
  {
   "cell_type": "code",
   "execution_count": 15,
   "metadata": {},
   "outputs": [],
   "source": [
    "# lasso = Lasso(fit_intercept=True, max_iter=10000)\n",
    "# lasso_cv_pipeline = Pipeline(steps=[(\"scalar\",StandardScaler()), (\"lasso\", lasso)])\n",
    "\n",
    "# alphas = np.linspace(0.001, 0.005, 5)\n",
    "# param_grid = {\"lasso__alpha\":alphas}\n",
    "# n_folds = 10\n",
    "# lasso_clf = GridSearchCV(lasso_cv_pipeline, param_grid, cv=n_folds, refit=False, scoring='neg_mean_squared_error')"
   ]
  },
  {
   "cell_type": "code",
   "execution_count": 16,
   "metadata": {},
   "outputs": [],
   "source": [
    "#lasso_clf.fit(df_train_x_trans , df_train_y)\n"
   ]
  },
  {
   "cell_type": "code",
   "execution_count": 17,
   "metadata": {},
   "outputs": [],
   "source": [
    "# best_alpha = lasso_clf.best_params_['lasso__alpha']\n",
    "# print(best_alpha)"
   ]
  },
  {
   "cell_type": "code",
   "execution_count": 18,
   "metadata": {},
   "outputs": [
    {
     "data": {
      "text/html": [
       "<style>#sk-container-id-1 {color: black;}#sk-container-id-1 pre{padding: 0;}#sk-container-id-1 div.sk-toggleable {background-color: white;}#sk-container-id-1 label.sk-toggleable__label {cursor: pointer;display: block;width: 100%;margin-bottom: 0;padding: 0.3em;box-sizing: border-box;text-align: center;}#sk-container-id-1 label.sk-toggleable__label-arrow:before {content: \"▸\";float: left;margin-right: 0.25em;color: #696969;}#sk-container-id-1 label.sk-toggleable__label-arrow:hover:before {color: black;}#sk-container-id-1 div.sk-estimator:hover label.sk-toggleable__label-arrow:before {color: black;}#sk-container-id-1 div.sk-toggleable__content {max-height: 0;max-width: 0;overflow: hidden;text-align: left;background-color: #f0f8ff;}#sk-container-id-1 div.sk-toggleable__content pre {margin: 0.2em;color: black;border-radius: 0.25em;background-color: #f0f8ff;}#sk-container-id-1 input.sk-toggleable__control:checked~div.sk-toggleable__content {max-height: 200px;max-width: 100%;overflow: auto;}#sk-container-id-1 input.sk-toggleable__control:checked~label.sk-toggleable__label-arrow:before {content: \"▾\";}#sk-container-id-1 div.sk-estimator input.sk-toggleable__control:checked~label.sk-toggleable__label {background-color: #d4ebff;}#sk-container-id-1 div.sk-label input.sk-toggleable__control:checked~label.sk-toggleable__label {background-color: #d4ebff;}#sk-container-id-1 input.sk-hidden--visually {border: 0;clip: rect(1px 1px 1px 1px);clip: rect(1px, 1px, 1px, 1px);height: 1px;margin: -1px;overflow: hidden;padding: 0;position: absolute;width: 1px;}#sk-container-id-1 div.sk-estimator {font-family: monospace;background-color: #f0f8ff;border: 1px dotted black;border-radius: 0.25em;box-sizing: border-box;margin-bottom: 0.5em;}#sk-container-id-1 div.sk-estimator:hover {background-color: #d4ebff;}#sk-container-id-1 div.sk-parallel-item::after {content: \"\";width: 100%;border-bottom: 1px solid gray;flex-grow: 1;}#sk-container-id-1 div.sk-label:hover label.sk-toggleable__label {background-color: #d4ebff;}#sk-container-id-1 div.sk-serial::before {content: \"\";position: absolute;border-left: 1px solid gray;box-sizing: border-box;top: 0;bottom: 0;left: 50%;z-index: 0;}#sk-container-id-1 div.sk-serial {display: flex;flex-direction: column;align-items: center;background-color: white;padding-right: 0.2em;padding-left: 0.2em;position: relative;}#sk-container-id-1 div.sk-item {position: relative;z-index: 1;}#sk-container-id-1 div.sk-parallel {display: flex;align-items: stretch;justify-content: center;background-color: white;position: relative;}#sk-container-id-1 div.sk-item::before, #sk-container-id-1 div.sk-parallel-item::before {content: \"\";position: absolute;border-left: 1px solid gray;box-sizing: border-box;top: 0;bottom: 0;left: 50%;z-index: -1;}#sk-container-id-1 div.sk-parallel-item {display: flex;flex-direction: column;z-index: 1;position: relative;background-color: white;}#sk-container-id-1 div.sk-parallel-item:first-child::after {align-self: flex-end;width: 50%;}#sk-container-id-1 div.sk-parallel-item:last-child::after {align-self: flex-start;width: 50%;}#sk-container-id-1 div.sk-parallel-item:only-child::after {width: 0;}#sk-container-id-1 div.sk-dashed-wrapped {border: 1px dashed gray;margin: 0 0.4em 0.5em 0.4em;box-sizing: border-box;padding-bottom: 0.4em;background-color: white;}#sk-container-id-1 div.sk-label label {font-family: monospace;font-weight: bold;display: inline-block;line-height: 1.2em;}#sk-container-id-1 div.sk-label-container {text-align: center;}#sk-container-id-1 div.sk-container {/* jupyter's `normalize.less` sets `[hidden] { display: none; }` but bootstrap.min.css set `[hidden] { display: none !important; }` so we also need the `!important` here to be able to override the default hidden behavior on the sphinx rendered scikit-learn.org. See: https://github.com/scikit-learn/scikit-learn/issues/21755 */display: inline-block !important;position: relative;}#sk-container-id-1 div.sk-text-repr-fallback {display: none;}</style><div id=\"sk-container-id-1\" class=\"sk-top-container\"><div class=\"sk-text-repr-fallback\"><pre>Pipeline(steps=[(&#x27;scalar&#x27;, StandardScaler()),\n",
       "                (&#x27;lasso&#x27;, Lasso(alpha=0.0026, max_iter=10000))])</pre><b>In a Jupyter environment, please rerun this cell to show the HTML representation or trust the notebook. <br />On GitHub, the HTML representation is unable to render, please try loading this page with nbviewer.org.</b></div><div class=\"sk-container\" hidden><div class=\"sk-item sk-dashed-wrapped\"><div class=\"sk-label-container\"><div class=\"sk-label sk-toggleable\"><input class=\"sk-toggleable__control sk-hidden--visually\" id=\"sk-estimator-id-1\" type=\"checkbox\" ><label for=\"sk-estimator-id-1\" class=\"sk-toggleable__label sk-toggleable__label-arrow\">Pipeline</label><div class=\"sk-toggleable__content\"><pre>Pipeline(steps=[(&#x27;scalar&#x27;, StandardScaler()),\n",
       "                (&#x27;lasso&#x27;, Lasso(alpha=0.0026, max_iter=10000))])</pre></div></div></div><div class=\"sk-serial\"><div class=\"sk-item\"><div class=\"sk-estimator sk-toggleable\"><input class=\"sk-toggleable__control sk-hidden--visually\" id=\"sk-estimator-id-2\" type=\"checkbox\" ><label for=\"sk-estimator-id-2\" class=\"sk-toggleable__label sk-toggleable__label-arrow\">StandardScaler</label><div class=\"sk-toggleable__content\"><pre>StandardScaler()</pre></div></div></div><div class=\"sk-item\"><div class=\"sk-estimator sk-toggleable\"><input class=\"sk-toggleable__control sk-hidden--visually\" id=\"sk-estimator-id-3\" type=\"checkbox\" ><label for=\"sk-estimator-id-3\" class=\"sk-toggleable__label sk-toggleable__label-arrow\">Lasso</label><div class=\"sk-toggleable__content\"><pre>Lasso(alpha=0.0026, max_iter=10000)</pre></div></div></div></div></div></div></div>"
      ],
      "text/plain": [
       "Pipeline(steps=[('scalar', StandardScaler()),\n",
       "                ('lasso', Lasso(alpha=0.0026, max_iter=10000))])"
      ]
     },
     "execution_count": 18,
     "metadata": {},
     "output_type": "execute_result"
    }
   ],
   "source": [
    "best_alpha = 0.0026\n",
    "best_lasso = Lasso(alpha=best_alpha, max_iter=10000)\n",
    "best_lasso_pipeline = Pipeline(steps=[(\"scalar\",StandardScaler()), (\"lasso\", best_lasso)])\n",
    "\n",
    "best_lasso_pipeline.fit(df_train_x_trans , df_train_y)"
   ]
  },
  {
   "cell_type": "code",
   "execution_count": 19,
   "metadata": {},
   "outputs": [],
   "source": [
    "lasso_train_predict = best_lasso_pipeline.predict(df_train_x_trans)\n",
    "lasso_test_predict = best_lasso_pipeline.predict(df_test_x_trans)"
   ]
  },
  {
   "cell_type": "code",
   "execution_count": 20,
   "metadata": {},
   "outputs": [
    {
     "data": {
      "text/plain": [
       "0.13174114804155168"
      ]
     },
     "execution_count": 20,
     "metadata": {},
     "output_type": "execute_result"
    }
   ],
   "source": [
    "lasso_rmse_train = np.sqrt(np.mean((lasso_train_predict - np.squeeze(df_train_y.values))**2))\n",
    "lasso_rmse_test =np.sqrt(np.mean((lasso_test_predict - np.squeeze(df_test_y.values))**2))\n",
    "lasso_rmse_test"
   ]
  },
  {
   "cell_type": "code",
   "execution_count": 21,
   "metadata": {},
   "outputs": [
    {
     "name": "stdout",
     "output_type": "stream",
     "text": [
      "Lasso Linear Regression: Root mean squared error of train result is 0.10608944012756337\n",
      "Lasso Linear Regression: Root mean squared error of test result is 0.13174114804155168\n"
     ]
    }
   ],
   "source": [
    "print(\"Lasso Linear Regression: Root mean squared error of train result is {}\".format(lasso_rmse_train))\n",
    "print(\"Lasso Linear Regression: Root mean squared error of test result is {}\".format(lasso_rmse_test))"
   ]
  },
  {
   "cell_type": "markdown",
   "metadata": {},
   "source": [
    "### XGBoost model"
   ]
  },
  {
   "cell_type": "code",
   "execution_count": 22,
   "metadata": {},
   "outputs": [],
   "source": [
    "# xgb = XGBRegressor()\n",
    "# xgb_cv_pipeline = Pipeline(steps=[(\"scalar\",StandardScaler()), (\"xgb\", xgb)])\n",
    "# param_grid = {\"xgb__max_depth\":[2, 3, 4, 5, 6],\n",
    "#               \"xgb__n_estimators\":[200, 400, 600, 800, 1000]}\n",
    "\n",
    "# n_folds = 10\n",
    "# xgb_clf = GridSearchCV(xgb_cv_pipeline, param_grid, cv=n_folds, scoring='neg_mean_squared_error')\n",
    "# xgb_clf.fit(df_train_x_trans , df_train_y)"
   ]
  },
  {
   "cell_type": "code",
   "execution_count": 23,
   "metadata": {},
   "outputs": [],
   "source": [
    "# best_params_xgb = xgb_clf.best_params_\n",
    "# print(best_params_xgb)"
   ]
  },
  {
   "cell_type": "code",
   "execution_count": 24,
   "metadata": {},
   "outputs": [
    {
     "data": {
      "text/html": [
       "<style>#sk-container-id-2 {color: black;}#sk-container-id-2 pre{padding: 0;}#sk-container-id-2 div.sk-toggleable {background-color: white;}#sk-container-id-2 label.sk-toggleable__label {cursor: pointer;display: block;width: 100%;margin-bottom: 0;padding: 0.3em;box-sizing: border-box;text-align: center;}#sk-container-id-2 label.sk-toggleable__label-arrow:before {content: \"▸\";float: left;margin-right: 0.25em;color: #696969;}#sk-container-id-2 label.sk-toggleable__label-arrow:hover:before {color: black;}#sk-container-id-2 div.sk-estimator:hover label.sk-toggleable__label-arrow:before {color: black;}#sk-container-id-2 div.sk-toggleable__content {max-height: 0;max-width: 0;overflow: hidden;text-align: left;background-color: #f0f8ff;}#sk-container-id-2 div.sk-toggleable__content pre {margin: 0.2em;color: black;border-radius: 0.25em;background-color: #f0f8ff;}#sk-container-id-2 input.sk-toggleable__control:checked~div.sk-toggleable__content {max-height: 200px;max-width: 100%;overflow: auto;}#sk-container-id-2 input.sk-toggleable__control:checked~label.sk-toggleable__label-arrow:before {content: \"▾\";}#sk-container-id-2 div.sk-estimator input.sk-toggleable__control:checked~label.sk-toggleable__label {background-color: #d4ebff;}#sk-container-id-2 div.sk-label input.sk-toggleable__control:checked~label.sk-toggleable__label {background-color: #d4ebff;}#sk-container-id-2 input.sk-hidden--visually {border: 0;clip: rect(1px 1px 1px 1px);clip: rect(1px, 1px, 1px, 1px);height: 1px;margin: -1px;overflow: hidden;padding: 0;position: absolute;width: 1px;}#sk-container-id-2 div.sk-estimator {font-family: monospace;background-color: #f0f8ff;border: 1px dotted black;border-radius: 0.25em;box-sizing: border-box;margin-bottom: 0.5em;}#sk-container-id-2 div.sk-estimator:hover {background-color: #d4ebff;}#sk-container-id-2 div.sk-parallel-item::after {content: \"\";width: 100%;border-bottom: 1px solid gray;flex-grow: 1;}#sk-container-id-2 div.sk-label:hover label.sk-toggleable__label {background-color: #d4ebff;}#sk-container-id-2 div.sk-serial::before {content: \"\";position: absolute;border-left: 1px solid gray;box-sizing: border-box;top: 0;bottom: 0;left: 50%;z-index: 0;}#sk-container-id-2 div.sk-serial {display: flex;flex-direction: column;align-items: center;background-color: white;padding-right: 0.2em;padding-left: 0.2em;position: relative;}#sk-container-id-2 div.sk-item {position: relative;z-index: 1;}#sk-container-id-2 div.sk-parallel {display: flex;align-items: stretch;justify-content: center;background-color: white;position: relative;}#sk-container-id-2 div.sk-item::before, #sk-container-id-2 div.sk-parallel-item::before {content: \"\";position: absolute;border-left: 1px solid gray;box-sizing: border-box;top: 0;bottom: 0;left: 50%;z-index: -1;}#sk-container-id-2 div.sk-parallel-item {display: flex;flex-direction: column;z-index: 1;position: relative;background-color: white;}#sk-container-id-2 div.sk-parallel-item:first-child::after {align-self: flex-end;width: 50%;}#sk-container-id-2 div.sk-parallel-item:last-child::after {align-self: flex-start;width: 50%;}#sk-container-id-2 div.sk-parallel-item:only-child::after {width: 0;}#sk-container-id-2 div.sk-dashed-wrapped {border: 1px dashed gray;margin: 0 0.4em 0.5em 0.4em;box-sizing: border-box;padding-bottom: 0.4em;background-color: white;}#sk-container-id-2 div.sk-label label {font-family: monospace;font-weight: bold;display: inline-block;line-height: 1.2em;}#sk-container-id-2 div.sk-label-container {text-align: center;}#sk-container-id-2 div.sk-container {/* jupyter's `normalize.less` sets `[hidden] { display: none; }` but bootstrap.min.css set `[hidden] { display: none !important; }` so we also need the `!important` here to be able to override the default hidden behavior on the sphinx rendered scikit-learn.org. See: https://github.com/scikit-learn/scikit-learn/issues/21755 */display: inline-block !important;position: relative;}#sk-container-id-2 div.sk-text-repr-fallback {display: none;}</style><div id=\"sk-container-id-2\" class=\"sk-top-container\"><div class=\"sk-text-repr-fallback\"><pre>Pipeline(steps=[(&#x27;scalar&#x27;, StandardScaler()),\n",
       "                (&#x27;xgb&#x27;,\n",
       "                 XGBRegressor(base_score=None, booster=None, callbacks=None,\n",
       "                              colsample_bylevel=None, colsample_bynode=None,\n",
       "                              colsample_bytree=None, device=None,\n",
       "                              early_stopping_rounds=None,\n",
       "                              enable_categorical=False, eval_metric=None,\n",
       "                              feature_types=None, gamma=None, grow_policy=None,\n",
       "                              importance_type=None,\n",
       "                              interaction_constraints=None, learning_rate=None,\n",
       "                              max_bin=None, max_cat_threshold=None,\n",
       "                              max_cat_to_onehot=None, max_delta_step=None,\n",
       "                              max_depth=2, max_leaves=None,\n",
       "                              min_child_weight=None, missing=nan,\n",
       "                              monotone_constraints=None, multi_strategy=None,\n",
       "                              n_estimators=400, n_jobs=None,\n",
       "                              num_parallel_tree=None, random_state=None, ...))])</pre><b>In a Jupyter environment, please rerun this cell to show the HTML representation or trust the notebook. <br />On GitHub, the HTML representation is unable to render, please try loading this page with nbviewer.org.</b></div><div class=\"sk-container\" hidden><div class=\"sk-item sk-dashed-wrapped\"><div class=\"sk-label-container\"><div class=\"sk-label sk-toggleable\"><input class=\"sk-toggleable__control sk-hidden--visually\" id=\"sk-estimator-id-4\" type=\"checkbox\" ><label for=\"sk-estimator-id-4\" class=\"sk-toggleable__label sk-toggleable__label-arrow\">Pipeline</label><div class=\"sk-toggleable__content\"><pre>Pipeline(steps=[(&#x27;scalar&#x27;, StandardScaler()),\n",
       "                (&#x27;xgb&#x27;,\n",
       "                 XGBRegressor(base_score=None, booster=None, callbacks=None,\n",
       "                              colsample_bylevel=None, colsample_bynode=None,\n",
       "                              colsample_bytree=None, device=None,\n",
       "                              early_stopping_rounds=None,\n",
       "                              enable_categorical=False, eval_metric=None,\n",
       "                              feature_types=None, gamma=None, grow_policy=None,\n",
       "                              importance_type=None,\n",
       "                              interaction_constraints=None, learning_rate=None,\n",
       "                              max_bin=None, max_cat_threshold=None,\n",
       "                              max_cat_to_onehot=None, max_delta_step=None,\n",
       "                              max_depth=2, max_leaves=None,\n",
       "                              min_child_weight=None, missing=nan,\n",
       "                              monotone_constraints=None, multi_strategy=None,\n",
       "                              n_estimators=400, n_jobs=None,\n",
       "                              num_parallel_tree=None, random_state=None, ...))])</pre></div></div></div><div class=\"sk-serial\"><div class=\"sk-item\"><div class=\"sk-estimator sk-toggleable\"><input class=\"sk-toggleable__control sk-hidden--visually\" id=\"sk-estimator-id-5\" type=\"checkbox\" ><label for=\"sk-estimator-id-5\" class=\"sk-toggleable__label sk-toggleable__label-arrow\">StandardScaler</label><div class=\"sk-toggleable__content\"><pre>StandardScaler()</pre></div></div></div><div class=\"sk-item\"><div class=\"sk-estimator sk-toggleable\"><input class=\"sk-toggleable__control sk-hidden--visually\" id=\"sk-estimator-id-6\" type=\"checkbox\" ><label for=\"sk-estimator-id-6\" class=\"sk-toggleable__label sk-toggleable__label-arrow\">XGBRegressor</label><div class=\"sk-toggleable__content\"><pre>XGBRegressor(base_score=None, booster=None, callbacks=None,\n",
       "             colsample_bylevel=None, colsample_bynode=None,\n",
       "             colsample_bytree=None, device=None, early_stopping_rounds=None,\n",
       "             enable_categorical=False, eval_metric=None, feature_types=None,\n",
       "             gamma=None, grow_policy=None, importance_type=None,\n",
       "             interaction_constraints=None, learning_rate=None, max_bin=None,\n",
       "             max_cat_threshold=None, max_cat_to_onehot=None,\n",
       "             max_delta_step=None, max_depth=2, max_leaves=None,\n",
       "             min_child_weight=None, missing=nan, monotone_constraints=None,\n",
       "             multi_strategy=None, n_estimators=400, n_jobs=None,\n",
       "             num_parallel_tree=None, random_state=None, ...)</pre></div></div></div></div></div></div></div>"
      ],
      "text/plain": [
       "Pipeline(steps=[('scalar', StandardScaler()),\n",
       "                ('xgb',\n",
       "                 XGBRegressor(base_score=None, booster=None, callbacks=None,\n",
       "                              colsample_bylevel=None, colsample_bynode=None,\n",
       "                              colsample_bytree=None, device=None,\n",
       "                              early_stopping_rounds=None,\n",
       "                              enable_categorical=False, eval_metric=None,\n",
       "                              feature_types=None, gamma=None, grow_policy=None,\n",
       "                              importance_type=None,\n",
       "                              interaction_constraints=None, learning_rate=None,\n",
       "                              max_bin=None, max_cat_threshold=None,\n",
       "                              max_cat_to_onehot=None, max_delta_step=None,\n",
       "                              max_depth=2, max_leaves=None,\n",
       "                              min_child_weight=None, missing=nan,\n",
       "                              monotone_constraints=None, multi_strategy=None,\n",
       "                              n_estimators=400, n_jobs=None,\n",
       "                              num_parallel_tree=None, random_state=None, ...))])"
      ]
     },
     "execution_count": 24,
     "metadata": {},
     "output_type": "execute_result"
    }
   ],
   "source": [
    "best_xgb = XGBRegressor(max_depth=2, n_estimators=400)\n",
    "best_xgb_pipeline = Pipeline(steps=[(\"scalar\",StandardScaler()), (\"xgb\", best_xgb)])\n",
    "\n",
    "best_xgb_pipeline.fit(df_train_x_trans , df_train_y)"
   ]
  },
  {
   "cell_type": "code",
   "execution_count": 25,
   "metadata": {},
   "outputs": [],
   "source": [
    "xgb_train_predict = best_xgb_pipeline.predict(df_train_x_trans)\n",
    "xgb_test_predict = best_xgb_pipeline.predict(df_test_x_trans)"
   ]
  },
  {
   "cell_type": "code",
   "execution_count": 26,
   "metadata": {},
   "outputs": [],
   "source": [
    "xgb_rmse_train = np.sqrt(np.mean((xgb_train_predict - np.squeeze(df_train_y.values))**2))\n",
    "xgb_rmse_test = np.sqrt(np.mean((xgb_test_predict - np.squeeze(df_test_y.values))**2))"
   ]
  },
  {
   "cell_type": "code",
   "execution_count": 27,
   "metadata": {},
   "outputs": [
    {
     "name": "stdout",
     "output_type": "stream",
     "text": [
      "XGBoost: Root mean squared error of train result is 0.06159460836806481\n",
      "XGBoost: Root mean squared error of test result is 0.13036797427448082\n"
     ]
    }
   ],
   "source": [
    "print(\"XGBoost: Root mean squared error of train result is {}\".format(xgb_rmse_train))\n",
    "print(\"XGBoost: Root mean squared error of test result is {}\".format(xgb_rmse_test))"
   ]
  },
  {
   "cell_type": "code",
   "execution_count": null,
   "metadata": {},
   "outputs": [],
   "source": []
  },
  {
   "cell_type": "code",
   "execution_count": null,
   "metadata": {},
   "outputs": [],
   "source": []
  }
 ],
 "metadata": {
  "kernelspec": {
   "display_name": "python39",
   "language": "python",
   "name": "python3"
  },
  "language_info": {
   "codemirror_mode": {
    "name": "ipython",
    "version": 3
   },
   "file_extension": ".py",
   "mimetype": "text/x-python",
   "name": "python",
   "nbconvert_exporter": "python",
   "pygments_lexer": "ipython3",
   "version": "3.9.12"
  },
  "orig_nbformat": 4
 },
 "nbformat": 4,
 "nbformat_minor": 2
}
