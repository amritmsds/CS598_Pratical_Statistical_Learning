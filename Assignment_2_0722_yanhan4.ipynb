{
 "cells": [
  {
   "cell_type": "markdown",
   "id": "93d8f2c6",
   "metadata": {},
   "source": [
    "## Team member and Contributions\n",
    "> Shu Xu (shuxu3@illinois.edu): Part I, Implement Lasso\n",
    "\n",
    "> Yan Han (yanhan4@illinois.edu): Part II\n",
    "\n",
    "> Amrit Kumar(amritk2@illinois.edu): Part II\n",
    "\n",
    "**We finish this notebook together.**"
   ]
  },
  {
   "cell_type": "markdown",
   "id": "7571c526",
   "metadata": {},
   "source": [
    "## Part I: Implement Lasso\n",
    "**One-variable Lasso**\n",
    "\n",
    "First, write a function <em>one_var_lasso</em> that takes the following inputs:\n",
    "$$\n",
    "    {\\bf v} = (v_1, ..., v_n)^t, {\\bf z} = (z_1, ..., z_n)^t, \\lambda > 0\n",
    "$$\n",
    "and solves the following one-variable Lasso problem:\n",
    "$$\n",
    "    \\min_b \\frac{1}{2n} \\sum_{i=1}^{n} (v_i - bz_i)^2 + \\lambda |b| =  \\min_b \\frac{1}{2n} \\|{\\bf v} - b \\cdot {\\bf z}\\| + \\lambda|b|\n",
    "$$"
   ]
  },
  {
   "cell_type": "markdown",
   "id": "20175123",
   "metadata": {},
   "source": [
    "\n",
    "\n",
    "**The CD Algorithm**\n",
    "\n",
    "Next, write your own function <em>MyLasso</em> to implement the **Coordinate Descent (CD)** algorithm by repeatedly calling <em>one_var_lasso.</em>\n",
    "\n",
    "In the CD algorithm, at each iteration, we solve a one-variable Lasso problem for $\\beta_j$, while holding the other (p-1) coefficients at their current values:\n",
    "$$\n",
    "    \\min_{\\beta_j} \\frac{1}{2n} \\sum_{i=1}^{n} (y_i - \\sum_{k \\neq j} x_{ik} \\beta_k - x_{ij}\\beta_j)^2 + \\lambda \\sum_{k \\neq j} |\\beta_k| + \\lambda |\\beta_j|\n",
    "$$\n",
    "which is equivalent to solving the following one-variable Lasso problem\n",
    "$$\n",
    "    \\min_{\\beta_j} \\frac{1}{2n} \\sum_{i=1}^{n} (v_i - x_{ij}\\beta_j)^2 + \\lambda |\\beta_j|, v_i = y_i - \\sum_{k \\neq j} x_{ik}\\beta_k\n",
    "$$\n",
    "\n",
    "**Test Your Function**\n",
    "\n",
    "Test your function <em>MyLasso</em> on the data set <u>Coding2_Data.csv</u> with a specific lambda sequence (see the sample code).\n",
    "\n",
    "Your function should output estimated Lasso coefficients similar to the ones returned by R with option <u>standardized = TRUE</u>. The maximum difference between the two coefficient matrices should be **less than 0.005**."
   ]
  },
  {
   "cell_type": "markdown",
   "id": "c4008488",
   "metadata": {},
   "source": [
    "**Load Data**"
   ]
  },
  {
   "cell_type": "code",
   "execution_count": 15,
   "id": "6f21caea",
   "metadata": {},
   "outputs": [],
   "source": [
    "import numpy as np\n",
    "import pandas as pd\n",
    "import matplotlib.pyplot as plt"
   ]
  },
  {
   "cell_type": "code",
   "execution_count": 16,
   "id": "c603932b",
   "metadata": {},
   "outputs": [],
   "source": [
    "myData = pd.read_csv(\"Data/Coding2_Data.csv\")\n",
    "var_names = myData.columns\n",
    "y = myData[['Y']].to_numpy()\n",
    "X = myData.drop(['Y'], axis = 1).to_numpy()"
   ]
  },
  {
   "cell_type": "code",
   "execution_count": 17,
   "id": "6f9568b3",
   "metadata": {},
   "outputs": [
    {
     "data": {
      "text/plain": [
       "((506, 13), 506)"
      ]
     },
     "execution_count": 17,
     "metadata": {},
     "output_type": "execute_result"
    }
   ],
   "source": [
    "X.shape, len(y)"
   ]
  },
  {
   "cell_type": "markdown",
   "id": "c4bebde0",
   "metadata": {},
   "source": [
    "**CD for Lasso**"
   ]
  },
  {
   "cell_type": "code",
   "execution_count": 18,
   "id": "056460c1",
   "metadata": {},
   "outputs": [],
   "source": [
    "def one_var_lasso(r, x, lam):\n",
    "    \n",
    "    #################\n",
    "    # Your CODE\n",
    "    #################\n",
    "    n = len(x)\n",
    "    xTx = np.dot(x.T, x)\n",
    "    xTr = np.dot(x.T, r)\n",
    "\n",
    "    # From \"OnVarLass.pdf\", where b is the minimizer, i.e., x_star\n",
    "    a = xTr/xTx\n",
    "    eta = 2 * n * lam/xTx\n",
    "    second_term = abs(a) - eta/2 # second term in Equation(2) \n",
    "    if second_term < 0:\n",
    "        second_term = 0\n",
    "    b = np.sign(a) * second_term\n",
    "    return b"
   ]
  },
  {
   "cell_type": "code",
   "execution_count": 19,
   "id": "74d63bf5",
   "metadata": {},
   "outputs": [],
   "source": [
    "def MyLasso(X, y, lam_seq, maxit = 100):\n",
    "    \n",
    "    # Input\n",
    "    # X: n-by-p design matrix without the intercept \n",
    "    # y: n-by-1 response vector \n",
    "    # lam.seq: sequence of lambda values (arranged from large to small)\n",
    "    # maxit: number of updates for each lambda \n",
    "    \n",
    "    # Output\n",
    "    # B: a (p+1)-by-len(lam.seq) coefficient matrix \n",
    "    #    with the first row being the intercept sequence \n",
    "\n",
    "  \n",
    "    n, p = X.shape\n",
    "    nlam = len(lam_seq)\n",
    "    B = np.zeros((p+1, nlam))\n",
    "    \n",
    "    ##############################\n",
    "    # YOUR CODE: \n",
    "    # (1) newX = Standardizad X; \n",
    "    # (2) Record the centers and scales used in (1) \n",
    "    ##############################\n",
    "    y_mean = np.mean(y)\n",
    "    X_mean = np.mean(X, axis = 0)\n",
    "    X_std = np.std(X, axis = 0) \n",
    "    newX = (X - X_mean) / X_std\n",
    "\n",
    "    \n",
    "    # no need to center y\n",
    "    # Initilize coef vector b and residual vector r\n",
    "    b = np.zeros(p)\n",
    "    r = y\n",
    "    \n",
    "    # Triple nested loop\n",
    "    for m in range(nlam):\n",
    "        for step in range(maxit):\n",
    "            for j in range(p):\n",
    "                X_j = newX[:, j].reshape(-1,1)\n",
    "                r = r + X_j * b[j]\n",
    "                b[j] = one_var_lasso(r, X_j, lam_seq[m])\n",
    "                r = r - X_j * b[j]\n",
    "        B[1:, m] = b \n",
    "    \n",
    "    ##############################\n",
    "    # YOUR CODE:\n",
    "    # Scale back the coefficients;\n",
    "    # Update the intercepts stored in B[0, :]\n",
    "    ##############################\n",
    "    coeff = (B[1:, :].T/X_std).T  # watch out for the dimension match\n",
    "    B[0, :] = y_mean - np.dot(X_mean[None, :], coeff)\n",
    "    B[1:, :] = coeff\n",
    "    \n",
    "    return B"
   ]
  },
  {
   "cell_type": "code",
   "execution_count": 20,
   "id": "7d92b63a",
   "metadata": {},
   "outputs": [],
   "source": [
    "log_lam_seq = np.linspace(-1, -8, num = 80)\n",
    "lam_seq = np.exp(log_lam_seq)\n",
    "myout = MyLasso(X, y, lam_seq, maxit = 100)"
   ]
  },
  {
   "cell_type": "code",
   "execution_count": 21,
   "id": "0442a126",
   "metadata": {},
   "outputs": [
    {
     "data": {
      "text/plain": [
       "(-8.35, -0.6499999999999999, -0.30999458351284664, 0.4997421988480475)"
      ]
     },
     "execution_count": 21,
     "metadata": {},
     "output_type": "execute_result"
    },
    {
     "data": {
      "image/png": "[encoded data removed]",
      "text/plain": [
       "<Figure size 1200x800 with 1 Axes>"
      ]
     },
     "metadata": {},
     "output_type": "display_data"
    }
   ],
   "source": [
    "p, _ = myout.shape\n",
    "plt.figure(figsize = (12,8))\n",
    "\n",
    "for i in range(p-1):\n",
    "    plt.plot(log_lam_seq, myout[i+1, :], label = var_names[i])\n",
    "\n",
    "plt.xlabel('Log Lambda')\n",
    "plt.ylabel('Coefficients')\n",
    "plt.title('Lasso Paths - Numpy implementation')\n",
    "plt.legend()\n",
    "plt.axis('tight')"
   ]
  },
  {
   "cell_type": "markdown",
   "id": "d9534686",
   "metadata": {},
   "source": [
    "**Check the Accuracy**\n",
    "\n",
    "Compare the accuracy of your algorithm against the output from glmnet. The maximum difference between the two coefficient matrices should be less than 0.005."
   ]
  },
  {
   "cell_type": "code",
   "execution_count": 22,
   "id": "33071a7c",
   "metadata": {},
   "outputs": [
    {
     "data": {
      "text/plain": [
       "(14, 80)"
      ]
     },
     "execution_count": 22,
     "metadata": {},
     "output_type": "execute_result"
    }
   ],
   "source": [
    "lasso_coef = pd.read_csv(\"Data/Coding2_lasso_coefs.csv\").to_numpy()\n",
    "lasso_coef.shape"
   ]
  },
  {
   "cell_type": "code",
   "execution_count": 23,
   "id": "06d95e58",
   "metadata": {},
   "outputs": [
    {
     "data": {
      "text/plain": [
       "0.004645317415924666"
      ]
     },
     "execution_count": 23,
     "metadata": {},
     "output_type": "execute_result"
    }
   ],
   "source": [
    "abs(myout - lasso_coef).max()"
   ]
  },
  {
   "cell_type": "markdown",
   "id": "c69708a5",
   "metadata": {
    "id": "c69708a5"
   },
   "source": [
    "### Part II: Simulation Study"
   ]
  },
  {
   "cell_type": "code",
   "execution_count": 1,
   "id": "a2a6a8f5",
   "metadata": {
    "id": "a2a6a8f5"
   },
   "outputs": [],
   "source": [
    "import pandas as pd\n",
    "import numpy as np\n",
    "import matplotlib.pyplot as plt\n",
    "import seaborn as sns\n",
    "\n",
    "from sklearn.metrics import mean_squared_error\n",
    "from sklearn.model_selection import train_test_split\n",
    "from sklearn.linear_model import LinearRegression as lm\n",
    "from sklearn.linear_model import Ridge, RidgeCV, Lasso, LassoCV\n",
    "\n",
    "from sklearn.decomposition import PCA\n",
    "from sklearn.preprocessing import StandardScaler\n",
    "from sklearn.pipeline import Pipeline"
   ]
  },
  {
   "cell_type": "code",
   "execution_count": 2,
   "id": "699f3bad",
   "metadata": {
    "id": "699f3bad"
   },
   "outputs": [],
   "source": [
    "import warnings\n",
    "from sklearn.exceptions import ConvergenceWarning\n",
    "warnings.filterwarnings(\"ignore\", category=ConvergenceWarning)"
   ]
  },
  {
   "cell_type": "code",
   "execution_count": 16,
   "id": "48b495ea",
   "metadata": {
    "id": "48b495ea"
   },
   "outputs": [],
   "source": [
    "# Load the datasets\n",
    "data_case1 = pd.read_csv(\"Data/Coding2_Data2.csv\")\n",
    "data_case2 = pd.read_csv(\"Data/Coding2_Data3.csv\")"
   ]
  },
  {
   "cell_type": "code",
   "execution_count": 17,
   "id": "a46eb2cf",
   "metadata": {
    "id": "a46eb2cf"
   },
   "outputs": [],
   "source": [
    "class PCR(object):\n",
    "\n",
    "    def __init__(self, num_folds=10):\n",
    "        self.folds = num_folds\n",
    "\n",
    "    def fit(self, X, Y):\n",
    "        n, p = X.shape\n",
    "        indices = np.arange(n)\n",
    "        np.random.shuffle(indices)\n",
    "        index_sets = np.array_split(indices, self.folds)\n",
    "        ncomp = min(p, n - 1 - max([len(i) for i in index_sets]))\n",
    "        cv_err = np.zeros(ncomp)\n",
    "\n",
    "        for ifold in range(self.folds):\n",
    "            train_inds =  np.delete(index_sets, obj=ifold, axis=0).ravel()\n",
    "            test_inds = index_sets[ifold]\n",
    "\n",
    "            X_train = X[train_inds, :]\n",
    "            pipeline = Pipeline([('scaling', StandardScaler()), ('pca', PCA())])\n",
    "            pipeline.fit(X_train)\n",
    "            X_train = pipeline.transform(X_train)\n",
    "            coefs = Y[train_inds].T @ X_train / np.sum(X_train**2, axis=0)\n",
    "            b0 = np.mean(Y[train_inds])\n",
    "\n",
    "            X_test = pipeline.transform(X[test_inds, :])\n",
    "\n",
    "            for k in np.arange(ncomp):\n",
    "                preds = X_test[:, :k] @ coefs.T[:k] + b0\n",
    "                cv_err[k] += cv_err[k] + np.sum((Y[test_inds]-preds)**2)\n",
    "\n",
    "        min_ind = np.argmin(cv_err)\n",
    "        self.ncomp = min_ind+1\n",
    "        pipeline = Pipeline([('scaling', StandardScaler()), ('pca', PCA(n_components=self.ncomp))])\n",
    "        self.transform = pipeline.fit(X)\n",
    "        self.model = lm().fit(self.transform.transform(X), Y)\n",
    "\n",
    "    def predict(self, X):\n",
    "        X_ = self.transform.transform(X)\n",
    "        return self.model.predict(X_)"
   ]
  },
  {
   "cell_type": "code",
   "execution_count": 18,
   "id": "3504936a",
   "metadata": {
    "id": "3504936a"
   },
   "outputs": [],
   "source": [
    "def simulate_case_v1(data, num_iterations):\n",
    "    num_procedures = 6\n",
    "\n",
    "    mspe_results = np.zeros((num_iterations, num_procedures))\n",
    "    Y_data = data['Y']\n",
    "    X_data = data.drop(['Y'], axis = 1)\n",
    "\n",
    "    for iteration in range(num_iterations):\n",
    "        np.random.seed(722 + iteration)\n",
    "        # Randomly split the data into training and testing sets\n",
    "        n_case1 = len(Y_data)\n",
    "        indices = np.arange(0, n_case1)\n",
    "        np.random.shuffle(indices)\n",
    "        test_ind_case1 = indices[:int(np.floor(0.25*n_case1))]\n",
    "        train_ind_case1 = indices[len(test_ind_case1):]\n",
    "\n",
    "        # Splitting the data into training and testing sets\n",
    "        X_train = X_data.iloc[train_ind_case1]\n",
    "        Y_train = Y_data[train_ind_case1]\n",
    "        X_test = X_data.iloc[test_ind_case1]\n",
    "        Y_test = Y_data[test_ind_case1]\n",
    "\n",
    "        # Full Model\n",
    "        full = lm().fit(X_train, Y_train)\n",
    "\n",
    "        # Ridge Min\n",
    "        ridge_alphas = np.logspace(-10, 1, 100)\n",
    "\n",
    "        ridgecv = RidgeCV(alphas = ridge_alphas, cv = 10, scoring = 'neg_mean_squared_error')\n",
    "        ridgecv_pipeline = Pipeline([('scaling', StandardScaler()), ('ridgecv', ridgecv)])\n",
    "        ridgecv_pipeline.fit(X_train, Y_train)\n",
    "\n",
    "        lambda_min = ridgecv_pipeline['ridgecv'].alpha_\n",
    "        ridge_model = Ridge(alpha = lambda_min)\n",
    "        ridge_pipeline = Pipeline([('scaling', StandardScaler()), ('ridge', ridge_model)])\n",
    "        ridge_pipeline.fit(X_train, Y_train)\n",
    "\n",
    "        # Lasso.min and Lasso.1se\n",
    "        lasso_alphas = np.logspace(-10, 1, 100)\n",
    "        lassocv = LassoCV(alphas = lasso_alphas, cv = 10)\n",
    "        lassocv_pipeline = Pipeline([('scaling', StandardScaler()), ('lassocv', lassocv)])\n",
    "        lassocv_pipeline.fit(X_train, Y_train)\n",
    "\n",
    "        mean_mse = np.mean(lassocv_pipeline['lassocv'].mse_path_, axis=1)\n",
    "        std_mse = np.std(lassocv_pipeline['lassocv'].mse_path_, axis=1) / np.sqrt(10)\n",
    "\n",
    "        cv_alphas = lassocv_pipeline['lassocv'].alphas_\n",
    "        min_idx = np.argmin(mean_mse)\n",
    "\n",
    "        alpha_min = cv_alphas[min_idx]\n",
    "\n",
    "        threshold = mean_mse[min_idx] + std_mse[min_idx]\n",
    "        alpha_1se = max(cv_alphas[np.where(mean_mse <= threshold)])\n",
    "\n",
    "        lasso_min_pipeline =  Pipeline([('scaling', StandardScaler()),\n",
    "                                        ('lassomin', Lasso(alpha = alpha_min, max_iter=10000))])\n",
    "        lasso_min_pipeline.fit(X_train, Y_train)\n",
    "\n",
    "        lasso_1se_pipeline =  Pipeline([('scaling', StandardScaler()),\n",
    "                                        ('lasso1se', Lasso(alpha = alpha_1se, max_iter=10000))])\n",
    "        lasso_1se_pipeline.fit(X_train, Y_train)\n",
    "\n",
    "        # L.refit\n",
    "        nonzero_indices = np.where(lasso_1se_pipeline['lasso1se'].coef_ != 0)[0]\n",
    "        lm_refit = lm()\n",
    "        lm_refit.fit(X_train.iloc[:, nonzero_indices], Y_train)\n",
    "\n",
    "        # PCR\n",
    "        pcr = PCR()\n",
    "        pcr.fit(X_train.to_numpy(), Y_train.to_numpy())\n",
    "\n",
    "        procedures = [full, ridge_pipeline, lasso_min_pipeline, lasso_1se_pipeline, lm_refit, pcr]\n",
    "        for i, procedure in enumerate(procedures):\n",
    "            if i == 4:\n",
    "                # lm_refit\n",
    "                Y_pred = procedure.predict(X_test.iloc[:, nonzero_indices])\n",
    "            else:\n",
    "                Y_pred = procedure.predict(X_test)\n",
    "            mspe = mean_squared_error(Y_test, Y_pred)\n",
    "            mspe_results[iteration, i] = mspe\n",
    "        print(mspe_results[iteration])\n",
    "\n",
    "    return mspe_results"
   ]
  },
  {
   "cell_type": "markdown",
   "id": "f4f557d8",
   "metadata": {
    "id": "f4f557d8"
   },
   "source": [
    "### Case I"
   ]
  },
  {
   "cell_type": "code",
   "execution_count": 19,
   "id": "d3ba95a9",
   "metadata": {
    "colab": {
     "base_uri": "https://localhost:8080/"
    },
    "id": "d3ba95a9",
    "outputId": "7d99c68f-7652-486e-942f-5296801e21c1"
   },
   "outputs": [
    {
     "name": "stderr",
     "output_type": "stream",
     "text": [
      "/usr/local/lib/python3.10/dist-packages/sklearn/base.py:432: UserWarning: X has feature names, but StandardScaler was fitted without feature names\n",
      "  warnings.warn(\n"
     ]
    },
    {
     "name": "stdout",
     "output_type": "stream",
     "text": [
      "[0.02314518 0.02553246 0.02576394 0.02776657 0.02647337 0.02661094]\n"
     ]
    },
    {
     "name": "stderr",
     "output_type": "stream",
     "text": [
      "/usr/local/lib/python3.10/dist-packages/sklearn/base.py:432: UserWarning: X has feature names, but StandardScaler was fitted without feature names\n",
      "  warnings.warn(\n"
     ]
    },
    {
     "name": "stdout",
     "output_type": "stream",
     "text": [
      "[0.03286662 0.02896846 0.02972429 0.0323633  0.02795068 0.02699433]\n"
     ]
    },
    {
     "name": "stderr",
     "output_type": "stream",
     "text": [
      "/usr/local/lib/python3.10/dist-packages/sklearn/base.py:432: UserWarning: X has feature names, but StandardScaler was fitted without feature names\n",
      "  warnings.warn(\n"
     ]
    },
    {
     "name": "stdout",
     "output_type": "stream",
     "text": [
      "[0.02662002 0.02148735 0.02119521 0.02406078 0.02214603 0.02054757]\n"
     ]
    },
    {
     "name": "stderr",
     "output_type": "stream",
     "text": [
      "/usr/local/lib/python3.10/dist-packages/sklearn/base.py:432: UserWarning: X has feature names, but StandardScaler was fitted without feature names\n",
      "  warnings.warn(\n"
     ]
    },
    {
     "name": "stdout",
     "output_type": "stream",
     "text": [
      "[0.02063364 0.02079537 0.02112949 0.02739869 0.0252496  0.02211284]\n"
     ]
    },
    {
     "name": "stderr",
     "output_type": "stream",
     "text": [
      "/usr/local/lib/python3.10/dist-packages/sklearn/base.py:432: UserWarning: X has feature names, but StandardScaler was fitted without feature names\n",
      "  warnings.warn(\n"
     ]
    },
    {
     "name": "stdout",
     "output_type": "stream",
     "text": [
      "[0.03936154 0.03442851 0.03556839 0.03599007 0.03695807 0.0416266 ]\n"
     ]
    },
    {
     "name": "stderr",
     "output_type": "stream",
     "text": [
      "/usr/local/lib/python3.10/dist-packages/sklearn/base.py:432: UserWarning: X has feature names, but StandardScaler was fitted without feature names\n",
      "  warnings.warn(\n"
     ]
    },
    {
     "name": "stdout",
     "output_type": "stream",
     "text": [
      "[0.03267362 0.02787091 0.02920914 0.03224124 0.03067538 0.03037283]\n"
     ]
    },
    {
     "name": "stderr",
     "output_type": "stream",
     "text": [
      "/usr/local/lib/python3.10/dist-packages/sklearn/base.py:432: UserWarning: X has feature names, but StandardScaler was fitted without feature names\n",
      "  warnings.warn(\n"
     ]
    },
    {
     "name": "stdout",
     "output_type": "stream",
     "text": [
      "[0.02507068 0.02847174 0.02543746 0.03358721 0.0292753  0.0294966 ]\n"
     ]
    },
    {
     "name": "stderr",
     "output_type": "stream",
     "text": [
      "/usr/local/lib/python3.10/dist-packages/sklearn/base.py:432: UserWarning: X has feature names, but StandardScaler was fitted without feature names\n",
      "  warnings.warn(\n"
     ]
    },
    {
     "name": "stdout",
     "output_type": "stream",
     "text": [
      "[0.02480915 0.02100643 0.02195019 0.02398534 0.02405599 0.02455572]\n"
     ]
    },
    {
     "name": "stderr",
     "output_type": "stream",
     "text": [
      "/usr/local/lib/python3.10/dist-packages/sklearn/base.py:432: UserWarning: X has feature names, but StandardScaler was fitted without feature names\n",
      "  warnings.warn(\n"
     ]
    },
    {
     "name": "stdout",
     "output_type": "stream",
     "text": [
      "[0.03946356 0.03384279 0.03449354 0.02935254 0.03067108 0.03952143]\n"
     ]
    },
    {
     "name": "stderr",
     "output_type": "stream",
     "text": [
      "/usr/local/lib/python3.10/dist-packages/sklearn/base.py:432: UserWarning: X has feature names, but StandardScaler was fitted without feature names\n",
      "  warnings.warn(\n"
     ]
    },
    {
     "name": "stdout",
     "output_type": "stream",
     "text": [
      "[0.02690128 0.02906904 0.02959039 0.0349248  0.03220622 0.03024743]\n"
     ]
    },
    {
     "name": "stderr",
     "output_type": "stream",
     "text": [
      "/usr/local/lib/python3.10/dist-packages/sklearn/base.py:432: UserWarning: X has feature names, but StandardScaler was fitted without feature names\n",
      "  warnings.warn(\n"
     ]
    },
    {
     "name": "stdout",
     "output_type": "stream",
     "text": [
      "[0.03641333 0.03134182 0.03181688 0.03380114 0.03733515 0.03385821]\n"
     ]
    },
    {
     "name": "stderr",
     "output_type": "stream",
     "text": [
      "/usr/local/lib/python3.10/dist-packages/sklearn/base.py:432: UserWarning: X has feature names, but StandardScaler was fitted without feature names\n",
      "  warnings.warn(\n"
     ]
    },
    {
     "name": "stdout",
     "output_type": "stream",
     "text": [
      "[0.02108899 0.02185758 0.02321167 0.02748521 0.02409586 0.02564719]\n"
     ]
    },
    {
     "name": "stderr",
     "output_type": "stream",
     "text": [
      "/usr/local/lib/python3.10/dist-packages/sklearn/base.py:432: UserWarning: X has feature names, but StandardScaler was fitted without feature names\n",
      "  warnings.warn(\n"
     ]
    },
    {
     "name": "stdout",
     "output_type": "stream",
     "text": [
      "[0.04082831 0.03126108 0.04255462 0.03769585 0.03523591 0.03679241]\n"
     ]
    },
    {
     "name": "stderr",
     "output_type": "stream",
     "text": [
      "/usr/local/lib/python3.10/dist-packages/sklearn/base.py:432: UserWarning: X has feature names, but StandardScaler was fitted without feature names\n",
      "  warnings.warn(\n"
     ]
    },
    {
     "name": "stdout",
     "output_type": "stream",
     "text": [
      "[0.02921892 0.0283119  0.02824998 0.0350258  0.03273682 0.03239941]\n"
     ]
    },
    {
     "name": "stderr",
     "output_type": "stream",
     "text": [
      "/usr/local/lib/python3.10/dist-packages/sklearn/base.py:432: UserWarning: X has feature names, but StandardScaler was fitted without feature names\n",
      "  warnings.warn(\n"
     ]
    },
    {
     "name": "stdout",
     "output_type": "stream",
     "text": [
      "[0.04245617 0.0221019  0.02385779 0.02858676 0.02701929 0.02446244]\n"
     ]
    },
    {
     "name": "stderr",
     "output_type": "stream",
     "text": [
      "/usr/local/lib/python3.10/dist-packages/sklearn/base.py:432: UserWarning: X has feature names, but StandardScaler was fitted without feature names\n",
      "  warnings.warn(\n"
     ]
    },
    {
     "name": "stdout",
     "output_type": "stream",
     "text": [
      "[0.02341623 0.0245754  0.02471187 0.02493882 0.02822181 0.02742901]\n"
     ]
    },
    {
     "name": "stderr",
     "output_type": "stream",
     "text": [
      "/usr/local/lib/python3.10/dist-packages/sklearn/base.py:432: UserWarning: X has feature names, but StandardScaler was fitted without feature names\n",
      "  warnings.warn(\n"
     ]
    },
    {
     "name": "stdout",
     "output_type": "stream",
     "text": [
      "[0.03836906 0.0284471  0.02875251 0.02837178 0.02636158 0.03733617]\n"
     ]
    },
    {
     "name": "stderr",
     "output_type": "stream",
     "text": [
      "/usr/local/lib/python3.10/dist-packages/sklearn/base.py:432: UserWarning: X has feature names, but StandardScaler was fitted without feature names\n",
      "  warnings.warn(\n"
     ]
    },
    {
     "name": "stdout",
     "output_type": "stream",
     "text": [
      "[0.02802094 0.0274454  0.02685395 0.02826071 0.02908546 0.0275347 ]\n"
     ]
    },
    {
     "name": "stderr",
     "output_type": "stream",
     "text": [
      "/usr/local/lib/python3.10/dist-packages/sklearn/base.py:432: UserWarning: X has feature names, but StandardScaler was fitted without feature names\n",
      "  warnings.warn(\n"
     ]
    },
    {
     "name": "stdout",
     "output_type": "stream",
     "text": [
      "[0.02375858 0.01918999 0.02180278 0.02389304 0.02496774 0.01994709]\n"
     ]
    },
    {
     "name": "stderr",
     "output_type": "stream",
     "text": [
      "/usr/local/lib/python3.10/dist-packages/sklearn/base.py:432: UserWarning: X has feature names, but StandardScaler was fitted without feature names\n",
      "  warnings.warn(\n"
     ]
    },
    {
     "name": "stdout",
     "output_type": "stream",
     "text": [
      "[0.03798359 0.03247252 0.03403931 0.03155475 0.03604141 0.03595786]\n"
     ]
    },
    {
     "name": "stderr",
     "output_type": "stream",
     "text": [
      "/usr/local/lib/python3.10/dist-packages/sklearn/base.py:432: UserWarning: X has feature names, but StandardScaler was fitted without feature names\n",
      "  warnings.warn(\n"
     ]
    },
    {
     "name": "stdout",
     "output_type": "stream",
     "text": [
      "[0.04148476 0.03173282 0.02549924 0.03350955 0.0293518  0.03921769]\n"
     ]
    },
    {
     "name": "stderr",
     "output_type": "stream",
     "text": [
      "/usr/local/lib/python3.10/dist-packages/sklearn/base.py:432: UserWarning: X has feature names, but StandardScaler was fitted without feature names\n",
      "  warnings.warn(\n"
     ]
    },
    {
     "name": "stdout",
     "output_type": "stream",
     "text": [
      "[0.03305082 0.02781267 0.02937157 0.03439327 0.03137991 0.02804888]\n"
     ]
    },
    {
     "name": "stderr",
     "output_type": "stream",
     "text": [
      "/usr/local/lib/python3.10/dist-packages/sklearn/base.py:432: UserWarning: X has feature names, but StandardScaler was fitted without feature names\n",
      "  warnings.warn(\n"
     ]
    },
    {
     "name": "stdout",
     "output_type": "stream",
     "text": [
      "[0.03596493 0.03009667 0.03055092 0.025963   0.03131522 0.03676954]\n"
     ]
    },
    {
     "name": "stderr",
     "output_type": "stream",
     "text": [
      "/usr/local/lib/python3.10/dist-packages/sklearn/base.py:432: UserWarning: X has feature names, but StandardScaler was fitted without feature names\n",
      "  warnings.warn(\n"
     ]
    },
    {
     "name": "stdout",
     "output_type": "stream",
     "text": [
      "[0.0246011  0.02508147 0.02349036 0.03476847 0.03498098 0.02511343]\n"
     ]
    },
    {
     "name": "stderr",
     "output_type": "stream",
     "text": [
      "/usr/local/lib/python3.10/dist-packages/sklearn/base.py:432: UserWarning: X has feature names, but StandardScaler was fitted without feature names\n",
      "  warnings.warn(\n"
     ]
    },
    {
     "name": "stdout",
     "output_type": "stream",
     "text": [
      "[0.02766971 0.02939009 0.03082121 0.03405811 0.03183095 0.03007067]\n"
     ]
    },
    {
     "name": "stderr",
     "output_type": "stream",
     "text": [
      "/usr/local/lib/python3.10/dist-packages/sklearn/base.py:432: UserWarning: X has feature names, but StandardScaler was fitted without feature names\n",
      "  warnings.warn(\n"
     ]
    },
    {
     "name": "stdout",
     "output_type": "stream",
     "text": [
      "[0.02658422 0.02334669 0.02187475 0.02649452 0.02529719 0.02543775]\n"
     ]
    },
    {
     "name": "stderr",
     "output_type": "stream",
     "text": [
      "/usr/local/lib/python3.10/dist-packages/sklearn/base.py:432: UserWarning: X has feature names, but StandardScaler was fitted without feature names\n",
      "  warnings.warn(\n"
     ]
    },
    {
     "name": "stdout",
     "output_type": "stream",
     "text": [
      "[0.03342319 0.0318452  0.03103088 0.03294251 0.03080399 0.03274203]\n"
     ]
    },
    {
     "name": "stderr",
     "output_type": "stream",
     "text": [
      "/usr/local/lib/python3.10/dist-packages/sklearn/base.py:432: UserWarning: X has feature names, but StandardScaler was fitted without feature names\n",
      "  warnings.warn(\n"
     ]
    },
    {
     "name": "stdout",
     "output_type": "stream",
     "text": [
      "[0.02884009 0.03057563 0.02960826 0.03260505 0.0312401  0.02975848]\n"
     ]
    },
    {
     "name": "stderr",
     "output_type": "stream",
     "text": [
      "/usr/local/lib/python3.10/dist-packages/sklearn/base.py:432: UserWarning: X has feature names, but StandardScaler was fitted without feature names\n",
      "  warnings.warn(\n"
     ]
    },
    {
     "name": "stdout",
     "output_type": "stream",
     "text": [
      "[0.02148467 0.01884159 0.01999636 0.02822764 0.0266481  0.02043878]\n"
     ]
    },
    {
     "name": "stderr",
     "output_type": "stream",
     "text": [
      "/usr/local/lib/python3.10/dist-packages/sklearn/base.py:432: UserWarning: X has feature names, but StandardScaler was fitted without feature names\n",
      "  warnings.warn(\n"
     ]
    },
    {
     "name": "stdout",
     "output_type": "stream",
     "text": [
      "[0.02439761 0.01916689 0.01914733 0.02557998 0.02350494 0.02279725]\n"
     ]
    },
    {
     "name": "stderr",
     "output_type": "stream",
     "text": [
      "/usr/local/lib/python3.10/dist-packages/sklearn/base.py:432: UserWarning: X has feature names, but StandardScaler was fitted without feature names\n",
      "  warnings.warn(\n"
     ]
    },
    {
     "name": "stdout",
     "output_type": "stream",
     "text": [
      "[0.02497448 0.01946717 0.02378294 0.02393322 0.02089764 0.0184716 ]\n"
     ]
    },
    {
     "name": "stderr",
     "output_type": "stream",
     "text": [
      "/usr/local/lib/python3.10/dist-packages/sklearn/base.py:432: UserWarning: X has feature names, but StandardScaler was fitted without feature names\n",
      "  warnings.warn(\n"
     ]
    },
    {
     "name": "stdout",
     "output_type": "stream",
     "text": [
      "[0.04349689 0.03996422 0.04200535 0.04292093 0.04044387 0.04587733]\n"
     ]
    },
    {
     "name": "stderr",
     "output_type": "stream",
     "text": [
      "/usr/local/lib/python3.10/dist-packages/sklearn/base.py:432: UserWarning: X has feature names, but StandardScaler was fitted without feature names\n",
      "  warnings.warn(\n"
     ]
    },
    {
     "name": "stdout",
     "output_type": "stream",
     "text": [
      "[0.03894229 0.03499002 0.03732877 0.04024645 0.04000543 0.03720352]\n"
     ]
    },
    {
     "name": "stderr",
     "output_type": "stream",
     "text": [
      "/usr/local/lib/python3.10/dist-packages/sklearn/base.py:432: UserWarning: X has feature names, but StandardScaler was fitted without feature names\n",
      "  warnings.warn(\n"
     ]
    },
    {
     "name": "stdout",
     "output_type": "stream",
     "text": [
      "[0.02816126 0.01891682 0.02432004 0.02681961 0.02553538 0.02571749]\n"
     ]
    },
    {
     "name": "stderr",
     "output_type": "stream",
     "text": [
      "/usr/local/lib/python3.10/dist-packages/sklearn/base.py:432: UserWarning: X has feature names, but StandardScaler was fitted without feature names\n",
      "  warnings.warn(\n"
     ]
    },
    {
     "name": "stdout",
     "output_type": "stream",
     "text": [
      "[0.03178808 0.02971212 0.02972728 0.03841854 0.03463923 0.03000199]\n"
     ]
    },
    {
     "name": "stderr",
     "output_type": "stream",
     "text": [
      "/usr/local/lib/python3.10/dist-packages/sklearn/base.py:432: UserWarning: X has feature names, but StandardScaler was fitted without feature names\n",
      "  warnings.warn(\n"
     ]
    },
    {
     "name": "stdout",
     "output_type": "stream",
     "text": [
      "[0.03259775 0.02429056 0.0220391  0.02814285 0.02819068 0.03042126]\n"
     ]
    },
    {
     "name": "stderr",
     "output_type": "stream",
     "text": [
      "/usr/local/lib/python3.10/dist-packages/sklearn/base.py:432: UserWarning: X has feature names, but StandardScaler was fitted without feature names\n",
      "  warnings.warn(\n"
     ]
    },
    {
     "name": "stdout",
     "output_type": "stream",
     "text": [
      "[0.03129657 0.0237724  0.0250435  0.0272739  0.02714673 0.02568056]\n"
     ]
    },
    {
     "name": "stderr",
     "output_type": "stream",
     "text": [
      "/usr/local/lib/python3.10/dist-packages/sklearn/base.py:432: UserWarning: X has feature names, but StandardScaler was fitted without feature names\n",
      "  warnings.warn(\n"
     ]
    },
    {
     "name": "stdout",
     "output_type": "stream",
     "text": [
      "[0.02304534 0.02640211 0.02561933 0.03050137 0.02664822 0.03022331]\n"
     ]
    },
    {
     "name": "stderr",
     "output_type": "stream",
     "text": [
      "/usr/local/lib/python3.10/dist-packages/sklearn/base.py:432: UserWarning: X has feature names, but StandardScaler was fitted without feature names\n",
      "  warnings.warn(\n"
     ]
    },
    {
     "name": "stdout",
     "output_type": "stream",
     "text": [
      "[0.0338229  0.03199939 0.03346642 0.03679483 0.03796234 0.03232457]\n"
     ]
    },
    {
     "name": "stderr",
     "output_type": "stream",
     "text": [
      "/usr/local/lib/python3.10/dist-packages/sklearn/base.py:432: UserWarning: X has feature names, but StandardScaler was fitted without feature names\n",
      "  warnings.warn(\n"
     ]
    },
    {
     "name": "stdout",
     "output_type": "stream",
     "text": [
      "[0.03023725 0.02787262 0.02698007 0.02583453 0.02818885 0.02766442]\n"
     ]
    },
    {
     "name": "stderr",
     "output_type": "stream",
     "text": [
      "/usr/local/lib/python3.10/dist-packages/sklearn/base.py:432: UserWarning: X has feature names, but StandardScaler was fitted without feature names\n",
      "  warnings.warn(\n"
     ]
    },
    {
     "name": "stdout",
     "output_type": "stream",
     "text": [
      "[0.02486644 0.02230273 0.02211598 0.02545326 0.02365763 0.0237526 ]\n"
     ]
    },
    {
     "name": "stderr",
     "output_type": "stream",
     "text": [
      "/usr/local/lib/python3.10/dist-packages/sklearn/base.py:432: UserWarning: X has feature names, but StandardScaler was fitted without feature names\n",
      "  warnings.warn(\n"
     ]
    },
    {
     "name": "stdout",
     "output_type": "stream",
     "text": [
      "[0.03856046 0.03513935 0.03761298 0.02926908 0.03013908 0.02960492]\n"
     ]
    },
    {
     "name": "stderr",
     "output_type": "stream",
     "text": [
      "/usr/local/lib/python3.10/dist-packages/sklearn/base.py:432: UserWarning: X has feature names, but StandardScaler was fitted without feature names\n",
      "  warnings.warn(\n"
     ]
    },
    {
     "name": "stdout",
     "output_type": "stream",
     "text": [
      "[0.03352327 0.02598227 0.02658964 0.02848389 0.02755763 0.02620657]\n"
     ]
    },
    {
     "name": "stderr",
     "output_type": "stream",
     "text": [
      "/usr/local/lib/python3.10/dist-packages/sklearn/base.py:432: UserWarning: X has feature names, but StandardScaler was fitted without feature names\n",
      "  warnings.warn(\n"
     ]
    },
    {
     "name": "stdout",
     "output_type": "stream",
     "text": [
      "[0.02052611 0.02129147 0.01966831 0.03095712 0.02931679 0.02458838]\n"
     ]
    },
    {
     "name": "stderr",
     "output_type": "stream",
     "text": [
      "/usr/local/lib/python3.10/dist-packages/sklearn/base.py:432: UserWarning: X has feature names, but StandardScaler was fitted without feature names\n",
      "  warnings.warn(\n"
     ]
    },
    {
     "name": "stdout",
     "output_type": "stream",
     "text": [
      "[0.03384521 0.02952833 0.03086462 0.03077766 0.03290118 0.03211484]\n"
     ]
    },
    {
     "name": "stderr",
     "output_type": "stream",
     "text": [
      "/usr/local/lib/python3.10/dist-packages/sklearn/base.py:432: UserWarning: X has feature names, but StandardScaler was fitted without feature names\n",
      "  warnings.warn(\n"
     ]
    },
    {
     "name": "stdout",
     "output_type": "stream",
     "text": [
      "[0.034908   0.02292382 0.02294845 0.02354696 0.02419351 0.0290667 ]\n"
     ]
    },
    {
     "name": "stderr",
     "output_type": "stream",
     "text": [
      "/usr/local/lib/python3.10/dist-packages/sklearn/base.py:432: UserWarning: X has feature names, but StandardScaler was fitted without feature names\n",
      "  warnings.warn(\n"
     ]
    },
    {
     "name": "stdout",
     "output_type": "stream",
     "text": [
      "[0.03208748 0.02182702 0.02301029 0.02796084 0.0234641  0.02443442]\n"
     ]
    },
    {
     "name": "stderr",
     "output_type": "stream",
     "text": [
      "/usr/local/lib/python3.10/dist-packages/sklearn/base.py:432: UserWarning: X has feature names, but StandardScaler was fitted without feature names\n",
      "  warnings.warn(\n"
     ]
    },
    {
     "name": "stdout",
     "output_type": "stream",
     "text": [
      "[0.03538724 0.03123554 0.03185391 0.03204477 0.03413721 0.03211548]\n"
     ]
    },
    {
     "name": "stderr",
     "output_type": "stream",
     "text": [
      "/usr/local/lib/python3.10/dist-packages/sklearn/base.py:432: UserWarning: X has feature names, but StandardScaler was fitted without feature names\n",
      "  warnings.warn(\n"
     ]
    },
    {
     "name": "stdout",
     "output_type": "stream",
     "text": [
      "[0.0276294  0.02569794 0.026808   0.03077621 0.03138813 0.02837076]\n",
      "[0.02795143 0.02935471 0.02955428 0.03525973 0.0310026  0.03091379]\n"
     ]
    },
    {
     "name": "stderr",
     "output_type": "stream",
     "text": [
      "/usr/local/lib/python3.10/dist-packages/sklearn/base.py:432: UserWarning: X has feature names, but StandardScaler was fitted without feature names\n",
      "  warnings.warn(\n"
     ]
    }
   ],
   "source": [
    "mspe_case_v1 = simulate_case_v1(data_case1, 50)"
   ]
  },
  {
   "cell_type": "code",
   "execution_count": 20,
   "id": "1a80a362",
   "metadata": {
    "id": "1a80a362"
   },
   "outputs": [],
   "source": [
    "with open('Data/mspe_case1.npy', 'wb') as f:\n",
    "    np.save(f, mspe_case_v1)"
   ]
  },
  {
   "cell_type": "code",
   "execution_count": 9,
   "id": "79072ebe",
   "metadata": {},
   "outputs": [],
   "source": [
    "columns = ['Full','Ridge.min','Lasso.min','Lasso.1se','L.Refit','PCR']\n",
    "df_case1 = pd.DataFrame(mspe_case_v1, columns=columns)"
   ]
  },
  {
   "cell_type": "code",
   "execution_count": 10,
   "id": "c5853045",
   "metadata": {
    "colab": {
     "base_uri": "https://localhost:8080/",
     "height": 590
    },
    "id": "c5853045",
    "outputId": "036971f4-73d7-4235-8958-21ce0f0e540f"
   },
   "outputs": [
    {
     "data": {
      "image/png": "[encoded data removed]",
      "text/plain": [
       "<Figure size 600x600 with 1 Axes>"
      ]
     },
     "metadata": {},
     "output_type": "display_data"
    }
   ],
   "source": [
    "fig = plt.figure(figsize=(6, 6))\n",
    "sns.stripplot(data=df_case1, jitter=True)\n",
    "sns.boxplot(data=df_case1, boxprops=dict(alpha=.3))\n",
    "plt.title(\"Case 1 - MSPE\")\n",
    "plt.tight_layout()"
   ]
  },
  {
   "cell_type": "markdown",
   "id": "d2c7e297",
   "metadata": {},
   "source": [
    "**Which procedure or procedures yield the best performance in terms of MSPE?**\n",
    "\n",
    "Lasso.min\n",
    "\n",
    "**Conversely, which procedure or procedures show the poorest performance?**\n",
    "\n",
    "Full model\n",
    "\n",
    "**In the context of Lasso regression, which procedure, Lasso.min or Lasso.1se, yields a better MSPE?**\n",
    "\n",
    "Lasso.min\n",
    "\n",
    "**Is refitting advantageous in this case? In other words, does L.Refit outperform Lasso.1se?**\n",
    "\n",
    "Yes\n",
    "\n",
    "**Is variable selection or shrinkage warranted for this particular dataset? To clarify, do you find the performance of the Full model to be comparable to, or divergent from, the best-performing procedure among the other five?**\n",
    "\n",
    "The full model is not as good as the best-performing model, which is Lasso.min. Therefore both variable selection and shrinkage are warranted for this dataset."
   ]
  },
  {
   "cell_type": "markdown",
   "id": "7198e664",
   "metadata": {
    "id": "7198e664"
   },
   "source": [
    "### Case II"
   ]
  },
  {
   "cell_type": "code",
   "execution_count": null,
   "id": "d2090253",
   "metadata": {
    "colab": {
     "base_uri": "https://localhost:8080/"
    },
    "id": "d2090253",
    "outputId": "b8ebc084-2846-4d03-b878-618b56e58623"
   },
   "outputs": [
    {
     "metadata": {
      "tags": null
     },
     "name": "stderr",
     "output_type": "stream",
     "text": [
      "/usr/local/lib/python3.10/dist-packages/sklearn/base.py:432: UserWarning: X has feature names, but StandardScaler was fitted without feature names\n",
      "  warnings.warn(\n"
     ]
    },
    {
     "metadata": {
      "tags": null
     },
     "name": "stdout",
     "output_type": "stream",
     "text": [
      "[0.29302878 0.1065808  0.03665189 0.03665264 0.03898246 0.04702858]\n"
     ]
    },
    {
     "metadata": {
      "tags": null
     },
     "name": "stderr",
     "output_type": "stream",
     "text": [
      "/usr/local/lib/python3.10/dist-packages/sklearn/base.py:432: UserWarning: X has feature names, but StandardScaler was fitted without feature names\n",
      "  warnings.warn(\n"
     ]
    },
    {
     "metadata": {
      "tags": null
     },
     "name": "stdout",
     "output_type": "stream",
     "text": [
      "[0.25185693 0.10907091 0.03852041 0.0370567  0.03973948 0.05281354]\n"
     ]
    },
    {
     "metadata": {
      "tags": null
     },
     "name": "stderr",
     "output_type": "stream",
     "text": [
      "/usr/local/lib/python3.10/dist-packages/sklearn/base.py:432: UserWarning: X has feature names, but StandardScaler was fitted without feature names\n",
      "  warnings.warn(\n"
     ]
    },
    {
     "metadata": {
      "tags": null
     },
     "name": "stdout",
     "output_type": "stream",
     "text": [
      "[0.21616842 0.0922875  0.04299784 0.04661992 0.0451827  0.06466492]\n"
     ]
    },
    {
     "metadata": {
      "tags": null
     },
     "name": "stderr",
     "output_type": "stream",
     "text": [
      "/usr/local/lib/python3.10/dist-packages/sklearn/base.py:432: UserWarning: X has feature names, but StandardScaler was fitted without feature names\n",
      "  warnings.warn(\n"
     ]
    },
    {
     "metadata": {
      "tags": null
     },
     "name": "stdout",
     "output_type": "stream",
     "text": [
      "[0.20226985 0.11400804 0.03991391 0.04564164 0.04106809 0.06225019]\n"
     ]
    },
    {
     "metadata": {
      "tags": null
     },
     "name": "stderr",
     "output_type": "stream",
     "text": [
      "/usr/local/lib/python3.10/dist-packages/sklearn/base.py:432: UserWarning: X has feature names, but StandardScaler was fitted without feature names\n",
      "  warnings.warn(\n"
     ]
    },
    {
     "metadata": {
      "tags": null
     },
     "name": "stdout",
     "output_type": "stream",
     "text": [
      "[0.2542128  0.10083639 0.05050453 0.05187501 0.05506643 0.06766213]\n"
     ]
    },
    {
     "metadata": {
      "tags": null
     },
     "name": "stderr",
     "output_type": "stream",
     "text": [
      "/usr/local/lib/python3.10/dist-packages/sklearn/base.py:432: UserWarning: X has feature names, but StandardScaler was fitted without feature names\n",
      "  warnings.warn(\n"
     ]
    },
    {
     "metadata": {
      "tags": null
     },
     "name": "stdout",
     "output_type": "stream",
     "text": [
      "[0.18152989 0.10853226 0.04696392 0.04957365 0.05062561 0.0616399 ]\n"
     ]
    },
    {
     "metadata": {
      "tags": null
     },
     "name": "stderr",
     "output_type": "stream",
     "text": [
      "/usr/local/lib/python3.10/dist-packages/sklearn/base.py:432: UserWarning: X has feature names, but StandardScaler was fitted without feature names\n",
      "  warnings.warn(\n"
     ]
    },
    {
     "metadata": {
      "tags": null
     },
     "name": "stdout",
     "output_type": "stream",
     "text": [
      "[0.20945882 0.1069546  0.050155   0.05088966 0.05106558 0.06213468]\n"
     ]
    },
    {
     "metadata": {
      "tags": null
     },
     "name": "stderr",
     "output_type": "stream",
     "text": [
      "/usr/local/lib/python3.10/dist-packages/sklearn/base.py:432: UserWarning: X has feature names, but StandardScaler was fitted without feature names\n",
      "  warnings.warn(\n"
     ]
    },
    {
     "metadata": {
      "tags": null
     },
     "name": "stdout",
     "output_type": "stream",
     "text": [
      "[0.23590041 0.10268474 0.03891233 0.04546651 0.04338628 0.04553998]\n"
     ]
    },
    {
     "metadata": {
      "tags": null
     },
     "name": "stderr",
     "output_type": "stream",
     "text": [
      "/usr/local/lib/python3.10/dist-packages/sklearn/base.py:432: UserWarning: X has feature names, but StandardScaler was fitted without feature names\n",
      "  warnings.warn(\n"
     ]
    },
    {
     "metadata": {
      "tags": null
     },
     "name": "stdout",
     "output_type": "stream",
     "text": [
      "[0.28848497 0.11310588 0.04829118 0.05715339 0.05272916 0.06732938]\n"
     ]
    },
    {
     "metadata": {
      "tags": null
     },
     "name": "stderr",
     "output_type": "stream",
     "text": [
      "/usr/local/lib/python3.10/dist-packages/sklearn/base.py:432: UserWarning: X has feature names, but StandardScaler was fitted without feature names\n",
      "  warnings.warn(\n"
     ]
    },
    {
     "metadata": {
      "tags": null
     },
     "name": "stdout",
     "output_type": "stream",
     "text": [
      "[0.29682693 0.09998092 0.04783019 0.05299573 0.05136054 0.05884481]\n"
     ]
    },
    {
     "metadata": {
      "tags": null
     },
     "name": "stderr",
     "output_type": "stream",
     "text": [
      "/usr/local/lib/python3.10/dist-packages/sklearn/base.py:432: UserWarning: X has feature names, but StandardScaler was fitted without feature names\n",
      "  warnings.warn(\n"
     ]
    },
    {
     "metadata": {
      "tags": null
     },
     "name": "stdout",
     "output_type": "stream",
     "text": [
      "[0.26699103 0.09437023 0.04210204 0.04454521 0.0437052  0.04811338]\n"
     ]
    },
    {
     "metadata": {
      "tags": null
     },
     "name": "stderr",
     "output_type": "stream",
     "text": [
      "/usr/local/lib/python3.10/dist-packages/sklearn/base.py:432: UserWarning: X has feature names, but StandardScaler was fitted without feature names\n",
      "  warnings.warn(\n"
     ]
    },
    {
     "metadata": {
      "tags": null
     },
     "name": "stdout",
     "output_type": "stream",
     "text": [
      "[0.29499032 0.09752761 0.03683323 0.04090375 0.03497809 0.0522193 ]\n"
     ]
    },
    {
     "metadata": {
      "tags": null
     },
     "name": "stderr",
     "output_type": "stream",
     "text": [
      "/usr/local/lib/python3.10/dist-packages/sklearn/base.py:432: UserWarning: X has feature names, but StandardScaler was fitted without feature names\n",
      "  warnings.warn(\n"
     ]
    },
    {
     "metadata": {
      "tags": null
     },
     "name": "stdout",
     "output_type": "stream",
     "text": [
      "[0.25850391 0.1122206  0.04850475 0.0524699  0.04699632 0.05693835]\n"
     ]
    },
    {
     "metadata": {
      "tags": null
     },
     "name": "stderr",
     "output_type": "stream",
     "text": [
      "/usr/local/lib/python3.10/dist-packages/sklearn/base.py:432: UserWarning: X has feature names, but StandardScaler was fitted without feature names\n",
      "  warnings.warn(\n"
     ]
    },
    {
     "metadata": {
      "tags": null
     },
     "name": "stdout",
     "output_type": "stream",
     "text": [
      "[0.21043698 0.1011059  0.05548153 0.0625864  0.06098284 0.07285345]\n"
     ]
    },
    {
     "metadata": {
      "tags": null
     },
     "name": "stderr",
     "output_type": "stream",
     "text": [
      "/usr/local/lib/python3.10/dist-packages/sklearn/base.py:432: UserWarning: X has feature names, but StandardScaler was fitted without feature names\n",
      "  warnings.warn(\n"
     ]
    },
    {
     "metadata": {
      "tags": null
     },
     "name": "stdout",
     "output_type": "stream",
     "text": [
      "[0.27809845 0.09228248 0.03248571 0.0403317  0.03531044 0.0479794 ]\n"
     ]
    },
    {
     "metadata": {
      "tags": null
     },
     "name": "stderr",
     "output_type": "stream",
     "text": [
      "/usr/local/lib/python3.10/dist-packages/sklearn/base.py:432: UserWarning: X has feature names, but StandardScaler was fitted without feature names\n",
      "  warnings.warn(\n"
     ]
    },
    {
     "metadata": {
      "tags": null
     },
     "name": "stdout",
     "output_type": "stream",
     "text": [
      "[0.193023   0.09667195 0.03892479 0.04808223 0.04231654 0.0606593 ]\n"
     ]
    },
    {
     "metadata": {
      "tags": null
     },
     "name": "stderr",
     "output_type": "stream",
     "text": [
      "/usr/local/lib/python3.10/dist-packages/sklearn/base.py:432: UserWarning: X has feature names, but StandardScaler was fitted without feature names\n",
      "  warnings.warn(\n"
     ]
    },
    {
     "metadata": {
      "tags": null
     },
     "name": "stdout",
     "output_type": "stream",
     "text": [
      "[0.19320265 0.1120434  0.04599393 0.05083929 0.05035481 0.055104  ]\n"
     ]
    },
    {
     "metadata": {
      "tags": null
     },
     "name": "stderr",
     "output_type": "stream",
     "text": [
      "/usr/local/lib/python3.10/dist-packages/sklearn/base.py:432: UserWarning: X has feature names, but StandardScaler was fitted without feature names\n",
      "  warnings.warn(\n"
     ]
    },
    {
     "metadata": {
      "tags": null
     },
     "name": "stdout",
     "output_type": "stream",
     "text": [
      "[0.28168196 0.09134393 0.04341937 0.04461381 0.04554263 0.05382672]\n"
     ]
    },
    {
     "metadata": {
      "tags": null
     },
     "name": "stderr",
     "output_type": "stream",
     "text": [
      "/usr/local/lib/python3.10/dist-packages/sklearn/base.py:432: UserWarning: X has feature names, but StandardScaler was fitted without feature names\n",
      "  warnings.warn(\n"
     ]
    },
    {
     "metadata": {
      "tags": null
     },
     "name": "stdout",
     "output_type": "stream",
     "text": [
      "[0.24535336 0.12400135 0.03049139 0.03485632 0.03093039 0.06050078]\n"
     ]
    },
    {
     "metadata": {
      "tags": null
     },
     "name": "stderr",
     "output_type": "stream",
     "text": [
      "/usr/local/lib/python3.10/dist-packages/sklearn/base.py:432: UserWarning: X has feature names, but StandardScaler was fitted without feature names\n",
      "  warnings.warn(\n"
     ]
    },
    {
     "metadata": {
      "tags": null
     },
     "name": "stdout",
     "output_type": "stream",
     "text": [
      "[0.31703682 0.11771676 0.03654105 0.04380905 0.04582481 0.05550754]\n"
     ]
    },
    {
     "metadata": {
      "tags": null
     },
     "name": "stderr",
     "output_type": "stream",
     "text": [
      "/usr/local/lib/python3.10/dist-packages/sklearn/base.py:432: UserWarning: X has feature names, but StandardScaler was fitted without feature names\n",
      "  warnings.warn(\n"
     ]
    },
    {
     "metadata": {
      "tags": null
     },
     "name": "stdout",
     "output_type": "stream",
     "text": [
      "[0.25259613 0.10413204 0.04672411 0.04651033 0.04946273 0.07412281]\n"
     ]
    },
    {
     "metadata": {
      "tags": null
     },
     "name": "stderr",
     "output_type": "stream",
     "text": [
      "/usr/local/lib/python3.10/dist-packages/sklearn/base.py:432: UserWarning: X has feature names, but StandardScaler was fitted without feature names\n",
      "  warnings.warn(\n"
     ]
    },
    {
     "metadata": {
      "tags": null
     },
     "name": "stdout",
     "output_type": "stream",
     "text": [
      "[0.22536848 0.12054109 0.05183942 0.05682383 0.05532111 0.06886693]\n"
     ]
    },
    {
     "metadata": {
      "tags": null
     },
     "name": "stderr",
     "output_type": "stream",
     "text": [
      "/usr/local/lib/python3.10/dist-packages/sklearn/base.py:432: UserWarning: X has feature names, but StandardScaler was fitted without feature names\n",
      "  warnings.warn(\n"
     ]
    },
    {
     "metadata": {
      "tags": null
     },
     "name": "stdout",
     "output_type": "stream",
     "text": [
      "[0.19200731 0.09412621 0.036037   0.03747544 0.03587739 0.04828125]\n"
     ]
    },
    {
     "metadata": {
      "tags": null
     },
     "name": "stderr",
     "output_type": "stream",
     "text": [
      "/usr/local/lib/python3.10/dist-packages/sklearn/base.py:432: UserWarning: X has feature names, but StandardScaler was fitted without feature names\n",
      "  warnings.warn(\n"
     ]
    },
    {
     "metadata": {
      "tags": null
     },
     "name": "stdout",
     "output_type": "stream",
     "text": [
      "[0.15340605 0.10699715 0.04292147 0.04299952 0.04559636 0.04997876]\n"
     ]
    },
    {
     "metadata": {
      "tags": null
     },
     "name": "stderr",
     "output_type": "stream",
     "text": [
      "/usr/local/lib/python3.10/dist-packages/sklearn/base.py:432: UserWarning: X has feature names, but StandardScaler was fitted without feature names\n",
      "  warnings.warn(\n"
     ]
    },
    {
     "metadata": {
      "tags": null
     },
     "name": "stdout",
     "output_type": "stream",
     "text": [
      "[0.19658008 0.109188   0.05264659 0.06133673 0.04807759 0.06046628]\n"
     ]
    },
    {
     "metadata": {
      "tags": null
     },
     "name": "stderr",
     "output_type": "stream",
     "text": [
      "/usr/local/lib/python3.10/dist-packages/sklearn/base.py:432: UserWarning: X has feature names, but StandardScaler was fitted without feature names\n",
      "  warnings.warn(\n"
     ]
    },
    {
     "metadata": {
      "tags": null
     },
     "name": "stdout",
     "output_type": "stream",
     "text": [
      "[0.29815418 0.10458496 0.03841729 0.03813595 0.04064146 0.04768775]\n"
     ]
    },
    {
     "metadata": {
      "tags": null
     },
     "name": "stderr",
     "output_type": "stream",
     "text": [
      "/usr/local/lib/python3.10/dist-packages/sklearn/base.py:432: UserWarning: X has feature names, but StandardScaler was fitted without feature names\n",
      "  warnings.warn(\n"
     ]
    },
    {
     "metadata": {
      "tags": null
     },
     "name": "stdout",
     "output_type": "stream",
     "text": [
      "[0.25530061 0.10397082 0.05207195 0.05827606 0.04990165 0.0699724 ]\n"
     ]
    },
    {
     "metadata": {
      "tags": null
     },
     "name": "stderr",
     "output_type": "stream",
     "text": [
      "/usr/local/lib/python3.10/dist-packages/sklearn/base.py:432: UserWarning: X has feature names, but StandardScaler was fitted without feature names\n",
      "  warnings.warn(\n"
     ]
    },
    {
     "metadata": {
      "tags": null
     },
     "name": "stdout",
     "output_type": "stream",
     "text": [
      "[0.24494865 0.10509842 0.03900636 0.04015805 0.04504907 0.04561848]\n"
     ]
    },
    {
     "metadata": {
      "tags": null
     },
     "name": "stderr",
     "output_type": "stream",
     "text": [
      "/usr/local/lib/python3.10/dist-packages/sklearn/base.py:432: UserWarning: X has feature names, but StandardScaler was fitted without feature names\n",
      "  warnings.warn(\n"
     ]
    },
    {
     "metadata": {
      "tags": null
     },
     "name": "stdout",
     "output_type": "stream",
     "text": [
      "[0.2639514  0.10083773 0.03841638 0.0497734  0.04166513 0.05458762]\n"
     ]
    },
    {
     "metadata": {
      "tags": null
     },
     "name": "stderr",
     "output_type": "stream",
     "text": [
      "/usr/local/lib/python3.10/dist-packages/sklearn/base.py:432: UserWarning: X has feature names, but StandardScaler was fitted without feature names\n",
      "  warnings.warn(\n"
     ]
    },
    {
     "metadata": {
      "tags": null
     },
     "name": "stdout",
     "output_type": "stream",
     "text": [
      "[0.16623776 0.10042834 0.03721054 0.04392193 0.03824934 0.07408907]\n"
     ]
    },
    {
     "metadata": {
      "tags": null
     },
     "name": "stderr",
     "output_type": "stream",
     "text": [
      "/usr/local/lib/python3.10/dist-packages/sklearn/base.py:432: UserWarning: X has feature names, but StandardScaler was fitted without feature names\n",
      "  warnings.warn(\n"
     ]
    },
    {
     "metadata": {
      "tags": null
     },
     "name": "stdout",
     "output_type": "stream",
     "text": [
      "[0.27086246 0.10811702 0.03971773 0.04424983 0.03728804 0.04883752]\n"
     ]
    },
    {
     "metadata": {
      "tags": null
     },
     "name": "stderr",
     "output_type": "stream",
     "text": [
      "/usr/local/lib/python3.10/dist-packages/sklearn/base.py:432: UserWarning: X has feature names, but StandardScaler was fitted without feature names\n",
      "  warnings.warn(\n"
     ]
    },
    {
     "metadata": {
      "tags": null
     },
     "name": "stdout",
     "output_type": "stream",
     "text": [
      "[0.24652049 0.10270746 0.05216591 0.05564819 0.0560462  0.07338784]\n"
     ]
    },
    {
     "metadata": {
      "tags": null
     },
     "name": "stderr",
     "output_type": "stream",
     "text": [
      "/usr/local/lib/python3.10/dist-packages/sklearn/base.py:432: UserWarning: X has feature names, but StandardScaler was fitted without feature names\n",
      "  warnings.warn(\n"
     ]
    },
    {
     "metadata": {
      "tags": null
     },
     "name": "stdout",
     "output_type": "stream",
     "text": [
      "[0.2217098  0.09807632 0.05633842 0.05922461 0.05606604 0.06365165]\n"
     ]
    },
    {
     "metadata": {
      "tags": null
     },
     "name": "stderr",
     "output_type": "stream",
     "text": [
      "/usr/local/lib/python3.10/dist-packages/sklearn/base.py:432: UserWarning: X has feature names, but StandardScaler was fitted without feature names\n",
      "  warnings.warn(\n"
     ]
    },
    {
     "metadata": {
      "tags": null
     },
     "name": "stdout",
     "output_type": "stream",
     "text": [
      "[0.20994432 0.10669943 0.03797928 0.047765   0.03779638 0.05718709]\n"
     ]
    },
    {
     "metadata": {
      "tags": null
     },
     "name": "stderr",
     "output_type": "stream",
     "text": [
      "/usr/local/lib/python3.10/dist-packages/sklearn/base.py:432: UserWarning: X has feature names, but StandardScaler was fitted without feature names\n",
      "  warnings.warn(\n"
     ]
    },
    {
     "metadata": {
      "tags": null
     },
     "name": "stdout",
     "output_type": "stream",
     "text": [
      "[0.23263829 0.09877765 0.05406228 0.05820213 0.05218078 0.0711233 ]\n"
     ]
    },
    {
     "metadata": {
      "tags": null
     },
     "name": "stderr",
     "output_type": "stream",
     "text": [
      "/usr/local/lib/python3.10/dist-packages/sklearn/base.py:432: UserWarning: X has feature names, but StandardScaler was fitted without feature names\n",
      "  warnings.warn(\n"
     ]
    },
    {
     "metadata": {
      "tags": null
     },
     "name": "stdout",
     "output_type": "stream",
     "text": [
      "[0.20685348 0.10112106 0.04418557 0.0444161  0.04376239 0.05369643]\n"
     ]
    },
    {
     "metadata": {
      "tags": null
     },
     "name": "stderr",
     "output_type": "stream",
     "text": [
      "/usr/local/lib/python3.10/dist-packages/sklearn/base.py:432: UserWarning: X has feature names, but StandardScaler was fitted without feature names\n",
      "  warnings.warn(\n"
     ]
    },
    {
     "metadata": {
      "tags": null
     },
     "name": "stdout",
     "output_type": "stream",
     "text": [
      "[0.23126049 0.09517516 0.03802522 0.04767022 0.04086273 0.05312845]\n"
     ]
    },
    {
     "metadata": {
      "tags": null
     },
     "name": "stderr",
     "output_type": "stream",
     "text": [
      "/usr/local/lib/python3.10/dist-packages/sklearn/base.py:432: UserWarning: X has feature names, but StandardScaler was fitted without feature names\n",
      "  warnings.warn(\n"
     ]
    },
    {
     "metadata": {
      "tags": null
     },
     "name": "stdout",
     "output_type": "stream",
     "text": [
      "[0.22215612 0.13104883 0.04761119 0.05263239 0.04293067 0.06596828]\n"
     ]
    },
    {
     "metadata": {
      "tags": null
     },
     "name": "stderr",
     "output_type": "stream",
     "text": [
      "/usr/local/lib/python3.10/dist-packages/sklearn/base.py:432: UserWarning: X has feature names, but StandardScaler was fitted without feature names\n",
      "  warnings.warn(\n"
     ]
    },
    {
     "metadata": {
      "tags": null
     },
     "name": "stdout",
     "output_type": "stream",
     "text": [
      "[0.20891142 0.10018662 0.05835267 0.06092835 0.06479839 0.07453403]\n"
     ]
    },
    {
     "metadata": {
      "tags": null
     },
     "name": "stderr",
     "output_type": "stream",
     "text": [
      "/usr/local/lib/python3.10/dist-packages/sklearn/base.py:432: UserWarning: X has feature names, but StandardScaler was fitted without feature names\n",
      "  warnings.warn(\n"
     ]
    },
    {
     "metadata": {
      "tags": null
     },
     "name": "stdout",
     "output_type": "stream",
     "text": [
      "[0.25409176 0.10886196 0.04050826 0.04153725 0.04117106 0.05606932]\n"
     ]
    },
    {
     "metadata": {
      "tags": null
     },
     "name": "stderr",
     "output_type": "stream",
     "text": [
      "/usr/local/lib/python3.10/dist-packages/sklearn/base.py:432: UserWarning: X has feature names, but StandardScaler was fitted without feature names\n",
      "  warnings.warn(\n"
     ]
    },
    {
     "metadata": {
      "tags": null
     },
     "name": "stdout",
     "output_type": "stream",
     "text": [
      "[0.29140758 0.09594145 0.03398039 0.03559178 0.03706238 0.04671387]\n"
     ]
    },
    {
     "name": "stderr",
     "output_type": "stream",
     "text": [
      "/usr/local/lib/python3.10/dist-packages/sklearn/base.py:432: UserWarning: X has feature names, but StandardScaler was fitted without feature names\n",
      "  warnings.warn(\n"
     ]
    },
    {
     "name": "stdout",
     "output_type": "stream",
     "text": [
      "[0.23078177 0.10862127 0.03663589 0.03827368 0.03937132 0.0458519 ]\n"
     ]
    }
   ],
   "source": [
    "mspe_case_v2 = simulate_case_v1(data_case2, 50)"
   ]
  },
  {
   "cell_type": "code",
   "execution_count": null,
   "id": "895f28c1",
   "metadata": {
    "id": "3d9b3eba"
   },
   "outputs": [],
   "source": [
    "with open('Data/mspe_case2.npy', 'wb') as f:\n",
    "    np.save(f, mspe_case_v2)"
   ]
  },
  {
   "cell_type": "code",
   "execution_count": 12,
   "id": "c637c76e",
   "metadata": {
    "id": "c637c76e"
   },
   "outputs": [],
   "source": [
    "columns = ['Full','Ridge.min','Lasso.min','Lasso.1se','L.Refit','PCR']\n",
    "df_case2 = pd.DataFrame(mspe_case_v2, columns=columns)\n",
    "df_case2 = df_case2.drop(['Full'], axis=1)"
   ]
  },
  {
   "cell_type": "code",
   "execution_count": 13,
   "id": "64304bb7",
   "metadata": {},
   "outputs": [
    {
     "data": {
      "image/png": "[encoded data removed]",
      "text/plain": [
       "<Figure size 600x600 with 1 Axes>"
      ]
     },
     "metadata": {},
     "output_type": "display_data"
    }
   ],
   "source": [
    "fig = plt.figure(figsize=(6, 6))\n",
    "sns.stripplot(data=df_case2, jitter=True)\n",
    "sns.boxplot(data=df_case2, boxprops=dict(alpha=.3))\n",
    "plt.title(\"Case 2 - MSPE\")\n",
    "plt.tight_layout()"
   ]
  },
  {
   "cell_type": "markdown",
   "id": "65d98334",
   "metadata": {},
   "source": [
    "**Which procedure or procedures yield the best performance in terms of MSPE?**\n",
    "\n",
    "Lasso.min\n",
    "\n",
    "**Conversely, which procedure or procedures show the poorest performance?**\n",
    "\n",
    "Ridge.min\n",
    "\n",
    "**Have you observed any procedure or procedures that performed well in Case I but exhibited poorer performance in Case II, or vice versa? If so, please offer an explanation.**\n",
    "\n",
    "All procedures performed worse in Case II, because there are artificially generated noise in Case II and it is more difficult to learn the data.\n",
    "\n",
    "**Given that Coding2_Data3.csv includes all features found in Coding2_Data2.csv, one might anticipate that the best MSPE in Case II would be equal to or lower than the best MSPE in Case I. Do your simulation results corroborate this expectation? If not, please offer an explanation.**\n",
    "\n",
    "No, because it is difficult for the models to learn exactly which features are relevant and which ones are noise. So even the feature selection models will assign some non-zero weights to some noise features and degrade performance."
   ]
  },
  {
   "cell_type": "code",
   "execution_count": null,
   "id": "111988b7",
   "metadata": {},
   "outputs": [],
   "source": []
  }
 ],
 "metadata": {
  "colab": {
   "provenance": []
  },
  "kernelspec": {
   "display_name": "Python 3 (ipykernel)",
   "language": "python",
   "name": "python3"
  },
  "language_info": {
   "codemirror_mode": {
    "name": "ipython",
    "version": 3
   },
   "file_extension": ".py",
   "mimetype": "text/x-python",
   "name": "python",
   "nbconvert_exporter": "python",
   "pygments_lexer": "ipython3",
   "version": "3.10.10"
  }
 },
 "nbformat": 4,
 "nbformat_minor": 5
}
