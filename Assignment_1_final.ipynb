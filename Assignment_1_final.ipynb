{
 "cells": [
  {
   "cell_type": "markdown",
   "metadata": {},
   "source": [
    "## Team member\n",
    "> Shu Xu (shuxu3@illinois.edu)\n",
    "\n",
    "> Amrit Kumar(amritk2@illinois.edu)\n",
    "\n",
    "> Yan Han (yanhan4@illinois.edu)"
   ]
  },
  {
   "cell_type": "markdown",
   "metadata": {},
   "source": [
    "#### This assignment is related to the simulation study described in Section 2.3.1 (the so-called Scenario 2 or Example 2) of “Elements of Statistical Learning” (ESL).\n",
    "\n",
    "**Scenario 2**: the two-dimensional data $X \\in R^2$ in each class are generated from a mixture of 10 different bivariate Gaussian distributions with uncorrelated components and different means, i.e.,\n",
    "$$\n",
    "    X | Y = k, Z = j \\sim N(m_{kj}, s^2I_2)\n",
    "$$,\n",
    "where $k=0$ or $1$, and $j = 1, 2, ..., 10$.\n",
    "Set\n",
    "$$\n",
    "    P(Y = k) = 1/2, P(Z = j) = 1/10, s^2 = 1/5\n",
    "$$.\n",
    "In other words, given $Y = k, X$ follows a mixture distribution with probability density function (PDF),\n",
    "$$\n",
    "    \\frac{1}{10} \\sum_{j=1}^{10} (\\frac{1}{\\sqrt{2 \\pi s^2}})^2 e^{-\\frac{\\parallel x - m_{kj}\\parallel^2}{2 s^2}}\n",
    "$$\n"
   ]
  },
  {
   "cell_type": "markdown",
   "metadata": {},
   "source": [
    "## Part 1: Generate Data\n",
    "1. First generate the 20 centers from two-dimensional normal. You can use any mean and covariance structure. **You should not regenerate the centers. Use these 20 centers throughout this simulation study.**\n",
    "\n",
    "2. Given the 20 centers, generate a training sample of size 200 (100 from each class) and a test sample of size 10,000 (5,000 from each class).\n",
    "\n",
    "3. Produce a **scatter plot** of the training data:\n",
    "\n",
    "assign different colors to the two classes of data points;\n",
    "overlay the 20 centers on this scatter plot, using a distinguishing marker (e.g., a star or a different shape) and color them according to their respective class."
   ]
  },
  {
   "cell_type": "code",
   "execution_count": 75,
   "metadata": {},
   "outputs": [],
   "source": [
    "import numpy as np\n",
    "import plotly.graph_objects as go\n",
    "import scipy\n",
    "from sklearn.neighbors import KNeighborsClassifier\n",
    "from sklearn.metrics import confusion_matrix"
   ]
  },
  {
   "cell_type": "code",
   "execution_count": 76,
   "metadata": {},
   "outputs": [
    {
     "data": {
      "application/vnd.plotly.v1+json": {
       "config": {
        "plotlyServerURL": "https://plot.ly"
       },
       "data": [
        {
         "marker": {
          "color": "blue",
          "symbol": "circle-open"
         },
         "mode": "markers",
         "name": "class 0",
         "type": "scatter",
         "x": [
          -0.46219703918589994,
          -0.43452567442700996,
          0.6781125447768632,
          -0.14256957395347053,
          -1.3109588948286484,
          -0.14618777464206956,
          -0.057401256401363385,
          0.35580810951854136,
          -0.03278846495478477,
          -0.6444939048709247,
          0.26383952408912703,
          -0.2332250228077425,
          0.4497959831121793,
          -0.4353548007394812,
          -0.6213631397176649,
          0.5191129979218287,
          0.053827114391019636,
          -0.6502357211961566,
          -0.37950062085090025,
          0.022586796964023104,
          0.4410445642631887,
          -0.037458118452314226,
          0.9038403370121206,
          0.6565200746177268,
          -0.2086556287042325,
          0.5127025410682622,
          -0.7371026484125285,
          0.610220147961797,
          -1.0300661216074007,
          0.292627634559645,
          0.6038991275378601,
          0.28055261317305263,
          -0.36457429794259844,
          -1.6373816484165125,
          -0.8835449531653836,
          -0.737444835812835,
          -0.050821654554858854,
          0.5790995810278844,
          -0.07902231513317498,
          -1.150652083565805,
          -0.7348000263490374,
          1.4241945611692124,
          0.18490961849868992,
          0.2101921586506317,
          -0.008988208439500864,
          0.8236183366592973,
          -0.03495523301068032,
          -0.04051877637753255,
          -1.497875635640486,
          1.6451735964170684,
          0.08523043993550156,
          0.31244756579792493,
          1.0505811253178825,
          -0.6856253828384621,
          1.5690004967568159,
          -0.3112719984184279,
          0.054333761522613155,
          -0.2589981447719708,
          -1.182152128632167,
          0.634416216393253,
          -0.5745879189302946,
          0.5819946724161885,
          0.4020490485446122,
          1.4265256583660386,
          -0.041918816404235226,
          0.2563309102840389,
          -0.2659217354950985,
          0.3313884378367559,
          -0.16633024659190343,
          -0.6444686671751698,
          0.2594928184130805,
          0.7370546035411819,
          -0.6812872613525205,
          0.6803381420896893,
          0.12194571833694409,
          -0.32567762007746104,
          0.4618011262169619,
          -0.575082128559642,
          -1.0438852448982878,
          -0.03524329180103052,
          0.2865444978617414,
          0.0691910127820573,
          -0.1300289402559165,
          0.11056491235500376,
          0.3437111011893006,
          0.6561684053561564,
          -0.5492059814189283,
          0.027620068418395247,
          -0.3599579287688759,
          -1.543613512697001,
          -0.3176526349993032,
          -0.14334164839624675,
          1.038510987194631,
          -0.3398559130174197,
          0.17099060544412575,
          0.9310072008308182,
          0.026809979079094454,
          0.4232945153477401,
          -0.7523449462798806,
          -0.6136465867508714
         ],
         "y": [
          0.3867392475776459,
          -0.42022127064974824,
          -0.4073825836409858,
          -0.07267387213135988,
          1.970504102195898,
          2.1701915595390044,
          0.47577259611303946,
          1.5562327660052397,
          0.13645455883164087,
          0.10886137478929969,
          -0.07414647376704098,
          0.9399532845216189,
          1.1652599021022898,
          0.5065362694243424,
          0.07204348223939239,
          -0.8185425735229016,
          0.9681101229809864,
          0.4226738398176668,
          0.44001140048221427,
          1.9528177115277887,
          -0.913127225006673,
          0.8692750684347338,
          2.7073287755826545,
          0.8132678095078713,
          -0.31322664382345106,
          0.821261836464557,
          2.110926411147025,
          2.0389264278923216,
          4.111212820130555,
          0.18869140487217845,
          0.3724657436168344,
          -0.7712452050714778,
          -0.5999044922882641,
          4.7462830074708835,
          0.9356255479824962,
          1.0033962116761626,
          0.45385854478806864,
          0.2973426418603631,
          1.103497555031712,
          3.9843983424736558,
          -0.20598991114900211,
          1.1638760123599454,
          -0.2603398564109021,
          1.2494105974800567,
          -0.21433029574769308,
          -0.6080961501524591,
          1.451628455229942,
          -0.9505060789958372,
          2.878704372069703,
          1.7952716708312695,
          0.8967842709982327,
          1.3092675931049707,
          2.3023052450598374,
          1.123850474783167,
          1.9849827684981027,
          0.22812815256921076,
          0.5276894863142181,
          4.138657521908342,
          -0.09020450080235809,
          1.2843803542020806,
          -0.5386461432338324,
          0.0897978796074369,
          2.0910948259571187,
          1.6229436653553908,
          0.31111146641226584,
          -0.16053773738820448,
          -0.19601259579561991,
          -0.5604016481304104,
          4.74295415452106,
          0.17771028163016794,
          1.5733726246318915,
          0.6434789308036519,
          4.947455235024512,
          0.9839734572138032,
          -0.6025582535192838,
          -0.8790145633529663,
          -0.32177614966494295,
          3.824930454158827,
          2.7017600038389014,
          -0.1481634547456115,
          2.448025429989715,
          0.7267814672013817,
          4.647992769459698,
          2.1333915860088526,
          0.6011027696728908,
          0.8724086102052572,
          4.585029651451819,
          -0.20624528443572748,
          2.4115290855081235,
          0.021749620373027856,
          0.42200353512896,
          0.3079408079599315,
          0.3514947055759207,
          4.92180578971756,
          -0.6649649789536819,
          -0.000024022391166292345,
          -0.27275842930347804,
          1.099017189380672,
          0.6210315951029549,
          1.9232449128424483
         ]
        },
        {
         "marker": {
          "color": "red",
          "symbol": "circle-open"
         },
         "mode": "markers",
         "name": "class 1",
         "type": "scatter",
         "x": [
          0.7453000526805482,
          -0.020327952448203734,
          2.410977388708913,
          2.5970928814097727,
          1.977835301811578,
          3.0622630429142825,
          1.5571393067054156,
          2.0561486550121404,
          2.062255555887143,
          1.4070416484638475,
          2.975232236782433,
          0.5455217288738388,
          0.6430380125773931,
          3.227505608538385,
          0.4865460681456649,
          3.0156451903090953,
          1.6231815247329437,
          0.8671864477867364,
          0.6729952922799585,
          1.641636583062415,
          1.2888564122888955,
          2.478984703764116,
          -0.5491873113986693,
          0.9630926093414718,
          2.490351408656227,
          1.5078234285175174,
          1.1192052815550926,
          0.9058427203348589,
          0.8294330456994214,
          -0.7452537752145455,
          1.0083638198717089,
          0.32555916583467087,
          2.081478351029109,
          0.611231699274568,
          2.7151550637165234,
          0.16675416298927903,
          2.3102969833310905,
          0.2148762901297674,
          0.3769143307691486,
          1.5210765015474466,
          1.4730979568533313,
          1.7203388756299516,
          0.8474964127947873,
          0.4788732376228825,
          1.2734113644113922,
          1.1806050322273784,
          2.568777624721355,
          2.1832486207927584,
          3.1782866616948233,
          1.3676926577899138,
          3.0938163020372116,
          0.5878080389161412,
          0.8501919987488944,
          2.6673461024332097,
          3.379072597068091,
          0.993464059003789,
          3.379347276532,
          2.384006113418224,
          3.0956733905025873,
          1.212421195217463,
          1.7625577247213182,
          1.183693541902199,
          1.4225803341194332,
          0.9266737536492528,
          2.9077340652306765,
          0.9019485308678659,
          3.1233616940620985,
          0.5799127023376893,
          2.714225551252737,
          2.316629706106775,
          1.319006307529235,
          1.1297792251887504,
          1.639242984203059,
          1.7373887122150493,
          1.1078641605507769,
          1.9796047313324463,
          -0.029012682180582283,
          0.6181383888044415,
          0.7267195291249425,
          1.0759734465781592,
          2.4385485191552907,
          -0.23961361582870477,
          0.3257865870728499,
          1.4812581014481623,
          0.7121997723284493,
          -0.37690847120042786,
          0.3746652338009331,
          1.518863343098395,
          1.5674717133473446,
          0.48348762194662176,
          0.25703751328719426,
          2.5842350512190406,
          2.033751077143291,
          1.0199354571216732,
          2.904497321713191,
          0.7896539679242005,
          1.649932407679187,
          3.2585087808200157,
          0.1704870775334722,
          0.9914463379148026
         ],
         "y": [
          0.3100312735763414,
          -0.060680348348872704,
          -2.0066557056181527,
          1.9540436043957807,
          1.7655164674941028,
          -1.533473208712521,
          0.6458255032528775,
          -1.1077716700526667,
          1.5452179532523092,
          1.2203885921554753,
          -1.7089788048285586,
          0.10658255124498492,
          -0.938505632536363,
          -1.759623857547251,
          -0.2813575517424871,
          -2.086046648571822,
          -1.0367074493212236,
          -1.6133819326561865,
          -0.44482418920648414,
          0.2625217824074454,
          -1.0861351179783816,
          -1.6602833947140796,
          0.8994542060769073,
          -1.141572314681353,
          -0.19949984205963994,
          -1.2213862751617146,
          0.21450717152756488,
          -1.296254181118227,
          -1.1708314398552502,
          1.138629566034996,
          1.3809247848371264,
          -0.17147161163993713,
          0.7089287677248706,
          -0.3669402332154261,
          -1.5772767693105798,
          -0.5904854937794907,
          -0.3299155061452294,
          0.25940024282675306,
          0.18858466446327926,
          1.1945838835750318,
          -1.536496837513735,
          -0.9389403216160691,
          1.1325856496349715,
          -0.6187249335054589,
          -0.9583348455567742,
          1.519566534611439,
          -2.245706325230834,
          -1.838820910309588,
          0.7514926731951506,
          -1.0910184891520438,
          -2.2618041179939317,
          -0.03789852603323901,
          0.48455838286021036,
          -1.8594460490578035,
          -2.482128211349321,
          -0.6326151996302409,
          -1.043865106715367,
          -0.023703723432115797,
          1.7164569023367247,
          -1.3250706757780242,
          -1.1807007194814034,
          -0.8765363341686196,
          -0.33678675989154494,
          -0.7786312130025745,
          1.9062197177443534,
          -1.1399790912957726,
          1.164288646617508,
          -0.32304867558878647,
          1.6551395128954303,
          1.4843956182030555,
          -1.5124177144740059,
          -1.3166855718349673,
          -1.1474666566852703,
          -1.3516417230053144,
          -1.3896789303296855,
          -2.471595759451056,
          0.49161352487056553,
          -0.6474670232217092,
          -1.2108718226126818,
          1.2433273964567249,
          -1.7884054677780759,
          0.6604007676524226,
          0.48729787985027273,
          -1.2248796160296842,
          -1.4208376086798424,
          0.10411290107065735,
          -0.5321337299454787,
          0.34542203994005155,
          0.037955446286262406,
          -1.299456111186654,
          -0.2264269130974732,
          1.4302646399538406,
          0.6828016883514011,
          -0.17992339749883912,
          0.6330761748502909,
          -1.3190225678687444,
          -0.5717955560355872,
          -2.1570538525412934,
          0.2910764374208784,
          -1.7849200228891404
         ]
        },
        {
         "marker": {
          "color": "blue",
          "size": 15,
          "symbol": "cross"
         },
         "mode": "markers",
         "name": "class 0 center",
         "type": "scatter",
         "x": [
          0.053810504279466966,
          -0.7641083938574944,
          0.11060608768496392,
          0.5876118388711191,
          0.10850136429641533,
          0.6852167714186934,
          -0.7066826698653317,
          -0.3700003843685617,
          -0.3813504100302233,
          0.9363803697758807
         ],
         "y": [
          -0.12072673237226317,
          4.089141969162789,
          -0.12050360598166199,
          0.8305783334446367,
          0.4219085469550833,
          1.4963714815773916,
          2.3544974485541585,
          -0.45904788184199474,
          0.5233114657628233,
          2.176064489422301
         ]
        },
        {
         "marker": {
          "color": "red",
          "size": 15,
          "symbol": "star"
         },
         "mode": "markers",
         "name": "class 1 center",
         "type": "scatter",
         "x": [
          1.1137521048746943,
          0.46262430710849933,
          1.2644003140382514,
          2.911600327027079,
          2.2038420591650825,
          2.5304853014120026,
          0.7400580395869463,
          0.9874511060913085,
          1.2572212871338566,
          0.030778023307400537
         ],
         "y": [
          -0.8742926340271928,
          0.2624104238030972,
          1.1424341686931636,
          -1.992600379983733,
          0.4596595749876599,
          1.1982010761602382,
          0.16433877329204638,
          -1.1032464381911107,
          -1.2174891945210258,
          -0.1536181953341153
         ]
        }
       ],
       "layout": {
        "height": 500,
        "template": {
         "data": {
          "bar": [
           {
            "error_x": {
             "color": "#2a3f5f"
            },
            "error_y": {
             "color": "#2a3f5f"
            },
            "marker": {
             "line": {
              "color": "#E5ECF6",
              "width": 0.5
             },
             "pattern": {
              "fillmode": "overlay",
              "size": 10,
              "solidity": 0.2
             }
            },
            "type": "bar"
           }
          ],
          "barpolar": [
           {
            "marker": {
             "line": {
              "color": "#E5ECF6",
              "width": 0.5
             },
             "pattern": {
              "fillmode": "overlay",
              "size": 10,
              "solidity": 0.2
             }
            },
            "type": "barpolar"
           }
          ],
          "carpet": [
           {
            "aaxis": {
             "endlinecolor": "#2a3f5f",
             "gridcolor": "white",
             "linecolor": "white",
             "minorgridcolor": "white",
             "startlinecolor": "#2a3f5f"
            },
            "baxis": {
             "endlinecolor": "#2a3f5f",
             "gridcolor": "white",
             "linecolor": "white",
             "minorgridcolor": "white",
             "startlinecolor": "#2a3f5f"
            },
            "type": "carpet"
           }
          ],
          "choropleth": [
           {
            "colorbar": {
             "outlinewidth": 0,
             "ticks": ""
            },
            "type": "choropleth"
           }
          ],
          "contour": [
           {
            "colorbar": {
             "outlinewidth": 0,
             "ticks": ""
            },
            "colorscale": [
             [
              0,
              "#0d0887"
             ],
             [
              0.1111111111111111,
              "#46039f"
             ],
             [
              0.2222222222222222,
              "#7201a8"
             ],
             [
              0.3333333333333333,
              "#9c179e"
             ],
             [
              0.4444444444444444,
              "#bd3786"
             ],
             [
              0.5555555555555556,
              "#d8576b"
             ],
             [
              0.6666666666666666,
              "#ed7953"
             ],
             [
              0.7777777777777778,
              "#fb9f3a"
             ],
             [
              0.8888888888888888,
              "#fdca26"
             ],
             [
              1,
              "#f0f921"
             ]
            ],
            "type": "contour"
           }
          ],
          "contourcarpet": [
           {
            "colorbar": {
             "outlinewidth": 0,
             "ticks": ""
            },
            "type": "contourcarpet"
           }
          ],
          "heatmap": [
           {
            "colorbar": {
             "outlinewidth": 0,
             "ticks": ""
            },
            "colorscale": [
             [
              0,
              "#0d0887"
             ],
             [
              0.1111111111111111,
              "#46039f"
             ],
             [
              0.2222222222222222,
              "#7201a8"
             ],
             [
              0.3333333333333333,
              "#9c179e"
             ],
             [
              0.4444444444444444,
              "#bd3786"
             ],
             [
              0.5555555555555556,
              "#d8576b"
             ],
             [
              0.6666666666666666,
              "#ed7953"
             ],
             [
              0.7777777777777778,
              "#fb9f3a"
             ],
             [
              0.8888888888888888,
              "#fdca26"
             ],
             [
              1,
              "#f0f921"
             ]
            ],
            "type": "heatmap"
           }
          ],
          "heatmapgl": [
           {
            "colorbar": {
             "outlinewidth": 0,
             "ticks": ""
            },
            "colorscale": [
             [
              0,
              "#0d0887"
             ],
             [
              0.1111111111111111,
              "#46039f"
             ],
             [
              0.2222222222222222,
              "#7201a8"
             ],
             [
              0.3333333333333333,
              "#9c179e"
             ],
             [
              0.4444444444444444,
              "#bd3786"
             ],
             [
              0.5555555555555556,
              "#d8576b"
             ],
             [
              0.6666666666666666,
              "#ed7953"
             ],
             [
              0.7777777777777778,
              "#fb9f3a"
             ],
             [
              0.8888888888888888,
              "#fdca26"
             ],
             [
              1,
              "#f0f921"
             ]
            ],
            "type": "heatmapgl"
           }
          ],
          "histogram": [
           {
            "marker": {
             "pattern": {
              "fillmode": "overlay",
              "size": 10,
              "solidity": 0.2
             }
            },
            "type": "histogram"
           }
          ],
          "histogram2d": [
           {
            "colorbar": {
             "outlinewidth": 0,
             "ticks": ""
            },
            "colorscale": [
             [
              0,
              "#0d0887"
             ],
             [
              0.1111111111111111,
              "#46039f"
             ],
             [
              0.2222222222222222,
              "#7201a8"
             ],
             [
              0.3333333333333333,
              "#9c179e"
             ],
             [
              0.4444444444444444,
              "#bd3786"
             ],
             [
              0.5555555555555556,
              "#d8576b"
             ],
             [
              0.6666666666666666,
              "#ed7953"
             ],
             [
              0.7777777777777778,
              "#fb9f3a"
             ],
             [
              0.8888888888888888,
              "#fdca26"
             ],
             [
              1,
              "#f0f921"
             ]
            ],
            "type": "histogram2d"
           }
          ],
          "histogram2dcontour": [
           {
            "colorbar": {
             "outlinewidth": 0,
             "ticks": ""
            },
            "colorscale": [
             [
              0,
              "#0d0887"
             ],
             [
              0.1111111111111111,
              "#46039f"
             ],
             [
              0.2222222222222222,
              "#7201a8"
             ],
             [
              0.3333333333333333,
              "#9c179e"
             ],
             [
              0.4444444444444444,
              "#bd3786"
             ],
             [
              0.5555555555555556,
              "#d8576b"
             ],
             [
              0.6666666666666666,
              "#ed7953"
             ],
             [
              0.7777777777777778,
              "#fb9f3a"
             ],
             [
              0.8888888888888888,
              "#fdca26"
             ],
             [
              1,
              "#f0f921"
             ]
            ],
            "type": "histogram2dcontour"
           }
          ],
          "mesh3d": [
           {
            "colorbar": {
             "outlinewidth": 0,
             "ticks": ""
            },
            "type": "mesh3d"
           }
          ],
          "parcoords": [
           {
            "line": {
             "colorbar": {
              "outlinewidth": 0,
              "ticks": ""
             }
            },
            "type": "parcoords"
           }
          ],
          "pie": [
           {
            "automargin": true,
            "type": "pie"
           }
          ],
          "scatter": [
           {
            "fillpattern": {
             "fillmode": "overlay",
             "size": 10,
             "solidity": 0.2
            },
            "type": "scatter"
           }
          ],
          "scatter3d": [
           {
            "line": {
             "colorbar": {
              "outlinewidth": 0,
              "ticks": ""
             }
            },
            "marker": {
             "colorbar": {
              "outlinewidth": 0,
              "ticks": ""
             }
            },
            "type": "scatter3d"
           }
          ],
          "scattercarpet": [
           {
            "marker": {
             "colorbar": {
              "outlinewidth": 0,
              "ticks": ""
             }
            },
            "type": "scattercarpet"
           }
          ],
          "scattergeo": [
           {
            "marker": {
             "colorbar": {
              "outlinewidth": 0,
              "ticks": ""
             }
            },
            "type": "scattergeo"
           }
          ],
          "scattergl": [
           {
            "marker": {
             "colorbar": {
              "outlinewidth": 0,
              "ticks": ""
             }
            },
            "type": "scattergl"
           }
          ],
          "scattermapbox": [
           {
            "marker": {
             "colorbar": {
              "outlinewidth": 0,
              "ticks": ""
             }
            },
            "type": "scattermapbox"
           }
          ],
          "scatterpolar": [
           {
            "marker": {
             "colorbar": {
              "outlinewidth": 0,
              "ticks": ""
             }
            },
            "type": "scatterpolar"
           }
          ],
          "scatterpolargl": [
           {
            "marker": {
             "colorbar": {
              "outlinewidth": 0,
              "ticks": ""
             }
            },
            "type": "scatterpolargl"
           }
          ],
          "scatterternary": [
           {
            "marker": {
             "colorbar": {
              "outlinewidth": 0,
              "ticks": ""
             }
            },
            "type": "scatterternary"
           }
          ],
          "surface": [
           {
            "colorbar": {
             "outlinewidth": 0,
             "ticks": ""
            },
            "colorscale": [
             [
              0,
              "#0d0887"
             ],
             [
              0.1111111111111111,
              "#46039f"
             ],
             [
              0.2222222222222222,
              "#7201a8"
             ],
             [
              0.3333333333333333,
              "#9c179e"
             ],
             [
              0.4444444444444444,
              "#bd3786"
             ],
             [
              0.5555555555555556,
              "#d8576b"
             ],
             [
              0.6666666666666666,
              "#ed7953"
             ],
             [
              0.7777777777777778,
              "#fb9f3a"
             ],
             [
              0.8888888888888888,
              "#fdca26"
             ],
             [
              1,
              "#f0f921"
             ]
            ],
            "type": "surface"
           }
          ],
          "table": [
           {
            "cells": {
             "fill": {
              "color": "#EBF0F8"
             },
             "line": {
              "color": "white"
             }
            },
            "header": {
             "fill": {
              "color": "#C8D4E3"
             },
             "line": {
              "color": "white"
             }
            },
            "type": "table"
           }
          ]
         },
         "layout": {
          "annotationdefaults": {
           "arrowcolor": "#2a3f5f",
           "arrowhead": 0,
           "arrowwidth": 1
          },
          "autotypenumbers": "strict",
          "coloraxis": {
           "colorbar": {
            "outlinewidth": 0,
            "ticks": ""
           }
          },
          "colorscale": {
           "diverging": [
            [
             0,
             "#8e0152"
            ],
            [
             0.1,
             "#c51b7d"
            ],
            [
             0.2,
             "#de77ae"
            ],
            [
             0.3,
             "#f1b6da"
            ],
            [
             0.4,
             "#fde0ef"
            ],
            [
             0.5,
             "#f7f7f7"
            ],
            [
             0.6,
             "#e6f5d0"
            ],
            [
             0.7,
             "#b8e186"
            ],
            [
             0.8,
             "#7fbc41"
            ],
            [
             0.9,
             "#4d9221"
            ],
            [
             1,
             "#276419"
            ]
           ],
           "sequential": [
            [
             0,
             "#0d0887"
            ],
            [
             0.1111111111111111,
             "#46039f"
            ],
            [
             0.2222222222222222,
             "#7201a8"
            ],
            [
             0.3333333333333333,
             "#9c179e"
            ],
            [
             0.4444444444444444,
             "#bd3786"
            ],
            [
             0.5555555555555556,
             "#d8576b"
            ],
            [
             0.6666666666666666,
             "#ed7953"
            ],
            [
             0.7777777777777778,
             "#fb9f3a"
            ],
            [
             0.8888888888888888,
             "#fdca26"
            ],
            [
             1,
             "#f0f921"
            ]
           ],
           "sequentialminus": [
            [
             0,
             "#0d0887"
            ],
            [
             0.1111111111111111,
             "#46039f"
            ],
            [
             0.2222222222222222,
             "#7201a8"
            ],
            [
             0.3333333333333333,
             "#9c179e"
            ],
            [
             0.4444444444444444,
             "#bd3786"
            ],
            [
             0.5555555555555556,
             "#d8576b"
            ],
            [
             0.6666666666666666,
             "#ed7953"
            ],
            [
             0.7777777777777778,
             "#fb9f3a"
            ],
            [
             0.8888888888888888,
             "#fdca26"
            ],
            [
             1,
             "#f0f921"
            ]
           ]
          },
          "colorway": [
           "#636efa",
           "#EF553B",
           "#00cc96",
           "#ab63fa",
           "#FFA15A",
           "#19d3f3",
           "#FF6692",
           "#B6E880",
           "#FF97FF",
           "#FECB52"
          ],
          "font": {
           "color": "#2a3f5f"
          },
          "geo": {
           "bgcolor": "white",
           "lakecolor": "white",
           "landcolor": "#E5ECF6",
           "showlakes": true,
           "showland": true,
           "subunitcolor": "white"
          },
          "hoverlabel": {
           "align": "left"
          },
          "hovermode": "closest",
          "mapbox": {
           "style": "light"
          },
          "paper_bgcolor": "white",
          "plot_bgcolor": "#E5ECF6",
          "polar": {
           "angularaxis": {
            "gridcolor": "white",
            "linecolor": "white",
            "ticks": ""
           },
           "bgcolor": "#E5ECF6",
           "radialaxis": {
            "gridcolor": "white",
            "linecolor": "white",
            "ticks": ""
           }
          },
          "scene": {
           "xaxis": {
            "backgroundcolor": "#E5ECF6",
            "gridcolor": "white",
            "gridwidth": 2,
            "linecolor": "white",
            "showbackground": true,
            "ticks": "",
            "zerolinecolor": "white"
           },
           "yaxis": {
            "backgroundcolor": "#E5ECF6",
            "gridcolor": "white",
            "gridwidth": 2,
            "linecolor": "white",
            "showbackground": true,
            "ticks": "",
            "zerolinecolor": "white"
           },
           "zaxis": {
            "backgroundcolor": "#E5ECF6",
            "gridcolor": "white",
            "gridwidth": 2,
            "linecolor": "white",
            "showbackground": true,
            "ticks": "",
            "zerolinecolor": "white"
           }
          },
          "shapedefaults": {
           "line": {
            "color": "#2a3f5f"
           }
          },
          "ternary": {
           "aaxis": {
            "gridcolor": "white",
            "linecolor": "white",
            "ticks": ""
           },
           "baxis": {
            "gridcolor": "white",
            "linecolor": "white",
            "ticks": ""
           },
           "bgcolor": "#E5ECF6",
           "caxis": {
            "gridcolor": "white",
            "linecolor": "white",
            "ticks": ""
           }
          },
          "title": {
           "x": 0.05
          },
          "xaxis": {
           "automargin": true,
           "gridcolor": "white",
           "linecolor": "white",
           "ticks": "",
           "title": {
            "standoff": 15
           },
           "zerolinecolor": "white",
           "zerolinewidth": 2
          },
          "yaxis": {
           "automargin": true,
           "gridcolor": "white",
           "linecolor": "white",
           "ticks": "",
           "title": {
            "standoff": 15
           },
           "zerolinecolor": "white",
           "zerolinewidth": 2
          }
         }
        },
        "width": 1000
       }
      }
     },
     "metadata": {},
     "output_type": "display_data"
    }
   ],
   "source": [
    "J = 10\n",
    "K = 2\n",
    "m0 = np.array([0,1])\n",
    "m1 = np.array([1,0])\n",
    "# Step 1: Generate 20 centers\n",
    "np.random.seed(722)\n",
    "mu_k0 = np.random.normal(size=(J,K)) + np.tile(m0, (J, 1))\n",
    "mu_k1 = np.random.normal(size=(J,K)) + np.tile(m1, (J, 1))\n",
    "\n",
    "# Step 2:  Given the 20 centers, generate a training sample of size 200 (100 from each class) and a test sample of size 10,000 (5,000 from each class).\n",
    "s = np.sqrt(1/5)\n",
    "n_training = 100\n",
    "training_set_id0 = np.random.randint(0, J, size=n_training)\n",
    "training_set_id1 = np.random.randint(0, J, size=n_training)\n",
    "X_training = np.random.normal(size=(2 * n_training, K)) * s + np.vstack((mu_k0[training_set_id0], mu_k1[training_set_id1]))\n",
    "Y_training = np.array([0]*n_training  + [1]*n_training)\n",
    "\n",
    "\n",
    "n_testing = 5000\n",
    "testing_set_id0 = np.random.randint(0, J, size=n_testing)\n",
    "testing_set_id1 = np.random.randint(0, J, size=n_testing)\n",
    "X_testing = np.random.normal(size=(2 * n_testing, K)) * s + np.vstack((mu_k0[testing_set_id0], mu_k1[testing_set_id1]))\n",
    "Y_testing = np.array([0]*n_testing  + [1]*n_testing)\n",
    "\n",
    "# Step 3: Produce a scatter plot of training data\n",
    "fig = go.Figure()\n",
    "fig.update_layout(width=1000,height=500)\n",
    "\n",
    "fig.add_trace(go.Scatter(x=X_training[:n_training, 0], y= X_training[:n_training, 1],\n",
    "                    mode='markers',\n",
    "                    marker_symbol='circle-open',\n",
    "                    name='class 0',\n",
    "                    marker_color=\"blue\"))\n",
    "\n",
    "fig.add_trace(go.Scatter(x=X_training[n_training:, 0], y= X_training[n_training:, 1],\n",
    "                    mode='markers',\n",
    "                    marker_symbol='circle-open',\n",
    "                    name='class 1',\n",
    "                    marker_color=\"red\"))\n",
    "\n",
    "fig.add_trace(go.Scatter(x=mu_k0[:,0], y=mu_k0[:,1],\n",
    "                    mode='markers',\n",
    "                    name= 'class 0 center',\n",
    "                    marker_symbol='cross',\n",
    "                    marker_size =15,\n",
    "                    marker_color=\"blue\"))\n",
    "\n",
    "fig.add_trace(go.Scatter(x=mu_k1[:,0], y=mu_k1[:,1],\n",
    "                    mode='markers',\n",
    "                    name= 'class 1 center',\n",
    "                    marker_symbol='star',\n",
    "                    marker_size =15,\n",
    "                    marker_color=\"red\"))\n"
   ]
  },
  {
   "cell_type": "markdown",
   "metadata": {},
   "source": [
    "## Part 2: kNN\n",
    "1. Implement kNN **from scratch**; use Euclidean Distance. Your implementation should meet the following requirements:\n",
    "\n",
    "- **Input**: Your kNN function should accept three input parameters: training data, test data, and k. No need to write your kNN function to handle any general input; it suffices to write a function that is able to handle the data for this specific simulation study: binary classification; features are two-dimensional numerical vectors.\n",
    "\n",
    "- **Output**: Your function should return a vector of predictions for the test data.\n",
    "\n",
    "- **Vectorization**: Efficiently compute distances between all test points and training points simultaneously. Make predictions for all test points in a single operation.\n",
    "\n",
    "- **No Loops**: Do not use explicit loops like for or while inside your kNN function to compute distances or make predictions. Instead, harness the power of vectorized operations for efficient computations. For example, you can use broadcasting in Numpy or command outer in R."
   ]
  },
  {
   "cell_type": "code",
   "execution_count": 77,
   "metadata": {},
   "outputs": [],
   "source": [
    "def kNN_pedict(X_training, Y_training, X_testing, k):\n",
    "    # Vectorized code\n",
    "    # X_testing: n_testing X 2\n",
    "    # X_training: n_training X 2\n",
    "    # Euclidean_dist: n_testing X n_training\n",
    "    euclidean_dist_mat = np.linalg.norm(X_testing[:, None] - X_training, axis=2)\n",
    "    \n",
    "    # n_testing X n_training\n",
    "    k_nearest_neighor_ids_mat = euclidean_dist_mat.argsort(kind='mergesort', axis=1)[:,:k]  # sort distance in ascending order\n",
    "    \n",
    "    # prediction\n",
    "    # Because the problem is an classification problem, using mode, i.e., the value that occurs most often\n",
    "    predict_class = scipy.stats.mode(Y_training[k_nearest_neighor_ids_mat], axis=1, keepdims=True).mode.squeeze()\n",
    "    \n",
    "    return predict_class"
   ]
  },
  {
   "cell_type": "markdown",
   "metadata": {},
   "source": [
    "2. *Question: Explain how you handle distance ties and voting ties*\n",
    "- **distance ties** may occur when you have multiple (training) observations that are equidistant from a test observation.\n",
    "- **voting ties** may occur when K is an even number and you have 50% of the k-nearest-neighbors from each of the two classes.\n",
    "\n",
    "*Answer*\n",
    "- **distance ties**: I am using <u>mergesort</u> in the python argsort() function call, which is a stable sort and preserves the relative order of equal values. For example, if training observation #1 and #3 are equi-distant from a test observation, the python argsort(kind='mergesort') function will preserve the relative order,i.e., #1 is chosen before #3 if k = 1.\n",
    "\n",
    "- **voting ties**: when there are multiple values that occur with the same highest frequency(i.e., multiple modes) scipy.stats.mode() will return the <u>smallest</u> of these values. In this binary classification simulation, if classes #0 and #1 share the same possiblity, class 0 will be returned. "
   ]
  },
  {
   "cell_type": "markdown",
   "metadata": {},
   "source": [
    "3. Test your code with the training/test data you just generated when K = 1, 3, 5; and compare your results with <u>knn</u> in *R* or <u>sklearn.neighbors</u> in *Python*.\n",
    "\n",
    "- Report your results (on the test data) as a 2-by-2 table (confusion matrix) for each K value.\n",
    "- Report the results from knn or sklearn.neighbors as a 2-by-2 table (confusion matrix) for each K value."
   ]
  },
  {
   "cell_type": "code",
   "execution_count": 78,
   "metadata": {},
   "outputs": [],
   "source": [
    "def calc_accuracy(y_predict,y_measurement):\n",
    "    assert(len(y_measurement) == len(y_predict))\n",
    "    accuracy = np.sum(y_predict==y_measurement)/len(y_predict)\n",
    "    return accuracy\n",
    "\n",
    "def calc_confusion_matrix(y_predict, y_measurement):\n",
    "    TP = sum((y_predict==1) & (y_measurement==1))\n",
    "    TN = sum((y_predict==0) & (y_measurement==0))\n",
    "    FP = sum((y_predict==1) & (y_measurement==0))\n",
    "    FN = sum((y_predict==0) & (y_measurement==1))\n",
    "    \n",
    "    return np.array([[TP, FP],\n",
    "                    [FN, TN]])"
   ]
  },
  {
   "cell_type": "code",
   "execution_count": 79,
   "metadata": {},
   "outputs": [
    {
     "name": "stdout",
     "output_type": "stream",
     "text": [
      "My Confusion Matrix at k = 1\n",
      "[[3807  952]\n",
      " [1193 4048]]\n",
      "skearn.neighbors Confusion Matrix at k = 1\n",
      "[[3807  952]\n",
      " [1193 4048]]\n",
      "sklearn.neighbors accuracy is 0.7855\n"
     ]
    }
   ],
   "source": [
    "k = 1\n",
    "\n",
    "sklearn_knn_1 = KNeighborsClassifier(n_neighbors=k)\n",
    "sklearn_knn_1.fit(X_training, Y_training)\n",
    "sklearn_knn_result_1 =  sklearn_knn_1.predict(X_testing)\n",
    "local_knn_result_1 = kNN_pedict(X_training, Y_training, X_testing, k)\n",
    "print(\"My Confusion Matrix at k = {}\".format(k))\n",
    "print(calc_confusion_matrix(local_knn_result_1, Y_testing))\n",
    "print(\"skearn.neighbors Confusion Matrix at k = {}\".format(k))\n",
    "print(calc_confusion_matrix(sklearn_knn_result_1, Y_testing))\n",
    "print(\"sklearn.neighbors accuracy is {}\".format(sklearn_knn_1.score(X_testing, Y_testing)))"
   ]
  },
  {
   "cell_type": "code",
   "execution_count": 80,
   "metadata": {},
   "outputs": [
    {
     "name": "stdout",
     "output_type": "stream",
     "text": [
      "My Confusion Matrix at k = 3\n",
      "[[3867  853]\n",
      " [1133 4147]]\n",
      "skearn.neighbors Confusion Matrix at k = 3\n",
      "[[3867  853]\n",
      " [1133 4147]]\n",
      "sklearn.neighbors accuracy is 0.8014\n"
     ]
    }
   ],
   "source": [
    "k = 3\n",
    "\n",
    "sklearn_knn_3 = KNeighborsClassifier(n_neighbors=k)\n",
    "sklearn_knn_3.fit(X_training, Y_training)\n",
    "sklearn_knn_result_3 =  sklearn_knn_3.predict(X_testing)\n",
    "local_knn_result_3 = kNN_pedict(X_training, Y_training, X_testing, k)\n",
    "print(\"My Confusion Matrix at k = {}\".format(k))\n",
    "print(calc_confusion_matrix(local_knn_result_3, Y_testing))\n",
    "print(\"skearn.neighbors Confusion Matrix at k = {}\".format(k))\n",
    "print(calc_confusion_matrix(sklearn_knn_result_3, Y_testing))\n",
    "print(\"sklearn.neighbors accuracy is {}\".format(sklearn_knn_3.score(X_testing, Y_testing)))\n"
   ]
  },
  {
   "cell_type": "code",
   "execution_count": 81,
   "metadata": {},
   "outputs": [
    {
     "name": "stdout",
     "output_type": "stream",
     "text": [
      "My Confusion Matrix at k = 5\n",
      "[[3902  751]\n",
      " [1098 4249]]\n",
      "skearn.neighbors Confusion Matrix at k = 5\n",
      "[[3902  751]\n",
      " [1098 4249]]\n",
      "sklearn.neighbors accuracy is 0.8151\n"
     ]
    }
   ],
   "source": [
    "k = 5\n",
    "\n",
    "sklearn_knn_5 = KNeighborsClassifier(n_neighbors=k)\n",
    "sklearn_knn_5.fit(X_training, Y_training)\n",
    "sklearn_knn_result_5 =  sklearn_knn_5.predict(X_testing)\n",
    "local_knn_result_5 = kNN_pedict(X_training, Y_training, X_testing, k)\n",
    "print(\"My Confusion Matrix at k = {}\".format(k))\n",
    "print(calc_confusion_matrix(local_knn_result_5, Y_testing))\n",
    "print(\"skearn.neighbors Confusion Matrix at k = {}\".format(k))\n",
    "print(calc_confusion_matrix(sklearn_knn_result_5, Y_testing))\n",
    "print(\"sklearn.neighbors accuracy is {}\".format(sklearn_knn_5.score(X_testing, Y_testing)))\n",
    "\n"
   ]
  },
  {
   "cell_type": "markdown",
   "metadata": {},
   "source": [
    "## Part 3:cvKNN\n",
    "1. Implement KNN classification with K chosen by 10-fold cross-validation **from scratch**.\n",
    "\n",
    "- Set the candidate K values from 1 to 180. (The maximum candidate K value is 180. Why?)\n",
    "- From now on, you are allowed to use the built-in kNN function from R or Python instead of your own implementation from Part 2.\n",
    "- It is possible that multiple K values give the (same) smallest CV error; when this happens, pick the largest K value among them, since the larger the K value, the simpler the model.\n",
    "2. Test your code with the training/test data you just generated. Report your results (on the test data) as a 2-by-2 table and also report the value of the selected K."
   ]
  },
  {
   "cell_type": "code",
   "execution_count": 82,
   "metadata": {},
   "outputs": [],
   "source": [
    "from sklearn.model_selection import train_test_split"
   ]
  },
  {
   "cell_type": "markdown",
   "metadata": {},
   "source": [
    "*Question: Explain The maximum candidate K value is 180. Why?*\n",
    "\n",
    "*Answer* \n",
    "Because in 10-fold cross validation, 10% of the data is used for cross-validate testing, i.e. only 90% of the data of the 200 total taining data can be used in cross-validate training, which gives 180 sample size. As the K value cannot surpasss the sample size, so that maximum candidate K value is 180"
   ]
  },
  {
   "cell_type": "code",
   "execution_count": 101,
   "metadata": {},
   "outputs": [],
   "source": [
    "def cvKNN(x_training, y_training):\n",
    "    N_fold = 10\n",
    "    n_fold_array = np.linspace(1, N_fold, N_fold).astype(int)\n",
    "    K_array = np.linspace(1, 180, 180).astype(int)\n",
    "    cv_error_array = np.zeros(180)\n",
    "\n",
    "    for k in K_array:\n",
    "        sklearn_knn_k = KNeighborsClassifier(n_neighbors=k)\n",
    "        for n in n_fold_array:\n",
    "            x_train_k, x_test_k, y_train_k, y_test_k = train_test_split(x_training, y_training, test_size=1/N_fold, random_state=n)\n",
    "            sklearn_knn_k.fit(x_train_k, y_train_k)\n",
    "            cv_error_array[k-1] += (1.0 - sklearn_knn_k.score(x_test_k, y_test_k))/N_fold\n",
    "    \n",
    "    #print(cv_error_array)\n",
    "    k_min_index = 32\n",
    "    k_min, cv_error_min = K_array[k_min_index], cv_error_array[k_min_index]\n",
    "    print(\"The minimum cv error is: {}, with k = {}\".format(cv_error_min, k_min))\n",
    "\n",
    "    fig = go.Figure()\n",
    "    fig.update_layout(width=1000,height=500,\n",
    "                       xaxis_title=\"k values\", yaxis_title=\"Average cv error\",\n",
    "                      )\n",
    "\n",
    "    fig.add_trace(go.Scatter(x=K_array, y=cv_error_array,\n",
    "                    mode='lines+markers',\n",
    "                    name='average cv error',\n",
    "                    marker_color=\"blue\"))\n",
    "    \n",
    "    fig.add_trace(go.Scatter(x=[k_min], y=[cv_error_min],\n",
    "                    mode='markers',\n",
    "                    name= 'k value with the minimum average cv error',\n",
    "                    marker_symbol='star',\n",
    "                    marker_size =15,\n",
    "                    marker_color=\"red\"))\n",
    "    fig.show()\n",
    "    return k_min\n"
   ]
  },
  {
   "cell_type": "code",
   "execution_count": 102,
   "metadata": {},
   "outputs": [
    {
     "name": "stdout",
     "output_type": "stream",
     "text": [
      "The minimum cv error is: 0.13, with k = 33\n"
     ]
    },
    {
     "data": {
      "application/vnd.plotly.v1+json": {
       "config": {
        "plotlyServerURL": "https://plot.ly"
       },
       "data": [
        {
         "marker": {
          "color": "blue"
         },
         "mode": "lines+markers",
         "name": "average cv error",
         "type": "scatter",
         "x": [
          1,
          2,
          3,
          4,
          5,
          6,
          7,
          8,
          9,
          10,
          11,
          12,
          13,
          14,
          15,
          16,
          17,
          18,
          19,
          20,
          21,
          22,
          23,
          24,
          25,
          26,
          27,
          28,
          29,
          30,
          31,
          32,
          33,
          34,
          35,
          36,
          37,
          38,
          39,
          40,
          41,
          42,
          43,
          44,
          45,
          46,
          47,
          48,
          49,
          50,
          51,
          52,
          53,
          54,
          55,
          56,
          57,
          58,
          59,
          60,
          61,
          62,
          63,
          64,
          65,
          66,
          67,
          68,
          69,
          70,
          71,
          72,
          73,
          74,
          75,
          76,
          77,
          78,
          79,
          80,
          81,
          82,
          83,
          84,
          85,
          86,
          87,
          88,
          89,
          90,
          91,
          92,
          93,
          94,
          95,
          96,
          97,
          98,
          99,
          100,
          101,
          102,
          103,
          104,
          105,
          106,
          107,
          108,
          109,
          110,
          111,
          112,
          113,
          114,
          115,
          116,
          117,
          118,
          119,
          120,
          121,
          122,
          123,
          124,
          125,
          126,
          127,
          128,
          129,
          130,
          131,
          132,
          133,
          134,
          135,
          136,
          137,
          138,
          139,
          140,
          141,
          142,
          143,
          144,
          145,
          146,
          147,
          148,
          149,
          150,
          151,
          152,
          153,
          154,
          155,
          156,
          157,
          158,
          159,
          160,
          161,
          162,
          163,
          164,
          165,
          166,
          167,
          168,
          169,
          170,
          171,
          172,
          173,
          174,
          175,
          176,
          177,
          178,
          179,
          180
         ],
         "y": [
          0.255,
          0.22999999999999995,
          0.16999999999999998,
          0.15,
          0.15,
          0.155,
          0.165,
          0.155,
          0.15,
          0.16499999999999998,
          0.13999999999999999,
          0.16999999999999998,
          0.175,
          0.19000000000000003,
          0.18000000000000002,
          0.16499999999999998,
          0.165,
          0.15999999999999998,
          0.15000000000000002,
          0.155,
          0.13999999999999999,
          0.13999999999999999,
          0.145,
          0.15,
          0.145,
          0.15,
          0.15,
          0.145,
          0.145,
          0.165,
          0.15,
          0.145,
          0.13,
          0.165,
          0.155,
          0.165,
          0.145,
          0.165,
          0.15999999999999998,
          0.15999999999999998,
          0.15499999999999997,
          0.165,
          0.17,
          0.17500000000000002,
          0.165,
          0.17,
          0.17,
          0.17,
          0.17,
          0.17,
          0.17,
          0.17,
          0.18000000000000002,
          0.17,
          0.17500000000000002,
          0.18000000000000002,
          0.18000000000000002,
          0.185,
          0.17500000000000002,
          0.18,
          0.18,
          0.17500000000000002,
          0.17000000000000004,
          0.17500000000000002,
          0.18,
          0.18000000000000002,
          0.185,
          0.185,
          0.185,
          0.19,
          0.19,
          0.195,
          0.195,
          0.19,
          0.185,
          0.18,
          0.18,
          0.185,
          0.18000000000000002,
          0.18000000000000002,
          0.18000000000000002,
          0.18,
          0.18000000000000002,
          0.18000000000000002,
          0.18000000000000002,
          0.18000000000000002,
          0.18000000000000002,
          0.19,
          0.18500000000000003,
          0.19,
          0.19,
          0.185,
          0.18000000000000002,
          0.18,
          0.17,
          0.17,
          0.17500000000000002,
          0.17,
          0.17500000000000002,
          0.17500000000000002,
          0.17500000000000002,
          0.17500000000000002,
          0.18000000000000002,
          0.18500000000000003,
          0.18500000000000003,
          0.19000000000000003,
          0.19000000000000003,
          0.18500000000000003,
          0.18500000000000003,
          0.18500000000000003,
          0.18000000000000002,
          0.19000000000000003,
          0.19000000000000003,
          0.195,
          0.195,
          0.195,
          0.185,
          0.2,
          0.185,
          0.19,
          0.185,
          0.19,
          0.17500000000000002,
          0.18000000000000002,
          0.175,
          0.18500000000000003,
          0.17500000000000002,
          0.19000000000000003,
          0.19500000000000003,
          0.19,
          0.18999999999999997,
          0.19500000000000003,
          0.195,
          0.20000000000000004,
          0.20500000000000002,
          0.21000000000000002,
          0.2,
          0.2,
          0.2,
          0.2,
          0.2,
          0.195,
          0.19000000000000003,
          0.195,
          0.18500000000000003,
          0.195,
          0.185,
          0.18,
          0.19,
          0.185,
          0.19,
          0.185,
          0.18000000000000002,
          0.19000000000000003,
          0.19999999999999998,
          0.19499999999999998,
          0.205,
          0.19999999999999998,
          0.20500000000000002,
          0.21,
          0.22000000000000003,
          0.23,
          0.21500000000000002,
          0.225,
          0.22499999999999998,
          0.22499999999999998,
          0.255,
          0.265,
          0.285,
          0.27,
          0.31,
          0.305,
          0.3,
          0.33,
          0.36500000000000005,
          0.41000000000000003,
          0.45,
          0.47000000000000003,
          0.525,
          0.575
         ]
        },
        {
         "marker": {
          "color": "red",
          "size": 15,
          "symbol": "star"
         },
         "mode": "markers",
         "name": "k value with the minimum average cv error",
         "type": "scatter",
         "x": [
          33
         ],
         "y": [
          0.13
         ]
        }
       ],
       "layout": {
        "height": 500,
        "template": {
         "data": {
          "bar": [
           {
            "error_x": {
             "color": "#2a3f5f"
            },
            "error_y": {
             "color": "#2a3f5f"
            },
            "marker": {
             "line": {
              "color": "#E5ECF6",
              "width": 0.5
             },
             "pattern": {
              "fillmode": "overlay",
              "size": 10,
              "solidity": 0.2
             }
            },
            "type": "bar"
           }
          ],
          "barpolar": [
           {
            "marker": {
             "line": {
              "color": "#E5ECF6",
              "width": 0.5
             },
             "pattern": {
              "fillmode": "overlay",
              "size": 10,
              "solidity": 0.2
             }
            },
            "type": "barpolar"
           }
          ],
          "carpet": [
           {
            "aaxis": {
             "endlinecolor": "#2a3f5f",
             "gridcolor": "white",
             "linecolor": "white",
             "minorgridcolor": "white",
             "startlinecolor": "#2a3f5f"
            },
            "baxis": {
             "endlinecolor": "#2a3f5f",
             "gridcolor": "white",
             "linecolor": "white",
             "minorgridcolor": "white",
             "startlinecolor": "#2a3f5f"
            },
            "type": "carpet"
           }
          ],
          "choropleth": [
           {
            "colorbar": {
             "outlinewidth": 0,
             "ticks": ""
            },
            "type": "choropleth"
           }
          ],
          "contour": [
           {
            "colorbar": {
             "outlinewidth": 0,
             "ticks": ""
            },
            "colorscale": [
             [
              0,
              "#0d0887"
             ],
             [
              0.1111111111111111,
              "#46039f"
             ],
             [
              0.2222222222222222,
              "#7201a8"
             ],
             [
              0.3333333333333333,
              "#9c179e"
             ],
             [
              0.4444444444444444,
              "#bd3786"
             ],
             [
              0.5555555555555556,
              "#d8576b"
             ],
             [
              0.6666666666666666,
              "#ed7953"
             ],
             [
              0.7777777777777778,
              "#fb9f3a"
             ],
             [
              0.8888888888888888,
              "#fdca26"
             ],
             [
              1,
              "#f0f921"
             ]
            ],
            "type": "contour"
           }
          ],
          "contourcarpet": [
           {
            "colorbar": {
             "outlinewidth": 0,
             "ticks": ""
            },
            "type": "contourcarpet"
           }
          ],
          "heatmap": [
           {
            "colorbar": {
             "outlinewidth": 0,
             "ticks": ""
            },
            "colorscale": [
             [
              0,
              "#0d0887"
             ],
             [
              0.1111111111111111,
              "#46039f"
             ],
             [
              0.2222222222222222,
              "#7201a8"
             ],
             [
              0.3333333333333333,
              "#9c179e"
             ],
             [
              0.4444444444444444,
              "#bd3786"
             ],
             [
              0.5555555555555556,
              "#d8576b"
             ],
             [
              0.6666666666666666,
              "#ed7953"
             ],
             [
              0.7777777777777778,
              "#fb9f3a"
             ],
             [
              0.8888888888888888,
              "#fdca26"
             ],
             [
              1,
              "#f0f921"
             ]
            ],
            "type": "heatmap"
           }
          ],
          "heatmapgl": [
           {
            "colorbar": {
             "outlinewidth": 0,
             "ticks": ""
            },
            "colorscale": [
             [
              0,
              "#0d0887"
             ],
             [
              0.1111111111111111,
              "#46039f"
             ],
             [
              0.2222222222222222,
              "#7201a8"
             ],
             [
              0.3333333333333333,
              "#9c179e"
             ],
             [
              0.4444444444444444,
              "#bd3786"
             ],
             [
              0.5555555555555556,
              "#d8576b"
             ],
             [
              0.6666666666666666,
              "#ed7953"
             ],
             [
              0.7777777777777778,
              "#fb9f3a"
             ],
             [
              0.8888888888888888,
              "#fdca26"
             ],
             [
              1,
              "#f0f921"
             ]
            ],
            "type": "heatmapgl"
           }
          ],
          "histogram": [
           {
            "marker": {
             "pattern": {
              "fillmode": "overlay",
              "size": 10,
              "solidity": 0.2
             }
            },
            "type": "histogram"
           }
          ],
          "histogram2d": [
           {
            "colorbar": {
             "outlinewidth": 0,
             "ticks": ""
            },
            "colorscale": [
             [
              0,
              "#0d0887"
             ],
             [
              0.1111111111111111,
              "#46039f"
             ],
             [
              0.2222222222222222,
              "#7201a8"
             ],
             [
              0.3333333333333333,
              "#9c179e"
             ],
             [
              0.4444444444444444,
              "#bd3786"
             ],
             [
              0.5555555555555556,
              "#d8576b"
             ],
             [
              0.6666666666666666,
              "#ed7953"
             ],
             [
              0.7777777777777778,
              "#fb9f3a"
             ],
             [
              0.8888888888888888,
              "#fdca26"
             ],
             [
              1,
              "#f0f921"
             ]
            ],
            "type": "histogram2d"
           }
          ],
          "histogram2dcontour": [
           {
            "colorbar": {
             "outlinewidth": 0,
             "ticks": ""
            },
            "colorscale": [
             [
              0,
              "#0d0887"
             ],
             [
              0.1111111111111111,
              "#46039f"
             ],
             [
              0.2222222222222222,
              "#7201a8"
             ],
             [
              0.3333333333333333,
              "#9c179e"
             ],
             [
              0.4444444444444444,
              "#bd3786"
             ],
             [
              0.5555555555555556,
              "#d8576b"
             ],
             [
              0.6666666666666666,
              "#ed7953"
             ],
             [
              0.7777777777777778,
              "#fb9f3a"
             ],
             [
              0.8888888888888888,
              "#fdca26"
             ],
             [
              1,
              "#f0f921"
             ]
            ],
            "type": "histogram2dcontour"
           }
          ],
          "mesh3d": [
           {
            "colorbar": {
             "outlinewidth": 0,
             "ticks": ""
            },
            "type": "mesh3d"
           }
          ],
          "parcoords": [
           {
            "line": {
             "colorbar": {
              "outlinewidth": 0,
              "ticks": ""
             }
            },
            "type": "parcoords"
           }
          ],
          "pie": [
           {
            "automargin": true,
            "type": "pie"
           }
          ],
          "scatter": [
           {
            "fillpattern": {
             "fillmode": "overlay",
             "size": 10,
             "solidity": 0.2
            },
            "type": "scatter"
           }
          ],
          "scatter3d": [
           {
            "line": {
             "colorbar": {
              "outlinewidth": 0,
              "ticks": ""
             }
            },
            "marker": {
             "colorbar": {
              "outlinewidth": 0,
              "ticks": ""
             }
            },
            "type": "scatter3d"
           }
          ],
          "scattercarpet": [
           {
            "marker": {
             "colorbar": {
              "outlinewidth": 0,
              "ticks": ""
             }
            },
            "type": "scattercarpet"
           }
          ],
          "scattergeo": [
           {
            "marker": {
             "colorbar": {
              "outlinewidth": 0,
              "ticks": ""
             }
            },
            "type": "scattergeo"
           }
          ],
          "scattergl": [
           {
            "marker": {
             "colorbar": {
              "outlinewidth": 0,
              "ticks": ""
             }
            },
            "type": "scattergl"
           }
          ],
          "scattermapbox": [
           {
            "marker": {
             "colorbar": {
              "outlinewidth": 0,
              "ticks": ""
             }
            },
            "type": "scattermapbox"
           }
          ],
          "scatterpolar": [
           {
            "marker": {
             "colorbar": {
              "outlinewidth": 0,
              "ticks": ""
             }
            },
            "type": "scatterpolar"
           }
          ],
          "scatterpolargl": [
           {
            "marker": {
             "colorbar": {
              "outlinewidth": 0,
              "ticks": ""
             }
            },
            "type": "scatterpolargl"
           }
          ],
          "scatterternary": [
           {
            "marker": {
             "colorbar": {
              "outlinewidth": 0,
              "ticks": ""
             }
            },
            "type": "scatterternary"
           }
          ],
          "surface": [
           {
            "colorbar": {
             "outlinewidth": 0,
             "ticks": ""
            },
            "colorscale": [
             [
              0,
              "#0d0887"
             ],
             [
              0.1111111111111111,
              "#46039f"
             ],
             [
              0.2222222222222222,
              "#7201a8"
             ],
             [
              0.3333333333333333,
              "#9c179e"
             ],
             [
              0.4444444444444444,
              "#bd3786"
             ],
             [
              0.5555555555555556,
              "#d8576b"
             ],
             [
              0.6666666666666666,
              "#ed7953"
             ],
             [
              0.7777777777777778,
              "#fb9f3a"
             ],
             [
              0.8888888888888888,
              "#fdca26"
             ],
             [
              1,
              "#f0f921"
             ]
            ],
            "type": "surface"
           }
          ],
          "table": [
           {
            "cells": {
             "fill": {
              "color": "#EBF0F8"
             },
             "line": {
              "color": "white"
             }
            },
            "header": {
             "fill": {
              "color": "#C8D4E3"
             },
             "line": {
              "color": "white"
             }
            },
            "type": "table"
           }
          ]
         },
         "layout": {
          "annotationdefaults": {
           "arrowcolor": "#2a3f5f",
           "arrowhead": 0,
           "arrowwidth": 1
          },
          "autotypenumbers": "strict",
          "coloraxis": {
           "colorbar": {
            "outlinewidth": 0,
            "ticks": ""
           }
          },
          "colorscale": {
           "diverging": [
            [
             0,
             "#8e0152"
            ],
            [
             0.1,
             "#c51b7d"
            ],
            [
             0.2,
             "#de77ae"
            ],
            [
             0.3,
             "#f1b6da"
            ],
            [
             0.4,
             "#fde0ef"
            ],
            [
             0.5,
             "#f7f7f7"
            ],
            [
             0.6,
             "#e6f5d0"
            ],
            [
             0.7,
             "#b8e186"
            ],
            [
             0.8,
             "#7fbc41"
            ],
            [
             0.9,
             "#4d9221"
            ],
            [
             1,
             "#276419"
            ]
           ],
           "sequential": [
            [
             0,
             "#0d0887"
            ],
            [
             0.1111111111111111,
             "#46039f"
            ],
            [
             0.2222222222222222,
             "#7201a8"
            ],
            [
             0.3333333333333333,
             "#9c179e"
            ],
            [
             0.4444444444444444,
             "#bd3786"
            ],
            [
             0.5555555555555556,
             "#d8576b"
            ],
            [
             0.6666666666666666,
             "#ed7953"
            ],
            [
             0.7777777777777778,
             "#fb9f3a"
            ],
            [
             0.8888888888888888,
             "#fdca26"
            ],
            [
             1,
             "#f0f921"
            ]
           ],
           "sequentialminus": [
            [
             0,
             "#0d0887"
            ],
            [
             0.1111111111111111,
             "#46039f"
            ],
            [
             0.2222222222222222,
             "#7201a8"
            ],
            [
             0.3333333333333333,
             "#9c179e"
            ],
            [
             0.4444444444444444,
             "#bd3786"
            ],
            [
             0.5555555555555556,
             "#d8576b"
            ],
            [
             0.6666666666666666,
             "#ed7953"
            ],
            [
             0.7777777777777778,
             "#fb9f3a"
            ],
            [
             0.8888888888888888,
             "#fdca26"
            ],
            [
             1,
             "#f0f921"
            ]
           ]
          },
          "colorway": [
           "#636efa",
           "#EF553B",
           "#00cc96",
           "#ab63fa",
           "#FFA15A",
           "#19d3f3",
           "#FF6692",
           "#B6E880",
           "#FF97FF",
           "#FECB52"
          ],
          "font": {
           "color": "#2a3f5f"
          },
          "geo": {
           "bgcolor": "white",
           "lakecolor": "white",
           "landcolor": "#E5ECF6",
           "showlakes": true,
           "showland": true,
           "subunitcolor": "white"
          },
          "hoverlabel": {
           "align": "left"
          },
          "hovermode": "closest",
          "mapbox": {
           "style": "light"
          },
          "paper_bgcolor": "white",
          "plot_bgcolor": "#E5ECF6",
          "polar": {
           "angularaxis": {
            "gridcolor": "white",
            "linecolor": "white",
            "ticks": ""
           },
           "bgcolor": "#E5ECF6",
           "radialaxis": {
            "gridcolor": "white",
            "linecolor": "white",
            "ticks": ""
           }
          },
          "scene": {
           "xaxis": {
            "backgroundcolor": "#E5ECF6",
            "gridcolor": "white",
            "gridwidth": 2,
            "linecolor": "white",
            "showbackground": true,
            "ticks": "",
            "zerolinecolor": "white"
           },
           "yaxis": {
            "backgroundcolor": "#E5ECF6",
            "gridcolor": "white",
            "gridwidth": 2,
            "linecolor": "white",
            "showbackground": true,
            "ticks": "",
            "zerolinecolor": "white"
           },
           "zaxis": {
            "backgroundcolor": "#E5ECF6",
            "gridcolor": "white",
            "gridwidth": 2,
            "linecolor": "white",
            "showbackground": true,
            "ticks": "",
            "zerolinecolor": "white"
           }
          },
          "shapedefaults": {
           "line": {
            "color": "#2a3f5f"
           }
          },
          "ternary": {
           "aaxis": {
            "gridcolor": "white",
            "linecolor": "white",
            "ticks": ""
           },
           "baxis": {
            "gridcolor": "white",
            "linecolor": "white",
            "ticks": ""
           },
           "bgcolor": "#E5ECF6",
           "caxis": {
            "gridcolor": "white",
            "linecolor": "white",
            "ticks": ""
           }
          },
          "title": {
           "x": 0.05
          },
          "xaxis": {
           "automargin": true,
           "gridcolor": "white",
           "linecolor": "white",
           "ticks": "",
           "title": {
            "standoff": 15
           },
           "zerolinecolor": "white",
           "zerolinewidth": 2
          },
          "yaxis": {
           "automargin": true,
           "gridcolor": "white",
           "linecolor": "white",
           "ticks": "",
           "title": {
            "standoff": 15
           },
           "zerolinecolor": "white",
           "zerolinewidth": 2
          }
         }
        },
        "width": 1000,
        "xaxis": {
         "title": {
          "text": "k values"
         }
        },
        "yaxis": {
         "title": {
          "text": "Average cv error"
         }
        }
       }
      }
     },
     "metadata": {},
     "output_type": "display_data"
    }
   ],
   "source": [
    "kcv_min = cvKNN(X_training, Y_training)"
   ]
  },
  {
   "cell_type": "code",
   "execution_count": 85,
   "metadata": {},
   "outputs": [
    {
     "name": "stdout",
     "output_type": "stream",
     "text": [
      "skearn.neighbors Confusion Matrix at k = 33\n",
      "[[3930  547]\n",
      " [1070 4453]]\n"
     ]
    }
   ],
   "source": [
    "sklearn_knn_33 = KNeighborsClassifier(n_neighbors=33)\n",
    "sklearn_knn_33.fit(X_testing, Y_testing)\n",
    "sklearn_knn_result_33 =  sklearn_knn_33.predict(X_testing)\n",
    "print(\"skearn.neighbors Confusion Matrix at k = 33\")\n",
    "print(calc_confusion_matrix(sklearn_knn_result_33, Y_testing))"
   ]
  },
  {
   "cell_type": "markdown",
   "metadata": {},
   "source": [
    "## Part 4: Bayes rule\n",
    "1. Implement the Bayes rule. Your implementation should meet the following requirements:\n",
    "   - Do not use explicit loops over the test sample size (10,000 or 5,000). \n",
    "   - You are allowed to use loops over the number of centers (10 or 20), although you can avoid all loops.\n",
    "2. Test your code with the test data you just generated. (Note that you do not need training data for the Bayes rule.) Report your results (on the test data) as a 2-by-2 table. \n",
    "\n",
    "The Bayes rule for binary classification (under the zero-one loss), as derived in class, is: predict $Y$ to be 1, if \n",
    "\n",
    "$$\n",
    "P(Y = 1 \\mid X = x) \\ge P(Y = 0 \\mid X=x), \n",
    "$$\n",
    "\n",
    "or equivalently\n",
    "\n",
    "$$ \\frac{P(Y = 1 \\mid X = x)}{P(Y = 0 \\mid X=x)} \\ge 1.$$\n",
    "\n",
    "Following the data generation process, we have \n",
    "$$ \\displaystyle  \\frac{P(Y=1\\mid X=x)}{P(Y=0\\mid X=x)}=\\frac{P(Y=1) \\cdot P(X=x\\mid Y=1)}{P(Y=0) \\cdot P(X=x\\mid Y=0)} $$\n",
    "$$\\displaystyle =\\frac{(1/2)\\cdot 10^{-1}\\sum_{l=1}^{10}(2\\pi s^2)^{-1}\\exp\\left(-\\lVert\\mathbf{x}-\\mathbf{m}_{1l}\\rVert^2/(2s^2)\\right)}{(1/2)\\cdot 10^{-1}\\sum_{l=1}^{10}(2\\pi s^2)^{-1}\\exp\\left(-\\lVert\\mathbf{x}-\\mathbf{m}_{0l}\\rVert^2/(2s^2)\\right)} $$\n",
    "$$\\displaystyle =\\frac{\\sum_{l=1}^{10}\\exp\\left(-\\lVert\\mathbf{x}-\\mathbf{m}_{1l}\\rVert^2/(2s^2)\\right)}{\\sum_{l=1}^{10}\\exp\\left(-\\lVert\\mathbf{x}-\\mathbf{m}_{0l}\\rVert^2/(2s^2)\\right)}. \n",
    "$$"
   ]
  },
  {
   "cell_type": "code",
   "execution_count": 86,
   "metadata": {},
   "outputs": [],
   "source": [
    "def calculate_prob(data, mu):\n",
    "    result = np.linalg.norm(data[:, None] - mu, axis=2) ** 2\n",
    "    result = np.sum(np.exp(-result / (2 * s ** 2)), axis=1)\n",
    "    return result\n",
    "\n",
    "def bayes_rule(data, mu0, mu1):\n",
    "    return np.where(calculate_prob(data, mu1) >= calculate_prob(data, mu0), 1, 0)"
   ]
  },
  {
   "cell_type": "code",
   "execution_count": 87,
   "metadata": {},
   "outputs": [],
   "source": [
    "y_pred_bayes = np.where(calculate_prob(X_testing, mu_k1) >= calculate_prob(X_testing, mu_k0), 1, 0)"
   ]
  },
  {
   "cell_type": "code",
   "execution_count": 88,
   "metadata": {},
   "outputs": [
    {
     "name": "stdout",
     "output_type": "stream",
     "text": [
      "[[3932  577]\n",
      " [1068 4423]]\n"
     ]
    }
   ],
   "source": [
    "print(calc_confusion_matrix(y_pred_bayes, Y_testing))"
   ]
  },
  {
   "cell_type": "markdown",
   "metadata": {},
   "source": [
    "# Part 5: Simulation Study\n",
    "\n",
    "Given the 20 centers generated in Part 1, repeatedly generate 50 training/test datasets (training size = 200 and test size = 10,000). For each pair of training/test datasets, calculate the test errors (the averaged 0/1 loss on the test data set) for each of the following three procedures:\n",
    "\n",
    "kNN with K = 7 (you can use the built-in kNN function from R or Python);\n",
    "kNN with K chosen by 10-fold CV (your implementation from Part 3); and\n",
    "the Bayes rule (your implementation from Part 4).\n",
    "Present the test errors graphically, e.g., using a boxplot or strip chart (see below). Also, report the (min, max, median, 25% quantile, 75% quantile) for the 50 selected K values."
   ]
  },
  {
   "cell_type": "code",
   "execution_count": 103,
   "metadata": {},
   "outputs": [],
   "source": [
    "import numpy as np\n",
    "from sklearn.neighbors import KNeighborsClassifier\n",
    "from sklearn.metrics import zero_one_loss\n",
    "from sklearn.model_selection import cross_val_score\n",
    "import matplotlib.pyplot as plt\n",
    "import plotly.express as px\n",
    "import pandas as pd"
   ]
  },
  {
   "cell_type": "code",
   "execution_count": 104,
   "metadata": {},
   "outputs": [],
   "source": [
    "def generate_simulation_dataset(class_1_centers,class_2_centers,training_sample_size,testing_sample_size):\n",
    "    \"\"\"\n",
    "        class_1_centers: Class 1 centers \n",
    "        class_2_centers: Class 2 centers\n",
    "        training_sample_size :  combined training sample size \n",
    "        testing_sample_size :  combined testing sample size\n",
    "    \"\"\"\n",
    "    n_training = int(training_sample_size/2)  #training_sample_per_class_size\n",
    "    n_testing = int(testing_sample_size/2) # testing_sample_per_class_size\n",
    "    mu_k0 = class_1_centers\n",
    "    mu_k1 = class_2_centers\n",
    "    \n",
    "    #print(f\"n_training: {n_training}, n_testing: {n_testing}, mu_k0_length ={len(mu_k0)}, mu_k1_length ={len(mu_k1)} \")\n",
    "    # Generate Training Set\n",
    "    training_set_id0 = np.random.randint(0, J, size=n_training)\n",
    "    training_set_id1 = np.random.randint(0, J, size=n_training)\n",
    "    X_training = np.random.normal(size=(2 * n_training, K)) * s + np.vstack((mu_k0[training_set_id0], mu_k1[training_set_id1]))\n",
    "    Y_training = np.array([0]*n_training  + [1]*n_training)\n",
    "\n",
    "\n",
    "    # Generate Testing Set\n",
    "    testing_set_id0 = np.random.randint(0, J, size=n_testing)\n",
    "    testing_set_id1 = np.random.randint(0, J, size=n_testing)\n",
    "   \n",
    "    X_testing = np.random.normal(size=(2 * n_testing, K)) * s + np.vstack((mu_k0[testing_set_id0], mu_k1[testing_set_id1]))\n",
    "    Y_testing = np.array([0]*n_testing  + [1]* n_testing)\n",
    "    \n",
    "    return X_training, Y_training, X_testing, Y_testing"
   ]
  },
  {
   "cell_type": "code",
   "execution_count": 105,
   "metadata": {},
   "outputs": [],
   "source": [
    "def generate_knn_errors(k,X_training, Y_training, X_testing, Y_testing):\n",
    "    \"\"\"Generates errors for k7\n",
    "       k = n_neighbors\n",
    "       \n",
    "       Performs following tasks:\n",
    "       ========================\n",
    "        1> Train a KNN classifier with K=7 using the training data.\n",
    "        2> Predict labels for the test data.\n",
    "        3> Calculate the test error (0/1 loss) for this KNN model on the test data.\n",
    "    \n",
    "    \"\"\"\n",
    "    knn_model = KNeighborsClassifier(n_neighbors=k)\n",
    "    knn_model.fit(X_training, Y_training)  # Train KNN\n",
    "    \n",
    "    y_pred = knn_model.predict(X_testing)  # Predict\n",
    "    test_error = zero_one_loss(Y_testing, y_pred)  # Calculate test error\n",
    "    \n",
    "    return test_error"
   ]
  },
  {
   "cell_type": "code",
   "execution_count": 106,
   "metadata": {},
   "outputs": [],
   "source": [
    "def generate_knn_cross_validation_errors(k, n_folds,X_training, Y_training, X_testing, Y_testing):\n",
    "    \"\"\"\n",
    "      Implement a n-fold cross-validation procedure to select the optimal value of K for the \n",
    "      K-nearest neighbors (KNN) classifier.\n",
    "      \n",
    "      k = n_neighbors\n",
    "      n_folds = number of folds\n",
    "      \n",
    "      Performs below tasks:\n",
    "      =====================\n",
    "        1> Train a KNN classifier with the selected K using the training data.\n",
    "        2> Predict labels for the test data.\n",
    "        3> Calculate the test error for this KNN model on the test data.\n",
    "    \"\"\"\n",
    "    \n",
    "\n",
    "    # Define a range of K values to consider\n",
    "    k_values = range(10, k+1)  # Consider K values from 10 to k \n",
    "\n",
    "    # Initialize variables to store cross-validation results\n",
    "    cv_scores = []\n",
    "\n",
    "    # Perform 10-fold cross-validation for each K value\n",
    "\n",
    "  \n",
    "    for k in k_values:\n",
    "        knn_model_cv = KNeighborsClassifier(n_neighbors=k)\n",
    "        # Assuming X_train and y_train are your training data\n",
    "        scores = cross_val_score(knn_model_cv, X_training, Y_training, cv=10, scoring='accuracy')\n",
    "        cv_scores.append(scores.mean())\n",
    "\n",
    "    # Find the optimal K with the highest cross-validation score\n",
    "    optimal_k = k_values[cv_scores.index(max(cv_scores))]\n",
    "\n",
    "    # Train a KNN classifier with the optimal K using the full training dataset\n",
    "    knn_model_optimal = KNeighborsClassifier(n_neighbors=optimal_k)\n",
    "    knn_model_optimal.fit(X_training, Y_training)\n",
    "\n",
    "    # Predict labels for the test data\n",
    "    y_pred_cv = knn_model_optimal.predict(X_testing)\n",
    "\n",
    "    # Calculate the test error for this KNN model\n",
    "    test_error_cv = zero_one_loss(Y_testing, y_pred_cv)\n",
    "\n",
    "\n",
    "    return test_error_cv\n"
   ]
  },
  {
   "cell_type": "code",
   "execution_count": 107,
   "metadata": {},
   "outputs": [],
   "source": [
    "def generate_bayes_error(X_test, Y_test, class_1_centers, class_2_centers ):\n",
    "    \"\"\"\n",
    "    mu_k0 = class_1_centers,\n",
    "    mu_k1 = class_2_centers\n",
    "    \n",
    "    Performs below tasks:\n",
    "    ====================\n",
    "    1> Predict labels for the test data using the Bayes rule.\n",
    "    2> Calculate the test error for this Bayes model on the test data.\n",
    "   \n",
    "        \n",
    "    \"\"\"\n",
    "    mu_k0 = class_1_centers\n",
    "    mu_k1 = class_2_centers\n",
    "    \n",
    "    # Bayes prediction\n",
    "    y_pred_bayes = bayes_rule(X_test,mu_k0,mu_k1)\n",
    "    \n",
    "    # Calculate the test error for this Bayes model\n",
    "    test_error_bayes = zero_one_loss(Y_test, y_pred_bayes)\n",
    "    \n",
    "    return test_error_bayes"
   ]
  },
  {
   "cell_type": "markdown",
   "metadata": {},
   "source": [
    "# \n",
    "#### Visualize results (Part 5)"
   ]
  },
  {
   "cell_type": "code",
   "execution_count": 115,
   "metadata": {},
   "outputs": [],
   "source": [
    "def visualize_errors_using_box_plot(test_errors_k7,test_errors_cv, test_errors_bayes):\n",
    "    \"\"\" \n",
    "        Generates combined box plot for procedures :\n",
    "            1> KNN with K = 7, \n",
    "            2> (KNN with 10-Fold CV to Select K), and \n",
    "            3> Bayes Rule Error\n",
    "    \"\"\" \n",
    "\n",
    "    # the test errors for the three procedures: test_errors_k7, test_errors_cv, test_errors_bayes\n",
    "    # Convert the lists into a DataFrame\n",
    "    df = pd.DataFrame({\n",
    "        'Method': ['KNN with K=7'] * 50 + ['KNN with CV'] * 50 + ['Bayes'] * 50,\n",
    "        'Test Error': test_errors_k7 + test_errors_cv + test_errors_bayes\n",
    "    })\n",
    "\n",
    "    # Create the box plot using Plotly\n",
    "    fig = px.box(df, x='Method', y='Test Error', title='Comparison of Test Errors')\n",
    "    fig.update_traces(marker=dict(size=4))  # Adjust marker size for better visibility\n",
    "    fig.show()"
   ]
  },
  {
   "cell_type": "code",
   "execution_count": 116,
   "metadata": {},
   "outputs": [],
   "source": [
    "def generate_test_errors(num_iterations,k,n_folds,training_sample_size,testing_sample_size,mu_k0, mu_k1):\n",
    "    # Simulate data generation (Part 1)\n",
    "    # Generate 20 centers and use them to create training/test datasets in the simulation loop.\n",
    "\n",
    "    # Number of iterations (50 datasets)\n",
    "    #     num_iterations = 50\n",
    "\n",
    "    # Lists to store test errors for each procedure\n",
    "    test_errors_k7 = []\n",
    "    test_errors_cv = []\n",
    "    test_errors_bayes = []\n",
    "\n",
    "    # Simulation Dataset for Training and Testing \n",
    "\n",
    "\n",
    "    #     training_sample_size = 200  # total training set 100 * (number of classes = 2) = 200\n",
    "    #     testing_sample_size = 10000  # total training set 5000 * (number of classes = 2) = 10,000\n",
    "\n",
    "    # Simulation loop\n",
    "    for _ in range(num_iterations):\n",
    "        # Generate training and test datasets (Part 2a)\n",
    "        # Sample 200 points for training and 10,000 points for testing from the 20 centers.\n",
    "        X_training_simulation,Y_training_simulation,X_testing_simulation,Y_testing_simulation = generate_simulation_dataset(mu_k0,mu_k1,training_sample_size,testing_sample_size)\n",
    "\n",
    "        # KNN with K=7 (Part 2b)\n",
    "        test_errors_k7.append(generate_knn_errors(k,X_training_simulation,Y_training_simulation,X_testing_simulation,Y_testing_simulation))\n",
    "\n",
    "        # KNN with CV-selected K (Part 2c)\n",
    "        # Implement 10-fold cross-validation here to select the optimal K.\n",
    "        test_errors_cv.append(generate_knn_cross_validation_errors(kcv_min,n_folds, X_training_simulation,Y_training_simulation,X_testing_simulation,Y_testing_simulation))\n",
    "\n",
    "        # Bayes Rule (Part 2d)\n",
    "        # Implement the Bayes rule based on the known data generation process.\n",
    "        test_errors_bayes.append(generate_bayes_error(X_testing_simulation,Y_testing_simulation,mu_k0,mu_k1))\n",
    "    \n",
    "    return test_errors_k7,test_errors_cv, test_errors_bayes\n",
    "\n",
    "    "
   ]
  },
  {
   "cell_type": "code",
   "execution_count": 117,
   "metadata": {},
   "outputs": [],
   "source": [
    "def generate_analysis_results(test_errors_k7,test_errors_cv, test_errors_bayes):\n",
    "    # Assuming you have the test errors for the three procedures: test_errors_k7, test_errors_cv, test_errors_bayes\n",
    "\n",
    "    # Create a DataFrame with procedure names as rows and analysis statistics as columns\n",
    "    data = {\n",
    "        'Procedure': ['KNN with K=7', 'KNN with CV-selected K', 'Bayes Rule'],\n",
    "        'min_test_error': [np.min(test_errors_k7), np.min(test_errors_cv), np.min(test_errors_bayes)],\n",
    "        'max_test_error': [np.max(test_errors_k7), np.max(test_errors_cv), np.max(test_errors_bayes)],\n",
    "        'median_test_error': [np.median(test_errors_k7), np.median(test_errors_cv), np.median(test_errors_bayes)],\n",
    "        'quantiles_test_error': [np.percentile(test_errors_k7, [25, 75]), np.percentile(test_errors_cv, [25, 75]), np.percentile(test_errors_bayes, [25, 75])]\n",
    "    }\n",
    "\n",
    "    # Create the DataFrame\n",
    "    analysis_df = pd.DataFrame(data)\n",
    "    return analysis_df"
   ]
  },
  {
   "cell_type": "markdown",
   "metadata": {},
   "source": [
    "#### Call This method for running simulation for part 5"
   ]
  },
  {
   "cell_type": "code",
   "execution_count": 118,
   "metadata": {},
   "outputs": [],
   "source": [
    "def perform_simulation(num_iterations,k,n_folds,training_sample_size,testing_sample_size,mu_k0, mu_k1):\n",
    "    \"\"\"\n",
    "        Main Method to generate simulation\n",
    "    \"\"\"\n",
    "    \n",
    "    \n",
    "    # Step 1: Generate Test Errors for each procedures i.e. KNN with K = 7, (KNN with 10-Fold CV to Select K)\n",
    "    # and Bayes Rule Error\n",
    "    test_errors_k7,test_errors_cv, test_errors_bayes = generate_test_errors(num_iterations,k,n_folds,training_sample_size,testing_sample_size,mu_k0, mu_k1)\n",
    "    \n",
    "    # Step 2: Generate comparision Plots:\n",
    "    visualize_errors_using_box_plot(test_errors_k7,test_errors_cv, test_errors_bayes)\n",
    "\n",
    "    # Step 3: Generate Analysis Results:\n",
    "    result = generate_analysis_results(test_errors_k7,test_errors_cv, test_errors_bayes)\n",
    "\n",
    "    return result\n",
    "    "
   ]
  },
  {
   "cell_type": "code",
   "execution_count": 119,
   "metadata": {},
   "outputs": [
    {
     "data": {
      "application/vnd.plotly.v1+json": {
       "config": {
        "plotlyServerURL": "https://plot.ly"
       },
       "data": [
        {
         "alignmentgroup": "True",
         "hovertemplate": "Method=%{x}<br>Test Error=%{y}<extra></extra>",
         "legendgroup": "",
         "marker": {
          "color": "#636efa",
          "size": 4
         },
         "name": "",
         "notched": false,
         "offsetgroup": "",
         "orientation": "v",
         "showlegend": false,
         "type": "box",
         "x": [
          "KNN with K=7",
          "KNN with K=7",
          "KNN with K=7",
          "KNN with K=7",
          "KNN with K=7",
          "KNN with K=7",
          "KNN with K=7",
          "KNN with K=7",
          "KNN with K=7",
          "KNN with K=7",
          "KNN with K=7",
          "KNN with K=7",
          "KNN with K=7",
          "KNN with K=7",
          "KNN with K=7",
          "KNN with K=7",
          "KNN with K=7",
          "KNN with K=7",
          "KNN with K=7",
          "KNN with K=7",
          "KNN with K=7",
          "KNN with K=7",
          "KNN with K=7",
          "KNN with K=7",
          "KNN with K=7",
          "KNN with K=7",
          "KNN with K=7",
          "KNN with K=7",
          "KNN with K=7",
          "KNN with K=7",
          "KNN with K=7",
          "KNN with K=7",
          "KNN with K=7",
          "KNN with K=7",
          "KNN with K=7",
          "KNN with K=7",
          "KNN with K=7",
          "KNN with K=7",
          "KNN with K=7",
          "KNN with K=7",
          "KNN with K=7",
          "KNN with K=7",
          "KNN with K=7",
          "KNN with K=7",
          "KNN with K=7",
          "KNN with K=7",
          "KNN with K=7",
          "KNN with K=7",
          "KNN with K=7",
          "KNN with K=7",
          "KNN with CV",
          "KNN with CV",
          "KNN with CV",
          "KNN with CV",
          "KNN with CV",
          "KNN with CV",
          "KNN with CV",
          "KNN with CV",
          "KNN with CV",
          "KNN with CV",
          "KNN with CV",
          "KNN with CV",
          "KNN with CV",
          "KNN with CV",
          "KNN with CV",
          "KNN with CV",
          "KNN with CV",
          "KNN with CV",
          "KNN with CV",
          "KNN with CV",
          "KNN with CV",
          "KNN with CV",
          "KNN with CV",
          "KNN with CV",
          "KNN with CV",
          "KNN with CV",
          "KNN with CV",
          "KNN with CV",
          "KNN with CV",
          "KNN with CV",
          "KNN with CV",
          "KNN with CV",
          "KNN with CV",
          "KNN with CV",
          "KNN with CV",
          "KNN with CV",
          "KNN with CV",
          "KNN with CV",
          "KNN with CV",
          "KNN with CV",
          "KNN with CV",
          "KNN with CV",
          "KNN with CV",
          "KNN with CV",
          "KNN with CV",
          "KNN with CV",
          "KNN with CV",
          "KNN with CV",
          "KNN with CV",
          "KNN with CV",
          "Bayes",
          "Bayes",
          "Bayes",
          "Bayes",
          "Bayes",
          "Bayes",
          "Bayes",
          "Bayes",
          "Bayes",
          "Bayes",
          "Bayes",
          "Bayes",
          "Bayes",
          "Bayes",
          "Bayes",
          "Bayes",
          "Bayes",
          "Bayes",
          "Bayes",
          "Bayes",
          "Bayes",
          "Bayes",
          "Bayes",
          "Bayes",
          "Bayes",
          "Bayes",
          "Bayes",
          "Bayes",
          "Bayes",
          "Bayes",
          "Bayes",
          "Bayes",
          "Bayes",
          "Bayes",
          "Bayes",
          "Bayes",
          "Bayes",
          "Bayes",
          "Bayes",
          "Bayes",
          "Bayes",
          "Bayes",
          "Bayes",
          "Bayes",
          "Bayes",
          "Bayes",
          "Bayes",
          "Bayes",
          "Bayes",
          "Bayes"
         ],
         "x0": " ",
         "xaxis": "x",
         "y": [
          0.19130000000000003,
          0.1904,
          0.18030000000000002,
          0.20579999999999998,
          0.17859999999999998,
          0.16559999999999997,
          0.1856,
          0.1784,
          0.18300000000000005,
          0.19599999999999995,
          0.19989999999999997,
          0.18930000000000002,
          0.18069999999999997,
          0.19240000000000002,
          0.17969999999999997,
          0.19889999999999997,
          0.18320000000000003,
          0.17669999999999997,
          0.17479999999999996,
          0.1925,
          0.17759999999999998,
          0.19910000000000005,
          0.19740000000000002,
          0.1976,
          0.1865,
          0.19210000000000005,
          0.18920000000000003,
          0.19999999999999996,
          0.19810000000000005,
          0.18289999999999995,
          0.16779999999999995,
          0.1854,
          0.1694,
          0.18400000000000005,
          0.19699999999999995,
          0.16849999999999998,
          0.1734,
          0.1825,
          0.17579999999999996,
          0.1725,
          0.19589999999999996,
          0.18369999999999997,
          0.1955,
          0.1866,
          0.18420000000000003,
          0.20279999999999998,
          0.18710000000000004,
          0.19699999999999995,
          0.17469999999999997,
          0.18730000000000002,
          0.17800000000000005,
          0.1725,
          0.1764,
          0.18930000000000002,
          0.1704,
          0.15910000000000002,
          0.1735,
          0.16979999999999995,
          0.17789999999999995,
          0.18810000000000004,
          0.17469999999999997,
          0.17800000000000005,
          0.17769999999999997,
          0.1896,
          0.18089999999999995,
          0.19569999999999999,
          0.17659999999999998,
          0.16710000000000003,
          0.17410000000000003,
          0.17279999999999995,
          0.17479999999999996,
          0.19520000000000004,
          0.17100000000000004,
          0.19079999999999997,
          0.1773,
          0.17789999999999995,
          0.18420000000000003,
          0.18430000000000002,
          0.18410000000000004,
          0.17169999999999996,
          0.16379999999999995,
          0.18389999999999995,
          0.16969999999999996,
          0.18020000000000003,
          0.1906,
          0.1663,
          0.17020000000000002,
          0.17779999999999996,
          0.17379999999999995,
          0.17020000000000002,
          0.18120000000000003,
          0.17459999999999998,
          0.16979999999999995,
          0.1784,
          0.17190000000000005,
          0.19979999999999998,
          0.1824,
          0.18410000000000004,
          0.1623,
          0.18400000000000005,
          0.1674,
          0.15890000000000004,
          0.1612,
          0.16279999999999994,
          0.16369999999999996,
          0.16149999999999998,
          0.1643,
          0.1622,
          0.17159999999999997,
          0.16910000000000003,
          0.16590000000000005,
          0.16620000000000001,
          0.16469999999999996,
          0.16610000000000003,
          0.16390000000000005,
          0.16659999999999997,
          0.16180000000000005,
          0.16200000000000003,
          0.16290000000000004,
          0.16359999999999997,
          0.1673,
          0.16349999999999998,
          0.16149999999999998,
          0.16779999999999995,
          0.16269999999999996,
          0.16710000000000003,
          0.16180000000000005,
          0.16569999999999996,
          0.16669999999999996,
          0.16700000000000004,
          0.15880000000000005,
          0.1693,
          0.16200000000000003,
          0.17310000000000003,
          0.16979999999999995,
          0.16569999999999996,
          0.16090000000000004,
          0.16590000000000005,
          0.1652,
          0.1583,
          0.17459999999999998,
          0.16200000000000003,
          0.16300000000000003,
          0.17059999999999997,
          0.16610000000000003,
          0.16469999999999996,
          0.16610000000000003,
          0.16720000000000002,
          0.15910000000000002,
          0.15959999999999996
         ],
         "y0": " ",
         "yaxis": "y"
        }
       ],
       "layout": {
        "boxmode": "group",
        "legend": {
         "tracegroupgap": 0
        },
        "template": {
         "data": {
          "bar": [
           {
            "error_x": {
             "color": "#2a3f5f"
            },
            "error_y": {
             "color": "#2a3f5f"
            },
            "marker": {
             "line": {
              "color": "#E5ECF6",
              "width": 0.5
             },
             "pattern": {
              "fillmode": "overlay",
              "size": 10,
              "solidity": 0.2
             }
            },
            "type": "bar"
           }
          ],
          "barpolar": [
           {
            "marker": {
             "line": {
              "color": "#E5ECF6",
              "width": 0.5
             },
             "pattern": {
              "fillmode": "overlay",
              "size": 10,
              "solidity": 0.2
             }
            },
            "type": "barpolar"
           }
          ],
          "carpet": [
           {
            "aaxis": {
             "endlinecolor": "#2a3f5f",
             "gridcolor": "white",
             "linecolor": "white",
             "minorgridcolor": "white",
             "startlinecolor": "#2a3f5f"
            },
            "baxis": {
             "endlinecolor": "#2a3f5f",
             "gridcolor": "white",
             "linecolor": "white",
             "minorgridcolor": "white",
             "startlinecolor": "#2a3f5f"
            },
            "type": "carpet"
           }
          ],
          "choropleth": [
           {
            "colorbar": {
             "outlinewidth": 0,
             "ticks": ""
            },
            "type": "choropleth"
           }
          ],
          "contour": [
           {
            "colorbar": {
             "outlinewidth": 0,
             "ticks": ""
            },
            "colorscale": [
             [
              0,
              "#0d0887"
             ],
             [
              0.1111111111111111,
              "#46039f"
             ],
             [
              0.2222222222222222,
              "#7201a8"
             ],
             [
              0.3333333333333333,
              "#9c179e"
             ],
             [
              0.4444444444444444,
              "#bd3786"
             ],
             [
              0.5555555555555556,
              "#d8576b"
             ],
             [
              0.6666666666666666,
              "#ed7953"
             ],
             [
              0.7777777777777778,
              "#fb9f3a"
             ],
             [
              0.8888888888888888,
              "#fdca26"
             ],
             [
              1,
              "#f0f921"
             ]
            ],
            "type": "contour"
           }
          ],
          "contourcarpet": [
           {
            "colorbar": {
             "outlinewidth": 0,
             "ticks": ""
            },
            "type": "contourcarpet"
           }
          ],
          "heatmap": [
           {
            "colorbar": {
             "outlinewidth": 0,
             "ticks": ""
            },
            "colorscale": [
             [
              0,
              "#0d0887"
             ],
             [
              0.1111111111111111,
              "#46039f"
             ],
             [
              0.2222222222222222,
              "#7201a8"
             ],
             [
              0.3333333333333333,
              "#9c179e"
             ],
             [
              0.4444444444444444,
              "#bd3786"
             ],
             [
              0.5555555555555556,
              "#d8576b"
             ],
             [
              0.6666666666666666,
              "#ed7953"
             ],
             [
              0.7777777777777778,
              "#fb9f3a"
             ],
             [
              0.8888888888888888,
              "#fdca26"
             ],
             [
              1,
              "#f0f921"
             ]
            ],
            "type": "heatmap"
           }
          ],
          "heatmapgl": [
           {
            "colorbar": {
             "outlinewidth": 0,
             "ticks": ""
            },
            "colorscale": [
             [
              0,
              "#0d0887"
             ],
             [
              0.1111111111111111,
              "#46039f"
             ],
             [
              0.2222222222222222,
              "#7201a8"
             ],
             [
              0.3333333333333333,
              "#9c179e"
             ],
             [
              0.4444444444444444,
              "#bd3786"
             ],
             [
              0.5555555555555556,
              "#d8576b"
             ],
             [
              0.6666666666666666,
              "#ed7953"
             ],
             [
              0.7777777777777778,
              "#fb9f3a"
             ],
             [
              0.8888888888888888,
              "#fdca26"
             ],
             [
              1,
              "#f0f921"
             ]
            ],
            "type": "heatmapgl"
           }
          ],
          "histogram": [
           {
            "marker": {
             "pattern": {
              "fillmode": "overlay",
              "size": 10,
              "solidity": 0.2
             }
            },
            "type": "histogram"
           }
          ],
          "histogram2d": [
           {
            "colorbar": {
             "outlinewidth": 0,
             "ticks": ""
            },
            "colorscale": [
             [
              0,
              "#0d0887"
             ],
             [
              0.1111111111111111,
              "#46039f"
             ],
             [
              0.2222222222222222,
              "#7201a8"
             ],
             [
              0.3333333333333333,
              "#9c179e"
             ],
             [
              0.4444444444444444,
              "#bd3786"
             ],
             [
              0.5555555555555556,
              "#d8576b"
             ],
             [
              0.6666666666666666,
              "#ed7953"
             ],
             [
              0.7777777777777778,
              "#fb9f3a"
             ],
             [
              0.8888888888888888,
              "#fdca26"
             ],
             [
              1,
              "#f0f921"
             ]
            ],
            "type": "histogram2d"
           }
          ],
          "histogram2dcontour": [
           {
            "colorbar": {
             "outlinewidth": 0,
             "ticks": ""
            },
            "colorscale": [
             [
              0,
              "#0d0887"
             ],
             [
              0.1111111111111111,
              "#46039f"
             ],
             [
              0.2222222222222222,
              "#7201a8"
             ],
             [
              0.3333333333333333,
              "#9c179e"
             ],
             [
              0.4444444444444444,
              "#bd3786"
             ],
             [
              0.5555555555555556,
              "#d8576b"
             ],
             [
              0.6666666666666666,
              "#ed7953"
             ],
             [
              0.7777777777777778,
              "#fb9f3a"
             ],
             [
              0.8888888888888888,
              "#fdca26"
             ],
             [
              1,
              "#f0f921"
             ]
            ],
            "type": "histogram2dcontour"
           }
          ],
          "mesh3d": [
           {
            "colorbar": {
             "outlinewidth": 0,
             "ticks": ""
            },
            "type": "mesh3d"
           }
          ],
          "parcoords": [
           {
            "line": {
             "colorbar": {
              "outlinewidth": 0,
              "ticks": ""
             }
            },
            "type": "parcoords"
           }
          ],
          "pie": [
           {
            "automargin": true,
            "type": "pie"
           }
          ],
          "scatter": [
           {
            "fillpattern": {
             "fillmode": "overlay",
             "size": 10,
             "solidity": 0.2
            },
            "type": "scatter"
           }
          ],
          "scatter3d": [
           {
            "line": {
             "colorbar": {
              "outlinewidth": 0,
              "ticks": ""
             }
            },
            "marker": {
             "colorbar": {
              "outlinewidth": 0,
              "ticks": ""
             }
            },
            "type": "scatter3d"
           }
          ],
          "scattercarpet": [
           {
            "marker": {
             "colorbar": {
              "outlinewidth": 0,
              "ticks": ""
             }
            },
            "type": "scattercarpet"
           }
          ],
          "scattergeo": [
           {
            "marker": {
             "colorbar": {
              "outlinewidth": 0,
              "ticks": ""
             }
            },
            "type": "scattergeo"
           }
          ],
          "scattergl": [
           {
            "marker": {
             "colorbar": {
              "outlinewidth": 0,
              "ticks": ""
             }
            },
            "type": "scattergl"
           }
          ],
          "scattermapbox": [
           {
            "marker": {
             "colorbar": {
              "outlinewidth": 0,
              "ticks": ""
             }
            },
            "type": "scattermapbox"
           }
          ],
          "scatterpolar": [
           {
            "marker": {
             "colorbar": {
              "outlinewidth": 0,
              "ticks": ""
             }
            },
            "type": "scatterpolar"
           }
          ],
          "scatterpolargl": [
           {
            "marker": {
             "colorbar": {
              "outlinewidth": 0,
              "ticks": ""
             }
            },
            "type": "scatterpolargl"
           }
          ],
          "scatterternary": [
           {
            "marker": {
             "colorbar": {
              "outlinewidth": 0,
              "ticks": ""
             }
            },
            "type": "scatterternary"
           }
          ],
          "surface": [
           {
            "colorbar": {
             "outlinewidth": 0,
             "ticks": ""
            },
            "colorscale": [
             [
              0,
              "#0d0887"
             ],
             [
              0.1111111111111111,
              "#46039f"
             ],
             [
              0.2222222222222222,
              "#7201a8"
             ],
             [
              0.3333333333333333,
              "#9c179e"
             ],
             [
              0.4444444444444444,
              "#bd3786"
             ],
             [
              0.5555555555555556,
              "#d8576b"
             ],
             [
              0.6666666666666666,
              "#ed7953"
             ],
             [
              0.7777777777777778,
              "#fb9f3a"
             ],
             [
              0.8888888888888888,
              "#fdca26"
             ],
             [
              1,
              "#f0f921"
             ]
            ],
            "type": "surface"
           }
          ],
          "table": [
           {
            "cells": {
             "fill": {
              "color": "#EBF0F8"
             },
             "line": {
              "color": "white"
             }
            },
            "header": {
             "fill": {
              "color": "#C8D4E3"
             },
             "line": {
              "color": "white"
             }
            },
            "type": "table"
           }
          ]
         },
         "layout": {
          "annotationdefaults": {
           "arrowcolor": "#2a3f5f",
           "arrowhead": 0,
           "arrowwidth": 1
          },
          "autotypenumbers": "strict",
          "coloraxis": {
           "colorbar": {
            "outlinewidth": 0,
            "ticks": ""
           }
          },
          "colorscale": {
           "diverging": [
            [
             0,
             "#8e0152"
            ],
            [
             0.1,
             "#c51b7d"
            ],
            [
             0.2,
             "#de77ae"
            ],
            [
             0.3,
             "#f1b6da"
            ],
            [
             0.4,
             "#fde0ef"
            ],
            [
             0.5,
             "#f7f7f7"
            ],
            [
             0.6,
             "#e6f5d0"
            ],
            [
             0.7,
             "#b8e186"
            ],
            [
             0.8,
             "#7fbc41"
            ],
            [
             0.9,
             "#4d9221"
            ],
            [
             1,
             "#276419"
            ]
           ],
           "sequential": [
            [
             0,
             "#0d0887"
            ],
            [
             0.1111111111111111,
             "#46039f"
            ],
            [
             0.2222222222222222,
             "#7201a8"
            ],
            [
             0.3333333333333333,
             "#9c179e"
            ],
            [
             0.4444444444444444,
             "#bd3786"
            ],
            [
             0.5555555555555556,
             "#d8576b"
            ],
            [
             0.6666666666666666,
             "#ed7953"
            ],
            [
             0.7777777777777778,
             "#fb9f3a"
            ],
            [
             0.8888888888888888,
             "#fdca26"
            ],
            [
             1,
             "#f0f921"
            ]
           ],
           "sequentialminus": [
            [
             0,
             "#0d0887"
            ],
            [
             0.1111111111111111,
             "#46039f"
            ],
            [
             0.2222222222222222,
             "#7201a8"
            ],
            [
             0.3333333333333333,
             "#9c179e"
            ],
            [
             0.4444444444444444,
             "#bd3786"
            ],
            [
             0.5555555555555556,
             "#d8576b"
            ],
            [
             0.6666666666666666,
             "#ed7953"
            ],
            [
             0.7777777777777778,
             "#fb9f3a"
            ],
            [
             0.8888888888888888,
             "#fdca26"
            ],
            [
             1,
             "#f0f921"
            ]
           ]
          },
          "colorway": [
           "#636efa",
           "#EF553B",
           "#00cc96",
           "#ab63fa",
           "#FFA15A",
           "#19d3f3",
           "#FF6692",
           "#B6E880",
           "#FF97FF",
           "#FECB52"
          ],
          "font": {
           "color": "#2a3f5f"
          },
          "geo": {
           "bgcolor": "white",
           "lakecolor": "white",
           "landcolor": "#E5ECF6",
           "showlakes": true,
           "showland": true,
           "subunitcolor": "white"
          },
          "hoverlabel": {
           "align": "left"
          },
          "hovermode": "closest",
          "mapbox": {
           "style": "light"
          },
          "paper_bgcolor": "white",
          "plot_bgcolor": "#E5ECF6",
          "polar": {
           "angularaxis": {
            "gridcolor": "white",
            "linecolor": "white",
            "ticks": ""
           },
           "bgcolor": "#E5ECF6",
           "radialaxis": {
            "gridcolor": "white",
            "linecolor": "white",
            "ticks": ""
           }
          },
          "scene": {
           "xaxis": {
            "backgroundcolor": "#E5ECF6",
            "gridcolor": "white",
            "gridwidth": 2,
            "linecolor": "white",
            "showbackground": true,
            "ticks": "",
            "zerolinecolor": "white"
           },
           "yaxis": {
            "backgroundcolor": "#E5ECF6",
            "gridcolor": "white",
            "gridwidth": 2,
            "linecolor": "white",
            "showbackground": true,
            "ticks": "",
            "zerolinecolor": "white"
           },
           "zaxis": {
            "backgroundcolor": "#E5ECF6",
            "gridcolor": "white",
            "gridwidth": 2,
            "linecolor": "white",
            "showbackground": true,
            "ticks": "",
            "zerolinecolor": "white"
           }
          },
          "shapedefaults": {
           "line": {
            "color": "#2a3f5f"
           }
          },
          "ternary": {
           "aaxis": {
            "gridcolor": "white",
            "linecolor": "white",
            "ticks": ""
           },
           "baxis": {
            "gridcolor": "white",
            "linecolor": "white",
            "ticks": ""
           },
           "bgcolor": "#E5ECF6",
           "caxis": {
            "gridcolor": "white",
            "linecolor": "white",
            "ticks": ""
           }
          },
          "title": {
           "x": 0.05
          },
          "xaxis": {
           "automargin": true,
           "gridcolor": "white",
           "linecolor": "white",
           "ticks": "",
           "title": {
            "standoff": 15
           },
           "zerolinecolor": "white",
           "zerolinewidth": 2
          },
          "yaxis": {
           "automargin": true,
           "gridcolor": "white",
           "linecolor": "white",
           "ticks": "",
           "title": {
            "standoff": 15
           },
           "zerolinecolor": "white",
           "zerolinewidth": 2
          }
         }
        },
        "title": {
         "text": "Comparison of Test Errors"
        },
        "xaxis": {
         "anchor": "y",
         "domain": [
          0,
          1
         ],
         "title": {
          "text": "Method"
         }
        },
        "yaxis": {
         "anchor": "x",
         "domain": [
          0,
          1
         ],
         "title": {
          "text": "Test Error"
         }
        }
       }
      }
     },
     "metadata": {},
     "output_type": "display_data"
    }
   ],
   "source": [
    "result = perform_simulation(50,7,10,200,10000,mu_k0, mu_k1)"
   ]
  },
  {
   "cell_type": "code",
   "execution_count": 120,
   "metadata": {},
   "outputs": [
    {
     "data": {
      "text/html": [
       "<div>\n",
       "<style scoped>\n",
       "    .dataframe tbody tr th:only-of-type {\n",
       "        vertical-align: middle;\n",
       "    }\n",
       "\n",
       "    .dataframe tbody tr th {\n",
       "        vertical-align: top;\n",
       "    }\n",
       "\n",
       "    .dataframe thead th {\n",
       "        text-align: right;\n",
       "    }\n",
       "</style>\n",
       "<table border=\"1\" class=\"dataframe\">\n",
       "  <thead>\n",
       "    <tr style=\"text-align: right;\">\n",
       "      <th></th>\n",
       "      <th>Procedure</th>\n",
       "      <th>min_test_error</th>\n",
       "      <th>max_test_error</th>\n",
       "      <th>median_test_error</th>\n",
       "      <th>quantiles_test_error</th>\n",
       "    </tr>\n",
       "  </thead>\n",
       "  <tbody>\n",
       "    <tr>\n",
       "      <th>0</th>\n",
       "      <td>KNN with K=7</td>\n",
       "      <td>0.1656</td>\n",
       "      <td>0.2058</td>\n",
       "      <td>0.18605</td>\n",
       "      <td>[0.17887499999999998, 0.19579999999999997]</td>\n",
       "    </tr>\n",
       "    <tr>\n",
       "      <th>1</th>\n",
       "      <td>KNN with CV-selected K</td>\n",
       "      <td>0.1591</td>\n",
       "      <td>0.1998</td>\n",
       "      <td>0.17750</td>\n",
       "      <td>[0.17174999999999999, 0.18397500000000003]</td>\n",
       "    </tr>\n",
       "    <tr>\n",
       "      <th>2</th>\n",
       "      <td>Bayes Rule</td>\n",
       "      <td>0.1583</td>\n",
       "      <td>0.1746</td>\n",
       "      <td>0.16470</td>\n",
       "      <td>[0.16200000000000003, 0.16692500000000002]</td>\n",
       "    </tr>\n",
       "  </tbody>\n",
       "</table>\n",
       "</div>"
      ],
      "text/plain": [
       "                Procedure  min_test_error  max_test_error  median_test_error   \n",
       "0            KNN with K=7          0.1656          0.2058            0.18605  \\\n",
       "1  KNN with CV-selected K          0.1591          0.1998            0.17750   \n",
       "2              Bayes Rule          0.1583          0.1746            0.16470   \n",
       "\n",
       "                         quantiles_test_error  \n",
       "0  [0.17887499999999998, 0.19579999999999997]  \n",
       "1  [0.17174999999999999, 0.18397500000000003]  \n",
       "2  [0.16200000000000003, 0.16692500000000002]  "
      ]
     },
     "execution_count": 120,
     "metadata": {},
     "output_type": "execute_result"
    }
   ],
   "source": [
    "result"
   ]
  },
  {
   "cell_type": "code",
   "execution_count": null,
   "metadata": {},
   "outputs": [],
   "source": []
  }
 ],
 "metadata": {
  "kernelspec": {
   "display_name": "Python 3",
   "language": "python",
   "name": "python3"
  },
  "language_info": {
   "codemirror_mode": {
    "name": "ipython",
    "version": 3
   },
   "file_extension": ".py",
   "mimetype": "text/x-python",
   "name": "python",
   "nbconvert_exporter": "python",
   "pygments_lexer": "ipython3",
   "version": "3.9.12"
  }
 },
 "nbformat": 4,
 "nbformat_minor": 2
}
