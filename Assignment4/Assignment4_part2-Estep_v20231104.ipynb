{
 "cells": [
  {
   "cell_type": "markdown",
   "metadata": {},
   "source": [
    "References :\n",
    "1> Campuswire : https://campuswire.com/c/G06C55090/feed/432 \n",
    "2> Campuswire : https://campuswire.com/c/G06C55090/feed/458\n",
    "3> Lecture: https://liangfgithub.github.io/Notes/lec_W7.2_HMM.pdf\n",
    "\n",
    "Assignment : https://liangfgithub.github.io/Coding/Coding4.html"
   ]
  },
  {
   "cell_type": "markdown",
   "metadata": {},
   "source": [
    "## Hints"
   ]
  },
  {
   "cell_type": "markdown",
   "metadata": {},
   "source": [
    "https://campuswire.com/c/G06C55090/feed/612\n",
    "Hi All,\n",
    "\n",
    "I'm struggling in debugging coding4 part2 Baum-Welch algorithm. I first calculated alpha (dim [T-1, mz]), beta (dim [T, mz]), gamma (dim [T-1, mz, mz]), and margiGamma (dim [T, mz]), then I updated the A (mz-by-mz) and B (mz-by-mx) according to the hints in #458. Following is my resulted alpha, beta, A, and B for the first iteration. The results are inaccurate and I have no idea which part went wrong. Has anyone met the same issue? Any help or hints will be appreciated!\n",
    "\n",
    "I finally found the bug that when I read the observations I used \"myData <-read.csv(\"https://liangfgithub.github.io/Data/coding4_part2_data.txt\", header = True)\" which omitted the first observation. After change header to FALSE, I can get the correct A and B now.\n",
    "It is also helpful to run the R baumWelch \"myfit2 = baumWelch(tmphmm, myData[,1], 2)\" to debug with desired iteration numbers."
   ]
  },
  {
   "cell_type": "code",
   "execution_count": null,
   "metadata": {},
   "outputs": [],
   "source": []
  },
  {
   "cell_type": "markdown",
   "metadata": {},
   "source": [
    "## Implementation"
   ]
  },
  {
   "cell_type": "code",
   "execution_count": 2,
   "metadata": {},
   "outputs": [],
   "source": [
    "import numpy as np"
   ]
  },
  {
   "cell_type": "code",
   "execution_count": 111,
   "metadata": {},
   "outputs": [],
   "source": [
    "# Load the data sequence from the file\n",
    "data = np.genfromtxt(\"coding4_part2_data.txt\", dtype=int)\n",
    "w = np.array([0.5, 0.5])\n",
    "A = np.array([[0.5, 0.5], [0.5, 0.5]])\n",
    "B = np.array([[1/9, 3/9, 5/9], [1/6, 2/6, 3/6]])"
   ]
  },
  {
   "cell_type": "code",
   "execution_count": 112,
   "metadata": {},
   "outputs": [],
   "source": [
    "def compute_forward_probability(t, i,w, alpha, A, B, x):\n",
    "    #print(f\"t={t} , i : {i} , alpha: {alpha.shape}\")\n",
    "\n",
    "    if t == 1 and alpha[t - 1][i] == 0:\n",
    "        #print(f\"t=1 , i : {i} , alpha_t_i: {alpha[t - 1][i]} , w_{i} :{w[i]} ,B[{i}][x{t-1}-1] : {B[i][x[t - 1]-1]} \")\n",
    "        # Base case: When t = 1\n",
    "        alpha[t - 1][i] = w[i] * B[i][x[t - 1]-1]\n",
    "        #print(f\"alpha_t_i: {alpha} \")\n",
    "        return alpha[t - 1][i]\n",
    "    elif alpha[t - 1][i] != 0:\n",
    "        # If the value is already calculated, return it\n",
    "        return alpha[t - 1][i]\n",
    "    else:\n",
    "        # Recursive case: When t > 1\n",
    "        summation = 0\n",
    "        for j in range(w.shape[0]):  # Make sure A has the correct number of rows\n",
    "            alpha_temp = compute_forward_probability(t-1, j,w, alpha, A, B, x)\n",
    "            #print(f\"t={t} , i : {i} ,j:{j}, alpha_temp: {alpha_temp} ,A[{j}][i]: {A[j][i]},B[{i}][x{t-1}-1] : {B[i][x[t - 1]-1]} \")\n",
    "\n",
    "            summation +=  alpha_temp * A[j][i] * B[i][x[t - 1]-1]  # Swap i and j here\n",
    "        alpha[t - 1][i] = summation  # Store the calculated value in the alpha matrix\n",
    "        #print(f\"t={t} , i : {i},alpha_t+: {alpha} \")\n",
    "        return summation\n"
   ]
  },
  {
   "cell_type": "code",
   "execution_count": 162,
   "metadata": {},
   "outputs": [],
   "source": [
    "def compute_backward_probability(t, i, beta, A, B, x):\n",
    "    print(f\"t={t} , i : {i} , beta: {beta.shape}, len(x):{len(x)}\")\n",
    "    if t == (len(x)):\n",
    "        # Base case: When t is the last time step\n",
    "        beta[t - 1] = 1 #[i]\n",
    "        print(f\"beta[t - 1]:{beta[t - 1]}\")\n",
    "        return 1\n",
    "    elif beta[t - 1][i] != 0:\n",
    "        # If the value is already calculated, return it\n",
    "        #print(f\"beta[t - 1]:{beta[t - 1][i]}\")\n",
    "        return beta[t - 1][i]\n",
    "    else:\n",
    "        # Recursive case: When t < T\n",
    "        summation = 0\n",
    "        for j in range(A.shape[0]):\n",
    "            summation += A[i][j] * B[j][x[t]-1] * compute_backward_probability(t + 1, j, beta, A, B, x)\n",
    "        beta[t - 1][i] = summation  # Store the calculated value in the beta matrix\n",
    "        #print(f\"summation:{summation}\")\n",
    "        return summation\n"
   ]
  },
  {
   "cell_type": "code",
   "execution_count": 209,
   "metadata": {},
   "outputs": [],
   "source": [
    "def compute_backward_probability(t, w, beta, A, B, x):\n",
    "\n",
    "    if t < 0:\n",
    "        return 1\n",
    "\n",
    "    else:\n",
    "        \n",
    "        # Recursive case: When t < T\n",
    "        summation = 0\n",
    "        if t == len(x):\n",
    "            \n",
    "            # Base case: When t is the last time step\n",
    "            beta[t-1] =1\n",
    "            return compute_backward_probability(t - 1, w, beta, A, B, x)\n",
    "        else:\n",
    "            #print(f\"when t not 200 => t:{t}, beta[t+1] = beta[{t}+1] = beta[{t}]: {beta[t]}\")\n",
    "            t = (t-1)\n",
    "           \n",
    "            \n",
    "            if t < 0:\n",
    "                return 1\n",
    "            \n",
    "            for i in range(w.shape[0]):\n",
    "                \n",
    "                \n",
    "                for j in range(A.shape[0]):\n",
    "\n",
    "                    \n",
    "                    summation += A[i][j] * B[j][x[t]-1] * beta[t+1][j]\n",
    "                    \n",
    "\n",
    "\n",
    "                # call recursively by updating the value of t\n",
    "                beta[t][i] = summation  # Store the calculated value in the beta matrix\n",
    "                \n",
    "                \n",
    "            \n",
    "            #t = (t+1) # convert the index to row number before sending to recorsive function\n",
    "            return compute_backward_probability(t , w, beta, A, B, x)\n",
    "            \n",
    "\n",
    "\n"
   ]
  },
  {
   "cell_type": "code",
   "execution_count": 226,
   "metadata": {},
   "outputs": [],
   "source": [
    "def calculate_myGamma(data,w,A,B, alpha,beta):\n",
    "    mz = A.shape[0]\n",
    "    T = data.shape[0]\n",
    "    print(f\"mz:{mz}, T:{T}, alpha : {alpha.shape} , beta : {beta.shape}\")\n",
    "    \n",
    "    myGamma = np.zeros((mz, mz, T-1))\n",
    "    print(myGamma.shape)\n",
    "    # Formula my Gamma  = Summation (alpha_t_i * A(i,j) * beta(t+1, j))\n",
    "    \n",
    "    # iterate over T\n",
    "    for t in range(T-1):\n",
    "        # calculate gamma values for each pair of hidden states (i,j)\n",
    "        \n",
    "        for i in range(mz):\n",
    "            \n",
    "            for j in range(mz):\n",
    "                gamma_t_i_j = alpha[t][i] * A[i][j] * B[j][data[t+1] - 1] * beta[t+1][j]\n",
    "                myGamma[i][j][t] =gamma_t_i_j\n",
    "            \n",
    "    return myGamma"
   ]
  },
  {
   "cell_type": "code",
   "execution_count": 240,
   "metadata": {},
   "outputs": [],
   "source": [
    "def compute_gamma_onestep(data, w,A,B):\n",
    "    T = len(data)\n",
    "    wz = w.shape[0]\n",
    "    print(f\"T:{T}, wz:{wz}\")\n",
    "    \n",
    "    alpha_one_step = np.zeros((T, wz))\n",
    "    #print(f\"alpha_one_step: {alpha_one_step.shape} \")\n",
    "    compute_forward_probability(T, wz -1,w, alpha_one_step,A,B, data )\n",
    "    \n",
    "    #print(f\"alpha_one_step: {alpha_one_step.shape} , alpha_one_step\\n-----\\n{alpha_one_step[1:10,]} \")\n",
    "    \n",
    "    # Initialize the beta array\n",
    "    beta_one_step = np.zeros((len(data), A.shape[0]))\n",
    "    \n",
    "    print(f\"beta_one_step: {beta_one_step.shape} \")\n",
    "    print(f\"data: {data}\")\n",
    "    compute_backward_probability(T,w ,beta_one_step,A,B, data)\n",
    "    #compute_backward_probability(len(x1), w1, beta1, A1, B1, x1)\n",
    "    #print(\"β{}({}) = {}\".format(T, wz, beta_t_i))\n",
    "    print(f\"beta_one_step: {beta_one_step.shape} , beta_one_step\\n-----\\n{beta_one_step[190:,]} \")\n",
    "    \n",
    "    \n",
    "    ### CALCULATE myGamma\n",
    "    myGamma = calculate_myGamma(data, w,A,B,alpha_one_step, beta_one_step)\n",
    "    print(f\"myGamma: {myGamma.shape} , \") #myGamma\\n-----\\n{myGamma[1]} \n",
    "    \n",
    "    return myGamma\n",
    "    ### Now As we have alpha & beta -> Calculate gamma one step"
   ]
  },
  {
   "cell_type": "code",
   "execution_count": null,
   "metadata": {},
   "outputs": [],
   "source": [
    "def execute_M_Step_onestep(data, w,A,B, myGamma):\n",
    "    "
   ]
  },
  {
   "cell_type": "code",
   "execution_count": 241,
   "metadata": {},
   "outputs": [],
   "source": [
    "def BW_onestep(data, w,A,B):\n",
    "    \n",
    "    # STEP 1: E step\n",
    "    myGamma = compute_gamma_onestep(data, w,A,B)\n",
    "    # Step 2: M Step\n",
    "    updated_A, updated_B = execute_M_Step_onestep(data, w,A,B, myGamma)\n",
    "    # return updated parameters A, B\n",
    "    #return A, B"
   ]
  },
  {
   "cell_type": "code",
   "execution_count": 242,
   "metadata": {
    "scrolled": false
   },
   "outputs": [
    {
     "name": "stdout",
     "output_type": "stream",
     "text": [
      "T:200, wz:2\n",
      "beta_one_step: (200, 2) \n",
      "data: [2 3 3 3 3 3 3 1 3 3 3 3 3 1 1 3 3 3 2 3 3 3 1 3 1 1 1 2 2 3 3 3 3 3 1 3 3\n",
      " 2 2 3 3 3 3 1 1 3 3 3 2 3 3 1 3 1 3 3 3 2 1 1 1 1 3 3 3 3 3 3 3 3 1 1 1 3\n",
      " 3 1 2 1 3 1 1 3 1 1 2 1 3 1 1 2 1 3 3 3 3 1 3 3 3 3 3 3 2 3 3 2 3 2 3 1 3\n",
      " 3 3 3 1 2 2 3 3 3 3 1 2 2 2 1 3 1 3 1 1 3 1 2 3 3 3 2 2 3 1 3 1 2 1 2 1 3\n",
      " 1 3 1 3 3 3 1 1 3 2 3 1 3 3 2 3 3 1 1 1 2 3 1 1 2 1 3 3 3 1 2 1 3 2 3 3 3\n",
      " 3 3 2 1 2 2 3 1 2 3 2 3 2 2 2]\n",
      "beta_one_step: (200, 2) , beta_one_step\n",
      "-----\n",
      "[[0.00217828 0.00435655]\n",
      " [0.00435655 0.0087131 ]\n",
      " [0.00560128 0.01120256]\n",
      " [0.02520576 0.05041152]\n",
      " [0.05041152 0.10082305]\n",
      " [0.06481481 0.12962963]\n",
      " [0.12962963 0.25925926]\n",
      " [0.16666667 0.33333333]\n",
      " [0.33333333 0.66666667]\n",
      " [1.         1.        ]] \n",
      "mz:2, T:200, alpha : (200, 2) , beta : (200, 2)\n",
      "(2, 2, 199)\n",
      "myGamma: (2, 2, 199) , \n"
     ]
    }
   ],
   "source": [
    "BW_onestep(data, w,A,B)"
   ]
  },
  {
   "cell_type": "code",
   "execution_count": 230,
   "metadata": {},
   "outputs": [
    {
     "name": "stdout",
     "output_type": "stream",
     "text": [
      "β200(2) = 1\n"
     ]
    }
   ],
   "source": [
    "w1 = np.array([0.5, 0.5])\n",
    "A1 = np.array([[0.5, 0.5], [0.5, 0.5]])\n",
    "B1 = np.array([[1/9, 3/9, 5/9], [1/6, 2/6, 3/6]])\n",
    "x1 = np.array([2, 3, 3, 3, 3, 3, 3, 1, 3, 3, 3, 3, 3, 1, 1, 3, 3, 3, 2, 3, 3, 3, 1, 3, 1, 1, 1, 2, 2, 3, 3, 3, 3, 3, 1, 3,\n",
    " 2, 2, 3, 3, 3, 3, 1, 1, 3, 3, 3, 2, 3, 3, 1, 3, 1, 3, 3, 3, 2, 1, 1, 1, 1, 3, 3, 3, 3, 3, 3, 3, 3, 1, 1, 1, 3,\n",
    " 3, 1, 2, 1, 3, 1, 1, 3, 1, 1, 2, 1, 3, 1, 1, 2, 1, 3, 3, 3, 3, 1, 3, 3, 3, 3, 3, 3, 2, 3, 3, 2, 3, 2, 3, 1, 3,\n",
    " 3, 3, 3, 1, 2, 2, 3, 3, 3, 3, 1, 2, 2, 2, 1, 3, 1, 3, 1, 1, 3, 1, 2, 3, 3, 3, 2, 2, 3, 1, 3, 1, 2, 1, 2, 1, 3,\n",
    " 1, 3, 1, 3, 3, 3, 1, 1, 3, 2, 3, 1, 3, 3, 2, 3, 3, 1, 1, 1, 2, 3, 1, 1, 2, 1, 3, 3, 3, 1, 2, 1, 3, 2, 3, 3, 3,\n",
    " 3, 3, 2, 1, 2, 2, 3, 1, 2, 3, 2, 3, 2, 2,1,1])\n",
    "\n",
    "# Define the time step 't' and the hidden state 'i' for which you want to calculate βt(i)\n",
    "t = 1  # For example, calculate βt(1)\n",
    "\n",
    "# Initialize the beta array\n",
    "beta1 = np.zeros((len(x1), A1.shape[0]))\n",
    "\n",
    "# Calculate βt(i) using the recursive function\n",
    "beta_t_i = compute_backward_probability(len(x1), w1, beta1, A1, B1, x1)\n",
    "\n",
    "print(\"β{}({}) = {}\".format(len(x1), len(w), beta_t_i))\n"
   ]
  },
  {
   "cell_type": "code",
   "execution_count": 231,
   "metadata": {},
   "outputs": [
    {
     "data": {
      "text/plain": [
       "array([[2.63281024e-61, 5.26562048e-61],\n",
       "       [5.26562048e-61, 1.05312410e-60],\n",
       "       [6.77008348e-61, 1.35401670e-60],\n",
       "       [8.70439304e-61, 1.74087861e-60],\n",
       "       [1.11913625e-60, 2.23827250e-60],\n",
       "       [1.43888946e-60, 2.87777892e-60],\n",
       "       [1.85000074e-60, 3.70000147e-60],\n",
       "       [2.37857238e-60, 4.75714475e-60],\n",
       "       [1.07035757e-59, 2.14071514e-59],\n",
       "       [1.37617402e-59, 2.75234804e-59],\n",
       "       [1.76936659e-59, 3.53873319e-59],\n",
       "       [2.27489991e-59, 4.54979981e-59],\n",
       "       [2.92487131e-59, 5.84974262e-59],\n",
       "       [3.76054883e-59, 7.52109765e-59],\n",
       "       [1.69224697e-58, 3.38449394e-58],\n",
       "       [7.61511137e-58, 1.52302227e-57],\n",
       "       [9.79085748e-58, 1.95817150e-57],\n",
       "       [1.25882453e-57, 2.51764907e-57],\n",
       "       [1.61848868e-57, 3.23697737e-57],\n",
       "       [3.23697737e-57, 6.47395474e-57],\n",
       "       [4.16182805e-57, 8.32365609e-57],\n",
       "       [5.35092177e-57, 1.07018435e-56],\n",
       "       [6.87975657e-57, 1.37595131e-56],\n",
       "       [3.09589046e-56, 6.19178091e-56],\n",
       "       [3.98043059e-56, 7.96086117e-56],\n",
       "       [1.79119376e-55, 3.58238753e-55],\n",
       "       [8.06037194e-55, 1.61207439e-54],\n",
       "       [3.62716737e-54, 7.25433474e-54],\n",
       "       [7.25433474e-54, 1.45086695e-53],\n",
       "       [1.45086695e-53, 2.90173390e-53],\n",
       "       [1.86540036e-53, 3.73080072e-53],\n",
       "       [2.39837189e-53, 4.79674379e-53],\n",
       "       [3.08362101e-53, 6.16724201e-53],\n",
       "       [3.96465558e-53, 7.92931116e-53],\n",
       "       [5.09741432e-53, 1.01948286e-52],\n",
       "       [2.29383644e-52, 4.58767289e-52],\n",
       "       [2.94921828e-52, 5.89843657e-52],\n",
       "       [5.89843657e-52, 1.17968731e-51],\n",
       "       [1.17968731e-51, 2.35937463e-51],\n",
       "       [1.51674083e-51, 3.03348166e-51],\n",
       "       [1.95009535e-51, 3.90019071e-51],\n",
       "       [2.50726546e-51, 5.01453091e-51],\n",
       "       [3.22362702e-51, 6.44725403e-51],\n",
       "       [1.45063216e-50, 2.90126431e-50],\n",
       "       [6.52784471e-50, 1.30556894e-49],\n",
       "       [8.39294319e-50, 1.67858864e-49],\n",
       "       [1.07909270e-49, 2.15818539e-49],\n",
       "       [1.38740490e-49, 2.77480979e-49],\n",
       "       [2.77480979e-49, 5.54961958e-49],\n",
       "       [3.56761259e-49, 7.13522518e-49],\n",
       "       [4.58693047e-49, 9.17386094e-49],\n",
       "       [2.06411871e-48, 4.12823742e-48],\n",
       "       [2.65386691e-48, 5.30773383e-48],\n",
       "       [1.19424011e-47, 2.38848022e-47],\n",
       "       [1.53545157e-47, 3.07090314e-47],\n",
       "       [1.97415202e-47, 3.94830404e-47],\n",
       "       [2.53819546e-47, 5.07639091e-47],\n",
       "       [5.07639091e-47, 1.01527818e-46],\n",
       "       [2.28437591e-46, 4.56875182e-46],\n",
       "       [1.02796916e-45, 2.05593832e-45],\n",
       "       [4.62586122e-45, 9.25172244e-45],\n",
       "       [2.08163755e-44, 4.16327510e-44],\n",
       "       [2.67639113e-44, 5.35278227e-44],\n",
       "       [3.44107431e-44, 6.88214863e-44],\n",
       "       [4.42423840e-44, 8.84847681e-44],\n",
       "       [5.68830652e-44, 1.13766130e-43],\n",
       "       [7.31353695e-44, 1.46270739e-43],\n",
       "       [9.40311894e-44, 1.88062379e-43],\n",
       "       [1.20897244e-43, 2.41794487e-43],\n",
       "       [1.55439313e-43, 3.10878626e-43],\n",
       "       [6.99476909e-43, 1.39895382e-42],\n",
       "       [3.14764609e-42, 6.29529218e-42],\n",
       "       [1.41644074e-41, 2.83288148e-41],\n",
       "       [1.82113810e-41, 3.64227619e-41],\n",
       "       [2.34146327e-41, 4.68292653e-41],\n",
       "       [1.05365847e-40, 2.10731694e-40],\n",
       "       [2.10731694e-40, 4.21463388e-40],\n",
       "       [9.48292622e-40, 1.89658524e-39],\n",
       "       [1.21923337e-39, 2.43846674e-39],\n",
       "       [5.48655017e-39, 1.09731003e-38],\n",
       "       [2.46894758e-38, 4.93789516e-38],\n",
       "       [3.17436117e-38, 6.34872234e-38],\n",
       "       [1.42846253e-37, 2.85692505e-37],\n",
       "       [6.42808137e-37, 1.28561627e-36],\n",
       "       [1.28561627e-36, 2.57123255e-36],\n",
       "       [5.78527323e-36, 1.15705465e-35],\n",
       "       [7.43820844e-36, 1.48764169e-35],\n",
       "       [3.34719380e-35, 6.69438760e-35],\n",
       "       [1.50623721e-34, 3.01247442e-34],\n",
       "       [3.01247442e-34, 6.02494884e-34],\n",
       "       [1.35561349e-33, 2.71122698e-33],\n",
       "       [1.74293163e-33, 3.48586326e-33],\n",
       "       [2.24091209e-33, 4.48182419e-33],\n",
       "       [2.88117269e-33, 5.76234538e-33],\n",
       "       [3.70436489e-33, 7.40872978e-33],\n",
       "       [1.66696420e-32, 3.33392840e-32],\n",
       "       [2.14323969e-32, 4.28647937e-32],\n",
       "       [2.75559388e-32, 5.51118777e-32],\n",
       "       [3.54290642e-32, 7.08581284e-32],\n",
       "       [4.55516540e-32, 9.11033080e-32],\n",
       "       [5.85664123e-32, 1.17132825e-31],\n",
       "       [7.52996729e-32, 1.50599346e-31],\n",
       "       [1.50599346e-31, 3.01198692e-31],\n",
       "       [1.93627730e-31, 3.87255461e-31],\n",
       "       [2.48949939e-31, 4.97899878e-31],\n",
       "       [4.97899878e-31, 9.95799756e-31],\n",
       "       [6.40156986e-31, 1.28031397e-30],\n",
       "       [1.28031397e-30, 2.56062794e-30],\n",
       "       [1.64611796e-30, 3.29223593e-30],\n",
       "       [7.40753084e-30, 1.48150617e-29],\n",
       "       [9.52396822e-30, 1.90479364e-29],\n",
       "       [1.22451020e-29, 2.44902040e-29],\n",
       "       [1.57437026e-29, 3.14874051e-29],\n",
       "       [2.02419033e-29, 4.04838066e-29],\n",
       "       [9.10885649e-29, 1.82177130e-28],\n",
       "       [1.82177130e-28, 3.64354259e-28],\n",
       "       [3.64354259e-28, 7.28708519e-28],\n",
       "       [4.68455476e-28, 9.36910953e-28],\n",
       "       [6.02299898e-28, 1.20459980e-27],\n",
       "       [7.74385583e-28, 1.54877117e-27],\n",
       "       [9.95638607e-28, 1.99127721e-27],\n",
       "       [4.48037373e-27, 8.96074747e-27],\n",
       "       [8.96074747e-27, 1.79214949e-26],\n",
       "       [1.79214949e-26, 3.58429899e-26],\n",
       "       [3.58429899e-26, 7.16859797e-26],\n",
       "       [1.61293454e-25, 3.22586909e-25],\n",
       "       [2.07377298e-25, 4.14754597e-25],\n",
       "       [9.33197843e-25, 1.86639569e-24],\n",
       "       [1.19982580e-24, 2.39965160e-24],\n",
       "       [5.39921609e-24, 1.07984322e-23],\n",
       "       [2.42964724e-23, 4.85929448e-23],\n",
       "       [3.12383217e-23, 6.24766434e-23],\n",
       "       [1.40572448e-22, 2.81144895e-22],\n",
       "       [2.81144895e-22, 5.62289790e-22],\n",
       "       [3.61472008e-22, 7.22944016e-22],\n",
       "       [4.64749725e-22, 9.29499449e-22],\n",
       "       [5.97535360e-22, 1.19507072e-21],\n",
       "       [1.19507072e-21, 2.39014144e-21],\n",
       "       [2.39014144e-21, 4.78028288e-21],\n",
       "       [3.07303900e-21, 6.14607799e-21],\n",
       "       [1.38286755e-20, 2.76573510e-20],\n",
       "       [1.77797256e-20, 3.55594512e-20],\n",
       "       [8.00087653e-20, 1.60017531e-19],\n",
       "       [1.60017531e-19, 3.20035061e-19],\n",
       "       [7.20078887e-19, 1.44015777e-18],\n",
       "       [1.44015777e-18, 2.88031555e-18],\n",
       "       [6.48070999e-18, 1.29614200e-17],\n",
       "       [8.33234141e-18, 1.66646828e-17],\n",
       "       [3.74955364e-17, 7.49910727e-17],\n",
       "       [4.82085467e-17, 9.64170935e-17],\n",
       "       [2.16938460e-16, 4.33876921e-16],\n",
       "       [2.78920878e-16, 5.57841755e-16],\n",
       "       [3.58612557e-16, 7.17225114e-16],\n",
       "       [4.61073287e-16, 9.22146575e-16],\n",
       "       [2.07482979e-15, 4.14965959e-15],\n",
       "       [9.33673407e-15, 1.86734681e-14],\n",
       "       [1.20043724e-14, 2.40087448e-14],\n",
       "       [2.40087448e-14, 4.80174895e-14],\n",
       "       [3.08683861e-14, 6.17367722e-14],\n",
       "       [1.38907737e-13, 2.77815475e-13],\n",
       "       [1.78595662e-13, 3.57191325e-13],\n",
       "       [2.29622995e-13, 4.59245989e-13],\n",
       "       [4.59245989e-13, 9.18491978e-13],\n",
       "       [5.90459129e-13, 1.18091826e-12],\n",
       "       [7.59161737e-13, 1.51832347e-12],\n",
       "       [3.41622782e-12, 6.83245564e-12],\n",
       "       [1.53730252e-11, 3.07460504e-11],\n",
       "       [6.91786133e-11, 1.38357227e-10],\n",
       "       [1.38357227e-10, 2.76714453e-10],\n",
       "       [1.77887863e-10, 3.55775726e-10],\n",
       "       [8.00495383e-10, 1.60099077e-09],\n",
       "       [3.60222922e-09, 7.20445844e-09],\n",
       "       [7.20445844e-09, 1.44089169e-08],\n",
       "       [3.24200630e-08, 6.48401260e-08],\n",
       "       [4.16829381e-08, 8.33658763e-08],\n",
       "       [5.35923490e-08, 1.07184698e-07],\n",
       "       [6.89044488e-08, 1.37808898e-07],\n",
       "       [3.10070019e-07, 6.20140039e-07],\n",
       "       [6.20140039e-07, 1.24028008e-06],\n",
       "       [2.79063017e-06, 5.58126035e-06],\n",
       "       [3.58795308e-06, 7.17590616e-06],\n",
       "       [7.17590616e-06, 1.43518123e-05],\n",
       "       [9.22616507e-06, 1.84523301e-05],\n",
       "       [1.18622122e-05, 2.37244245e-05],\n",
       "       [1.52514157e-05, 3.05028314e-05],\n",
       "       [1.96089631e-05, 3.92179261e-05],\n",
       "       [2.52115240e-05, 5.04230479e-05],\n",
       "       [5.04230479e-05, 1.00846096e-04],\n",
       "       [2.26903716e-04, 4.53807431e-04],\n",
       "       [4.53807431e-04, 9.07614862e-04],\n",
       "       [9.07614862e-04, 1.81522972e-03],\n",
       "       [1.16693339e-03, 2.33386679e-03],\n",
       "       [5.25120027e-03, 1.05024005e-02],\n",
       "       [1.05024005e-02, 2.10048011e-02],\n",
       "       [1.35030864e-02, 2.70061728e-02],\n",
       "       [2.70061728e-02, 5.40123457e-02],\n",
       "       [3.47222222e-02, 6.94444444e-02],\n",
       "       [6.94444444e-02, 1.38888889e-01],\n",
       "       [1.38888889e-01, 2.77777778e-01],\n",
       "       [1.00000000e+00, 1.00000000e+00]])"
      ]
     },
     "execution_count": 231,
     "metadata": {},
     "output_type": "execute_result"
    }
   ],
   "source": [
    "beta1"
   ]
  },
  {
   "cell_type": "code",
   "execution_count": 232,
   "metadata": {},
   "outputs": [
    {
     "data": {
      "text/plain": [
       "(200, 2)"
      ]
     },
     "execution_count": 232,
     "metadata": {},
     "output_type": "execute_result"
    }
   ],
   "source": [
    "beta1.shape"
   ]
  },
  {
   "cell_type": "code",
   "execution_count": 233,
   "metadata": {},
   "outputs": [
    {
     "data": {
      "text/plain": [
       "array([1., 1.])"
      ]
     },
     "execution_count": 233,
     "metadata": {},
     "output_type": "execute_result"
    }
   ],
   "source": [
    "beta1[199]"
   ]
  },
  {
   "cell_type": "code",
   "execution_count": null,
   "metadata": {},
   "outputs": [],
   "source": []
  },
  {
   "cell_type": "code",
   "execution_count": null,
   "metadata": {},
   "outputs": [],
   "source": []
  }
 ],
 "metadata": {
  "kernelspec": {
   "display_name": "Python 3",
   "language": "python",
   "name": "python3"
  },
  "language_info": {
   "codemirror_mode": {
    "name": "ipython",
    "version": 3
   },
   "file_extension": ".py",
   "mimetype": "text/x-python",
   "name": "python",
   "nbconvert_exporter": "python",
   "pygments_lexer": "ipython3",
   "version": "3.8.5"
  }
 },
 "nbformat": 4,
 "nbformat_minor": 4
}
