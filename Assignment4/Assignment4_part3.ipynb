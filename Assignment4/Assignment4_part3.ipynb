{
 "cells": [
  {
   "cell_type": "markdown",
   "metadata": {},
   "source": [
    "## Part III Viterbi Algorithm\n",
    "This algorithm outputs the most likely latent sequence considering the data and the MLE of the parameters.\n",
    "`myViterbi`:\n",
    "- **Input**:\n",
    "\n",
    "    – data: a T-by-1 sequence of observations\n",
    "    \n",
    "    – parameters: `mx`, `mz`, `w`, `A` and `B`:\n",
    "    - `mx`: Count of distinct values X can take.\n",
    "    - `mz`: Count of distinct values Z can take.\n",
    "    -  `w`: An mz-by-1 probability vector representing the initial distribution for Z1.\n",
    "    - `A`: The mz-by-mz transition probability matrix that models the progression from Zt to Zt+1.\n",
    "    - `B`: The mz-by-mx emission probability matrix, indicating how X is produced from Z.\n",
    "\n",
    "- **Output**:\n",
    "\n",
    "    – Z: A T-by-1 sequence where each entry is a number ranging from 1 to mz.\n",
    "\n",
    "\n",
    "#### Note on Calculations in Viterbi:\n",
    "\n",
    "Many computations in HMM are based on the product of a sequence of probabilities, resulting in extremely small values. At times, these values are so small that software like R or Python might interpret them as zeros. This poses a challenge, especially for the Viterbi algorithm, where differentiating between magnitudes is crucial. If truncated to zero, making such distinctions becomes impossible. Therefore, it’s advisable to evaluate these probabilities on a logarithmic scale in the Viterbi algorithm.\n",
    "\n",
    "\n",
    "#### Testing\n",
    "Test your code with the provided data sequence: [Coding4_part2_data.txt]. Set `mz = 2` and start with the following initial values\n",
    "$$\n",
    "    w = \\begin{pmatrix}     \n",
    "        0.5 \\\\\n",
    "        0.5 \n",
    "        \\end{pmatrix}\n",
    "\n",
    "\n",
    "    A = \\begin{pmatrix}     \n",
    "        0.5 & 0.5\\\\\n",
    "        0.5 & 0.5\n",
    "        \\end{pmatrix} \n",
    "\n",
    "\n",
    "    B = \\begin{pmatrix}     \n",
    "        1/9 & 3/9 & 5/9\\\\\n",
    "        1/6 & 2/6 & 3/6\n",
    "        \\end{pmatrix}        \n",
    "$$,\n",
    "Run your implementation with **100** iterations"
   ]
  },
  {
   "cell_type": "code",
   "execution_count": 1,
   "metadata": {},
   "outputs": [],
   "source": [
    "import pandas as pd\n",
    "import numpy as np"
   ]
  },
  {
   "cell_type": "code",
   "execution_count": 2,
   "metadata": {},
   "outputs": [],
   "source": [
    "def viterbi(data, A, B, w,  mx=3, mz=2):\n",
    "    T = len(data)\n",
    "    delta = np.zeros((T, mz))\n",
    "\n",
    "    log_A = np.log(A)\n",
    "    log_B = np.log(B)\n",
    "    log_w = np.log(w)\n",
    "\n",
    "\n",
    "    # Compute delta\n",
    "    delta[0,:] = log_w  +  log_B[:, data[0]]\n",
    "\n",
    "    for t in range(1, T):\n",
    "        for i in range(mz):\n",
    "            # -1 because python index starts from 0\n",
    "            delta[t,i] = np.max(delta[t-1,:] + log_A[:,i]) + log_B[i, data[t]-1]\n",
    "\n",
    "    # compute the most prob sequence Z\n",
    "    Z = np.zeros(T).astype(int)\n",
    "\n",
    "    # start from the end\n",
    "\n",
    "    Z[T-1] = np.argmax(delta[T-1, :])\n",
    "\n",
    "    for t in range(T-2, -1, -1):\n",
    "        Z[t] = np.argmax(delta[t, :] + log_A[:, Z[t+1]])    \n",
    "\n",
    "    # +1: because python index start from 0\n",
    "    return Z + 1"
   ]
  },
  {
   "cell_type": "code",
   "execution_count": 3,
   "metadata": {},
   "outputs": [
    {
     "name": "stdout",
     "output_type": "stream",
     "text": [
      "[1 1 1 1 1 1 1 2 1 1 1 1 1 2 2 1 1 1 1 1 1 1 2 2 2 2 2 1 1 1 1 1 1 1 2 1 1\n",
      " 1 1 1 1 1 1 2 2 1 1 1 1 1 1 2 2 2 1 1 1 1 2 2 2 2 1 1 1 1 1 1 1 1 2 2 2 2\n",
      " 2 2 2 2 2 2 2 2 2 2 2 2 2 2 2 2 2 1 1 1 1 2 1 1 1 1 1 1 1 1 1 1 1 1 1 2 1\n",
      " 1 1 1 2 1 1 1 1 1 1 2 2 2 2 2 2 2 2 2 2 2 2 1 1 1 1 1 1 1 2 2 2 2 2 2 2 2\n",
      " 2 2 2 1 1 1 2 2 2 2 2 2 1 1 1 1 1 2 2 2 2 2 2 2 2 2 1 1 1 2 2 2 1 1 1 1 1\n",
      " 1 1 1 2 2 2 2 2 1 1 1 1 1 1 1]\n"
     ]
    }
   ],
   "source": [
    "data = np.squeeze(pd.read_csv('coding4_part2_data.txt', header=None).values)\n",
    "\n",
    "A_bw = np.array([[0.49793938, 0.50206062],\n",
    "            [0.44883431, 0.55116569]])\n",
    "\n",
    "B_bw = np.array([[0.22159897, 0.20266127, 0.57573976],\n",
    "               [0.34175148, 0.17866665, 0.47958186]])\n",
    "\n",
    "w = np.array([0.5, 0.5])\n",
    "Z_est = viterbi(data, A_bw, B_bw, w)\n",
    "print(Z_est)"
   ]
  },
  {
   "cell_type": "code",
   "execution_count": 4,
   "metadata": {},
   "outputs": [
    {
     "name": "stdout",
     "output_type": "stream",
     "text": [
      "[1 1 1 1 1 1 1 2 1 1 1 1 1 2 2 1 1 1 1 1 1 1 2 2 2 2 2 1 1 1 1 1 1 1 2 1 1\n",
      " 1 1 1 1 1 1 2 2 1 1 1 1 1 1 2 2 2 1 1 1 1 2 2 2 2 1 1 1 1 1 1 1 1 2 2 2 2\n",
      " 2 2 2 2 2 2 2 2 2 2 2 2 2 2 2 2 2 1 1 1 1 2 1 1 1 1 1 1 1 1 1 1 1 1 1 2 1\n",
      " 1 1 1 2 1 1 1 1 1 1 2 2 2 2 2 2 2 2 2 2 2 2 1 1 1 1 1 1 1 2 2 2 2 2 2 2 2\n",
      " 2 2 2 1 1 1 2 2 2 2 2 2 1 1 1 1 1 2 2 2 2 2 2 2 2 2 1 1 1 2 2 2 1 1 1 1 1\n",
      " 1 1 1 2 2 2 2 2 1 1 1 1 1 1 1]\n"
     ]
    }
   ],
   "source": [
    "Z_act_list = np.squeeze(pd.read_csv('Coding4_part2_Z.txt',header=None).values)\n",
    "Z_act_str_list = []\n",
    "for z_i in Z_act_list:\n",
    "    z_i_str_list = z_i.strip().split(\" \")\n",
    "    Z_act_str_list.extend(z_i_str_list)\n",
    "\n",
    "Z_act = np.array([int(z) for z in Z_act_str_list])\n",
    "print(Z_act)"
   ]
  },
  {
   "cell_type": "code",
   "execution_count": 5,
   "metadata": {},
   "outputs": [
    {
     "name": "stdout",
     "output_type": "stream",
     "text": [
      "True\n"
     ]
    }
   ],
   "source": [
    "print((Z_act == Z_est).all())"
   ]
  },
  {
   "cell_type": "code",
   "execution_count": null,
   "metadata": {},
   "outputs": [],
   "source": []
  }
 ],
 "metadata": {
  "kernelspec": {
   "display_name": "python39",
   "language": "python",
   "name": "python3"
  },
  "language_info": {
   "codemirror_mode": {
    "name": "ipython",
    "version": 3
   },
   "file_extension": ".py",
   "mimetype": "text/x-python",
   "name": "python",
   "nbconvert_exporter": "python",
   "pygments_lexer": "ipython3",
   "version": "3.9.12"
  },
  "orig_nbformat": 4
 },
 "nbformat": 4,
 "nbformat_minor": 2
}
