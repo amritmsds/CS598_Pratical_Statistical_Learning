{
 "cells": [
  {
   "cell_type": "code",
   "execution_count": 1,
   "id": "c7d39098",
   "metadata": {},
   "outputs": [],
   "source": [
    "import numpy as np\n",
    "import pandas as pd\n",
    "import math"
   ]
  },
  {
   "cell_type": "markdown",
   "id": "bd20b4ee",
   "metadata": {},
   "source": [
    "## Part I:  Gaussian Mixtures\n",
    "\n",
    "### Objective\n",
    "Implement the EM algorithm **from scratch** for a $p$-dimensional Gaussian mixture model \n",
    "with $G$ components: \n",
    "$$\n",
    "\\sum_{k=1}^G p_k \\cdot \\textsf{N}(x; \\mu_k, \\Sigma).\n",
    "$$\n",
    "### Requirements\n",
    "\n",
    "Your implementation should consists of **four** functions. \n",
    "\n",
    "- **`Estep`** function: This function should return an $n$-by-$G$ matrix, where the $(i,j)$th entry represents the conditional probability $P(Z_i = k \\mid x_i)$. Here $i$ ranges from 1 to $n$ and $k$ ranges from $1$ to $G$.\n",
    "\n",
    "- **`Mstep`** function: This function should return the updated parameters for the Gaussian mixture model.\n",
    "\n",
    "- **`loglik`** function: This function computes the log-likelihood of the data given the parameters.\n",
    "\n",
    "- **`myEM`** function (main function): Inside this function, you can call the `Estep`, `Mstep`, and `loglik` functions. The function should take the following inputs and return the estimated parameters and log-likelihood:     \n",
    "\n",
    "  - **Input**: \n",
    "    - data: The dataset.\n",
    "    - $G$: The number of components.\n",
    "    - Initial parameters.\n",
    "    - `itmax`: The number of iterations.\n",
    "  - **Output**: \n",
    "    - `prob`: A $G$-dimensional probability vector $(p_1, \\dots, p_G)$\n",
    "    - `mean`: A $p$-by-$G$ matrix with the $k$-th column being $\\mu_k$, the $p$-dimensional mean for the $k$-th Gaussian component. \n",
    "    - `Sigma`: A $p$-by-$p$ covariance matrix $\\Sigma$ shared by all $G$ components; \n",
    "    - `loglik`: A number equal to $\\sum_{i=1}^n \\log \\Big [ \\sum_{k=1}^G p_k \\cdot \\textsf{N}(x; \\mu_k, \\Sigma) \\Big ].$\n",
    "\n",
    "**Implementation Guidelines:**\n",
    "\n",
    "  - Avoid explicit loops over the sample size $n$.\n",
    "  - You are allowed to use loops over the number of components $G$, although you can avoid all loops. \n",
    "  - You are not allowed to use pre-existing functions or packages for evaluating normal densities."
   ]
  },
  {
   "cell_type": "code",
   "execution_count": 2,
   "id": "fac199e6",
   "metadata": {},
   "outputs": [],
   "source": [
    "def Estep(data, G, prob, mu, Sigma):\n",
    "    g = np.zeros((len(data), G))\n",
    "    U, D, _ = np.linalg.svd(Sigma)\n",
    "    D_tilda = np.diag(1 / np.sqrt(D))\n",
    "    x_tilda = D_tilda.dot(U.T.dot(data.T)).T # n by dim\n",
    "    mu_tilda = D_tilda.dot(U.T.dot(mu)).T # G by dim\n",
    "    for i in range(G):\n",
    "        g[:, i] = np.sum(((x_tilda - mu_tilda[i])*(x_tilda - mu_tilda[i])), axis=1)\n",
    "        g[:, i] = np.exp(-0.5 * g[:, i]) * prob[i]\n",
    "    g /= np.sqrt((2*math.pi) ** ndim * np.linalg.det(Sigma))\n",
    "    g /= np.sum(g, axis=1, keepdims=True)\n",
    "    return g"
   ]
  },
  {
   "cell_type": "code",
   "execution_count": 3,
   "id": "4e365f5f",
   "metadata": {},
   "outputs": [],
   "source": [
    "def Mstep(data, g):\n",
    "    prob = np.mean(g, axis=0)\n",
    "    mu = np.zeros((ndim, G))\n",
    "    Sigma = np.zeros((ndim, ndim))\n",
    "    for i in range(G):\n",
    "        mu[:, i] = np.sum(np.multiply(g[:, i:i+1], data), axis=0) / np.sum(g[:, i])\n",
    "        temp_data = data - mu[:, i]\n",
    "        temp_data1 = np.multiply(g[:, i:i+1], temp_data)\n",
    "        Sigma += temp_data.T.dot(temp_data1)\n",
    "    Sigma /= n\n",
    "    return prob, mu, Sigma"
   ]
  },
  {
   "cell_type": "code",
   "execution_count": 4,
   "id": "7c84cc36",
   "metadata": {},
   "outputs": [],
   "source": [
    "def loglik(data, prob, mu, Sigma):\n",
    "    g = np.zeros((len(data), G))\n",
    "    U, D, _ = np.linalg.svd(Sigma)\n",
    "    D_tilda = np.diag(1 / np.sqrt(D))\n",
    "    x_tilda = D_tilda.dot(U.T.dot(data.T)).T # n by dim\n",
    "    mu_tilda = D_tilda.dot(U.T.dot(mu)).T\n",
    "    for i in range(G):\n",
    "        g[:, i] = np.sum(((x_tilda - mu_tilda[i])*(x_tilda - mu_tilda[i])), axis=1)\n",
    "        g[:, i] = np.exp(-0.5 * g[:, i]) * prob[i]\n",
    "    g /= np.sqrt((2*math.pi) ** ndim * np.linalg.det(Sigma))\n",
    "    llh = np.sum(np.log(np.sum(g, axis=1)), axis=0)\n",
    "    return llh"
   ]
  },
  {
   "cell_type": "code",
   "execution_count": 5,
   "id": "e2986ea1",
   "metadata": {},
   "outputs": [],
   "source": [
    "def myEM(data, G, prob, mu, Sigma, itmax=20):\n",
    "    for i in range(itmax):\n",
    "        g = Estep(data, G, prob, mu, Sigma)\n",
    "        prob, mu, Sigma = Mstep(data, g)\n",
    "    return prob, mu, Sigma, loglik(data, prob, mu, Sigma)"
   ]
  },
  {
   "cell_type": "markdown",
   "id": "befb965b",
   "metadata": {},
   "source": [
    "### Testing\n",
    "\n",
    "Test your code with the provided dataset,  [[faithful.dat](https://liangfgithub.github.io/Data/faithful.dat)], with both $G=2$ and $G=3$. \n"
   ]
  },
  {
   "cell_type": "code",
   "execution_count": 6,
   "id": "e57335d6",
   "metadata": {},
   "outputs": [],
   "source": [
    "data = pd.read_table(\"faithful.dat\", sep=\"\\s+\", index_col=0)"
   ]
  },
  {
   "cell_type": "markdown",
   "id": "e9eadfb3",
   "metadata": {},
   "source": [
    "**For the case when $G=2$**, set your initial values as follows:\n",
    "\n",
    "- $p_1 = 10/n$, $p_2 = 1 - p_1$.\n",
    "- $\\mu_1$ =  the mean of the first 10 samples; $\\mu_2$ = the mean of the remaining samples.\n",
    "- Calculate $\\Sigma$ as  \n",
    "$$\n",
    "\\frac{1}{n} \\Big [ \\sum_{i=1}^{10} (x_i- \\mu_1)(x_i- \\mu_1)^t + \\sum_{i=11}^n (x_i- \\mu_2)(x_i- \\mu_2)^t \\Big].\n",
    "$$\n",
    "Here $x_i - \\mu_i$ is a 2-by-1 vector, so the resulting $\\Sigma$ matrix is a 2-by-2 matrix. \n",
    "\n",
    "Run your EM implementation with **20** iterations. "
   ]
  },
  {
   "cell_type": "code",
   "execution_count": 7,
   "id": "1f69928c",
   "metadata": {},
   "outputs": [],
   "source": [
    "n = len(data)\n",
    "G = 2\n",
    "ndim = 2\n",
    "prob = np.array([10/n, 1-10/n])\n",
    "mu = np.array([np.mean(data[:10], axis=0), np.mean(data[10:], axis=0)])\n",
    "mu = mu.T\n",
    "Sigma = np.zeros((2,2))\n",
    "temp_data1 = np.array(data[:10]-mu[:, 0])\n",
    "temp_data2 = np.array(data[10:]-mu[:, 1])\n",
    "Sigma[0, 0] = np.sum(np.multiply(temp_data1[:,0], temp_data1[:,0])) + np.sum(np.multiply(temp_data2[:,0], temp_data2[:,0]))\n",
    "Sigma[0, 1] = Sigma[1, 0] = np.sum(np.multiply(temp_data1[:,0],temp_data1[:,1]))+np.sum(np.multiply(temp_data2[:,0],temp_data2[:,1]))\n",
    "Sigma[1, 1] = np.sum(np.multiply(temp_data1[:,1], temp_data1[:,1])) + np.sum(np.multiply(temp_data2[:,1], temp_data2[:,1]))\n",
    "Sigma /= n"
   ]
  },
  {
   "cell_type": "code",
   "execution_count": 8,
   "id": "4ddcdc07",
   "metadata": {},
   "outputs": [],
   "source": [
    "new_prob, new_mu, new_Sigma, llh = myEM(data, G, prob, mu, Sigma, itmax=20)"
   ]
  },
  {
   "cell_type": "code",
   "execution_count": 9,
   "id": "a893a356",
   "metadata": {},
   "outputs": [
    {
     "name": "stdout",
     "output_type": "stream",
     "text": [
      "prob\n",
      "[0.04297883 0.95702117]\n",
      "mean\n",
      "[[ 3.49564188  3.48743016]\n",
      " [76.79789154 70.63205853]]\n",
      "Sigma\n",
      "           eruptions     waiting\n",
      "eruptions   1.297936   13.924336\n",
      "waiting    13.924336  182.580092\n",
      "loglik\n",
      "-1289.5693549424107\n"
     ]
    }
   ],
   "source": [
    "print(\"prob\")\n",
    "print(new_prob)\n",
    "print(\"mean\")\n",
    "print(new_mu)\n",
    "print(\"Sigma\")\n",
    "print(new_Sigma)\n",
    "print(\"loglik\")\n",
    "print(llh)"
   ]
  },
  {
   "cell_type": "markdown",
   "id": "b566abdc",
   "metadata": {},
   "source": [
    "**For the case when $G=3$**, set your initial values as follows:\n",
    "\n",
    "\n",
    "- $p_1 = 10/n$, $p_2 = 20/n$, $p_3= 1 - p_1 - p_2$\n",
    "- $\\mu_1 = \\frac{1}{10} \\sum_{i=1}^{10} x_i$,  the mean of the first 10 samples; $\\mu_2 = \\frac{1}{20} \\sum_{i=11}^{30} x_i$, the mean of next 20 samples; and $\\mu_3$ = the mean of the remaining samples. \n",
    "- Calculate $\\Sigma$ as \n",
    "$$\n",
    "\\frac{1}{n} \\Big [ \\sum_{i=1}^{10} (x_i- \\mu_1)(x_i- \\mu_1)^t + \\sum_{i=11}^{30} (x_i- \\mu_2)(x_i- \\mu_2)^t + \\sum_{i=31}^n (x_i- \\mu_3)(x_i- \\mu_3)^t \\Big].$$\n",
    "\n",
    "\n",
    "Run your EM implementation with **20** iterations. "
   ]
  },
  {
   "cell_type": "code",
   "execution_count": 10,
   "id": "b5ab6344",
   "metadata": {},
   "outputs": [],
   "source": [
    "n = len(data)\n",
    "G = 3\n",
    "ndim = 2\n",
    "prob = np.array([10/n, 20/n, 1-10/n-20/n])\n",
    "mu = np.array([np.mean(data[:10], axis=0), np.mean(data[10:30], axis=0),\n",
    "np.mean(data[30:], axis=0)])\n",
    "mu = mu.T\n",
    "Sigma = np.zeros((ndim,ndim))\n",
    "temp_data1 = np.array(data[:10]-mu[:, 0])\n",
    "temp_data2 = np.array(data[10:30]-mu[:, 1])\n",
    "temp_data3 = np.array(data[30:]-mu[:, 2])\n",
    "Sigma[0, 0] = np.sum(np.multiply(temp_data1[:,0], temp_data1[:,0])) + np.sum(np.multiply(temp_data2[:,0], temp_data2[:,0])) + np.sum(np.multiply(temp_data3[:,0], temp_data3[:,0]))\n",
    "Sigma[0, 1] = Sigma[1, 0] = np.sum(np.multiply(temp_data1[:,0],temp_data1[:,1]))+np.sum(np.multiply(temp_data2[:,0],temp_data2[:,1]))+np.sum(np.multiply(temp_data3[:,0],temp_data3[:,1]))\n",
    "Sigma[1, 1] = np.sum(np.multiply(temp_data1[:,1], temp_data1[:,1])) + np.sum(np.multiply(temp_data2[:,1], temp_data2[:,1])) + np.sum(np.multiply(temp_data3[:,1], temp_data3[:,1]))\n",
    "Sigma /= n"
   ]
  },
  {
   "cell_type": "code",
   "execution_count": 11,
   "id": "45a8e67f",
   "metadata": {},
   "outputs": [],
   "source": [
    "new_prob, new_mu, new_Sigma, llh = myEM(data, G, prob, mu, Sigma, itmax=20)"
   ]
  },
  {
   "cell_type": "code",
   "execution_count": 12,
   "id": "96a4540d",
   "metadata": {},
   "outputs": [
    {
     "name": "stdout",
     "output_type": "stream",
     "text": [
      "prob\n",
      "[0.04363422 0.07718656 0.87917922]\n",
      "mean\n",
      "[[ 3.51006918  2.81616674  3.54564083]\n",
      " [77.10563811 63.35752634 71.25084801]]\n",
      "Sigma\n",
      "           eruptions     waiting\n",
      "eruptions   1.260158   13.511538\n",
      "waiting    13.511538  177.964191\n",
      "loglik\n",
      "-1289.350958862738\n"
     ]
    }
   ],
   "source": [
    "print(\"prob\")\n",
    "print(new_prob)\n",
    "print(\"mean\")\n",
    "print(new_mu)\n",
    "print(\"Sigma\")\n",
    "print(new_Sigma)\n",
    "print(\"loglik\")\n",
    "print(llh)"
   ]
  },
  {
   "cell_type": "code",
   "execution_count": null,
   "id": "49d2a72b",
   "metadata": {},
   "outputs": [],
   "source": []
  }
 ],
 "metadata": {
  "kernelspec": {
   "display_name": "Python 3 (ipykernel)",
   "language": "python",
   "name": "python3"
  },
  "language_info": {
   "codemirror_mode": {
    "name": "ipython",
    "version": 3
   },
   "file_extension": ".py",
   "mimetype": "text/x-python",
   "name": "python",
   "nbconvert_exporter": "python",
   "pygments_lexer": "ipython3",
   "version": "3.10.10"
  }
 },
 "nbformat": 4,
 "nbformat_minor": 5
}
