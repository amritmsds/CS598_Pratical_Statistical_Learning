{
 "cells": [
  {
   "cell_type": "code",
   "execution_count": 1,
   "id": "c7d39098",
   "metadata": {},
   "outputs": [],
   "source": [
    "import numpy as np\n",
    "import pandas as pd\n",
    "import math"
   ]
  },
  {
   "cell_type": "code",
   "execution_count": 2,
   "id": "fac199e6",
   "metadata": {},
   "outputs": [],
   "source": [
    "def Estep(data, G, prob, mu, Sigma):\n",
    "    g = np.zeros((len(data), G))\n",
    "    U, D, _ = np.linalg.svd(Sigma)\n",
    "    D_tilda = np.diag(1 / np.sqrt(D))\n",
    "    x_tilda = D_tilda.dot(U.T.dot(data.T)).T # n by dim\n",
    "    mu_tilda = D_tilda.dot(U.T.dot(mu)).T # G by dim\n",
    "    for i in range(G):\n",
    "        g[:, i] = np.sum(((x_tilda - mu_tilda[i])*(x_tilda - mu_tilda[i])), axis=1)\n",
    "        g[:, i] = np.exp(-0.5 * g[:, i]) * prob[i]\n",
    "    g /= np.sqrt((2*math.pi) ** ndim * np.linalg.det(Sigma))\n",
    "    g /= np.sum(g, axis=1, keepdims=True)\n",
    "    return g"
   ]
  },
  {
   "cell_type": "code",
   "execution_count": 3,
   "id": "4e365f5f",
   "metadata": {},
   "outputs": [],
   "source": [
    "def Mstep(data, g):\n",
    "    prob = np.mean(g, axis=0)\n",
    "    mu = np.zeros((ndim, G))\n",
    "    Sigma = np.zeros((ndim, ndim))\n",
    "    for i in range(G):\n",
    "        mu[:, i] = np.sum(np.multiply(g[:, i:i+1], data), axis=0) / np.sum(g[:, i])\n",
    "        temp_data = data - mu[:, i]\n",
    "        temp_data1 = np.multiply(g[:, i:i+1], temp_data)\n",
    "        Sigma += temp_data.T.dot(temp_data1)\n",
    "    Sigma /= n\n",
    "    return prob, mu, Sigma"
   ]
  },
  {
   "cell_type": "code",
   "execution_count": 4,
   "id": "7c84cc36",
   "metadata": {},
   "outputs": [],
   "source": [
    "def loglik(data, prob, mu, Sigma):\n",
    "    g = np.zeros((len(data), G))\n",
    "    U, D, _ = np.linalg.svd(Sigma)\n",
    "    D_tilda = np.diag(1 / np.sqrt(D))\n",
    "    x_tilda = D_tilda.dot(U.T.dot(data.T)).T # n by dim\n",
    "    mu_tilda = D_tilda.dot(U.T.dot(mu)).T\n",
    "    for i in range(G):\n",
    "        g[:, i] = np.sum(((x_tilda - mu_tilda[i])*(x_tilda - mu_tilda[i])), axis=1)\n",
    "        g[:, i] = np.exp(-0.5 * g[:, i]) * prob[i]\n",
    "    g /= np.sqrt((2*math.pi) ** ndim * np.linalg.det(Sigma))\n",
    "    llh = np.sum(np.log(np.sum(g, axis=1)), axis=0)\n",
    "    return llh"
   ]
  },
  {
   "cell_type": "code",
   "execution_count": 5,
   "id": "e2986ea1",
   "metadata": {},
   "outputs": [],
   "source": [
    "def myEM(data, G, prob, mu, Sigma, itmax=20):\n",
    "    for i in range(itmax):\n",
    "        g = Estep(data, G, prob, mu, Sigma)\n",
    "        prob, mu, Sigma = Mstep(data, g)\n",
    "    return prob, mu, Sigma, loglik(data, prob, mu, Sigma)"
   ]
  },
  {
   "cell_type": "code",
   "execution_count": 6,
   "id": "e57335d6",
   "metadata": {},
   "outputs": [],
   "source": [
    "data = pd.read_table(\"faithful.dat\", sep=\"\\s+\", index_col=0)"
   ]
  },
  {
   "cell_type": "code",
   "execution_count": 7,
   "id": "1f69928c",
   "metadata": {},
   "outputs": [],
   "source": [
    "n = len(data)\n",
    "G = 2\n",
    "ndim = 2\n",
    "prob = np.array([10/n, 1-10/n])\n",
    "mu = np.array([np.mean(data[:10], axis=0), np.mean(data[10:], axis=0)])\n",
    "mu = mu.T\n",
    "Sigma = np.zeros((2,2))\n",
    "temp_data1 = np.array(data[:10]-mu[:, 0])\n",
    "temp_data2 = np.array(data[10:]-mu[:, 1])\n",
    "Sigma[0, 0] = np.sum(np.multiply(temp_data1[:,0], temp_data1[:,0])) + np.sum(np.multiply(temp_data2[:,0], temp_data2[:,0]))\n",
    "Sigma[0, 1] = Sigma[1, 0] = np.sum(np.multiply(temp_data1[:,0],temp_data1[:,1]))+np.sum(np.multiply(temp_data2[:,0],temp_data2[:,1]))\n",
    "Sigma[1, 1] = np.sum(np.multiply(temp_data1[:,1], temp_data1[:,1])) + np.sum(np.multiply(temp_data2[:,1], temp_data2[:,1]))\n",
    "Sigma /= n"
   ]
  },
  {
   "cell_type": "code",
   "execution_count": 9,
   "id": "4ddcdc07",
   "metadata": {},
   "outputs": [],
   "source": [
    "new_prob, new_mu, new_Sigma, llh = myEM(data, G, prob, mu, Sigma, itmax=20)"
   ]
  },
  {
   "cell_type": "code",
   "execution_count": 10,
   "id": "a893a356",
   "metadata": {},
   "outputs": [
    {
     "name": "stdout",
     "output_type": "stream",
     "text": [
      "[0.04297883 0.95702117]\n",
      "[[ 3.49564188  3.48743016]\n",
      " [76.79789154 70.63205853]]\n",
      "           eruptions     waiting\n",
      "eruptions   1.297936   13.924336\n",
      "waiting    13.924336  182.580092\n",
      "-1289.5693549424107\n"
     ]
    }
   ],
   "source": [
    "print(new_prob)\n",
    "print(new_mu)\n",
    "print(new_Sigma)\n",
    "print(llh)"
   ]
  },
  {
   "cell_type": "code",
   "execution_count": 11,
   "id": "b5ab6344",
   "metadata": {},
   "outputs": [],
   "source": [
    "n = len(data)\n",
    "G = 3\n",
    "ndim = 2\n",
    "prob = np.array([10/n, 20/n, 1-10/n-20/n])\n",
    "mu = np.array([np.mean(data[:10], axis=0), np.mean(data[10:30], axis=0),\n",
    "np.mean(data[30:], axis=0)])\n",
    "mu = mu.T\n",
    "Sigma = np.zeros((ndim,ndim))\n",
    "temp_data1 = np.array(data[:10]-mu[:, 0])\n",
    "temp_data2 = np.array(data[10:30]-mu[:, 1])\n",
    "temp_data3 = np.array(data[30:]-mu[:, 2])\n",
    "Sigma[0, 0] = np.sum(np.multiply(temp_data1[:,0], temp_data1[:,0])) + np.sum(np.multiply(temp_data2[:,0], temp_data2[:,0])) + np.sum(np.multiply(temp_data3[:,0], temp_data3[:,0]))\n",
    "Sigma[0, 1] = Sigma[1, 0] = np.sum(np.multiply(temp_data1[:,0],temp_data1[:,1]))+np.sum(np.multiply(temp_data2[:,0],temp_data2[:,1]))+np.sum(np.multiply(temp_data3[:,0],temp_data3[:,1]))\n",
    "Sigma[1, 1] = np.sum(np.multiply(temp_data1[:,1], temp_data1[:,1])) + np.sum(np.multiply(temp_data2[:,1], temp_data2[:,1])) + np.sum(np.multiply(temp_data3[:,1], temp_data3[:,1]))\n",
    "Sigma /= n"
   ]
  },
  {
   "cell_type": "code",
   "execution_count": 13,
   "id": "45a8e67f",
   "metadata": {},
   "outputs": [],
   "source": [
    "new_prob, new_mu, new_Sigma, llh = myEM(data, G, prob, mu, Sigma, itmax=20)"
   ]
  },
  {
   "cell_type": "code",
   "execution_count": 14,
   "id": "96a4540d",
   "metadata": {},
   "outputs": [
    {
     "name": "stdout",
     "output_type": "stream",
     "text": [
      "[0.04363422 0.07718656 0.87917922]\n",
      "[[ 3.51006918  2.81616674  3.54564083]\n",
      " [77.10563811 63.35752634 71.25084801]]\n",
      "           eruptions     waiting\n",
      "eruptions   1.260158   13.511538\n",
      "waiting    13.511538  177.964191\n",
      "-1289.350958862738\n"
     ]
    }
   ],
   "source": [
    "print(new_prob)\n",
    "print(new_mu)\n",
    "print(new_Sigma)\n",
    "print(llh)"
   ]
  },
  {
   "cell_type": "code",
   "execution_count": null,
   "id": "49d2a72b",
   "metadata": {},
   "outputs": [],
   "source": []
  }
 ],
 "metadata": {
  "kernelspec": {
   "display_name": "Python 3 (ipykernel)",
   "language": "python",
   "name": "python3"
  },
  "language_info": {
   "codemirror_mode": {
    "name": "ipython",
    "version": 3
   },
   "file_extension": ".py",
   "mimetype": "text/x-python",
   "name": "python",
   "nbconvert_exporter": "python",
   "pygments_lexer": "ipython3",
   "version": "3.10.10"
  }
 },
 "nbformat": 4,
 "nbformat_minor": 5
}
